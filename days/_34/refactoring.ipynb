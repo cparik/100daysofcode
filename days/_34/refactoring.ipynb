{
 "cells": [
  {
   "cell_type": "markdown",
   "metadata": {},
   "source": [
    "# Refactoring and Pythonic Code\n",
    "\n",
    "10 ways to refactor code to make it more Pythonic."
   ]
  },
  {
   "cell_type": "markdown",
   "metadata": {},
   "source": [
    "## 1. Big `if` `elif` `else` Constructs\n",
    "\n",
    "An example of bad code:"
   ]
  },
  {
   "cell_type": "code",
   "execution_count": 1,
   "metadata": {},
   "outputs": [],
   "source": [
    "# Write a function that returns the workout routine for a given day\n",
    "def get_workout(day):\n",
    "    if day == 'Monday':\n",
    "        return 'Chest+biceps'\n",
    "    elif day == 'Tuesday':\n",
    "        return 'Back+triceps'\n",
    "    elif day == 'Wednesday':\n",
    "        return 'Core'\n",
    "    elif day == 'Thursday':\n",
    "        return 'Legs'\n",
    "    elif day == 'Friday':\n",
    "        return 'Shoulders'\n",
    "    elif day in ('Saturday, Sunday'):\n",
    "        return 'Back+triceps'\n",
    "    else:\n",
    "        raise ValueError('Not a day')"
   ]
  },
  {
   "cell_type": "markdown",
   "metadata": {},
   "source": [
    "A better way to structure this code is to use a dictionary of days and workouts, and then to index/reference dictionary keys/values:"
   ]
  },
  {
   "cell_type": "code",
   "execution_count": 2,
   "metadata": {},
   "outputs": [],
   "source": [
    "workouts = {\n",
    "    'Monday': 'Chest+biceps',\n",
    "    'Tuesday': 'Back+triceps',\n",
    "    'Wednesday': 'Core',\n",
    "    'Thursday': 'Legs',\n",
    "    'Friday': 'Shoulders',\n",
    "    'Saturday': 'Rest',\n",
    "    'Sunday': 'Rest'\n",
    "}"
   ]
  },
  {
   "cell_type": "code",
   "execution_count": 3,
   "metadata": {},
   "outputs": [
    {
     "data": {
      "text/plain": [
       "{'Monday': 'Chest+biceps',\n",
       " 'Tuesday': 'Back+triceps',\n",
       " 'Wednesday': 'Core',\n",
       " 'Thursday': 'Legs',\n",
       " 'Friday': 'Shoulders',\n",
       " 'Saturday': 'Rest',\n",
       " 'Sunday': 'Rest'}"
      ]
     },
     "execution_count": 3,
     "metadata": {},
     "output_type": "execute_result"
    }
   ],
   "source": [
    "workouts"
   ]
  },
  {
   "cell_type": "markdown",
   "metadata": {},
   "source": [
    "Another way to construct this dictionary is to use the `zip` method to combine a `list` of days and a `list` of routines:"
   ]
  },
  {
   "cell_type": "code",
   "execution_count": 4,
   "metadata": {},
   "outputs": [],
   "source": [
    "days = 'Monday Tuesday Wednesday Thursday Friday Saturday Sunday'.split()\n",
    "routines = 'Chest+biceps Back+triceps Core Legs Shoulders Rest Rest'.split()\n",
    "\n",
    "workouts_2 = dict(zip(days, routines))"
   ]
  },
  {
   "cell_type": "code",
   "execution_count": 5,
   "metadata": {},
   "outputs": [
    {
     "data": {
      "text/plain": [
       "{'Monday': 'Chest+biceps',\n",
       " 'Tuesday': 'Back+triceps',\n",
       " 'Wednesday': 'Core',\n",
       " 'Thursday': 'Legs',\n",
       " 'Friday': 'Shoulders',\n",
       " 'Saturday': 'Rest',\n",
       " 'Sunday': 'Rest'}"
      ]
     },
     "execution_count": 5,
     "metadata": {},
     "output_type": "execute_result"
    }
   ],
   "source": [
    "workouts_2"
   ]
  },
  {
   "cell_type": "markdown",
   "metadata": {},
   "source": [
    "Rewrite the function to look much better than the first example:"
   ]
  },
  {
   "cell_type": "code",
   "execution_count": 6,
   "metadata": {},
   "outputs": [],
   "source": [
    "def get_workout(day):\n",
    "    routine = workouts.get(day)\n",
    "    if routine is None:\n",
    "        raise ValueError('Not a day')\n",
    "    else:\n",
    "        return routine"
   ]
  },
  {
   "cell_type": "code",
   "execution_count": 7,
   "metadata": {},
   "outputs": [
    {
     "data": {
      "text/plain": [
       "'Back+triceps'"
      ]
     },
     "execution_count": 7,
     "metadata": {},
     "output_type": "execute_result"
    }
   ],
   "source": [
    "get_workout('Tuesday')"
   ]
  },
  {
   "cell_type": "code",
   "execution_count": 8,
   "metadata": {},
   "outputs": [
    {
     "data": {
      "text/plain": [
       "'Rest'"
      ]
     },
     "execution_count": 8,
     "metadata": {},
     "output_type": "execute_result"
    }
   ],
   "source": [
    "get_workout('Sunday')"
   ]
  },
  {
   "cell_type": "code",
   "execution_count": 9,
   "metadata": {},
   "outputs": [
    {
     "ename": "ValueError",
     "evalue": "Not a day",
     "output_type": "error",
     "traceback": [
      "\u001b[0;31m---------------------------------------------------------------------------\u001b[0m",
      "\u001b[0;31mValueError\u001b[0m                                Traceback (most recent call last)",
      "\u001b[0;32m/tmp/ipykernel_516/4092381337.py\u001b[0m in \u001b[0;36m<module>\u001b[0;34m\u001b[0m\n\u001b[0;32m----> 1\u001b[0;31m \u001b[0mget_workout\u001b[0m\u001b[0;34m(\u001b[0m\u001b[0;34m'Sábado'\u001b[0m\u001b[0;34m)\u001b[0m\u001b[0;34m\u001b[0m\u001b[0;34m\u001b[0m\u001b[0m\n\u001b[0m",
      "\u001b[0;32m/tmp/ipykernel_516/3994136914.py\u001b[0m in \u001b[0;36mget_workout\u001b[0;34m(day)\u001b[0m\n\u001b[1;32m      2\u001b[0m     \u001b[0mroutine\u001b[0m \u001b[0;34m=\u001b[0m \u001b[0mworkouts\u001b[0m\u001b[0;34m.\u001b[0m\u001b[0mget\u001b[0m\u001b[0;34m(\u001b[0m\u001b[0mday\u001b[0m\u001b[0;34m)\u001b[0m\u001b[0;34m\u001b[0m\u001b[0;34m\u001b[0m\u001b[0m\n\u001b[1;32m      3\u001b[0m     \u001b[0;32mif\u001b[0m \u001b[0mroutine\u001b[0m \u001b[0;32mis\u001b[0m \u001b[0;32mNone\u001b[0m\u001b[0;34m:\u001b[0m\u001b[0;34m\u001b[0m\u001b[0;34m\u001b[0m\u001b[0m\n\u001b[0;32m----> 4\u001b[0;31m         \u001b[0;32mraise\u001b[0m \u001b[0mValueError\u001b[0m\u001b[0;34m(\u001b[0m\u001b[0;34m'Not a day'\u001b[0m\u001b[0;34m)\u001b[0m\u001b[0;34m\u001b[0m\u001b[0;34m\u001b[0m\u001b[0m\n\u001b[0m\u001b[1;32m      5\u001b[0m     \u001b[0;32melse\u001b[0m\u001b[0;34m:\u001b[0m\u001b[0;34m\u001b[0m\u001b[0;34m\u001b[0m\u001b[0m\n\u001b[1;32m      6\u001b[0m         \u001b[0;32mreturn\u001b[0m \u001b[0mroutine\u001b[0m\u001b[0;34m\u001b[0m\u001b[0;34m\u001b[0m\u001b[0m\n",
      "\u001b[0;31mValueError\u001b[0m: Not a day"
     ]
    }
   ],
   "source": [
    "get_workout('Sábado')"
   ]
  },
  {
   "cell_type": "markdown",
   "metadata": {},
   "source": [
    "---\n",
    "\n",
    "## 2. Counting Inside a Loop\n",
    "\n",
    "An example of bad code:"
   ]
  },
  {
   "cell_type": "code",
   "execution_count": 10,
   "metadata": {},
   "outputs": [
    {
     "name": "stdout",
     "output_type": "stream",
     "text": [
      "1. Monday\n",
      "2. Tuesday\n",
      "3. Wednesday\n",
      "4. Thursday\n",
      "5. Friday\n",
      "6. Saturday\n",
      "7. Sunday\n"
     ]
    }
   ],
   "source": [
    "# Display a list of days, prepended by a number\n",
    "days = 'Monday Tuesday Wednesday Thursday Friday Saturday Sunday'.split()\n",
    "\n",
    "day_number = 1\n",
    "\n",
    "for day in days:\n",
    "    print(f'{day_number}. {day}')\n",
    "    day_number += 1"
   ]
  },
  {
   "cell_type": "markdown",
   "metadata": {},
   "source": [
    "A better way to write this code is to eliminate the need for counter using the `enumerate` function:"
   ]
  },
  {
   "cell_type": "code",
   "execution_count": 11,
   "metadata": {},
   "outputs": [
    {
     "name": "stdout",
     "output_type": "stream",
     "text": [
      "1. Monday\n",
      "2. Tuesday\n",
      "3. Wednesday\n",
      "4. Thursday\n",
      "5. Friday\n",
      "6. Saturday\n",
      "7. Sunday\n"
     ]
    }
   ],
   "source": [
    "days = 'Monday Tuesday Wednesday Thursday Friday Saturday Sunday'.split()\n",
    "\n",
    "for day_number, day in enumerate(days):\n",
    "    print(f'{day_number + 1}. {day}')"
   ]
  },
  {
   "cell_type": "markdown",
   "metadata": {},
   "source": [
    "A even better way to write this code is to add a second argument for the `start` parameter to the enumerate function:"
   ]
  },
  {
   "cell_type": "code",
   "execution_count": 12,
   "metadata": {},
   "outputs": [
    {
     "name": "stdout",
     "output_type": "stream",
     "text": [
      "1. Monday\n",
      "2. Tuesday\n",
      "3. Wednesday\n",
      "4. Thursday\n",
      "5. Friday\n",
      "6. Saturday\n",
      "7. Sunday\n"
     ]
    }
   ],
   "source": [
    "days = 'Monday Tuesday Wednesday Thursday Friday Saturday Sunday'.split()\n",
    "\n",
    "for day_number, day in enumerate(days, 1):\n",
    "    print(f'{day_number}. {day}')"
   ]
  },
  {
   "cell_type": "markdown",
   "metadata": {},
   "source": [
    "---\n",
    "\n",
    "## 3. Using the `with` Keyword to Deal With Resources\n",
    "\n",
    "An example of bad code:"
   ]
  },
  {
   "cell_type": "code",
   "execution_count": 13,
   "metadata": {},
   "outputs": [],
   "source": [
    "# Write a new file to disk\n",
    "file = open('file.txt', 'w')\n",
    "file.write('Hello.\\n')\n",
    "file.close()"
   ]
  },
  {
   "cell_type": "markdown",
   "metadata": {},
   "source": [
    "The previous code works, but is sub-optimal because an exception can occur between the `open` and `close` methods.\n",
    "- The file handle `file` would remain open and leak resources into your program."
   ]
  },
  {
   "cell_type": "code",
   "execution_count": 14,
   "metadata": {},
   "outputs": [
    {
     "ename": "Exception",
     "evalue": "",
     "output_type": "error",
     "traceback": [
      "\u001b[0;31m---------------------------------------------------------------------------\u001b[0m",
      "\u001b[0;31mException\u001b[0m                                 Traceback (most recent call last)",
      "\u001b[0;32m/tmp/ipykernel_516/505924491.py\u001b[0m in \u001b[0;36m<module>\u001b[0;34m\u001b[0m\n\u001b[1;32m      2\u001b[0m \u001b[0mfile\u001b[0m \u001b[0;34m=\u001b[0m \u001b[0mopen\u001b[0m\u001b[0;34m(\u001b[0m\u001b[0;34m'file.txt'\u001b[0m\u001b[0;34m,\u001b[0m \u001b[0;34m'w'\u001b[0m\u001b[0;34m)\u001b[0m\u001b[0;34m\u001b[0m\u001b[0;34m\u001b[0m\u001b[0m\n\u001b[1;32m      3\u001b[0m \u001b[0mfile\u001b[0m\u001b[0;34m.\u001b[0m\u001b[0mwrite\u001b[0m\u001b[0;34m(\u001b[0m\u001b[0;34m'Hello.\\n'\u001b[0m\u001b[0;34m)\u001b[0m\u001b[0;34m\u001b[0m\u001b[0;34m\u001b[0m\u001b[0m\n\u001b[0;32m----> 4\u001b[0;31m \u001b[0;32mraise\u001b[0m \u001b[0mException\u001b[0m\u001b[0;34m\u001b[0m\u001b[0;34m\u001b[0m\u001b[0m\n\u001b[0m\u001b[1;32m      5\u001b[0m \u001b[0mfile\u001b[0m\u001b[0;34m.\u001b[0m\u001b[0mclose\u001b[0m\u001b[0;34m(\u001b[0m\u001b[0;34m)\u001b[0m\u001b[0;34m\u001b[0m\u001b[0;34m\u001b[0m\u001b[0m\n",
      "\u001b[0;31mException\u001b[0m: "
     ]
    }
   ],
   "source": [
    "# Manually raise an exception before the file closes\n",
    "file = open('file.txt', 'w')\n",
    "file.write('Hello.\\n')\n",
    "raise Exception\n",
    "file.close()"
   ]
  },
  {
   "cell_type": "code",
   "execution_count": 15,
   "metadata": {},
   "outputs": [
    {
     "data": {
      "text/plain": [
       "False"
      ]
     },
     "execution_count": 15,
     "metadata": {},
     "output_type": "execute_result"
    }
   ],
   "source": [
    "# Determine if the file handle closed on its own\n",
    "file.closed"
   ]
  },
  {
   "cell_type": "markdown",
   "metadata": {},
   "source": [
    "One way to handle this problem is to use a `try` `except` `finally` block, and include the `close` method in the `finally` block, to ensure it always runs."
   ]
  },
  {
   "cell_type": "markdown",
   "metadata": {},
   "source": [
    "One way to handle this problem is to use a `try` `except` `finally` block, and include the `close` method in the `finally` block, to ensure it always runs."
   ]
  },
  {
   "cell_type": "code",
   "execution_count": 16,
   "metadata": {},
   "outputs": [
    {
     "name": "stdout",
     "output_type": "stream",
     "text": [
      "Exception raised, file remains open.\n",
      "File closed here.\n"
     ]
    }
   ],
   "source": [
    "# Manually raise an exception before the file closes\n",
    "try:\n",
    "    file = open('file.txt', 'w')\n",
    "    file.write('Hello.\\n')\n",
    "    raise Exception\n",
    "except Exception:\n",
    "    print('Exception raised, file remains open.')\n",
    "finally:\n",
    "    print('File closed here.')\n",
    "    file.close()"
   ]
  },
  {
   "cell_type": "code",
   "execution_count": 17,
   "metadata": {},
   "outputs": [
    {
     "data": {
      "text/plain": [
       "True"
      ]
     },
     "execution_count": 17,
     "metadata": {},
     "output_type": "execute_result"
    }
   ],
   "source": [
    "# Determine if the file handle closed on its own\n",
    "file.closed"
   ]
  },
  {
   "cell_type": "markdown",
   "metadata": {},
   "source": [
    "The best way to handle this situation is to use the `with` keyword, so that a context manager automatically closes the file, whether or not there is an exception or other interruption."
   ]
  },
  {
   "cell_type": "code",
   "execution_count": 18,
   "metadata": {},
   "outputs": [
    {
     "ename": "Exception",
     "evalue": "",
     "output_type": "error",
     "traceback": [
      "\u001b[0;31m---------------------------------------------------------------------------\u001b[0m",
      "\u001b[0;31mException\u001b[0m                                 Traceback (most recent call last)",
      "\u001b[0;32m/tmp/ipykernel_516/2903094818.py\u001b[0m in \u001b[0;36m<module>\u001b[0;34m\u001b[0m\n\u001b[1;32m      6\u001b[0m ) as file:\n\u001b[1;32m      7\u001b[0m     \u001b[0mfile\u001b[0m\u001b[0;34m.\u001b[0m\u001b[0mwrite\u001b[0m\u001b[0;34m(\u001b[0m\u001b[0;34m'Hello.\\n'\u001b[0m\u001b[0;34m)\u001b[0m\u001b[0;34m\u001b[0m\u001b[0;34m\u001b[0m\u001b[0m\n\u001b[0;32m----> 8\u001b[0;31m     \u001b[0;32mraise\u001b[0m \u001b[0mException\u001b[0m\u001b[0;34m\u001b[0m\u001b[0;34m\u001b[0m\u001b[0m\n\u001b[0m",
      "\u001b[0;31mException\u001b[0m: "
     ]
    }
   ],
   "source": [
    "# Write a new file to disk\n",
    "with open(\n",
    "    file='file.txt',\n",
    "    mode='w',\n",
    "    encoding='utf-8'\n",
    ") as file:\n",
    "    file.write('Hello.\\n')\n",
    "    raise Exception"
   ]
  },
  {
   "cell_type": "code",
   "execution_count": 19,
   "metadata": {},
   "outputs": [
    {
     "data": {
      "text/plain": [
       "True"
      ]
     },
     "execution_count": 19,
     "metadata": {},
     "output_type": "execute_result"
    }
   ],
   "source": [
    "# Determine if the file handle closed on its own\n",
    "file.closed"
   ]
  },
  {
   "cell_type": "markdown",
   "metadata": {},
   "source": [
    "---\n",
    "\n",
    "## 4. Using Built-Ins from the Python Standard Library\n",
    "\n",
    "Examples include `range`, `sum`, `min`, and `max`, including the optional `key` argument of both `min` and `max`."
   ]
  },
  {
   "cell_type": "markdown",
   "metadata": {},
   "source": [
    "This is an example of creating a number range in other programming languages:\n",
    "\n",
    "```PowerShell\n",
    "for (x = 1, x <= 10, x++){:\n",
    "    print(x)\n",
    "}\n",
    "```\n",
    "\n",
    "In Python, use the `range` function.  The range includes the number in the first argument, and excludes the number in the second argument."
   ]
  },
  {
   "cell_type": "code",
   "execution_count": 26,
   "metadata": {},
   "outputs": [
    {
     "data": {
      "text/plain": [
       "range(1, 11)"
      ]
     },
     "execution_count": 26,
     "metadata": {},
     "output_type": "execute_result"
    }
   ],
   "source": [
    "# Create a sequence of numbers 1-10\n",
    "numbers = range(1, 11)"
   ]
  },
  {
   "cell_type": "code",
   "execution_count": 27,
   "metadata": {},
   "outputs": [
    {
     "data": {
      "text/plain": [
       "range(1, 11)"
      ]
     },
     "execution_count": 27,
     "metadata": {},
     "output_type": "execute_result"
    }
   ],
   "source": [
    "# Display the range object\n",
    "numbers"
   ]
  },
  {
   "cell_type": "code",
   "execution_count": 30,
   "metadata": {},
   "outputs": [
    {
     "data": {
      "text/plain": [
       "[1, 2, 3, 4, 5, 6, 7, 8, 9, 10]"
      ]
     },
     "execution_count": 30,
     "metadata": {},
     "output_type": "execute_result"
    }
   ],
   "source": [
    "# Convert the range object to a printable sequence\n",
    "list(numbers)"
   ]
  },
  {
   "cell_type": "markdown",
   "metadata": {},
   "source": [
    "Adding a sequence of numbers in another programming language might look like this:"
   ]
  },
  {
   "cell_type": "code",
   "execution_count": 32,
   "metadata": {},
   "outputs": [
    {
     "name": "stdout",
     "output_type": "stream",
     "text": [
      "55\n"
     ]
    }
   ],
   "source": [
    "# Bad example\n",
    "total = 0\n",
    "for num in numbers:\n",
    "    total += num\n",
    "\n",
    "print(total)"
   ]
  },
  {
   "cell_type": "markdown",
   "metadata": {},
   "source": [
    "In Python, use `sum` to add a sequence of numbers:"
   ]
  },
  {
   "cell_type": "code",
   "execution_count": 31,
   "metadata": {},
   "outputs": [
    {
     "data": {
      "text/plain": [
       "55"
      ]
     },
     "execution_count": 31,
     "metadata": {},
     "output_type": "execute_result"
    }
   ],
   "source": [
    "sum(numbers)"
   ]
  },
  {
   "cell_type": "markdown",
   "metadata": {},
   "source": [
    "Use `max` and `min` to find the largest or smallest number in a sequence, respectively:"
   ]
  },
  {
   "cell_type": "code",
   "execution_count": 33,
   "metadata": {},
   "outputs": [],
   "source": [
    "# Create sequences of workout routines and times\n",
    "routines = 'Chest+biceps Back+triceps Core Legs Shoulders'.split()\n",
    "timings = '45 45 30 55 45'.split()"
   ]
  },
  {
   "cell_type": "code",
   "execution_count": 34,
   "metadata": {},
   "outputs": [
    {
     "data": {
      "text/plain": [
       "{'Chest+biceps': '45',\n",
       " 'Back+triceps': '45',\n",
       " 'Core': '30',\n",
       " 'Legs': '55',\n",
       " 'Shoulders': '45'}"
      ]
     },
     "execution_count": 34,
     "metadata": {},
     "output_type": "execute_result"
    }
   ],
   "source": [
    "# Convert the routines and timings into a dictionary\n",
    "workouts = dict(zip(routines, timings))\n",
    "\n",
    "# Display the dictionary\n",
    "workouts"
   ]
  },
  {
   "cell_type": "markdown",
   "metadata": {},
   "source": [
    "One way to determine the longest and shortest workout would be to loop over each dictionary key/value and update a pre-defined variable based on a condition (if the current dictionary value is higher/lower than the value in the pre-defined variable).  A better way is to use the `max` and `min` functions:"
   ]
  },
  {
   "cell_type": "code",
   "execution_count": 42,
   "metadata": {},
   "outputs": [
    {
     "name": "stdout",
     "output_type": "stream",
     "text": [
      "dict_items([('Chest+biceps', '45'), ('Back+triceps', '45'), ('Core', '30'), ('Legs', '55'), ('Shoulders', '45')])\n"
     ]
    },
    {
     "data": {
      "text/plain": [
       "('Legs', '55')"
      ]
     },
     "execution_count": 42,
     "metadata": {},
     "output_type": "execute_result"
    }
   ],
   "source": [
    "# Determine the longest workout\n",
    "''' workouts.items() will return a list of tuples:\n",
    "        The 0 tuple index being the dictionary key.\n",
    "        The 1 tuple index being the dictionary value.\n",
    "\n",
    "    The key argument allows specification of a callable (function) to define what to sort the results from.\n",
    "    The lambda function specifies that x should return a value of the 1 tuple index of workouts.items().\n",
    "        This means the key argument will be the values in the 1 tuple index of workouts.items(), which is the dictionary values.\n",
    "'''\n",
    "\n",
    "# Display workout.items()\n",
    "print(workouts.items())\n",
    "\n",
    "# Use max to get the longest workout\n",
    "max(\n",
    "    workouts.items(),\n",
    "    key=lambda x: x[1]\n",
    ")"
   ]
  },
  {
   "cell_type": "code",
   "execution_count": 43,
   "metadata": {},
   "outputs": [
    {
     "data": {
      "text/plain": [
       "('Core', '30')"
      ]
     },
     "execution_count": 43,
     "metadata": {},
     "output_type": "execute_result"
    }
   ],
   "source": [
    "# Repeat the process to get the shortest workout\n",
    "min(\n",
    "    workouts.items(),\n",
    "    key=lambda x: x[1]\n",
    ")"
   ]
  },
  {
   "cell_type": "markdown",
   "metadata": {},
   "source": [
    "---\n",
    "\n",
    "## 5. `tuple` Unpacking and `namedtuple` Objects\n",
    "\n",
    "In other languages, swapping variables requires assigning variable values to a temporary variable:\n",
    "```python\n",
    "# Set and swap variable values\n",
    "a, b = 1, 2\n",
    "temp = a\n",
    "a = b\n",
    "b = temp\n",
    "\n",
    "# Display the new values\n",
    "a, b\n",
    "```\n",
    "\n",
    "Swapping variables in Python can leverage `tuple` unpacking:"
   ]
  },
  {
   "cell_type": "code",
   "execution_count": 51,
   "metadata": {},
   "outputs": [
    {
     "data": {
      "text/plain": [
       "(1, 2)"
      ]
     },
     "execution_count": 51,
     "metadata": {},
     "output_type": "execute_result"
    }
   ],
   "source": [
    "# Set initial variable values\n",
    "a, b = 1, 2\n",
    "\n",
    "a, b"
   ]
  },
  {
   "cell_type": "code",
   "execution_count": 52,
   "metadata": {},
   "outputs": [
    {
     "data": {
      "text/plain": [
       "(2, 1)"
      ]
     },
     "execution_count": 52,
     "metadata": {},
     "output_type": "execute_result"
    }
   ],
   "source": [
    "# Swap variable values\n",
    "a, b = b, a\n",
    "\n",
    "a, b"
   ]
  },
  {
   "cell_type": "markdown",
   "metadata": {},
   "source": [
    "Another example of `tuple` unpacking is using multiple assignment.  The `workouts` variable in the previous example is a tuple, which can be assigned to separate variables easily with `tuple` unpacking:"
   ]
  },
  {
   "cell_type": "code",
   "execution_count": 57,
   "metadata": {},
   "outputs": [
    {
     "data": {
      "text/plain": [
       "('Legs', '55')"
      ]
     },
     "execution_count": 57,
     "metadata": {},
     "output_type": "execute_result"
    }
   ],
   "source": [
    "longest_workout = max(\n",
    "    workouts.items(),\n",
    "    key=lambda x: x[1]\n",
    ")\n",
    "\n",
    "longest_workout"
   ]
  },
  {
   "cell_type": "code",
   "execution_count": 60,
   "metadata": {},
   "outputs": [
    {
     "data": {
      "text/plain": [
       "('Legs', '55')"
      ]
     },
     "execution_count": 60,
     "metadata": {},
     "output_type": "execute_result"
    }
   ],
   "source": [
    "# Unpack the longest_workout variable (tuple) into separate variables\n",
    "workout, duration = longest_workout\n",
    "\n",
    "workout, duration"
   ]
  },
  {
   "cell_type": "markdown",
   "metadata": {},
   "source": [
    "`tuples` can be a challenge to index correctly, because the index numbers have no relevance to the meaning of the values:"
   ]
  },
  {
   "cell_type": "code",
   "execution_count": 62,
   "metadata": {},
   "outputs": [
    {
     "name": "stdout",
     "output_type": "stream",
     "text": [
      "On Monday, the Chest+biceps workout will take 45 minutes.\n"
     ]
    }
   ],
   "source": [
    "workout = ('Chest+biceps', 'Monday', 45)\n",
    "\n",
    "print(f'On {workout[1]}, the {workout[0]} workout will take {workout[2]} minutes.')"
   ]
  },
  {
   "cell_type": "markdown",
   "metadata": {},
   "source": [
    "A `namedtuple` object makes the indexing much simpler:"
   ]
  },
  {
   "cell_type": "code",
   "execution_count": 63,
   "metadata": {},
   "outputs": [],
   "source": [
    "# Create a namedtuple object with named attributes\n",
    "from collections import namedtuple\n",
    "Workout = namedtuple(\n",
    "    'Workout',\n",
    "    ['routine', 'day', 'minutes']\n",
    ")"
   ]
  },
  {
   "cell_type": "code",
   "execution_count": 64,
   "metadata": {},
   "outputs": [
    {
     "data": {
      "text/plain": [
       "Workout(routine='Chest+biceps', day='Monday', minutes=45)"
      ]
     },
     "execution_count": 64,
     "metadata": {},
     "output_type": "execute_result"
    }
   ],
   "source": [
    "# Create an instance of the namedtuple object with values assingned to named attributes\n",
    "workout = Workout(\n",
    "    routine='Chest+biceps',\n",
    "    day='Monday',\n",
    "    minutes=45\n",
    ")\n",
    "\n",
    "workout"
   ]
  },
  {
   "cell_type": "code",
   "execution_count": 65,
   "metadata": {},
   "outputs": [
    {
     "name": "stdout",
     "output_type": "stream",
     "text": [
      "On Monday, the Chest+biceps workout will take 45 minutes.\n"
     ]
    }
   ],
   "source": [
    "# Display output using attributes of the workout namedtuple object\n",
    "print(f'On {workout.day}, the {workout.routine} workout will take {workout.minutes} minutes.')"
   ]
  },
  {
   "cell_type": "markdown",
   "metadata": {},
   "source": [
    "---\n",
    "\n",
    "## 6. List Comprehensions and Generators\n",
    "\n",
    "List comprehensions allow for more compact and Pythonic code when producing lists from iterables:"
   ]
  },
  {
   "cell_type": "code",
   "execution_count": 72,
   "metadata": {},
   "outputs": [
    {
     "data": {
      "text/plain": [
       "['Monday', 'Tuesday', 'Wednesday', 'Thursday', 'Friday', 'Saturday', 'Sunday']"
      ]
     },
     "execution_count": 72,
     "metadata": {},
     "output_type": "execute_result"
    }
   ],
   "source": [
    "# Create an iterable\n",
    "days = 'Monday Tuesday Wednesday Thursday Friday Saturday Sunday'.split()\n",
    "days"
   ]
  },
  {
   "cell_type": "code",
   "execution_count": 73,
   "metadata": {},
   "outputs": [
    {
     "data": {
      "text/plain": [
       "['Tuesday', 'Thursday']"
      ]
     },
     "execution_count": 73,
     "metadata": {},
     "output_type": "execute_result"
    }
   ],
   "source": [
    "# Create a new list of days that start with the letter 't', without using a list comprehension\n",
    "t_days = []\n",
    "for day in days:\n",
    "    if 't' in day.lower()[0]:\n",
    "        t_days.append(day)\n",
    "\n",
    "t_days"
   ]
  },
  {
   "cell_type": "markdown",
   "metadata": {},
   "source": []
  },
  {
   "cell_type": "code",
   "execution_count": 74,
   "metadata": {},
   "outputs": [
    {
     "data": {
      "text/plain": [
       "['Tuesday', 'Thursday']"
      ]
     },
     "execution_count": 74,
     "metadata": {},
     "output_type": "execute_result"
    }
   ],
   "source": [
    "# Use a list comprehension to perform the same function but with fewer lines of code\n",
    "t_days = [day for day in days if 't' in day.lower()[0]]\n",
    "\n",
    "t_days"
   ]
  },
  {
   "cell_type": "markdown",
   "metadata": {},
   "source": [
    "Generators `yield` results on-demand, rather than all at once, like producing a long iterable object.  As a result, generators can reduce memory consumption:"
   ]
  },
  {
   "cell_type": "code",
   "execution_count": 83,
   "metadata": {},
   "outputs": [],
   "source": [
    "# Create a random day generator\n",
    "from typing import Iterable, List, Tuple, Union\n",
    "from random import choice\n",
    "def get_random_day(days: Iterable[Union[List, Tuple]] = days):\n",
    "    i = 0\n",
    "    while True: # Initiates an infinite loop, so the function will continue to yield values\n",
    "        i += 1\n",
    "        yield i, choice(days)"
   ]
  },
  {
   "cell_type": "code",
   "execution_count": 84,
   "metadata": {},
   "outputs": [
    {
     "data": {
      "text/plain": [
       "<generator object get_random_day at 0x7f503a7cc7b0>"
      ]
     },
     "execution_count": 84,
     "metadata": {},
     "output_type": "execute_result"
    }
   ],
   "source": [
    "# Initiate the generator\n",
    "days_gen = get_random_day()\n",
    "\n",
    "days_gen"
   ]
  },
  {
   "cell_type": "markdown",
   "metadata": {},
   "source": [
    "Use the `next()` function to yield values from the generator function:"
   ]
  },
  {
   "cell_type": "code",
   "execution_count": 87,
   "metadata": {},
   "outputs": [
    {
     "data": {
      "text/plain": [
       "(3, 'Sunday')"
      ]
     },
     "execution_count": 87,
     "metadata": {},
     "output_type": "execute_result"
    }
   ],
   "source": [
    "next(days_gen)"
   ]
  },
  {
   "cell_type": "code",
   "execution_count": 88,
   "metadata": {},
   "outputs": [
    {
     "data": {
      "text/plain": [
       "(4, 'Wednesday')"
      ]
     },
     "execution_count": 88,
     "metadata": {},
     "output_type": "execute_result"
    }
   ],
   "source": [
    "next(days_gen)"
   ]
  },
  {
   "cell_type": "code",
   "execution_count": 89,
   "metadata": {},
   "outputs": [
    {
     "data": {
      "text/plain": [
       "(5, 'Saturday')"
      ]
     },
     "execution_count": 89,
     "metadata": {},
     "output_type": "execute_result"
    }
   ],
   "source": [
    "next(days_gen)"
   ]
  },
  {
   "cell_type": "code",
   "execution_count": 90,
   "metadata": {},
   "outputs": [
    {
     "data": {
      "text/plain": [
       "(6, 'Monday')"
      ]
     },
     "execution_count": 90,
     "metadata": {},
     "output_type": "execute_result"
    }
   ],
   "source": [
    "next(days_gen)"
   ]
  },
  {
   "cell_type": "code",
   "execution_count": 91,
   "metadata": {},
   "outputs": [
    {
     "data": {
      "text/plain": [
       "(7, 'Wednesday')"
      ]
     },
     "execution_count": 91,
     "metadata": {},
     "output_type": "execute_result"
    }
   ],
   "source": [
    "next(days_gen)"
   ]
  },
  {
   "cell_type": "code",
   "execution_count": 92,
   "metadata": {},
   "outputs": [
    {
     "data": {
      "text/plain": [
       "(8, 'Saturday')"
      ]
     },
     "execution_count": 92,
     "metadata": {},
     "output_type": "execute_result"
    }
   ],
   "source": [
    "next(days_gen)"
   ]
  },
  {
   "cell_type": "code",
   "execution_count": 94,
   "metadata": {},
   "outputs": [
    {
     "name": "stdout",
     "output_type": "stream",
     "text": [
      "(14, 'Thursday')\n",
      "(15, 'Thursday')\n",
      "(16, 'Wednesday')\n",
      "(17, 'Sunday')\n",
      "(18, 'Monday')\n"
     ]
    }
   ],
   "source": [
    "# Produce a list of N random days\n",
    "for _ in range(5):\n",
    "    print(next(days_gen))"
   ]
  },
  {
   "cell_type": "markdown",
   "metadata": {},
   "source": [
    "Don't try to materialize an infinite generator (as an iterable), Python will hang:\n",
    "\n",
    "```python\n",
    "\"\"\" e.g., don't try `list(days_gen)`\n",
    "\"\"\"\n",
    "```\n",
    "\n",
    "Instead, use `itertools.islice` to capture a range/snippet from a generator:\n",
    "\n",
    "    - This allows slicing of a generator, like you might do with a list:\n",
    "    ```python\n",
    "    days[:3]\n",
    "    ```"
   ]
  },
  {
   "cell_type": "code",
   "execution_count": 103,
   "metadata": {},
   "outputs": [
    {
     "data": {
      "text/plain": [
       "[(119, 'Saturday'),\n",
       " (120, 'Friday'),\n",
       " (121, 'Sunday'),\n",
       " (122, 'Thursday'),\n",
       " (123, 'Sunday'),\n",
       " (124, 'Monday'),\n",
       " (125, 'Friday'),\n",
       " (126, 'Sunday'),\n",
       " (127, 'Thursday'),\n",
       " (128, 'Sunday'),\n",
       " (129, 'Wednesday'),\n",
       " (130, 'Monday'),\n",
       " (131, 'Tuesday'),\n",
       " (132, 'Wednesday'),\n",
       " (133, 'Monday')]"
      ]
     },
     "execution_count": 103,
     "metadata": {},
     "output_type": "execute_result"
    }
   ],
   "source": [
    "from itertools import islice\n",
    "\n",
    "slice_ = islice(\n",
    "    days_gen,\n",
    "    100, 115\n",
    ")\n",
    "\n",
    "list(slice_)"
   ]
  }
 ],
 "metadata": {
  "interpreter": {
   "hash": "949777d72b0d2535278d3dc13498b2535136f6dfe0678499012e853ee9abcab1"
  },
  "kernelspec": {
   "display_name": "Python 3.9.7 64-bit",
   "name": "python3"
  },
  "language_info": {
   "codemirror_mode": {
    "name": "ipython",
    "version": 3
   },
   "file_extension": ".py",
   "mimetype": "text/x-python",
   "name": "python",
   "nbconvert_exporter": "python",
   "pygments_lexer": "ipython3",
   "version": "3.9.7"
  },
  "orig_nbformat": 4
 },
 "nbformat": 4,
 "nbformat_minor": 2
}
