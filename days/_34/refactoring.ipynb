{
 "cells": [
  {
   "cell_type": "markdown",
   "metadata": {},
   "source": [
    "# Refactoring and Pythonic Code\n",
    "\n",
    "10 ways to refactor code to make it more Pythonic."
   ]
  },
  {
   "cell_type": "markdown",
   "metadata": {},
   "source": [
    "## 1. Big `if` `elif` `else` Constructs\n",
    "\n",
    "An example of bad code:"
   ]
  },
  {
   "cell_type": "code",
   "execution_count": 1,
   "metadata": {},
   "outputs": [],
   "source": [
    "# Write a function that returns the workout routine for a given day\n",
    "def get_workout(day):\n",
    "    if day == 'Monday':\n",
    "        return 'Chest+biceps'\n",
    "    elif day == 'Tuesday':\n",
    "        return 'Back+triceps'\n",
    "    elif day == 'Wednesday':\n",
    "        return 'Core'\n",
    "    elif day == 'Thursday':\n",
    "        return 'Legs'\n",
    "    elif day == 'Friday':\n",
    "        return 'Shoulders'\n",
    "    elif day in ('Saturday, Sunday'):\n",
    "        return 'Back+triceps'\n",
    "    else:\n",
    "        raise ValueError('Not a day')"
   ]
  },
  {
   "cell_type": "markdown",
   "metadata": {},
   "source": [
    "A better way to structure this code is to use a dictionary of days and workouts, and then to index/reference dictionary keys/values:"
   ]
  },
  {
   "cell_type": "code",
   "execution_count": 14,
   "metadata": {},
   "outputs": [],
   "source": [
    "workouts = {\n",
    "    'Monday': 'Chest+biceps',\n",
    "    'Tuesday': 'Back+triceps',\n",
    "    'Wednesday': 'Core',\n",
    "    'Thursday': 'Legs',\n",
    "    'Friday': 'Shoulders',\n",
    "    'Saturday': 'Rest',\n",
    "    'Sunday': 'Rest'\n",
    "}"
   ]
  },
  {
   "cell_type": "code",
   "execution_count": 15,
   "metadata": {},
   "outputs": [
    {
     "data": {
      "text/plain": [
       "{'Monday': 'Chest+biceps',\n",
       " 'Tuesday': 'Back+triceps',\n",
       " 'Wednesday': 'Core',\n",
       " 'Thursday': 'Legs',\n",
       " 'Friday': 'Shoulders',\n",
       " 'Saturday': 'Rest',\n",
       " 'Sunday': 'Rest'}"
      ]
     },
     "execution_count": 15,
     "metadata": {},
     "output_type": "execute_result"
    }
   ],
   "source": [
    "workouts"
   ]
  },
  {
   "cell_type": "markdown",
   "metadata": {},
   "source": [
    "Another way to construct this dictionary is to use the `zip` method to combine a `list` of days and a `list` of routines:"
   ]
  },
  {
   "cell_type": "code",
   "execution_count": 18,
   "metadata": {},
   "outputs": [],
   "source": [
    "days = 'Monday Tuesday Wednesday Thursday Friday Saturday Sunday'.split()\n",
    "routines = 'Chest+biceps Back+triceps Core Legs Shoulders Rest Rest'.split()\n",
    "\n",
    "workouts_2 = dict(zip(days, routines))"
   ]
  },
  {
   "cell_type": "code",
   "execution_count": 17,
   "metadata": {},
   "outputs": [
    {
     "data": {
      "text/plain": [
       "{'Monday': 'Chest+biceps',\n",
       " 'Tuesday': 'Back+triceps',\n",
       " 'Wednesday': 'Core',\n",
       " 'Thursday': 'Legs',\n",
       " 'Friday': 'Shoulders',\n",
       " 'Saturday': 'Rest',\n",
       " 'Sunday': 'Rest'}"
      ]
     },
     "execution_count": 17,
     "metadata": {},
     "output_type": "execute_result"
    }
   ],
   "source": [
    "workouts_2"
   ]
  },
  {
   "cell_type": "markdown",
   "metadata": {},
   "source": [
    "Rewrite the function to look much better than the first example:"
   ]
  },
  {
   "cell_type": "code",
   "execution_count": 21,
   "metadata": {},
   "outputs": [],
   "source": [
    "def get_workout(day):\n",
    "    routine = workouts.get(day)\n",
    "    if routine is None:\n",
    "        raise ValueError('Not a day')\n",
    "    else:\n",
    "        return routine"
   ]
  },
  {
   "cell_type": "code",
   "execution_count": 22,
   "metadata": {},
   "outputs": [
    {
     "data": {
      "text/plain": [
       "'Back+triceps'"
      ]
     },
     "execution_count": 22,
     "metadata": {},
     "output_type": "execute_result"
    }
   ],
   "source": [
    "get_workout('Tuesday')"
   ]
  },
  {
   "cell_type": "code",
   "execution_count": 23,
   "metadata": {},
   "outputs": [
    {
     "data": {
      "text/plain": [
       "'Rest'"
      ]
     },
     "execution_count": 23,
     "metadata": {},
     "output_type": "execute_result"
    }
   ],
   "source": [
    "get_workout('Sunday')"
   ]
  },
  {
   "cell_type": "code",
   "execution_count": 24,
   "metadata": {},
   "outputs": [
    {
     "ename": "ValueError",
     "evalue": "Not a day",
     "output_type": "error",
     "traceback": [
      "\u001b[0;31m---------------------------------------------------------------------------\u001b[0m",
      "\u001b[0;31mValueError\u001b[0m                                Traceback (most recent call last)",
      "\u001b[0;32m/tmp/ipykernel_2427/4092381337.py\u001b[0m in \u001b[0;36m<module>\u001b[0;34m\u001b[0m\n\u001b[0;32m----> 1\u001b[0;31m \u001b[0mget_workout\u001b[0m\u001b[0;34m(\u001b[0m\u001b[0;34m'Sábado'\u001b[0m\u001b[0;34m)\u001b[0m\u001b[0;34m\u001b[0m\u001b[0;34m\u001b[0m\u001b[0m\n\u001b[0m",
      "\u001b[0;32m/tmp/ipykernel_2427/3994136914.py\u001b[0m in \u001b[0;36mget_workout\u001b[0;34m(day)\u001b[0m\n\u001b[1;32m      2\u001b[0m     \u001b[0mroutine\u001b[0m \u001b[0;34m=\u001b[0m \u001b[0mworkouts\u001b[0m\u001b[0;34m.\u001b[0m\u001b[0mget\u001b[0m\u001b[0;34m(\u001b[0m\u001b[0mday\u001b[0m\u001b[0;34m)\u001b[0m\u001b[0;34m\u001b[0m\u001b[0;34m\u001b[0m\u001b[0m\n\u001b[1;32m      3\u001b[0m     \u001b[0;32mif\u001b[0m \u001b[0mroutine\u001b[0m \u001b[0;32mis\u001b[0m \u001b[0;32mNone\u001b[0m\u001b[0;34m:\u001b[0m\u001b[0;34m\u001b[0m\u001b[0;34m\u001b[0m\u001b[0m\n\u001b[0;32m----> 4\u001b[0;31m         \u001b[0;32mraise\u001b[0m \u001b[0mValueError\u001b[0m\u001b[0;34m(\u001b[0m\u001b[0;34m'Not a day'\u001b[0m\u001b[0;34m)\u001b[0m\u001b[0;34m\u001b[0m\u001b[0;34m\u001b[0m\u001b[0m\n\u001b[0m\u001b[1;32m      5\u001b[0m     \u001b[0;32melse\u001b[0m\u001b[0;34m:\u001b[0m\u001b[0;34m\u001b[0m\u001b[0;34m\u001b[0m\u001b[0m\n\u001b[1;32m      6\u001b[0m         \u001b[0;32mreturn\u001b[0m \u001b[0mroutine\u001b[0m\u001b[0;34m\u001b[0m\u001b[0;34m\u001b[0m\u001b[0m\n",
      "\u001b[0;31mValueError\u001b[0m: Not a day"
     ]
    }
   ],
   "source": [
    "get_workout('Sábado')"
   ]
  },
  {
   "cell_type": "markdown",
   "metadata": {},
   "source": [
    "---\n",
    "\n",
    "## 2. Counting Inside a Loop\n",
    "\n",
    "An example of bad code:"
   ]
  },
  {
   "cell_type": "code",
   "execution_count": 25,
   "metadata": {},
   "outputs": [
    {
     "name": "stdout",
     "output_type": "stream",
     "text": [
      "1. Monday\n",
      "2. Tuesday\n",
      "3. Wednesday\n",
      "4. Thursday\n",
      "5. Friday\n",
      "6. Saturday\n",
      "7. Sunday\n"
     ]
    }
   ],
   "source": [
    "# Display a list of days, prepended by a number\n",
    "days = 'Monday Tuesday Wednesday Thursday Friday Saturday Sunday'.split()\n",
    "\n",
    "day_number = 1\n",
    "\n",
    "for day in days:\n",
    "    print(f'{day_number}. {day}')\n",
    "    day_number += 1"
   ]
  },
  {
   "cell_type": "markdown",
   "metadata": {},
   "source": [
    "A better way to write this code is to eliminate the need for counter using the `enumerate` function:"
   ]
  },
  {
   "cell_type": "code",
   "execution_count": 27,
   "metadata": {},
   "outputs": [
    {
     "name": "stdout",
     "output_type": "stream",
     "text": [
      "1. Monday\n",
      "2. Tuesday\n",
      "3. Wednesday\n",
      "4. Thursday\n",
      "5. Friday\n",
      "6. Saturday\n",
      "7. Sunday\n"
     ]
    }
   ],
   "source": [
    "days = 'Monday Tuesday Wednesday Thursday Friday Saturday Sunday'.split()\n",
    "\n",
    "for day_number, day in enumerate(days):\n",
    "    print(f'{day_number + 1}. {day}')"
   ]
  },
  {
   "cell_type": "markdown",
   "metadata": {},
   "source": [
    "A even better way to write this code is to add a second argument for the `start` parameter to the enumerate function:"
   ]
  },
  {
   "cell_type": "code",
   "execution_count": 28,
   "metadata": {},
   "outputs": [
    {
     "name": "stdout",
     "output_type": "stream",
     "text": [
      "1. Monday\n",
      "2. Tuesday\n",
      "3. Wednesday\n",
      "4. Thursday\n",
      "5. Friday\n",
      "6. Saturday\n",
      "7. Sunday\n"
     ]
    }
   ],
   "source": [
    "days = 'Monday Tuesday Wednesday Thursday Friday Saturday Sunday'.split()\n",
    "\n",
    "for day_number, day in enumerate(days, 1):\n",
    "    print(f'{day_number}. {day}')"
   ]
  },
  {
   "cell_type": "markdown",
   "metadata": {},
   "source": [
    "---\n",
    "\n",
    "## 3. Using the `with` Keyword to Deal With Resources\n",
    "\n",
    "An example of bad code:"
   ]
  },
  {
   "cell_type": "code",
   "execution_count": 29,
   "metadata": {},
   "outputs": [],
   "source": [
    "# Write a new file to disk\n",
    "file = open('file.txt', 'w')\n",
    "file.write('Hello.\\n')\n",
    "file.close()"
   ]
  },
  {
   "cell_type": "markdown",
   "metadata": {},
   "source": [
    "The previous code works, but is sub-optimal because an exception can occur between the `open` and `close` methods.\n",
    "- The file handle `file` would remain open and leak resources into your program."
   ]
  },
  {
   "cell_type": "code",
   "execution_count": 30,
   "metadata": {},
   "outputs": [
    {
     "ename": "Exception",
     "evalue": "",
     "output_type": "error",
     "traceback": [
      "\u001b[0;31m---------------------------------------------------------------------------\u001b[0m",
      "\u001b[0;31mException\u001b[0m                                 Traceback (most recent call last)",
      "\u001b[0;32m/tmp/ipykernel_2427/1086144492.py\u001b[0m in \u001b[0;36m<module>\u001b[0;34m\u001b[0m\n\u001b[1;32m      1\u001b[0m \u001b[0mfile\u001b[0m \u001b[0;34m=\u001b[0m \u001b[0mopen\u001b[0m\u001b[0;34m(\u001b[0m\u001b[0;34m'file.txt'\u001b[0m\u001b[0;34m,\u001b[0m \u001b[0;34m'w'\u001b[0m\u001b[0;34m)\u001b[0m\u001b[0;34m\u001b[0m\u001b[0;34m\u001b[0m\u001b[0m\n\u001b[1;32m      2\u001b[0m \u001b[0mfile\u001b[0m\u001b[0;34m.\u001b[0m\u001b[0mwrite\u001b[0m\u001b[0;34m(\u001b[0m\u001b[0;34m'Hello.\\n'\u001b[0m\u001b[0;34m)\u001b[0m\u001b[0;34m\u001b[0m\u001b[0;34m\u001b[0m\u001b[0m\n\u001b[0;32m----> 3\u001b[0;31m \u001b[0;32mraise\u001b[0m \u001b[0mException\u001b[0m\u001b[0;34m\u001b[0m\u001b[0;34m\u001b[0m\u001b[0m\n\u001b[0m\u001b[1;32m      4\u001b[0m \u001b[0mfile\u001b[0m\u001b[0;34m.\u001b[0m\u001b[0mclose\u001b[0m\u001b[0;34m(\u001b[0m\u001b[0;34m)\u001b[0m\u001b[0;34m\u001b[0m\u001b[0;34m\u001b[0m\u001b[0m\n",
      "\u001b[0;31mException\u001b[0m: "
     ]
    }
   ],
   "source": [
    "# Manually raise an exception before the file closes\n",
    "file = open('file.txt', 'w')\n",
    "file.write('Hello.\\n')\n",
    "raise Exception\n",
    "file.close()"
   ]
  },
  {
   "cell_type": "code",
   "execution_count": 31,
   "metadata": {},
   "outputs": [
    {
     "data": {
      "text/plain": [
       "False"
      ]
     },
     "execution_count": 31,
     "metadata": {},
     "output_type": "execute_result"
    }
   ],
   "source": [
    "# Determine if the file handle closed on its own\n",
    "file.closed"
   ]
  },
  {
   "cell_type": "markdown",
   "metadata": {},
   "source": [
    "One way to handle this problem is to use a `try` `except` `finally` block, and include the `close` method in the `finally` block, to ensure it always runs."
   ]
  },
  {
   "cell_type": "markdown",
   "metadata": {},
   "source": [
    "One way to handle this problem is to use a `try` `except` `finally` block, and include the `close` method in the `finally` block, to ensure it always runs."
   ]
  },
  {
   "cell_type": "code",
   "execution_count": 32,
   "metadata": {},
   "outputs": [
    {
     "name": "stdout",
     "output_type": "stream",
     "text": [
      "Exception raised, file remains open.\n",
      "File closed here.\n"
     ]
    }
   ],
   "source": [
    "# Manually raise an exception before the file closes\n",
    "try:\n",
    "    file = open('file.txt', 'w')\n",
    "    file.write('Hello.\\n')\n",
    "    raise Exception\n",
    "except Exception:\n",
    "    print('Exception raised, file remains open.')\n",
    "finally:\n",
    "    print('File closed here.')\n",
    "    file.close()"
   ]
  },
  {
   "cell_type": "code",
   "execution_count": 34,
   "metadata": {},
   "outputs": [
    {
     "data": {
      "text/plain": [
       "True"
      ]
     },
     "execution_count": 34,
     "metadata": {},
     "output_type": "execute_result"
    }
   ],
   "source": [
    "# Determine if the file handle closed on its own\n",
    "file.closed"
   ]
  },
  {
   "cell_type": "markdown",
   "metadata": {},
   "source": [
    "The best way to handle this situation is to use the `with` keyword, so that a context manager automatically closes the file, whether or not there is an exception or other interruption."
   ]
  },
  {
   "cell_type": "code",
   "execution_count": 36,
   "metadata": {},
   "outputs": [
    {
     "ename": "Exception",
     "evalue": "",
     "output_type": "error",
     "traceback": [
      "\u001b[0;31m---------------------------------------------------------------------------\u001b[0m",
      "\u001b[0;31mException\u001b[0m                                 Traceback (most recent call last)",
      "\u001b[0;32m/tmp/ipykernel_2427/2903094818.py\u001b[0m in \u001b[0;36m<module>\u001b[0;34m\u001b[0m\n\u001b[1;32m      6\u001b[0m ) as file:\n\u001b[1;32m      7\u001b[0m     \u001b[0mfile\u001b[0m\u001b[0;34m.\u001b[0m\u001b[0mwrite\u001b[0m\u001b[0;34m(\u001b[0m\u001b[0;34m'Hello.\\n'\u001b[0m\u001b[0;34m)\u001b[0m\u001b[0;34m\u001b[0m\u001b[0;34m\u001b[0m\u001b[0m\n\u001b[0;32m----> 8\u001b[0;31m     \u001b[0;32mraise\u001b[0m \u001b[0mException\u001b[0m\u001b[0;34m\u001b[0m\u001b[0;34m\u001b[0m\u001b[0m\n\u001b[0m",
      "\u001b[0;31mException\u001b[0m: "
     ]
    }
   ],
   "source": [
    "# Write a new file to disk\n",
    "with open(\n",
    "    file='file.txt',\n",
    "    mode='w',\n",
    "    encoding='utf-8'\n",
    ") as file:\n",
    "    file.write('Hello.\\n')\n",
    "    raise Exception"
   ]
  },
  {
   "cell_type": "code",
   "execution_count": 37,
   "metadata": {},
   "outputs": [
    {
     "data": {
      "text/plain": [
       "True"
      ]
     },
     "execution_count": 37,
     "metadata": {},
     "output_type": "execute_result"
    }
   ],
   "source": [
    "# Determine if the file handle closed on its own\n",
    "file.closed"
   ]
  }
 ],
 "metadata": {
  "interpreter": {
   "hash": "949777d72b0d2535278d3dc13498b2535136f6dfe0678499012e853ee9abcab1"
  },
  "kernelspec": {
   "display_name": "Python 3.9.7 64-bit",
   "name": "python3"
  },
  "language_info": {
   "codemirror_mode": {
    "name": "ipython",
    "version": 3
   },
   "file_extension": ".py",
   "mimetype": "text/x-python",
   "name": "python",
   "nbconvert_exporter": "python",
   "pygments_lexer": "ipython3",
   "version": "3.9.7"
  },
  "orig_nbformat": 4
 },
 "nbformat": 4,
 "nbformat_minor": 2
}
