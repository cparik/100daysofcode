{
 "cells": [
  {
   "cell_type": "markdown",
   "metadata": {},
   "source": [
    "# GitHub API"
   ]
  },
  {
   "cell_type": "markdown",
   "metadata": {},
   "source": [
    "## Overview\n",
    "\n",
    "Several Python modules are available to interact with the GitHub API, such as:\n",
    "- [PyGithub](https://pypi.org/project/PyGithub/) - used in this course\n",
    "    - Install with `pip install PyGithub`.\n",
    "- [GitPython](https://pypi.org/project/GitPython/)"
   ]
  },
  {
   "cell_type": "markdown",
   "metadata": {},
   "source": [
    "## PyGithub Day 1"
   ]
  },
  {
   "cell_type": "markdown",
   "metadata": {},
   "source": [
    "### Task 1 - Retrieve a User's Popular Repos"
   ]
  },
  {
   "cell_type": "code",
   "execution_count": null,
   "metadata": {},
   "outputs": [],
   "source": [
    "# Import modules from the Python Standard Library\n",
    "from collections import namedtuple\n",
    "import os"
   ]
  },
  {
   "cell_type": "code",
   "execution_count": null,
   "metadata": {},
   "outputs": [],
   "source": [
    "# Set a constant for the repository to work with\n",
    "GITHUB_USER = 'mrlesmithjr'\n",
    "GITHUB_USER_2 = 'ttafsir'"
   ]
  },
  {
   "cell_type": "code",
   "execution_count": null,
   "metadata": {},
   "outputs": [],
   "source": [
    "# Import PyGithub\n",
    "from github import Github, InputFileContent"
   ]
  },
  {
   "cell_type": "code",
   "execution_count": null,
   "metadata": {},
   "outputs": [],
   "source": [
    "# Create a GitHub object to interact with a public repository\n",
    "gh = Github()\n",
    "gh"
   ]
  },
  {
   "cell_type": "markdown",
   "metadata": {},
   "source": [
    "### GitHub Rate Limits\n",
    "\n",
    "- GitHub sets restrictive rate limits for unauthenticated (public) repository interactions.\n",
    "- The `rate_limiting` attribute returns a tuple in the format `(remaining_calls, calls_allowed_per_hour)`.\n",
    "- Authenticated requests can make 5,000 calls per hour."
   ]
  },
  {
   "cell_type": "code",
   "execution_count": null,
   "metadata": {},
   "outputs": [],
   "source": [
    "# Display the number of API calls available in the remaining hour, and how many total API calls allowed per hour\n",
    "gh.rate_limiting"
   ]
  },
  {
   "cell_type": "code",
   "execution_count": null,
   "metadata": {},
   "outputs": [],
   "source": [
    "# Create a GitHub user object\n",
    "github_user = gh.get_user(login=GITHUB_USER)\n",
    "\n",
    "# Display the github_user object\n",
    "github_user"
   ]
  },
  {
   "cell_type": "markdown",
   "metadata": {},
   "source": [
    "---"
   ]
  },
  {
   "cell_type": "markdown",
   "metadata": {},
   "source": [
    "## PyGithub Day 2"
   ]
  },
  {
   "cell_type": "markdown",
   "metadata": {},
   "source": [
    "### Getting Help in Python\n",
    "\n",
    "There are several ways to get help for Python objects:\n",
    "- The `dir` method returns all of an objects attributes and methods.\n",
    "- The `help` method returns the docstring content for an object.\n",
    "- The `pydoc` **shell command** returns docstring content for an object."
   ]
  },
  {
   "cell_type": "code",
   "execution_count": null,
   "metadata": {},
   "outputs": [],
   "source": [
    "# dir method\n",
    "dir(namedtuple)"
   ]
  },
  {
   "cell_type": "code",
   "execution_count": null,
   "metadata": {},
   "outputs": [],
   "source": [
    "# help method\n",
    "help(namedtuple)"
   ]
  },
  {
   "cell_type": "code",
   "execution_count": null,
   "metadata": {},
   "outputs": [],
   "source": [
    "# pydoc shell command\n",
    "# Prefix and shell command in a Jupyter notebook with ! to run the command from the shell (instead of the Python interpreter)\n",
    "!pydoc collections.namedtuple"
   ]
  },
  {
   "cell_type": "markdown",
   "metadata": {},
   "source": [
    "### Getting Help for PyGithub objects"
   ]
  },
  {
   "cell_type": "code",
   "execution_count": null,
   "metadata": {},
   "outputs": [],
   "source": [
    "# Use help method on the github_user object\n",
    "help(github_user)"
   ]
  },
  {
   "cell_type": "code",
   "execution_count": null,
   "metadata": {},
   "outputs": [],
   "source": [
    "# Use dir method on the github_user object\n",
    "dir(github_user)"
   ]
  },
  {
   "cell_type": "code",
   "execution_count": null,
   "metadata": {},
   "outputs": [],
   "source": [
    "# Display an attribute from the dir method output\n",
    "github_user.bio"
   ]
  },
  {
   "cell_type": "code",
   "execution_count": null,
   "metadata": {},
   "outputs": [],
   "source": [
    "# Display help for a specific method\n",
    "help(github_user.get_repos)"
   ]
  },
  {
   "cell_type": "markdown",
   "metadata": {},
   "source": [
    "---"
   ]
  },
  {
   "cell_type": "markdown",
   "metadata": {},
   "source": [
    "## PyGithub Day 3"
   ]
  },
  {
   "cell_type": "markdown",
   "metadata": {},
   "source": [
    "### Access GitHub Repository properties"
   ]
  },
  {
   "cell_type": "code",
   "execution_count": null,
   "metadata": {},
   "outputs": [],
   "source": [
    "# Get user repositories\n",
    "repos = github_user.get_repos()\n",
    "\n",
    "# Display repos object, that returns a PaginatedList of repos\n",
    "repos"
   ]
  },
  {
   "cell_type": "code",
   "execution_count": null,
   "metadata": {},
   "outputs": [],
   "source": [
    "# Display the total number of repos\n",
    "repos.totalCount"
   ]
  },
  {
   "cell_type": "code",
   "execution_count": null,
   "metadata": {},
   "outputs": [],
   "source": [
    "# Define a namedtuple object for repo objects contained in the repos object\n",
    "Repo = namedtuple(\n",
    "    typename='Repo',\n",
    "    field_names=[\n",
    "        'name',\n",
    "        'stars',\n",
    "        'forks'\n",
    "    ]\n",
    ")"
   ]
  },
  {
   "cell_type": "code",
   "execution_count": null,
   "metadata": {},
   "outputs": [],
   "source": [
    "# Import typing.List\n",
    "from typing import List\n",
    "\n",
    "# Create a function to get repo stats\n",
    "def get_repo_stats(\n",
    "    github_user: str,\n",
    "    result_count: int = 5\n",
    ") -> List:\n",
    "    \"\"\" Get statistics for a repository.\n",
    "\n",
    "        Args:\n",
    "            github_user (str):\n",
    "                Name of the GitHub to query.\n",
    "\n",
    "            result_count (int, optional):\n",
    "                Number of results to return, default of 5.\n",
    "\n",
    "        Returns:\n",
    "            repos (List):\n",
    "                List of repos sorted from most to least stars.\n",
    "    \"\"\"\n",
    "\n",
    "    # Create a PyGithub object for the github_user\n",
    "    github_user_object = Github()\n",
    "    github_user_object.get_user(\n",
    "        login=github_user\n",
    "    )\n",
    "\n",
    "    # Create a list object for repos, because a list is easy to sort\n",
    "    repos = []\n",
    "\n",
    "    # Loop over the PaginatedList of repos\n",
    "    for repo in github_user_object.get_repos():\n",
    "        # Ignore any forks\n",
    "        if repo.fork:\n",
    "            continue\n",
    "\n",
    "        # Append a namedtuple object to the repos list for each repo\n",
    "        repos.append(\n",
    "            Repo(\n",
    "                name=repo.name,\n",
    "                stars=repo.stargazers_count,\n",
    "                forks=repo.forks_count\n",
    "            )\n",
    "        )\n",
    "\n",
    "    # Sort the repos list and create a slice based on result_count\n",
    "    sorted(\n",
    "        repos,\n",
    "        key=lambda repo: repo.stars,\n",
    "        reverse=True\n",
    "    )[:result_count]\n",
    "\n",
    "    return repos"
   ]
  },
  {
   "cell_type": "code",
   "execution_count": null,
   "metadata": {},
   "outputs": [],
   "source": [
    "# Call the get_repo_stats function for GITHUB_USER\n",
    "get_repo_stats(\n",
    "    github_user=GITHUB_USER,\n",
    "    result_count=5\n",
    ")"
   ]
  },
  {
   "cell_type": "code",
   "execution_count": null,
   "metadata": {},
   "outputs": [],
   "source": [
    "# Call the get_repo_stats function for GITHUB_USER_2\n",
    "get_repo_stats(\n",
    "    github_user=GITHUB_USER,\n",
    "    result_count=5\n",
    ")"
   ]
  }
 ],
 "metadata": {
  "interpreter": {
   "hash": "949777d72b0d2535278d3dc13498b2535136f6dfe0678499012e853ee9abcab1"
  },
  "kernelspec": {
   "display_name": "Python 3.9.10 64-bit",
   "language": "python",
   "name": "python3"
  },
  "language_info": {
   "codemirror_mode": {
    "name": "ipython",
    "version": 3
   },
   "file_extension": ".py",
   "mimetype": "text/x-python",
   "name": "python",
   "nbconvert_exporter": "python",
   "pygments_lexer": "ipython3",
   "version": "3.9.10"
  },
  "orig_nbformat": 4
 },
 "nbformat": 4,
 "nbformat_minor": 2
}
