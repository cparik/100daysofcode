{
 "cells": [
  {
   "cell_type": "markdown",
   "metadata": {},
   "source": [
    "# GitHub API"
   ]
  },
  {
   "cell_type": "markdown",
   "metadata": {},
   "source": [
    "## Overview\n",
    "\n",
    "Several Python modules are available to interact with the GitHub API, such as:\n",
    "- [PyGithub](https://pypi.org/project/PyGithub/) - used in this course\n",
    "    - Install with `pip install PyGithub`.\n",
    "- [GitPython](https://pypi.org/project/GitPython/)"
   ]
  },
  {
   "cell_type": "markdown",
   "metadata": {},
   "source": [
    "## PyGithub Day 1"
   ]
  },
  {
   "cell_type": "markdown",
   "metadata": {},
   "source": [
    "### Task 1 - Retrieve a User's Popular Repos"
   ]
  },
  {
   "cell_type": "code",
   "execution_count": 1,
   "metadata": {},
   "outputs": [],
   "source": [
    "# Import modules from the Python Standard Library\n",
    "from collections import namedtuple\n",
    "from dotenv import load_dotenv\n",
    "from os import getenv"
   ]
  },
  {
   "cell_type": "code",
   "execution_count": 2,
   "metadata": {},
   "outputs": [
    {
     "data": {
      "text/plain": [
       "True"
      ]
     },
     "execution_count": 2,
     "metadata": {},
     "output_type": "execute_result"
    }
   ],
   "source": [
    "# Load .env variables\n",
    "load_dotenv()"
   ]
  },
  {
   "cell_type": "code",
   "execution_count": 3,
   "metadata": {},
   "outputs": [],
   "source": [
    "# Set a constant for the repository to work with\n",
    "GITHUB_USER = 'mrlesmithjr'\n",
    "GITHUB_USER_2 = 'ttafsir'\n",
    "GITHUB_USER_3 = 'timothyhull'"
   ]
  },
  {
   "cell_type": "code",
   "execution_count": 4,
   "metadata": {},
   "outputs": [],
   "source": [
    "# Import PyGithub\n",
    "from github import Github, InputFileContent"
   ]
  },
  {
   "cell_type": "code",
   "execution_count": 5,
   "metadata": {},
   "outputs": [
    {
     "data": {
      "text/plain": [
       "<github.MainClass.Github at 0x7f3c912e4bb0>"
      ]
     },
     "execution_count": 5,
     "metadata": {},
     "output_type": "execute_result"
    }
   ],
   "source": [
    "# Create a GitHub object to interact with a public repository\n",
    "gh = Github()\n",
    "gh"
   ]
  },
  {
   "cell_type": "markdown",
   "metadata": {},
   "source": [
    "### GitHub Rate Limits\n",
    "\n",
    "- GitHub sets restrictive rate limits for unauthenticated (public) repository interactions.\n",
    "- The `rate_limiting` attribute returns a tuple in the format `(remaining_calls, calls_allowed_per_hour)`.\n",
    "- Authenticated requests can make 5,000 calls per hour."
   ]
  },
  {
   "cell_type": "code",
   "execution_count": 6,
   "metadata": {},
   "outputs": [
    {
     "data": {
      "text/plain": [
       "(59, 60)"
      ]
     },
     "execution_count": 6,
     "metadata": {},
     "output_type": "execute_result"
    }
   ],
   "source": [
    "# Display the number of API calls available in the remaining hour, and how many total API calls allowed per hour\n",
    "gh.rate_limiting"
   ]
  },
  {
   "cell_type": "code",
   "execution_count": 19,
   "metadata": {},
   "outputs": [
    {
     "data": {
      "text/plain": [
       "NamedUser(login=\"mrlesmithjr\")"
      ]
     },
     "execution_count": 19,
     "metadata": {},
     "output_type": "execute_result"
    }
   ],
   "source": [
    "# Create a GitHub user object\n",
    "github_user = gh.get_user(GITHUB_USER)\n",
    "\n",
    "# Display the github_user object\n",
    "github_user"
   ]
  },
  {
   "cell_type": "markdown",
   "metadata": {},
   "source": [
    "---"
   ]
  },
  {
   "cell_type": "markdown",
   "metadata": {},
   "source": [
    "## PyGithub Day 2"
   ]
  },
  {
   "cell_type": "markdown",
   "metadata": {},
   "source": [
    "### Getting Help in Python\n",
    "\n",
    "There are several ways to get help for Python objects:\n",
    "- The `dir` method returns all of an objects attributes and methods.\n",
    "- The `help` method returns the docstring content for an object.\n",
    "- The `pydoc` **shell command** returns docstring content for an object."
   ]
  },
  {
   "cell_type": "code",
   "execution_count": 8,
   "metadata": {},
   "outputs": [
    {
     "data": {
      "text/plain": [
       "['__annotations__',\n",
       " '__call__',\n",
       " '__class__',\n",
       " '__closure__',\n",
       " '__code__',\n",
       " '__defaults__',\n",
       " '__delattr__',\n",
       " '__dict__',\n",
       " '__dir__',\n",
       " '__doc__',\n",
       " '__eq__',\n",
       " '__format__',\n",
       " '__ge__',\n",
       " '__get__',\n",
       " '__getattribute__',\n",
       " '__globals__',\n",
       " '__gt__',\n",
       " '__hash__',\n",
       " '__init__',\n",
       " '__init_subclass__',\n",
       " '__kwdefaults__',\n",
       " '__le__',\n",
       " '__lt__',\n",
       " '__module__',\n",
       " '__name__',\n",
       " '__ne__',\n",
       " '__new__',\n",
       " '__qualname__',\n",
       " '__reduce__',\n",
       " '__reduce_ex__',\n",
       " '__repr__',\n",
       " '__setattr__',\n",
       " '__sizeof__',\n",
       " '__str__',\n",
       " '__subclasshook__']"
      ]
     },
     "execution_count": 8,
     "metadata": {},
     "output_type": "execute_result"
    }
   ],
   "source": [
    "# dir method\n",
    "dir(namedtuple)"
   ]
  },
  {
   "cell_type": "code",
   "execution_count": 9,
   "metadata": {},
   "outputs": [
    {
     "name": "stdout",
     "output_type": "stream",
     "text": [
      "Help on function namedtuple in module collections:\n",
      "\n",
      "namedtuple(typename, field_names, *, rename=False, defaults=None, module=None)\n",
      "    Returns a new subclass of tuple with named fields.\n",
      "    \n",
      "    >>> Point = namedtuple('Point', ['x', 'y'])\n",
      "    >>> Point.__doc__                   # docstring for the new class\n",
      "    'Point(x, y)'\n",
      "    >>> p = Point(11, y=22)             # instantiate with positional args or keywords\n",
      "    >>> p[0] + p[1]                     # indexable like a plain tuple\n",
      "    33\n",
      "    >>> x, y = p                        # unpack like a regular tuple\n",
      "    >>> x, y\n",
      "    (11, 22)\n",
      "    >>> p.x + p.y                       # fields also accessible by name\n",
      "    33\n",
      "    >>> d = p._asdict()                 # convert to a dictionary\n",
      "    >>> d['x']\n",
      "    11\n",
      "    >>> Point(**d)                      # convert from a dictionary\n",
      "    Point(x=11, y=22)\n",
      "    >>> p._replace(x=100)               # _replace() is like str.replace() but targets named fields\n",
      "    Point(x=100, y=22)\n",
      "\n"
     ]
    }
   ],
   "source": [
    "# help method\n",
    "help(namedtuple)"
   ]
  },
  {
   "cell_type": "code",
   "execution_count": 10,
   "metadata": {},
   "outputs": [
    {
     "name": "stdout",
     "output_type": "stream",
     "text": [
      "Help on function namedtuple in collections:\n",
      "\n",
      "collections.namedtuple = namedtuple(typename, field_names, *, rename=False, defaults=None, module=None)\n",
      "    Returns a new subclass of tuple with named fields.\n",
      "    \n",
      "    >>> Point = namedtuple('Point', ['x', 'y'])\n",
      "    >>> Point.__doc__                   # docstring for the new class\n",
      "    'Point(x, y)'\n",
      "    >>> p = Point(11, y=22)             # instantiate with positional args or keywords\n",
      "    >>> p[0] + p[1]                     # indexable like a plain tuple\n",
      "    33\n",
      "    >>> x, y = p                        # unpack like a regular tuple\n",
      "    >>> x, y\n",
      "    (11, 22)\n",
      "    >>> p.x + p.y                       # fields also accessible by name\n",
      "    33\n",
      "    >>> d = p._asdict()                 # convert to a dictionary\n",
      "    >>> d['x']\n",
      "    11\n",
      "    >>> Point(**d)                      # convert from a dictionary\n",
      "    Point(x=11, y=22)\n",
      "    >>> p._replace(x=100)               # _replace() is like str.replace() but targets named fields\n",
      "    Point(x=100, y=22)\n",
      "\n"
     ]
    }
   ],
   "source": [
    "# pydoc shell command\n",
    "# Prefix and shell command in a Jupyter notebook with ! to run the command from the shell (instead of the Python interpreter)\n",
    "!pydoc collections.namedtuple"
   ]
  },
  {
   "cell_type": "markdown",
   "metadata": {},
   "source": [
    "### Getting Help for PyGithub objects"
   ]
  },
  {
   "cell_type": "code",
   "execution_count": 11,
   "metadata": {},
   "outputs": [
    {
     "name": "stdout",
     "output_type": "stream",
     "text": [
      "Help on AuthenticatedUser in module github.AuthenticatedUser object:\n",
      "\n",
      "class AuthenticatedUser(github.GithubObject.CompletableGithubObject)\n",
      " |  AuthenticatedUser(requester, headers, attributes, completed)\n",
      " |  \n",
      " |  This class represents AuthenticatedUsers as returned by https://docs.github.com/en/rest/reference/users#get-the-authenticated-user\n",
      " |  \n",
      " |  An AuthenticatedUser object can be created by calling ``get_user()`` on a Github object.\n",
      " |  \n",
      " |  Method resolution order:\n",
      " |      AuthenticatedUser\n",
      " |      github.GithubObject.CompletableGithubObject\n",
      " |      github.GithubObject.GithubObject\n",
      " |      builtins.object\n",
      " |  \n",
      " |  Methods defined here:\n",
      " |  \n",
      " |  __repr__(self)\n",
      " |      Return repr(self).\n",
      " |  \n",
      " |  accept_invitation(self, invitation)\n",
      " |      :calls: `PATCH /user/repository_invitations/{invitation_id} <https://docs.github.com/en/rest/reference/repos/invitations#>`\n",
      " |      :param invitation: :class:`github.Invitation.Invitation` or int\n",
      " |      :rtype: None\n",
      " |  \n",
      " |  add_to_emails(self, *emails)\n",
      " |      :calls: `POST /user/emails <http://docs.github.com/en/rest/reference/users#emails>`_\n",
      " |      :param email: string\n",
      " |      :rtype: None\n",
      " |  \n",
      " |  add_to_following(self, following)\n",
      " |      :calls: `PUT /user/following/{user} <http://docs.github.com/en/rest/reference/users#followers>`_\n",
      " |      :param following: :class:`github.NamedUser.NamedUser`\n",
      " |      :rtype: None\n",
      " |  \n",
      " |  add_to_starred(self, starred)\n",
      " |      :calls: `PUT /user/starred/{owner}/{repo} <http://docs.github.com/en/rest/reference/activity#starring>`_\n",
      " |      :param starred: :class:`github.Repository.Repository`\n",
      " |      :rtype: None\n",
      " |  \n",
      " |  add_to_subscriptions(self, subscription)\n",
      " |      :calls: `PUT /user/subscriptions/{owner}/{repo} <http://docs.github.com/en/rest/reference/activity#watching>`_\n",
      " |      :param subscription: :class:`github.Repository.Repository`\n",
      " |      :rtype: None\n",
      " |  \n",
      " |  add_to_watched(self, watched)\n",
      " |      :calls: `PUT /repos/{owner}/{repo}/subscription <http://docs.github.com/en/rest/reference/activity#watching>`_\n",
      " |      :param watched: :class:`github.Repository.Repository`\n",
      " |      :rtype: None\n",
      " |  \n",
      " |  create_authorization(self, scopes=NotSet, note=NotSet, note_url=NotSet, client_id=NotSet, client_secret=NotSet, onetime_password=None)\n",
      " |      :calls: `POST /authorizations <https://docs.github.com/en/developers/apps/authorizing-oauth-apps>`_\n",
      " |      :param scopes: list of string\n",
      " |      :param note: string\n",
      " |      :param note_url: string\n",
      " |      :param client_id: string\n",
      " |      :param client_secret: string\n",
      " |      :param onetime_password: string\n",
      " |      :rtype: :class:`github.Authorization.Authorization`\n",
      " |  \n",
      " |  create_fork(self, repo)\n",
      " |      :calls: `POST /repos/{owner}/{repo}/forks <http://docs.github.com/en/rest/reference/repos#forks>`_\n",
      " |      :param repo: :class:`github.Repository.Repository`\n",
      " |      :rtype: :class:`github.Repository.Repository`\n",
      " |  \n",
      " |  create_gist(self, public, files, description=NotSet)\n",
      " |      :calls: `POST /gists <http://docs.github.com/en/rest/reference/gists>`_\n",
      " |      :param public: bool\n",
      " |      :param files: dict of string to :class:`github.InputFileContent.InputFileContent`\n",
      " |      :param description: string\n",
      " |      :rtype: :class:`github.Gist.Gist`\n",
      " |  \n",
      " |  create_key(self, title, key)\n",
      " |      :calls: `POST /user/keys <http://docs.github.com/en/rest/reference/users#git-ssh-keys>`_\n",
      " |      :param title: string\n",
      " |      :param key: string\n",
      " |      :rtype: :class:`github.UserKey.UserKey`\n",
      " |  \n",
      " |  create_migration(self, repos, lock_repositories=NotSet, exclude_attachments=NotSet)\n",
      " |      :calls: `POST /user/migrations <https://docs.github.com/en/rest/reference/migrations>`_\n",
      " |      :param repos: list or tuple of str\n",
      " |      :param lock_repositories: bool\n",
      " |      :param exclude_attachments: bool\n",
      " |      :rtype: :class:`github.Migration.Migration`\n",
      " |  \n",
      " |  create_project(self, name, body=NotSet)\n",
      " |      :calls: `POST /user/projects <https://docs.github.com/en/rest/reference/projects#create-a-user-project>`_\n",
      " |      :param name: string\n",
      " |      :param body: string\n",
      " |      :rtype: :class:`github.Project.Project`\n",
      " |  \n",
      " |  create_repo(self, name, description=NotSet, homepage=NotSet, private=NotSet, has_issues=NotSet, has_wiki=NotSet, has_downloads=NotSet, has_projects=NotSet, auto_init=NotSet, license_template=NotSet, gitignore_template=NotSet, allow_squash_merge=NotSet, allow_merge_commit=NotSet, allow_rebase_merge=NotSet, delete_branch_on_merge=NotSet)\n",
      " |      :calls: `POST /user/repos <http://docs.github.com/en/rest/reference/repos>`_\n",
      " |      :param name: string\n",
      " |      :param description: string\n",
      " |      :param homepage: string\n",
      " |      :param private: bool\n",
      " |      :param has_issues: bool\n",
      " |      :param has_wiki: bool\n",
      " |      :param has_downloads: bool\n",
      " |      :param has_projects: bool\n",
      " |      :param auto_init: bool\n",
      " |      :param license_template: string\n",
      " |      :param gitignore_template: string\n",
      " |      :param allow_squash_merge: bool\n",
      " |      :param allow_merge_commit: bool\n",
      " |      :param allow_rebase_merge: bool\n",
      " |      :param delete_branch_on_merge: bool\n",
      " |      :rtype: :class:`github.Repository.Repository`\n",
      " |  \n",
      " |  edit(self, name=NotSet, email=NotSet, blog=NotSet, company=NotSet, location=NotSet, hireable=NotSet, bio=NotSet)\n",
      " |      :calls: `PATCH /user <http://docs.github.com/en/rest/reference/users>`_\n",
      " |      :param name: string\n",
      " |      :param email: string\n",
      " |      :param blog: string\n",
      " |      :param company: string\n",
      " |      :param location: string\n",
      " |      :param hireable: bool\n",
      " |      :param bio: string\n",
      " |      :rtype: None\n",
      " |  \n",
      " |  get_authorization(self, id)\n",
      " |      :calls: `GET /authorizations/{id} <https://docs.github.com/en/developers/apps/authorizing-oauth-apps>`_\n",
      " |      :param id: integer\n",
      " |      :rtype: :class:`github.Authorization.Authorization`\n",
      " |  \n",
      " |  get_authorizations(self)\n",
      " |      :calls: `GET /authorizations <https://docs.github.com/en/developers/apps/authorizing-oauth-apps>`_\n",
      " |      :rtype: :class:`github.PaginatedList.PaginatedList` of :class:`github.Authorization.Authorization`\n",
      " |  \n",
      " |  get_emails(self)\n",
      " |      :calls: `GET /user/emails <http://docs.github.com/en/rest/reference/users#emails>`_\n",
      " |      :rtype: list of namedtuples with members email, primary, verified and visibility\n",
      " |  \n",
      " |  get_events(self)\n",
      " |      :calls: `GET /events <http://docs.github.com/en/rest/reference/activity#events>`_\n",
      " |      :rtype: :class:`github.PaginatedList.PaginatedList` of :class:`github.Event.Event`\n",
      " |  \n",
      " |  get_followers(self)\n",
      " |      :calls: `GET /user/followers <http://docs.github.com/en/rest/reference/users#followers>`_\n",
      " |      :rtype: :class:`github.PaginatedList.PaginatedList` of :class:`github.NamedUser.NamedUser`\n",
      " |  \n",
      " |  get_following(self)\n",
      " |      :calls: `GET /user/following <http://docs.github.com/en/rest/reference/users#followers>`_\n",
      " |      :rtype: :class:`github.PaginatedList.PaginatedList` of :class:`github.NamedUser.NamedUser`\n",
      " |  \n",
      " |  get_gists(self, since=NotSet)\n",
      " |      :calls: `GET /gists <http://docs.github.com/en/rest/reference/gists>`_\n",
      " |      :param since: datetime.datetime format YYYY-MM-DDTHH:MM:SSZ\n",
      " |      :rtype: :class:`github.PaginatedList.PaginatedList` of :class:`github.Gist.Gist`\n",
      " |  \n",
      " |  get_installations(self)\n",
      " |      :calls: `GET /user/installations <http://docs.github.com/en/rest/reference/apps>`_\n",
      " |      :rtype: :class:`github.PaginatedList.PaginatedList` of :class:`github.Installation.Installation`\n",
      " |  \n",
      " |  get_invitations(self)\n",
      " |      :calls: `GET /user/repository_invitations <https://docs.github.com/en/rest/reference/repos#invitations>`_\n",
      " |      :rtype: :class:`github.PaginatedList.PaginatedList` of :class:`github.Invitation.Invitation`\n",
      " |  \n",
      " |  get_issues(self, filter=NotSet, state=NotSet, labels=NotSet, sort=NotSet, direction=NotSet, since=NotSet)\n",
      " |      :calls: `GET /issues <http://docs.github.com/en/rest/reference/issues>`_\n",
      " |      :rtype: :class:`github.PaginatedList.PaginatedList` of :class:`github.Issue.Issue`\n",
      " |      :param filter: string\n",
      " |      :param state: string\n",
      " |      :param labels: list of :class:`github.Label.Label`\n",
      " |      :param sort: string\n",
      " |      :param direction: string\n",
      " |      :param since: datetime.datetime\n",
      " |      :rtype: :class:`github.PaginatedList.PaginatedList` of :class:`github.Issue.Issue`\n",
      " |  \n",
      " |  get_key(self, id)\n",
      " |      :calls: `GET /user/keys/{id} <http://docs.github.com/en/rest/reference/users#git-ssh-keys>`_\n",
      " |      :param id: integer\n",
      " |      :rtype: :class:`github.UserKey.UserKey`\n",
      " |  \n",
      " |  get_keys(self)\n",
      " |      :calls: `GET /user/keys <http://docs.github.com/en/rest/reference/users#git-ssh-keys>`_\n",
      " |      :rtype: :class:`github.PaginatedList.PaginatedList` of :class:`github.UserKey.UserKey`\n",
      " |  \n",
      " |  get_migrations(self)\n",
      " |      :calls: `GET /user/migrations <https://docs.github.com/en/rest/reference/migrations>`_\n",
      " |      :rtype: :class:`github.PaginatedList.PaginatedList` of :class:`github.Migration.Migration`\n",
      " |  \n",
      " |  get_notification(self, id)\n",
      " |      :calls: `GET /notifications/threads/{id} <http://docs.github.com/en/rest/reference/activity#notifications>`_\n",
      " |      :rtype: :class:`github.Notification.Notification`\n",
      " |  \n",
      " |  get_notifications(self, all=NotSet, participating=NotSet, since=NotSet, before=NotSet)\n",
      " |      :calls: `GET /notifications <http://docs.github.com/en/rest/reference/activity#notifications>`_\n",
      " |      :param all: bool\n",
      " |      :param participating: bool\n",
      " |      :param since: datetime.datetime\n",
      " |      :param before: datetime.datetime\n",
      " |      :rtype: :class:`github.PaginatedList.PaginatedList` of :class:`github.Notification.Notification`\n",
      " |  \n",
      " |  get_organization_events(self, org)\n",
      " |      :calls: `GET /users/{user}/events/orgs/{org} <http://docs.github.com/en/rest/reference/activity#events>`_\n",
      " |      :param org: :class:`github.Organization.Organization`\n",
      " |      :rtype: :class:`github.PaginatedList.PaginatedList` of :class:`github.Event.Event`\n",
      " |  \n",
      " |  get_organization_membership(self, org)\n",
      " |      :calls: `GET /user/memberships/orgs/{org} <https://docs.github.com/en/rest/reference/orgs#get-an-organization-membership-for-the-authenticated-user>`_\n",
      " |      :rtype: :class:`github.Membership.Membership`\n",
      " |  \n",
      " |  get_orgs(self)\n",
      " |      :calls: `GET /user/orgs <http://docs.github.com/en/rest/reference/orgs>`_\n",
      " |      :rtype: :class:`github.PaginatedList.PaginatedList` of :class:`github.Organization.Organization`\n",
      " |  \n",
      " |  get_repo(self, name)\n",
      " |      :calls: `GET /repos/{owner}/{repo} <http://docs.github.com/en/rest/reference/repos>`_\n",
      " |      :param name: string\n",
      " |      :rtype: :class:`github.Repository.Repository`\n",
      " |  \n",
      " |  get_repos(self, visibility=NotSet, affiliation=NotSet, type=NotSet, sort=NotSet, direction=NotSet)\n",
      " |      :calls: `GET /user/repos <http://docs.github.com/en/rest/reference/repos>`\n",
      " |      :param visibility: string\n",
      " |      :param affiliation: string\n",
      " |      :param type: string\n",
      " |      :param sort: string\n",
      " |      :param direction: string\n",
      " |      :rtype: :class:`github.PaginatedList.PaginatedList` of :class:`github.Repository.Repository`\n",
      " |  \n",
      " |  get_starred(self)\n",
      " |      :calls: `GET /user/starred <http://docs.github.com/en/rest/reference/activity#starring>`_\n",
      " |      :rtype: :class:`github.PaginatedList.PaginatedList` of :class:`github.Repository.Repository`\n",
      " |  \n",
      " |  get_starred_gists(self)\n",
      " |      :calls: `GET /gists/starred <http://docs.github.com/en/rest/reference/gists>`_\n",
      " |      :rtype: :class:`github.PaginatedList.PaginatedList` of :class:`github.Gist.Gist`\n",
      " |  \n",
      " |  get_subscriptions(self)\n",
      " |      :calls: `GET /user/subscriptions <http://docs.github.com/en/rest/reference/activity#watching>`_\n",
      " |      :rtype: :class:`github.PaginatedList.PaginatedList` of :class:`github.Repository.Repository`\n",
      " |  \n",
      " |  get_teams(self)\n",
      " |      :calls: `GET /user/teams <http://docs.github.com/en/rest/reference/teams>`_\n",
      " |      :rtype: :class:`github.PaginatedList.PaginatedList` of :class:`github.Team.Team`\n",
      " |  \n",
      " |  get_user_issues(self, filter=NotSet, state=NotSet, labels=NotSet, sort=NotSet, direction=NotSet, since=NotSet)\n",
      " |      :calls: `GET /user/issues <http://docs.github.com/en/rest/reference/issues>`_\n",
      " |      :rtype: :class:`github.PaginatedList.PaginatedList` of :class:`github.Issue.Issue`\n",
      " |      :param filter: string\n",
      " |      :param state: string\n",
      " |      :param labels: list of :class:`github.Label.Label`\n",
      " |      :param sort: string\n",
      " |      :param direction: string\n",
      " |      :param since: datetime.datetime\n",
      " |      :rtype: :class:`github.PaginatedList.PaginatedList` of :class:`github.Issue.Issue`\n",
      " |  \n",
      " |  get_watched(self)\n",
      " |      :calls: `GET /user/subscriptions <http://docs.github.com/en/rest/reference/activity#watching>`_\n",
      " |      :rtype: :class:`github.PaginatedList.PaginatedList` of :class:`github.Repository.Repository`\n",
      " |  \n",
      " |  has_in_following(self, following)\n",
      " |      :calls: `GET /user/following/{user} <http://docs.github.com/en/rest/reference/users#followers>`_\n",
      " |      :param following: :class:`github.NamedUser.NamedUser`\n",
      " |      :rtype: bool\n",
      " |  \n",
      " |  has_in_starred(self, starred)\n",
      " |      :calls: `GET /user/starred/{owner}/{repo} <http://docs.github.com/en/rest/reference/activity#starring>`_\n",
      " |      :param starred: :class:`github.Repository.Repository`\n",
      " |      :rtype: bool\n",
      " |  \n",
      " |  has_in_subscriptions(self, subscription)\n",
      " |      :calls: `GET /user/subscriptions/{owner}/{repo} <http://docs.github.com/en/rest/reference/activity#watching>`_\n",
      " |      :param subscription: :class:`github.Repository.Repository`\n",
      " |      :rtype: bool\n",
      " |  \n",
      " |  has_in_watched(self, watched)\n",
      " |      :calls: `GET /repos/{owner}/{repo}/subscription <http://docs.github.com/en/rest/reference/activity#watching>`_\n",
      " |      :param watched: :class:`github.Repository.Repository`\n",
      " |      :rtype: bool\n",
      " |  \n",
      " |  mark_notifications_as_read(self, last_read_at=datetime.datetime(2022, 3, 22, 4, 26, 48, 475188))\n",
      " |      :calls: `PUT /notifications <https://docs.github.com/en/rest/reference/activity#notifications>`_\n",
      " |      :param last_read_at: datetime\n",
      " |  \n",
      " |  remove_from_emails(self, *emails)\n",
      " |      :calls: `DELETE /user/emails <http://docs.github.com/en/rest/reference/users#emails>`_\n",
      " |      :param email: string\n",
      " |      :rtype: None\n",
      " |  \n",
      " |  remove_from_following(self, following)\n",
      " |      :calls: `DELETE /user/following/{user} <http://docs.github.com/en/rest/reference/users#followers>`_\n",
      " |      :param following: :class:`github.NamedUser.NamedUser`\n",
      " |      :rtype: None\n",
      " |  \n",
      " |  remove_from_starred(self, starred)\n",
      " |      :calls: `DELETE /user/starred/{owner}/{repo} <http://docs.github.com/en/rest/reference/activity#starring>`_\n",
      " |      :param starred: :class:`github.Repository.Repository`\n",
      " |      :rtype: None\n",
      " |  \n",
      " |  remove_from_subscriptions(self, subscription)\n",
      " |      :calls: `DELETE /user/subscriptions/{owner}/{repo} <http://docs.github.com/en/rest/reference/activity#watching>`_\n",
      " |      :param subscription: :class:`github.Repository.Repository`\n",
      " |      :rtype: None\n",
      " |  \n",
      " |  remove_from_watched(self, watched)\n",
      " |      :calls: `DELETE /repos/{owner}/{repo}/subscription <http://docs.github.com/en/rest/reference/activity#watching>`_\n",
      " |      :param watched: :class:`github.Repository.Repository`\n",
      " |      :rtype: None\n",
      " |  \n",
      " |  ----------------------------------------------------------------------\n",
      " |  Readonly properties defined here:\n",
      " |  \n",
      " |  avatar_url\n",
      " |      :type: string\n",
      " |  \n",
      " |  bio\n",
      " |      :type: string\n",
      " |  \n",
      " |  blog\n",
      " |      :type: string\n",
      " |  \n",
      " |  collaborators\n",
      " |      :type: integer\n",
      " |  \n",
      " |  company\n",
      " |      :type: string\n",
      " |  \n",
      " |  created_at\n",
      " |      :type: datetime.datetime\n",
      " |  \n",
      " |  disk_usage\n",
      " |      :type: integer\n",
      " |  \n",
      " |  email\n",
      " |      :type: string\n",
      " |  \n",
      " |  events_url\n",
      " |      :type: string\n",
      " |  \n",
      " |  followers\n",
      " |      :type: integer\n",
      " |  \n",
      " |  followers_url\n",
      " |      :type: string\n",
      " |  \n",
      " |  following\n",
      " |      :type: integer\n",
      " |  \n",
      " |  following_url\n",
      " |      :type: string\n",
      " |  \n",
      " |  gists_url\n",
      " |      :type: string\n",
      " |  \n",
      " |  gravatar_id\n",
      " |      :type: string\n",
      " |  \n",
      " |  hireable\n",
      " |      :type: bool\n",
      " |  \n",
      " |  html_url\n",
      " |      :type: string\n",
      " |  \n",
      " |  id\n",
      " |      :type: integer\n",
      " |  \n",
      " |  location\n",
      " |      :type: string\n",
      " |  \n",
      " |  login\n",
      " |      :type: string\n",
      " |  \n",
      " |  name\n",
      " |      :type: string\n",
      " |  \n",
      " |  node_id\n",
      " |      :type: string\n",
      " |  \n",
      " |  organizations_url\n",
      " |      :type: string\n",
      " |  \n",
      " |  owned_private_repos\n",
      " |      :type: integer\n",
      " |  \n",
      " |  plan\n",
      " |      :type: :class:`github.Plan.Plan`\n",
      " |  \n",
      " |  private_gists\n",
      " |      :type: integer\n",
      " |  \n",
      " |  public_gists\n",
      " |      :type: integer\n",
      " |  \n",
      " |  public_repos\n",
      " |      :type: integer\n",
      " |  \n",
      " |  received_events_url\n",
      " |      :type: string\n",
      " |  \n",
      " |  repos_url\n",
      " |      :type: string\n",
      " |  \n",
      " |  site_admin\n",
      " |      :type: bool\n",
      " |  \n",
      " |  starred_url\n",
      " |      :type: string\n",
      " |  \n",
      " |  subscriptions_url\n",
      " |      :type: string\n",
      " |  \n",
      " |  total_private_repos\n",
      " |      :type: integer\n",
      " |  \n",
      " |  type\n",
      " |      :type: string\n",
      " |  \n",
      " |  updated_at\n",
      " |      :type: datetime.datetime\n",
      " |  \n",
      " |  url\n",
      " |      :type: string\n",
      " |  \n",
      " |  ----------------------------------------------------------------------\n",
      " |  Methods inherited from github.GithubObject.CompletableGithubObject:\n",
      " |  \n",
      " |  __eq__(self, other)\n",
      " |      Return self==value.\n",
      " |  \n",
      " |  __hash__(self)\n",
      " |      Return hash(self).\n",
      " |  \n",
      " |  __init__(self, requester, headers, attributes, completed)\n",
      " |      Initialize self.  See help(type(self)) for accurate signature.\n",
      " |  \n",
      " |  __ne__(self, other)\n",
      " |      Return self!=value.\n",
      " |  \n",
      " |  update(self, additional_headers=None)\n",
      " |      Check and update the object with conditional request\n",
      " |      :rtype: Boolean value indicating whether the object is changed\n",
      " |  \n",
      " |  ----------------------------------------------------------------------\n",
      " |  Methods inherited from github.GithubObject.GithubObject:\n",
      " |  \n",
      " |  get__repr__(self, params)\n",
      " |      Converts the object to a nicely printable string.\n",
      " |  \n",
      " |  ----------------------------------------------------------------------\n",
      " |  Class methods inherited from github.GithubObject.GithubObject:\n",
      " |  \n",
      " |  setCheckAfterInitFlag(flag) from builtins.type\n",
      " |  \n",
      " |  ----------------------------------------------------------------------\n",
      " |  Readonly properties inherited from github.GithubObject.GithubObject:\n",
      " |  \n",
      " |  etag\n",
      " |      :type: str\n",
      " |  \n",
      " |  last_modified\n",
      " |      :type: str\n",
      " |  \n",
      " |  raw_data\n",
      " |      :type: dict\n",
      " |  \n",
      " |  raw_headers\n",
      " |      :type: dict\n",
      " |  \n",
      " |  ----------------------------------------------------------------------\n",
      " |  Data descriptors inherited from github.GithubObject.GithubObject:\n",
      " |  \n",
      " |  __dict__\n",
      " |      dictionary for instance variables (if defined)\n",
      " |  \n",
      " |  __weakref__\n",
      " |      list of weak references to the object (if defined)\n",
      " |  \n",
      " |  ----------------------------------------------------------------------\n",
      " |  Data and other attributes inherited from github.GithubObject.GithubObject:\n",
      " |  \n",
      " |  CHECK_AFTER_INIT_FLAG = False\n",
      "\n"
     ]
    }
   ],
   "source": [
    "# Use help method on the github_user object\n",
    "help(github_user)"
   ]
  },
  {
   "cell_type": "code",
   "execution_count": 12,
   "metadata": {},
   "outputs": [
    {
     "data": {
      "text/plain": [
       "['CHECK_AFTER_INIT_FLAG',\n",
       " '_CompletableGithubObject__complete',\n",
       " '_CompletableGithubObject__completed',\n",
       " '_GithubObject__makeSimpleAttribute',\n",
       " '_GithubObject__makeSimpleListAttribute',\n",
       " '_GithubObject__makeTransformedAttribute',\n",
       " '__class__',\n",
       " '__delattr__',\n",
       " '__dict__',\n",
       " '__dir__',\n",
       " '__doc__',\n",
       " '__eq__',\n",
       " '__format__',\n",
       " '__ge__',\n",
       " '__getattribute__',\n",
       " '__gt__',\n",
       " '__hash__',\n",
       " '__init__',\n",
       " '__init_subclass__',\n",
       " '__le__',\n",
       " '__lt__',\n",
       " '__module__',\n",
       " '__ne__',\n",
       " '__new__',\n",
       " '__reduce__',\n",
       " '__reduce_ex__',\n",
       " '__repr__',\n",
       " '__setattr__',\n",
       " '__sizeof__',\n",
       " '__str__',\n",
       " '__subclasshook__',\n",
       " '__weakref__',\n",
       " '_avatar_url',\n",
       " '_bio',\n",
       " '_blog',\n",
       " '_collaborators',\n",
       " '_company',\n",
       " '_completeIfNeeded',\n",
       " '_completeIfNotSet',\n",
       " '_created_at',\n",
       " '_disk_usage',\n",
       " '_email',\n",
       " '_events_url',\n",
       " '_followers',\n",
       " '_followers_url',\n",
       " '_following',\n",
       " '_following_url',\n",
       " '_gists_url',\n",
       " '_gravatar_id',\n",
       " '_headers',\n",
       " '_hireable',\n",
       " '_html_url',\n",
       " '_id',\n",
       " '_initAttributes',\n",
       " '_location',\n",
       " '_login',\n",
       " '_makeBoolAttribute',\n",
       " '_makeClassAttribute',\n",
       " '_makeDatetimeAttribute',\n",
       " '_makeDictAttribute',\n",
       " '_makeDictOfStringsToClassesAttribute',\n",
       " '_makeFloatAttribute',\n",
       " '_makeIntAttribute',\n",
       " '_makeListOfClassesAttribute',\n",
       " '_makeListOfDictsAttribute',\n",
       " '_makeListOfIntsAttribute',\n",
       " '_makeListOfListOfStringsAttribute',\n",
       " '_makeListOfStringsAttribute',\n",
       " '_makeStringAttribute',\n",
       " '_makeTimestampAttribute',\n",
       " '_name',\n",
       " '_node_id',\n",
       " '_organizations_url',\n",
       " '_owned_private_repos',\n",
       " '_parentUrl',\n",
       " '_plan',\n",
       " '_private_gists',\n",
       " '_public_gists',\n",
       " '_public_repos',\n",
       " '_rawData',\n",
       " '_received_events_url',\n",
       " '_repos_url',\n",
       " '_requester',\n",
       " '_site_admin',\n",
       " '_starred_url',\n",
       " '_storeAndUseAttributes',\n",
       " '_subscriptions_url',\n",
       " '_total_private_repos',\n",
       " '_type',\n",
       " '_updated_at',\n",
       " '_url',\n",
       " '_useAttributes',\n",
       " 'accept_invitation',\n",
       " 'add_to_emails',\n",
       " 'add_to_following',\n",
       " 'add_to_starred',\n",
       " 'add_to_subscriptions',\n",
       " 'add_to_watched',\n",
       " 'avatar_url',\n",
       " 'bio',\n",
       " 'blog',\n",
       " 'collaborators',\n",
       " 'company',\n",
       " 'create_authorization',\n",
       " 'create_fork',\n",
       " 'create_gist',\n",
       " 'create_key',\n",
       " 'create_migration',\n",
       " 'create_project',\n",
       " 'create_repo',\n",
       " 'created_at',\n",
       " 'disk_usage',\n",
       " 'edit',\n",
       " 'email',\n",
       " 'etag',\n",
       " 'events_url',\n",
       " 'followers',\n",
       " 'followers_url',\n",
       " 'following',\n",
       " 'following_url',\n",
       " 'get__repr__',\n",
       " 'get_authorization',\n",
       " 'get_authorizations',\n",
       " 'get_emails',\n",
       " 'get_events',\n",
       " 'get_followers',\n",
       " 'get_following',\n",
       " 'get_gists',\n",
       " 'get_installations',\n",
       " 'get_invitations',\n",
       " 'get_issues',\n",
       " 'get_key',\n",
       " 'get_keys',\n",
       " 'get_migrations',\n",
       " 'get_notification',\n",
       " 'get_notifications',\n",
       " 'get_organization_events',\n",
       " 'get_organization_membership',\n",
       " 'get_orgs',\n",
       " 'get_repo',\n",
       " 'get_repos',\n",
       " 'get_starred',\n",
       " 'get_starred_gists',\n",
       " 'get_subscriptions',\n",
       " 'get_teams',\n",
       " 'get_user_issues',\n",
       " 'get_watched',\n",
       " 'gists_url',\n",
       " 'gravatar_id',\n",
       " 'has_in_following',\n",
       " 'has_in_starred',\n",
       " 'has_in_subscriptions',\n",
       " 'has_in_watched',\n",
       " 'hireable',\n",
       " 'html_url',\n",
       " 'id',\n",
       " 'last_modified',\n",
       " 'location',\n",
       " 'login',\n",
       " 'mark_notifications_as_read',\n",
       " 'name',\n",
       " 'node_id',\n",
       " 'organizations_url',\n",
       " 'owned_private_repos',\n",
       " 'plan',\n",
       " 'private_gists',\n",
       " 'public_gists',\n",
       " 'public_repos',\n",
       " 'raw_data',\n",
       " 'raw_headers',\n",
       " 'received_events_url',\n",
       " 'remove_from_emails',\n",
       " 'remove_from_following',\n",
       " 'remove_from_starred',\n",
       " 'remove_from_subscriptions',\n",
       " 'remove_from_watched',\n",
       " 'repos_url',\n",
       " 'setCheckAfterInitFlag',\n",
       " 'site_admin',\n",
       " 'starred_url',\n",
       " 'subscriptions_url',\n",
       " 'total_private_repos',\n",
       " 'type',\n",
       " 'update',\n",
       " 'updated_at',\n",
       " 'url']"
      ]
     },
     "execution_count": 12,
     "metadata": {},
     "output_type": "execute_result"
    }
   ],
   "source": [
    "# Use dir method on the github_user object\n",
    "dir(github_user)"
   ]
  },
  {
   "cell_type": "code",
   "execution_count": 20,
   "metadata": {},
   "outputs": [
    {
     "data": {
      "text/plain": [
       "'Doing my thang with #automation #DevOps and cloudy things! Providing hopefully valuable content for others to consume easily and also learn from.'"
      ]
     },
     "execution_count": 20,
     "metadata": {},
     "output_type": "execute_result"
    }
   ],
   "source": [
    "# Display an attribute from the dir method output\n",
    "github_user.bio"
   ]
  },
  {
   "cell_type": "code",
   "execution_count": 14,
   "metadata": {},
   "outputs": [
    {
     "name": "stdout",
     "output_type": "stream",
     "text": [
      "Help on method get_repos in module github.AuthenticatedUser:\n",
      "\n",
      "get_repos(visibility=NotSet, affiliation=NotSet, type=NotSet, sort=NotSet, direction=NotSet) method of github.AuthenticatedUser.AuthenticatedUser instance\n",
      "    :calls: `GET /user/repos <http://docs.github.com/en/rest/reference/repos>`\n",
      "    :param visibility: string\n",
      "    :param affiliation: string\n",
      "    :param type: string\n",
      "    :param sort: string\n",
      "    :param direction: string\n",
      "    :rtype: :class:`github.PaginatedList.PaginatedList` of :class:`github.Repository.Repository`\n",
      "\n"
     ]
    }
   ],
   "source": [
    "# Display help for a specific method\n",
    "help(github_user.get_repos)"
   ]
  },
  {
   "cell_type": "markdown",
   "metadata": {},
   "source": [
    "---"
   ]
  },
  {
   "cell_type": "markdown",
   "metadata": {},
   "source": [
    "## PyGithub Day 3"
   ]
  },
  {
   "cell_type": "markdown",
   "metadata": {},
   "source": [
    "### Access GitHub Repository properties"
   ]
  },
  {
   "cell_type": "code",
   "execution_count": 21,
   "metadata": {},
   "outputs": [
    {
     "data": {
      "text/plain": [
       "<github.PaginatedList.PaginatedList at 0x7f3c9128c130>"
      ]
     },
     "execution_count": 21,
     "metadata": {},
     "output_type": "execute_result"
    }
   ],
   "source": [
    "# Get user repositories\n",
    "repos = github_user.get_repos()\n",
    "\n",
    "# Display repos object, that returns a PaginatedList of repos\n",
    "repos"
   ]
  },
  {
   "cell_type": "code",
   "execution_count": 22,
   "metadata": {},
   "outputs": [
    {
     "data": {
      "text/plain": [
       "439"
      ]
     },
     "execution_count": 22,
     "metadata": {},
     "output_type": "execute_result"
    }
   ],
   "source": [
    "# Display the total number of repos\n",
    "repos.totalCount"
   ]
  },
  {
   "cell_type": "code",
   "execution_count": 23,
   "metadata": {},
   "outputs": [],
   "source": [
    "# Define a namedtuple object for repo objects contained in the repos object\n",
    "Repo = namedtuple(\n",
    "    typename='Repo',\n",
    "    field_names=[\n",
    "        'name',\n",
    "        'stars',\n",
    "        'forks'\n",
    "    ]\n",
    ")"
   ]
  },
  {
   "cell_type": "code",
   "execution_count": 51,
   "metadata": {},
   "outputs": [],
   "source": [
    "# Import typing.List\n",
    "from typing import List\n",
    "\n",
    "# Create a function to get repo stats\n",
    "def get_repo_stats(\n",
    "    github_user: str,\n",
    "    result_count: int = 5,\n",
    "    github_token: str = None\n",
    ") -> List:\n",
    "    \"\"\" Get statistics for a repository.\n",
    "\n",
    "        Args:\n",
    "            github_user (str):\n",
    "                Name of the GitHub to query.\n",
    "\n",
    "            result_count (int, optional):\n",
    "                Number of results to return, default of 5.\n",
    "\n",
    "            github_token (str, optional):\n",
    "                GitHub Personal Access Token (PAT), default is None.\n",
    "\n",
    "        Returns:\n",
    "            repos (List):\n",
    "                List of repos sorted from most to least stars.\n",
    "    \"\"\"\n",
    "\n",
    "    # Create a PyGithub object for the github_user\n",
    "    github_object = Github(\n",
    "        login_or_token=github_token\n",
    "    )\n",
    "    \n",
    "    github_user_object = github_object.get_user(\n",
    "        login=github_user\n",
    "    )\n",
    "\n",
    "    # Create a list object for repos, because a list is easy to sort\n",
    "    repos = []\n",
    "\n",
    "    # Loop over the PaginatedList of repos\n",
    "    for repo in github_user_object.get_repos():\n",
    "        # Ignore any forks\n",
    "        if repo.fork:\n",
    "            continue\n",
    "\n",
    "        # Append a namedtuple object to the repos list for each repo\n",
    "        repos.append(\n",
    "            Repo(\n",
    "                name=repo.name,\n",
    "                stars=repo.stargazers_count,\n",
    "                forks=repo.forks_count\n",
    "            )\n",
    "        )\n",
    "\n",
    "    # Sort the repos list and create a slice based on result_count\n",
    "    repos.sort(\n",
    "        key=lambda x: x.stars,\n",
    "        reverse=True\n",
    "    )\n",
    "\n",
    "    # Slice the repos list to the length of result_count\n",
    "    repos = repos[:result_count]\n",
    "\n",
    "    return repos"
   ]
  },
  {
   "cell_type": "code",
   "execution_count": 52,
   "metadata": {},
   "outputs": [],
   "source": [
    "# Call the get_repo_stats function for GITHUB_USER\n",
    "repo_list = get_repo_stats(\n",
    "    github_user=GITHUB_USER,\n",
    "    result_count=5\n",
    ")"
   ]
  },
  {
   "cell_type": "code",
   "execution_count": 53,
   "metadata": {},
   "outputs": [
    {
     "data": {
      "text/plain": [
       "[Repo(name='Ansible', stars=163, forks=64),\n",
       " Repo(name='ansible-rpi-k8s-cluster', stars=144, forks=45),\n",
       " Repo(name='graylog2', stars=120, forks=61),\n",
       " Repo(name='packer-templates', stars=115, forks=28),\n",
       " Repo(name='vagrant-box-templates', stars=114, forks=25)]"
      ]
     },
     "execution_count": 53,
     "metadata": {},
     "output_type": "execute_result"
    }
   ],
   "source": [
    "# Display the sorted list of repositories\n",
    "repo_list"
   ]
  },
  {
   "cell_type": "code",
   "execution_count": 54,
   "metadata": {},
   "outputs": [],
   "source": [
    "# Call the get_repo_stats function for GITHUB_USER_2\n",
    "repo_list = get_repo_stats(\n",
    "    github_user=GITHUB_USER_2,\n",
    "    result_count=5\n",
    ")"
   ]
  },
  {
   "cell_type": "code",
   "execution_count": 55,
   "metadata": {},
   "outputs": [
    {
     "data": {
      "text/plain": [
       "[Repo(name='evengsdk', stars=32, forks=8),\n",
       " Repo(name='htping', stars=1, forks=0),\n",
       " Repo(name='netnginir-ansible-lab', stars=1, forks=0),\n",
       " Repo(name='subnet-calculator', stars=1, forks=2),\n",
       " Repo(name='100-days-of-code', stars=0, forks=0)]"
      ]
     },
     "execution_count": 55,
     "metadata": {},
     "output_type": "execute_result"
    }
   ],
   "source": [
    "# Display the sorted list of repositories\n",
    "repo_list"
   ]
  },
  {
   "cell_type": "code",
   "execution_count": 56,
   "metadata": {},
   "outputs": [],
   "source": [
    "# Call the get_repo_stats function for GITHUB_USER_3\n",
    "repo_list = get_repo_stats(\n",
    "    github_user=GITHUB_USER_3,\n",
    "    result_count=5\n",
    ")"
   ]
  },
  {
   "cell_type": "code",
   "execution_count": 57,
   "metadata": {},
   "outputs": [
    {
     "data": {
      "text/plain": [
       "[Repo(name='100daysofcode', stars=2, forks=0),\n",
       " Repo(name='namedtuple-maker', stars=0, forks=0),\n",
       " Repo(name='ww_tweeter', stars=0, forks=0)]"
      ]
     },
     "execution_count": 57,
     "metadata": {},
     "output_type": "execute_result"
    }
   ],
   "source": [
    "# Display the sorted list of repositories\n",
    "repo_list"
   ]
  },
  {
   "cell_type": "markdown",
   "metadata": {},
   "source": [
    "---"
   ]
  },
  {
   "cell_type": "markdown",
   "metadata": {},
   "source": [
    "## PyGithub Day 4"
   ]
  },
  {
   "cell_type": "markdown",
   "metadata": {},
   "source": [
    "### Authenticated GitHub Interactions\n",
    "\n",
    "- Use a [Personal Access Token (PAT)](https://github.com/settings/tokens) to authenticate with GitHub.\n",
    "    - Increases the number of API calls per hour from 50 to 5,000."
   ]
  },
  {
   "cell_type": "code",
   "execution_count": 58,
   "metadata": {},
   "outputs": [],
   "source": [
    "# Assign the GITHUB_TOKEN .env value to the variable github_token\n",
    "github_token = getenv('GITHUB_TOKEN')"
   ]
  },
  {
   "cell_type": "code",
   "execution_count": 71,
   "metadata": {},
   "outputs": [],
   "source": [
    "# Create an authenticated GitHub object\n",
    "gh = Github(login_or_token=github_token)\n"
   ]
  },
  {
   "cell_type": "code",
   "execution_count": 72,
   "metadata": {},
   "outputs": [
    {
     "data": {
      "text/plain": [
       "(4431, 5000)"
      ]
     },
     "execution_count": 72,
     "metadata": {},
     "output_type": "execute_result"
    }
   ],
   "source": [
    "# Display the number of API calls available/allowed\n",
    "gh.rate_limiting"
   ]
  },
  {
   "cell_type": "code",
   "execution_count": 74,
   "metadata": {},
   "outputs": [
    {
     "data": {
      "text/plain": [
       "AuthenticatedUser(login=None)"
      ]
     },
     "execution_count": 74,
     "metadata": {},
     "output_type": "execute_result"
    }
   ],
   "source": [
    "# Create an authenticate user object, from the 'gh' GitHub object\n",
    "me = gh.get_user()\n",
    "me"
   ]
  },
  {
   "cell_type": "code",
   "execution_count": 77,
   "metadata": {},
   "outputs": [
    {
     "name": "stdout",
     "output_type": "stream",
     "text": [
      "TypeError(\"create_gist() missing 2 required positional arguments: 'public' and 'files'\")\n"
     ]
    }
   ],
   "source": [
    "# Attempt to create a gist without providing any arguments (as a test)\n",
    "try:\n",
    "    me.create_gist()\n",
    "except TypeError as e:\n",
    "    print(f'{e!r}')"
   ]
  },
  {
   "cell_type": "code",
   "execution_count": 78,
   "metadata": {},
   "outputs": [
    {
     "name": "stdout",
     "output_type": "stream",
     "text": [
      "Help on method create_gist in module github.AuthenticatedUser:\n",
      "\n",
      "create_gist(public, files, description=NotSet) method of github.AuthenticatedUser.AuthenticatedUser instance\n",
      "    :calls: `POST /gists <http://docs.github.com/en/rest/reference/gists>`_\n",
      "    :param public: bool\n",
      "    :param files: dict of string to :class:`github.InputFileContent.InputFileContent`\n",
      "    :param description: string\n",
      "    :rtype: :class:`github.Gist.Gist`\n",
      "\n"
     ]
    }
   ],
   "source": [
    "# Lookup help for the create_gist method, to learn about the required parameters\n",
    "help(me.create_gist)"
   ]
  },
  {
   "cell_type": "markdown",
   "metadata": {},
   "source": [
    "The `help` function output indicates:\n",
    "- The parameter `public` must be set to `True` or `False` (will the gist be public?).\n",
    "- The parameter `files` must be `dict` with a `str` value passed in a `github.InputFileContent.InputFileContent` object.\n",
    "- THe parameter `description` must be a `str` object."
   ]
  },
  {
   "cell_type": "code",
   "execution_count": 80,
   "metadata": {},
   "outputs": [],
   "source": [
    "# Create the gist content to share\n",
    "gist_code = '''\n",
    "# Function to generate a list of user repos, sorted by the most number of stars\n",
    "\n",
    "# Imports - Python Standard Library\n",
    "from collections import namedtuple\n",
    "from os import getenv\n",
    "from typing import List\n",
    "\n",
    "# Imports - Third-Party\n",
    "from github import Github, InputFileContent\n",
    "\n",
    "# Set a constant for the repository to work with\n",
    "GITHUB_USER = 'timothyhull'\n",
    "\n",
    "# Create a GitHub object to interact with a public repository\n",
    "gh = Github()\n",
    "\n",
    "# Create a GitHub user object\n",
    "github_user = gh.get_user(GITHUB_USER)\n",
    "\n",
    "\n",
    "def get_repo_stats(\n",
    "    github_user: str,\n",
    "    result_count: int = 5,\n",
    "    github_token: str = None\n",
    ") -> List:\n",
    "    \"\"\" Get statistics for a repository.\n",
    "\n",
    "        Args:\n",
    "            github_user (str):\n",
    "                Name of the GitHub to query.\n",
    "\n",
    "            result_count (int, optional):\n",
    "                Number of results to return, default of 5.\n",
    "\n",
    "            github_token (str, optional):\n",
    "                GitHub Personal Access Token (PAT), default is None.\n",
    "\n",
    "        Returns:\n",
    "            repos (List):\n",
    "                List of repos sorted from most to least stars.\n",
    "    \"\"\"\n",
    "\n",
    "    # Create a PyGithub object for the github_user\n",
    "    github_object = Github(\n",
    "        login_or_token=github_token\n",
    "    )\n",
    "    \n",
    "    github_user_object = github_object.get_user(\n",
    "        login=github_user\n",
    "    )\n",
    "\n",
    "    # Create a list object for repos, because a list is easy to sort\n",
    "    repos = []\n",
    "\n",
    "    # Loop over the PaginatedList of repos\n",
    "    for repo in github_user_object.get_repos():\n",
    "        # Ignore any forks\n",
    "        if repo.fork:\n",
    "            continue\n",
    "\n",
    "        # Append a namedtuple object to the repos list for each repo\n",
    "        repos.append(\n",
    "            Repo(\n",
    "                name=repo.name,\n",
    "                stars=repo.stargazers_count,\n",
    "                forks=repo.forks_count\n",
    "            )\n",
    "        )\n",
    "\n",
    "    # Sort the repos list and create a slice based on result_count\n",
    "    repos.sort(\n",
    "        key=lambda x: x.stars,\n",
    "        reverse=True\n",
    "    )\n",
    "\n",
    "    # Slice the repos list to the length of result_count\n",
    "    repos = repos[:result_count]\n",
    "\n",
    "    return repos\n",
    "'''"
   ]
  },
  {
   "cell_type": "code",
   "execution_count": 81,
   "metadata": {},
   "outputs": [],
   "source": [
    "# Create an input file object from gist_code\n",
    "gist_code_input = InputFileContent(\n",
    "    content=gist_code\n",
    ")"
   ]
  },
  {
   "cell_type": "code",
   "execution_count": 82,
   "metadata": {},
   "outputs": [],
   "source": [
    "# Create a dictionary with gist_code_input as the value\n",
    "gist_file_input = {\n",
    "    'get_user_repos.py': gist_code_input\n",
    "}"
   ]
  },
  {
   "cell_type": "code",
   "execution_count": 83,
   "metadata": {},
   "outputs": [
    {
     "data": {
      "text/plain": [
       "Gist(id=\"0211c69591bf62a3046b3e9503dc3660\")"
      ]
     },
     "execution_count": 83,
     "metadata": {},
     "output_type": "execute_result"
    }
   ],
   "source": [
    "# Create a new gist object\n",
    "me.create_gist(\n",
    "    public=False,\n",
    "    files=gist_file_input,\n",
    "    description='Get a user\\'s most popular repos'\n",
    ")"
   ]
  }
 ],
 "metadata": {
  "interpreter": {
   "hash": "949777d72b0d2535278d3dc13498b2535136f6dfe0678499012e853ee9abcab1"
  },
  "kernelspec": {
   "display_name": "Python 3.9.10 64-bit",
   "language": "python",
   "name": "python3"
  },
  "language_info": {
   "codemirror_mode": {
    "name": "ipython",
    "version": 3
   },
   "file_extension": ".py",
   "mimetype": "text/x-python",
   "name": "python",
   "nbconvert_exporter": "python",
   "pygments_lexer": "ipython3",
   "version": "3.9.10"
  },
  "orig_nbformat": 4
 },
 "nbformat": 4,
 "nbformat_minor": 2
}
