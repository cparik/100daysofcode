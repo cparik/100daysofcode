{
 "cells": [
  {
   "cell_type": "markdown",
   "id": "09fd9e2c-637d-49fe-b7fc-ab423e1e286c",
   "metadata": {},
   "source": [
    "## `pytest` for a Random Number\n",
    "\n",
    "Defining `pytest` tests for a file with multiple functions.\n"
   ]
  },
  {
   "cell_type": "code",
   "execution_count": 1,
   "id": "24bde51e-c515-4af9-b132-214629a00262",
   "metadata": {},
   "outputs": [],
   "source": [
    "# Python file\n",
    "#!/usr/bin/env python3\n",
    "\n",
    "# Imports\n",
    "from random import randint\n",
    "\n",
    "\n",
    "def get_random_num():\n",
    "    random_num = randint(1, 20)\n",
    "\n",
    "    return random_num\n"
   ]
  },
  {
   "cell_type": "code",
   "execution_count": 7,
   "id": "1eca8073-de27-4d0a-9208-c941414ad00a",
   "metadata": {},
   "outputs": [
    {
     "data": {
      "text/plain": [
       "15"
      ]
     },
     "execution_count": 7,
     "metadata": {},
     "output_type": "execute_result"
    }
   ],
   "source": [
    "get_random_num()"
   ]
  },
  {
   "cell_type": "markdown",
   "id": "a3bab455-5735-4f3e-ba78-c777a61506e4",
   "metadata": {},
   "source": [
    "---\n",
    "### Create a directory for test files and a Python script to run the tests"
   ]
  },
  {
   "cell_type": "markdown",
   "id": "94be02d5-21db-450a-a6b8-fbe4d1a48b3e",
   "metadata": {},
   "source": [
    "```bash\n",
    "# Create a directory and copy in code to test\n",
    "mkdir test_dir\n",
    "# mv ./script_to_test.py ./test_dir # commented for Jupyter\n",
    "cd test_dir\n",
    "\n",
    "# Create a \"pytest\" test file\n",
    "touch test_random.py\n",
    "\n",
    "# Open the file for editing in VIM\n",
    "vi test_random.py\n",
    "```"
   ]
  },
  {
   "cell_type": "markdown",
   "id": "9de41227-1247-4167-beac-12e1bb69e734",
   "metadata": {},
   "source": [
    "- Create the testing file"
   ]
  },
  {
   "cell_type": "code",
   "execution_count": 13,
   "id": "f941e164-dd8f-4b97-bdcf-8ec27627734c",
   "metadata": {},
   "outputs": [],
   "source": [
    "# Import the random number file function\n",
    "from random_number import get_random_num\n",
    "\n",
    "# Working with random numbers requires that we import the random module\n",
    "import random\n",
    "\n",
    "# We need to mock up a test result, since there is no way to predict the result of a random number within a range\n",
    "from unittest.mock import patch\n",
    "\n",
    "\n",
    "# Use the @patch decorator to mock up a random number (with a static number)\n",
    "# 'patch.bject' method, first argument=module for mockup, second argument=function for mockup\n",
    "@patch.object(random, 'randint')\n",
    "\n",
    "\n",
    "# Create a function for testing (don't for get to start it with 'test')\n",
    "def test_random_num(number):\n",
    "    # Assign a dummy value to the 'return_value' attribute, from the correct range of numbers (1-20, in this case)\n",
    "    # Overrides/simulates the number `randint` would provide\n",
    "    number.return_value = 15\n",
    "\n",
    "    # Create an assert statement for pytest\n",
    "    # Call the function to test and assert that the simulated return value is correct\n",
    "    assert get_random_num() == 15"
   ]
  },
  {
   "cell_type": "code",
   "execution_count": null,
   "id": "f5527550-6a30-48c4-ade5-00369c3083f2",
   "metadata": {},
   "outputs": [],
   "source": []
  }
 ],
 "metadata": {
  "kernelspec": {
   "display_name": "Python 3",
   "language": "python",
   "name": "python3"
  },
  "language_info": {
   "codemirror_mode": {
    "name": "ipython",
    "version": 3
   },
   "file_extension": ".py",
   "mimetype": "text/x-python",
   "name": "python",
   "nbconvert_exporter": "python",
   "pygments_lexer": "ipython3",
   "version": "3.9.4"
  }
 },
 "nbformat": 4,
 "nbformat_minor": 5
}
