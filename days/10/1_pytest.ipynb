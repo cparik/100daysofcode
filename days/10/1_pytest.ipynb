{
 "cells": [
  {
   "cell_type": "markdown",
   "id": "5d049179-e572-4f0d-8e5a-f826e4a64543",
   "metadata": {},
   "source": [
    "## `pytest`\n",
    "\n",
    "- Regression testing is important for development.\n",
    "  - Running all previous tests on a new version of software maintains feature integrity.\n",
    "- Tests should be:\n",
    "  - On small, individual pieces of functionality (**unit tests**).\n",
    "  - Able to run on their own or as part of a larger **system test**.\n",
    "  - Fast (a few miliseconds), to ensure testing does not hinder development.\n",
    "  - Automated, to guarantee they run.\n",
    "\n",
    "\n",
    "- Install `pytest` with:\n",
    "```python\n",
    "pip install pytest, pytest-cov\n",
    "```\n",
    "\n",
    "- `pytest-cov` (pytest Coverage) measures how much of code `pytest` can test.\n",
    "\n",
    "---\n"
   ]
  },
  {
   "cell_type": "markdown",
   "id": "ee996ea8-2e7f-4826-9fe2-e40f057b2c86",
   "metadata": {},
   "source": [
    "### `unittest` Example\n",
    "\n",
    "Testing with `unittest`, part of the Python Standard Library, can be complicated for small pieces of code."
   ]
  },
  {
   "cell_type": "code",
   "execution_count": 3,
   "id": "0e4f4c66-61f4-48ce-9a50-5279aaa9e472",
   "metadata": {},
   "outputs": [],
   "source": [
    "# Program to test\n",
    "def hello_name(name):\n",
    "    return f'Hello {name.title()}'"
   ]
  },
  {
   "cell_type": "code",
   "execution_count": 4,
   "id": "f4564827-357e-4871-bc6c-b0d006501664",
   "metadata": {},
   "outputs": [
    {
     "data": {
      "text/plain": [
       "'Hello Tim'"
      ]
     },
     "execution_count": 4,
     "metadata": {},
     "output_type": "execute_result"
    }
   ],
   "source": [
    "# Test run of the program\n",
    "hello_name('Tim')"
   ]
  },
  {
   "cell_type": "code",
   "execution_count": 20,
   "id": "af87579d-cb2a-419a-8956-59a98b226494",
   "metadata": {},
   "outputs": [],
   "source": [
    "# unittest for this program\n",
    "\n",
    "# Import unittest\n",
    "import unittest\n",
    "\n",
    "# Import the function to test\n",
    "# from hello import hello_name # commented for Jupyter\n",
    "\n",
    "\n",
    "# Create a `class` for code testing\n",
    "class TestHello(unittest.TestCase):\n",
    "\n",
    "    # Define a function for code testing\n",
    "    def test_hello_name(self):\n",
    "        # Use the 'assertEqual' method to call the `hello_name` function and look for a specific result\n",
    "        self.assertEqual(hello_name('tim'), 'Hello Tim')\n"
   ]
  },
  {
   "cell_type": "code",
   "execution_count": 19,
   "id": "c64d0108-9183-4e28-993a-99a6756bcf84",
   "metadata": {},
   "outputs": [],
   "source": [
    "# Run the test when the __name__ is __main__\n",
    "# if __name__ == '__main__': # commented for Jupyter\n",
    "#   unittest.main() # commented for Jupyter\n"
   ]
  },
  {
   "cell_type": "markdown",
   "id": "0d2a4b23-3bbd-4264-9b5a-0677a4c80b8e",
   "metadata": {},
   "source": [
    "---\n",
    "\n",
    "### Using `pytest` with `unittest` classes/functions\n",
    "- `pytest` can call `unittest` tests.\n",
    "  - Run `pytest` from the CLI and `pytest` will run any files that start with **test**.\n",
    "  - Or, specify the name of the file to test to run as a `pytest` argument.\n",
    "  - Failed test output format is much easier to read than `unittest`.\n",
    "\n",
    "```python\n",
    "# pytest does not require the 'if __name__ == __'main'__' block\n",
    "pytest test_file.py`\n",
    "```"
   ]
  },
  {
   "cell_type": "markdown",
   "id": "3a691f28-8b33-4d6e-bcf7-0ba031cc1d2b",
   "metadata": {},
   "source": [
    "---\n",
    "### Rewriting the test to use `pytest`\n",
    "- No need to import any modules or define classes.\n",
    "- Just define a function that starts with **test** and use the standard `assert` syntax.\n"
   ]
  },
  {
   "cell_type": "code",
   "execution_count": 26,
   "id": "d8bf1401-eb40-4a19-bd1f-94c608328cee",
   "metadata": {},
   "outputs": [],
   "source": [
    "# Define the test\n",
    "def test_hello_name():\n",
    "    assert hello_name('tim') == 'Hello Tim'"
   ]
  },
  {
   "cell_type": "code",
   "execution_count": 27,
   "id": "ec4e9600-ee69-41e8-b617-c907069cc88a",
   "metadata": {},
   "outputs": [],
   "source": [
    "# Run the test (no output is good)\n",
    "test_hello_name()"
   ]
  }
 ],
 "metadata": {
  "kernelspec": {
   "display_name": "Python 3",
   "language": "python",
   "name": "python3"
  },
  "language_info": {
   "codemirror_mode": {
    "name": "ipython",
    "version": 3
   },
   "file_extension": ".py",
   "mimetype": "text/x-python",
   "name": "python",
   "nbconvert_exporter": "python",
   "pygments_lexer": "ipython3",
   "version": "3.9.4"
  }
 },
 "nbformat": 4,
 "nbformat_minor": 5
}
