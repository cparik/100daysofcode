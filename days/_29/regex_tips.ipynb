{
 "cells": [
  {
   "cell_type": "markdown",
   "source": [
    "# Regex Tips Notes\n",
    "\n",
    "Reference: [10 Tips to Get More From Regex](https://pybit.es/articles/mastering-regex/)"
   ],
   "metadata": {}
  },
  {
   "cell_type": "markdown",
   "source": [
    "## Regular expression for matching repeating words\n",
    "\n",
    "---\n"
   ],
   "metadata": {}
  },
  {
   "cell_type": "code",
   "execution_count": 69,
   "source": [
    "# Import the regular expression module\n",
    "import re"
   ],
   "outputs": [],
   "metadata": {}
  },
  {
   "cell_type": "code",
   "execution_count": 70,
   "source": [
    "# Define the string to search\n",
    "s = 'Paris in the the spring'"
   ],
   "outputs": [],
   "metadata": {}
  },
  {
   "cell_type": "code",
   "execution_count": 71,
   "source": [
    "# Compile a regular expression pattern\n",
    "p = re.compile(\n",
    "    r'''\n",
    "    (       # Open first capturing group\n",
    "    \\b      # Establish a word boundary\n",
    "    \\w+     # One or more occurrence of a word character\n",
    "    )       # Close first capturing group\n",
    "    \\s+     # One or more occurrence of a word character\n",
    "    \\1      # Capturing group 1\n",
    "    ''',\n",
    "    re.VERBOSE\n",
    ")"
   ],
   "outputs": [],
   "metadata": {}
  },
  {
   "cell_type": "code",
   "execution_count": 72,
   "source": [
    "# Search for repeating words and display the first match\n",
    "p.search(s).group()"
   ],
   "outputs": [
    {
     "output_type": "execute_result",
     "data": {
      "text/plain": [
       "'the the'"
      ]
     },
     "metadata": {},
     "execution_count": 72
    }
   ],
   "metadata": {}
  },
  {
   "cell_type": "markdown",
   "source": [
    "---\n",
    "\n",
    "## Tip 5 (Greediness).\n",
    "\n",
    "By default, regex searches are _greedy_, meaning they match as much as possible:\n"
   ],
   "metadata": {}
  },
  {
   "cell_type": "code",
   "execution_count": 73,
   "source": [
    "# Define a text string\n",
    "text = 'This is one group of words. This is another group of words.'"
   ],
   "outputs": [],
   "metadata": {}
  },
  {
   "cell_type": "code",
   "execution_count": 74,
   "source": [
    "# Import the 're' module and run a search for words followed by a period.\n",
    "import re\n",
    "re.search(r'.+\\.', text).group()"
   ],
   "outputs": [
    {
     "output_type": "execute_result",
     "data": {
      "text/plain": [
       "'This is one group of words. This is another group of words.'"
      ]
     },
     "metadata": {},
     "execution_count": 74
    }
   ],
   "metadata": {}
  },
  {
   "cell_type": "markdown",
   "source": [
    "The previous example returns the entire string, because the default  _greedy_ property of the search matches the longest possible string.\n",
    "\n",
    "```bash\n",
    "This is one group of words. This is another group of words.\n",
    "```\n",
    "\n",
    "To match only the first sentence, make the search pattern non-greedy:"
   ],
   "metadata": {}
  },
  {
   "cell_type": "code",
   "execution_count": 75,
   "source": [
    "# Define a text string\n",
    "text = 'This is one group of words. This is another group of words.'"
   ],
   "outputs": [],
   "metadata": {}
  },
  {
   "cell_type": "code",
   "execution_count": 76,
   "source": [
    "# Import the 're' module and run a search for words followed by a period.\n",
    "import re"
   ],
   "outputs": [],
   "metadata": {}
  },
  {
   "cell_type": "code",
   "execution_count": 77,
   "source": [
    "# Include the ? character after the .+ or .* to match the shortest possible \n",
    "re.search(r'.+?\\.', text).group()"
   ],
   "outputs": [
    {
     "output_type": "execute_result",
     "data": {
      "text/plain": [
       "'This is one group of words.'"
      ]
     },
     "metadata": {},
     "execution_count": 77
    }
   ],
   "metadata": {}
  },
  {
   "cell_type": "markdown",
   "source": [
    "---\n",
    "\n",
    "## Word Boundaries\n",
    "\n",
    "- The regex syntax `\\b` indicates a _word boundary_.\n",
    "    - The match for a word boundary does not consume any characters (zero length).\n",
    "    - Will match at the boundaries of word and non-word characters.\n",
    "    - `\\b` enables a \"whole word only\" functionality with the syntax `\\bword\\b`.\n",
    "\n",
    "- `\\b` matches:\n",
    "    - Before the first character in a string, if the first character is a word character (`\\w`).\n",
    "    - After the last character in a string, if the first character is a word character (`\\w`).\n",
    "    - Between two characters in a string, where one is a word character (`\\w`) and the other is not a word character (`\\W`).\n"
   ],
   "metadata": {}
  },
  {
   "cell_type": "markdown",
   "source": [
    "### Example #1\n"
   ],
   "metadata": {}
  },
  {
   "cell_type": "code",
   "execution_count": 78,
   "source": [
    "# Import the regular expression module\n",
    "import re"
   ],
   "outputs": [],
   "metadata": {}
  },
  {
   "cell_type": "code",
   "execution_count": 79,
   "source": [
    "# Define a string to search\n",
    "text = 'This is a thrilling episode to thrash about in the bath through Thursday.'"
   ],
   "outputs": [],
   "metadata": {}
  },
  {
   "cell_type": "code",
   "execution_count": 80,
   "source": [
    "# Match every instance of 'th' and 'Th' when preceded by a non-word character.\n",
    "r = re.compile(\n",
    "    r'''\n",
    "    \\b         # Start a word boundary\n",
    "    [tT]h      # Literal th or Th\n",
    "    ''',\n",
    "    re.VERBOSE\n",
    ")"
   ],
   "outputs": [],
   "metadata": {}
  },
  {
   "cell_type": "code",
   "execution_count": 81,
   "source": [
    "# Display a list of matches\n",
    "r.findall(text)"
   ],
   "outputs": [
    {
     "output_type": "execute_result",
     "data": {
      "text/plain": [
       "['Th', 'th', 'th', 'th', 'th', 'Th']"
      ]
     },
     "metadata": {},
     "execution_count": 81
    }
   ],
   "metadata": {}
  },
  {
   "cell_type": "markdown",
   "source": [
    "### Example #2\n"
   ],
   "metadata": {}
  },
  {
   "cell_type": "code",
   "execution_count": 82,
   "source": [
    "# Import the regular expression module\n",
    "import re"
   ],
   "outputs": [],
   "metadata": {}
  },
  {
   "cell_type": "code",
   "execution_count": 83,
   "source": [
    "# Define a string to search\n",
    "text = 'This is a thrilling episode to thrash about in the bath through Thursday.'"
   ],
   "outputs": [],
   "metadata": {}
  },
  {
   "cell_type": "code",
   "execution_count": 84,
   "source": [
    "# Match every instance of 'th' and 'Th' when followed by a non-word character.\n",
    "re.search(r'[tT]h\\b', text)"
   ],
   "outputs": [
    {
     "output_type": "execute_result",
     "data": {
      "text/plain": [
       "<re.Match object; span=(53, 55), match='th'>"
      ]
     },
     "metadata": {},
     "execution_count": 84
    }
   ],
   "metadata": {}
  },
  {
   "cell_type": "markdown",
   "source": [
    "---\n",
    "\n",
    "## Backreferences\n",
    "\n",
    "Helpful to do things like locating duplicate words:\n"
   ],
   "metadata": {}
  },
  {
   "cell_type": "code",
   "execution_count": 85,
   "source": [
    "# Import the regular expression module\n",
    "import re"
   ],
   "outputs": [],
   "metadata": {}
  },
  {
   "cell_type": "code",
   "execution_count": 86,
   "source": [
    "# Define a string to search\n",
    "text = 'This is the song song that never never ends'\n",
    "\n",
    "''' Match any word that appears immediately after itself.\n",
    "    Create match group 1 to find every word, then search for group 1\n",
    "    immediately after the match string.\n",
    "'''"
   ],
   "outputs": [
    {
     "output_type": "execute_result",
     "data": {
      "text/plain": [
       "' Match any word that appears immediately after itself.\\n    Create match group 1 to find every word, then search for group 1\\n    immediately after the match string.\\n'"
      ]
     },
     "metadata": {},
     "execution_count": 86
    }
   ],
   "metadata": {}
  },
  {
   "cell_type": "code",
   "execution_count": 87,
   "source": [
    "r = re.compile(\n",
    "    r'''\n",
    "    (          # Start match group 1\n",
    "    \\b         # Start a word boundary\n",
    "    \\w+        # Match one or more word characters\n",
    "    )          # End match group 1\n",
    "    \\s+        # Match one or more space characters\n",
    "    \\1         # Match an instance of match group 1\n",
    "    ''',\n",
    "    re.VERBOSE\n",
    ")\n",
    "\n",
    "# Display a list of matches\n",
    "r.findall(text)"
   ],
   "outputs": [
    {
     "output_type": "execute_result",
     "data": {
      "text/plain": [
       "['song', 'never']"
      ]
     },
     "metadata": {},
     "execution_count": 87
    }
   ],
   "metadata": {}
  },
  {
   "cell_type": "code",
   "execution_count": 88,
   "source": [
    "# Display a list of matches\n",
    "r.findall(text)"
   ],
   "outputs": [
    {
     "output_type": "execute_result",
     "data": {
      "text/plain": [
       "['song', 'never']"
      ]
     },
     "metadata": {},
     "execution_count": 88
    }
   ],
   "metadata": {}
  },
  {
   "cell_type": "markdown",
   "source": [
    "---\n",
    "\n",
    "## `re.subn`\n",
    "\n",
    "The `re.subn` function performs **string replacement** like `re.sub`, and `re.subn` also counts the number of replacements performed.\n",
    "\n",
    "The returned object is s 2-tuple with the first value being the string object after replacement occurs, and the second value being the number of replacements performed.\n"
   ],
   "metadata": {}
  },
  {
   "cell_type": "code",
   "execution_count": 89,
   "source": [
    "html = '''\n",
    "<html>\n",
    "    <head>\n",
    "        <title>This is a sample page</title>\n",
    "    </head>\n",
    "    <body>\n",
    "        <h1>This is the Sample Page Title</h1>\n",
    "        <ul>\n",
    "            <li>Point #1</li>\n",
    "            <li>Point #2</li>\n",
    "            <li>Point #3</li>\n",
    "        </ul>\n",
    "    </body>\n",
    "</html>\n",
    "'''"
   ],
   "outputs": [],
   "metadata": {}
  },
  {
   "cell_type": "code",
   "execution_count": 90,
   "source": [
    "# Import the regular expression module\n",
    "import re"
   ],
   "outputs": [],
   "metadata": {}
  },
  {
   "cell_type": "code",
   "execution_count": 91,
   "source": [
    "# Define a function to strip HTML tags, leaving only text remaining\n",
    "def strip_html(html: str = html) -> None:\n",
    "\n",
    "    ''' The non-greedy quantifier (?) after the + character indicates\n",
    "        the search will find the shortest possible match.'''\n",
    "\n",
    "    text = re.subn(\n",
    "        pattern=r'\\n?\\s*<[^<]+?>\\n?\\s*',\n",
    "        repl=' ',\n",
    "        string=html\n",
    "    )\n",
    "\n",
    "    return text\n"
   ],
   "outputs": [],
   "metadata": {}
  },
  {
   "cell_type": "code",
   "execution_count": 92,
   "source": [
    "# Import the Pretty Print module\n",
    "from pprint import pprint"
   ],
   "outputs": [],
   "metadata": {}
  },
  {
   "cell_type": "code",
   "execution_count": 93,
   "source": [
    "# Call the function\n",
    "text = strip_html()\n",
    "\n",
    "# Assign the tuple indices to their own variables.\n",
    "string = text[0].strip()\n",
    "num_replacements = text[1]"
   ],
   "outputs": [],
   "metadata": {}
  },
  {
   "cell_type": "code",
   "execution_count": 94,
   "source": [
    "# Display the results\n",
    "print(f'\\nString result: {string}\\n')\n",
    "\n",
    "print(f'Total replacements: {num_replacements}\\n')"
   ],
   "outputs": [
    {
     "output_type": "stream",
     "name": "stdout",
     "text": [
      "\n",
      "String result: This is a sample page    This is the Sample Page Title   Point #1  Point #2  Point #3\n",
      "\n",
      "Total replacements: 18\n",
      "\n"
     ]
    }
   ],
   "metadata": {}
  },
  {
   "cell_type": "markdown",
   "source": [
    "---\n",
    "\n",
    "## Compilation Flags\n",
    "\n",
    "Allow the modification of some aspects of how regular expressions work.\n",
    "\n",
    "- [Compilation Flags Reference](https://docs.python.org/3.6/howto/regex.html#compilation-flags).\n",
    "- Used exclusively with `re.compile`.\n",
    "- Multiple flags can be specified by bitwise OR-ing them; `re.I | re.M` sets both the `I` and `M` flags, for example.\n",
    "\n",
    "| Flag | Meaning |\n",
    "| :--- | :--- |\n",
    "| ASCII, A | Makes several escapes like `\\w`, `\\b`, `\\s` and `\\d` match only on ASCII characters with the respective property. |\n",
    "| DOTALL, S | Make `.` match any character, including newlines. |\n",
    "| IGNORECASE, I | Do case-insensitive matches. |\n",
    "| LOCALE, L | Do a locale-aware match. |\n",
    "| MULTILINE, M | Multi-line matching, affecting `^` and `$`. |\n",
    "| VERBOSE, X (for ‘extended’) | Enable verbose REs, which can be organized more cleanly and understandably. |\n",
    "\n",
    "### Example Compilation Flag Usage:"
   ],
   "metadata": {}
  },
  {
   "cell_type": "code",
   "execution_count": 95,
   "source": [
    "# Import the regular expression module\n",
    "import re"
   ],
   "outputs": [],
   "metadata": {}
  },
  {
   "cell_type": "code",
   "execution_count": 96,
   "source": [
    "# Define a string to search\n",
    "text = 'My friend \"Oliver\" is an absolutely fantastic and friendly squirrel. Oliver is very sweet.'"
   ],
   "outputs": [],
   "metadata": {}
  },
  {
   "cell_type": "code",
   "execution_count": 97,
   "source": [
    "# Define a case-insensitive search pattern for name in between quotes (between non-word characters).\n",
    "regex = re.compile(\n",
    "    r'''\n",
    "    [a-z]   # Lowercase character class for a-z\n",
    "    +       # Match one or more repetition of the character class\n",
    "    (?=\")   # Lookahead to find a match before a literal \" character.\n",
    "    ''',\n",
    "    re.IGNORECASE | re.VERBOSE\n",
    ")"
   ],
   "outputs": [],
   "metadata": {}
  },
  {
   "cell_type": "code",
   "execution_count": 98,
   "source": [
    "# Perform and display regex search results\n",
    "search = regex.search(text)\n",
    "print(search)\n",
    "\n",
    "# Perform and display regex findall results\n",
    "findall = regex.findall(text)\n",
    "print(findall)"
   ],
   "outputs": [
    {
     "output_type": "stream",
     "name": "stdout",
     "text": [
      "<re.Match object; span=(11, 17), match='Oliver'>\n",
      "['Oliver']\n"
     ]
    }
   ],
   "metadata": {}
  }
 ],
 "metadata": {
  "orig_nbformat": 4,
  "language_info": {
   "name": "python",
   "version": "3.9.7",
   "mimetype": "text/x-python",
   "codemirror_mode": {
    "name": "ipython",
    "version": 3
   },
   "pygments_lexer": "ipython3",
   "nbconvert_exporter": "python",
   "file_extension": ".py"
  },
  "kernelspec": {
   "name": "python3",
   "display_name": "Python 3.9.7 64-bit"
  },
  "interpreter": {
   "hash": "4cd7ab41f5fca4b9b44701077e38c5ffd31fe66a6cab21e0214b68d958d0e462"
  }
 },
 "nbformat": 4,
 "nbformat_minor": 2
}