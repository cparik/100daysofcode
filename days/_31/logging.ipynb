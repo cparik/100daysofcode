{
 "cells": [
  {
   "cell_type": "markdown",
   "source": [
    "# Setup Logging with `logbook`\n",
    "\n",
    "## Steps\n",
    "\n",
    "- Requires the third-party module `logbook` be installed, via `pip`."
   ],
   "metadata": {}
  },
  {
   "cell_type": "code",
   "execution_count": 1,
   "source": [
    "# Import modules\n",
    "import logbook\n",
    "import sys"
   ],
   "outputs": [],
   "metadata": {}
  },
  {
   "cell_type": "code",
   "execution_count": 3,
   "source": [
    "# Create a function to initialize logging\n",
    "def init_logging(\n",
    "    filename: str = None\n",
    ") -> None:\n",
    "    ''' Initialize logging with logbook.\n",
    "\n",
    "        Args:\n",
    "            filename (str, optional):\n",
    "                Optional path to log file to create.  Omitting this option\n",
    "                will write logs to STDOUT.\n",
    "\n",
    "            level (str, optional):\n",
    "                Optional logging level.  Omitting this option sets the logging\n",
    "                level to TRACE.\n",
    "\n",
    "        Returns:\n",
    "            None.\n",
    "    '''\n",
    "\n",
    "    # Set the logging level\n",
    "    # level = logbook.CRITICAL\n",
    "    # level = logbook.ERROR\n",
    "    # level = logbook.WARNING\n",
    "    # level = logbook.NOTICE\n",
    "    # level = logbook.INFO\n",
    "    # level = logbook.DEBUG\n",
    "    # level = logbook.FATAL\n",
    "    # level = logbook.NOTSET\n",
    "    level = logbook.TRACE\n",
    "\n",
    "    # Determine if logging will go to a file, or stdout\n",
    "    if filename is None:\n",
    "\n",
    "        # Set the operating mode to 'stdout'\n",
    "        mode = 'stdout'\n",
    "\n",
    "        # Create a logging stream handler\n",
    "        logbook.StreamHandler(\n",
    "            stream=sys.stdout,\n",
    "            level=level\n",
    "        ).push_application()\n",
    "\n",
    "    else:\n",
    "\n",
    "        # Set the operating mode to 'file'\n",
    "        mode = 'file'\n",
    "\n",
    "        # Instantiate a function that creates a timed, rotating log file\n",
    "        logbook.TimedRotatingFileHandler(\n",
    "            filename=filename,\n",
    "            level=level,\n",
    "            # date_format='<optionally override the default date format>'\n",
    "        ).push_application()\n",
    "\n",
    "    # Create a logging initialization message\n",
    "    init_msg = (f'Logging initialized at level={level}, '\n",
    "                f'mode={mode}')\n",
    "\n",
    "    # Start logging\n",
    "    logger = logbook.Logger('Startup')\n",
    "    logger.notice(init_msg)"
   ],
   "outputs": [],
   "metadata": {}
  },
  {
   "cell_type": "code",
   "execution_count": 15,
   "source": [
    "init_logging()"
   ],
   "outputs": [
    {
     "output_type": "stream",
     "name": "stdout",
     "text": [
      "[2021-09-24 06:26:03.672909] NOTICE: Startup: Logging initialized at level=9, mode=stdout \n"
     ]
    }
   ],
   "metadata": {}
  }
 ],
 "metadata": {
  "orig_nbformat": 4,
  "language_info": {
   "name": "python",
   "version": "3.9.7",
   "mimetype": "text/x-python",
   "codemirror_mode": {
    "name": "ipython",
    "version": 3
   },
   "pygments_lexer": "ipython3",
   "nbconvert_exporter": "python",
   "file_extension": ".py"
  },
  "kernelspec": {
   "name": "python3",
   "display_name": "Python 3.9.7 64-bit"
  },
  "interpreter": {
   "hash": "4cd7ab41f5fca4b9b44701077e38c5ffd31fe66a6cab21e0214b68d958d0e462"
  }
 },
 "nbformat": 4,
 "nbformat_minor": 2
}