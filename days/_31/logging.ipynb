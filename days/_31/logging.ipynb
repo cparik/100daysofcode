{
 "cells": [
  {
   "cell_type": "markdown",
   "source": [
    "# Logging with `logbook`\n",
    "\n",
    "- Requires the third-party module `logbook` be installed, via `pip`.\n",
    "\n",
    "---\n",
    "\n",
    "## Setup Logging"
   ],
   "metadata": {}
  },
  {
   "cell_type": "code",
   "execution_count": 1,
   "source": [
    "# Import modules\n",
    "import logbook\n",
    "import sys"
   ],
   "outputs": [],
   "metadata": {}
  },
  {
   "cell_type": "code",
   "execution_count": 2,
   "source": [
    "# Create a function to initialize logging\n",
    "def init_logging(\n",
    "    filename: str = None\n",
    ") -> None:\n",
    "    ''' Initialize logging with logbook.\n",
    "\n",
    "        Args:\n",
    "            filename (str, optional):\n",
    "                Optional path to log file to create.  Omitting this option\n",
    "                will write logs to STDOUT.\n",
    "\n",
    "            level (str, optional):\n",
    "                Optional logging level.  Omitting this option sets the logging\n",
    "                level to TRACE.\n",
    "\n",
    "        Returns:\n",
    "            None.\n",
    "    '''\n",
    "\n",
    "    # Set the logging level\n",
    "    # level = logbook.CRITICAL\n",
    "    # level = logbook.ERROR\n",
    "    # level = logbook.WARNING\n",
    "    # level = logbook.NOTICE\n",
    "    # level = logbook.INFO\n",
    "    # level = logbook.DEBUG\n",
    "    # level = logbook.FATAL\n",
    "    # level = logbook.NOTSET\n",
    "    level = logbook.TRACE\n",
    "\n",
    "    # Determine if logging will go to a file, or stdout\n",
    "    if filename is None:\n",
    "\n",
    "        # Set the operating mode to 'stdout'\n",
    "        mode = 'stdout'\n",
    "\n",
    "        # Create a logging stream handler\n",
    "        logbook.StreamHandler(\n",
    "            stream=sys.stdout,\n",
    "            level=level\n",
    "        ).push_application()\n",
    "\n",
    "    else:\n",
    "\n",
    "        # Set the operating mode to 'file'\n",
    "        mode = 'file'\n",
    "\n",
    "        # Instantiate a function that creates a timed, rotating log file\n",
    "        logbook.TimedRotatingFileHandler(\n",
    "            filename=filename,\n",
    "            level=level,\n",
    "            # date_format='<optionally override the default date format>'\n",
    "        ).push_application()\n",
    "\n",
    "    # Create a logging initialization message\n",
    "    init_msg = (f'Logging initialized, level: {level}, '\n",
    "                f'mode: {mode}')\n",
    "\n",
    "    # Start logging\n",
    "    logger = logbook.Logger('Startup')\n",
    "\n",
    "    # Use the `notice` method to insert the initialization message into the log\n",
    "    logger.notice(init_msg)"
   ],
   "outputs": [],
   "metadata": {}
  },
  {
   "cell_type": "code",
   "execution_count": 3,
   "source": [
    "if __name__ == '__main__':\n",
    "    init_logging()"
   ],
   "outputs": [
    {
     "output_type": "stream",
     "name": "stdout",
     "text": [
      "[2021-09-27 08:21:21.600652] NOTICE: Startup: Logging initialized, level: 9, mode: stdout\n"
     ]
    }
   ],
   "metadata": {}
  },
  {
   "cell_type": "markdown",
   "source": [
    "---\n",
    "\n",
    "## Log Application Events\n",
    "\n",
    "- Requires the use of the `logbook.Logger` method, to create a `Logger` object."
   ],
   "metadata": {}
  },
  {
   "cell_type": "code",
   "execution_count": 4,
   "source": [
    "app_log = logbook.Logger('App Log')"
   ],
   "outputs": [],
   "metadata": {}
  },
  {
   "cell_type": "markdown",
   "source": [
    "### Writing events to the log\n",
    "\n",
    "- With the `app_log` `Logger` object created, there are two ways to write logs based on event level/severity:\n",
    "\n",
    "    1. Use `app_log` named level methods:\n",
    "\n",
    "        - `app_log.info('This is an INFO event')`\n",
    "        - `app_log.warn('This is an WARN event')`\n",
    "\n",
    "    2. Use the `app_log.log` method to pass the log level/severity as an attribute, which is useful if the log level is a variable passed to a logging function:\n",
    "\n",
    "        ```python\n",
    "        log_level = 'INFO'\n",
    "        app_log.log(log_level, 'This is an info message')\n",
    "        ```"
   ],
   "metadata": {}
  },
  {
   "cell_type": "code",
   "execution_count": 5,
   "source": [
    "app_log.info('This is an INFO log entry.')"
   ],
   "outputs": [
    {
     "output_type": "stream",
     "name": "stdout",
     "text": [
      "[2021-09-27 08:21:21.714931] INFO: App Log: This is an INFO log entry.\n"
     ]
    }
   ],
   "metadata": {}
  },
  {
   "cell_type": "code",
   "execution_count": 6,
   "source": [
    "app_log.log('INFO', 'This is an INFO log entry.')"
   ],
   "outputs": [
    {
     "output_type": "stream",
     "name": "stdout",
     "text": [
      "[2021-09-27 08:21:21.752156] INFO: App Log: This is an INFO log entry.\n"
     ]
    }
   ],
   "metadata": {}
  }
 ],
 "metadata": {
  "orig_nbformat": 4,
  "language_info": {
   "name": "python",
   "version": "3.9.7",
   "mimetype": "text/x-python",
   "codemirror_mode": {
    "name": "ipython",
    "version": 3
   },
   "pygments_lexer": "ipython3",
   "nbconvert_exporter": "python",
   "file_extension": ".py"
  },
  "kernelspec": {
   "name": "python3",
   "display_name": "Python 3.9.7 64-bit"
  },
  "interpreter": {
   "hash": "4cd7ab41f5fca4b9b44701077e38c5ffd31fe66a6cab21e0214b68d958d0e462"
  }
 },
 "nbformat": 4,
 "nbformat_minor": 2
}