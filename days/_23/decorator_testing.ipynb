{
 "cells": [
  {
   "cell_type": "markdown",
   "source": [
    "# Testing decorators with arguments\n",
    "\n",
    "The decorator function with an should return a decorator function:\n",
    "\n",
    "```python\n",
    "''' This decorator with an argument shoud call a function that returns a decorator function.\n",
    "    The argument can be passed to the returned function which then\n",
    "    decorates the decorated function.\n",
    "'''\n",
    "@decorator_function('argument')\n",
    "def decorated_function():\n",
    "    pass\n",
    "```"
   ],
   "metadata": {}
  },
  {
   "cell_type": "code",
   "execution_count": 1,
   "source": [
    "# Imports\n",
    "from functools import wraps"
   ],
   "outputs": [],
   "metadata": {}
  },
  {
   "cell_type": "code",
   "execution_count": 92,
   "source": [
    "# Decorator function\n",
    "def decorator_function(argument):\n",
    "    ''' This is a decorator function that returns a decorator function.\n",
    "        The returned function will decorate a standard function.\n",
    "\n",
    "        Args:\n",
    "            argument (str):\n",
    "                This is a decorator argument, passed to the inner decorator function.\n",
    "                e.g. @decorator_function('argument_value')\n",
    "\n",
    "        Returns:\n",
    "            inner_decorator_function (function):\n",
    "                Decorator function that decorates the decorated_function\n",
    "    '''\n",
    "\n",
    "    def inner_decorator_function(function):\n",
    "        ''' This function will be returned by decorator_function\n",
    "\n",
    "        Args:\n",
    "            function (function):\n",
    "                This is an argument called passed to the decorator.\n",
    "                e.g. @decorator_function('argument_value')/\n",
    "\n",
    "        Returns:\n",
    "            wrapper (function):\n",
    "                Result of decorator function.\n",
    "        '''\n",
    "\n",
    "        @wraps(function)\n",
    "        def wrapper(*args, **kwargs):\n",
    "            start_tag = f'<{argument}>'\n",
    "            end_tag = f'</{argument}>'\n",
    "\n",
    "            data = function(*args, **kwargs)\n",
    "\n",
    "            html_data = f'{start_tag}{data}{end_tag}'\n",
    "\n",
    "            return html_data\n",
    "        return wrapper\n",
    "    return inner_decorator_function"
   ],
   "outputs": [],
   "metadata": {}
  },
  {
   "cell_type": "code",
   "execution_count": 93,
   "source": [
    "# Decorated function\n",
    "@decorator_function('div')\n",
    "def decorated_function(text):\n",
    "    ''' Test docstring.\n",
    "\n",
    "        Args:\n",
    "            text (str):\n",
    "                Text to decorate with HTML tags.\n",
    "    '''\n",
    "\n",
    "    return text"
   ],
   "outputs": [],
   "metadata": {}
  },
  {
   "cell_type": "code",
   "execution_count": 94,
   "source": [
    "# Decorated function call\n",
    "decorated_function('Test text')"
   ],
   "outputs": [
    {
     "output_type": "execute_result",
     "data": {
      "text/plain": [
       "'<div>Test text</div>'"
      ]
     },
     "metadata": {},
     "execution_count": 94
    }
   ],
   "metadata": {}
  }
 ],
 "metadata": {
  "orig_nbformat": 4,
  "language_info": {
   "name": "python",
   "version": "3.9.6",
   "mimetype": "text/x-python",
   "codemirror_mode": {
    "name": "ipython",
    "version": 3
   },
   "pygments_lexer": "ipython3",
   "nbconvert_exporter": "python",
   "file_extension": ".py"
  },
  "kernelspec": {
   "name": "python3",
   "display_name": "Python 3.9.6 64-bit"
  },
  "interpreter": {
   "hash": "4cd7ab41f5fca4b9b44701077e38c5ffd31fe66a6cab21e0214b68d958d0e462"
  }
 },
 "nbformat": 4,
 "nbformat_minor": 2
}