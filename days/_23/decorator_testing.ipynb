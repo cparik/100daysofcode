{
 "cells": [
  {
   "cell_type": "markdown",
   "source": [
    "# Testing decorators with arguments\n",
    "\n",
    "The decorator function with an should return a decorator function:\n",
    "\n",
    "```python\n",
    "''' This decorator with an argument shoud call a function that returns a decorator function.\n",
    "    The argument can be passed to the returned function which then\n",
    "    decorates the decorated function.\n",
    "'''\n",
    "@decorator_function('argument')\n",
    "def decorated_function():\n",
    "    pass\n",
    "```"
   ],
   "metadata": {}
  },
  {
   "cell_type": "code",
   "execution_count": 1,
   "source": [
    "# Imports\n",
    "from functools import wraps"
   ],
   "outputs": [],
   "metadata": {}
  },
  {
   "cell_type": "code",
   "execution_count": 92,
   "source": [
    "# Decorator function\n",
    "def decorator_function(argument):\n",
    "    ''' This is a decorator function that returns a decorator function.\n",
    "        The returned function will decorate a standard function.\n",
    "\n",
    "        Args:\n",
    "            argument (str):\n",
    "                This is a decorator argument, passed to the inner decorator function.\n",
    "                e.g. @decorator_function('argument_value')\n",
    "\n",
    "        Returns:\n",
    "            inner_decorator_function (function):\n",
    "                Decorator function that decorates the decorated_function\n",
    "    '''\n",
    "\n",
    "    def inner_decorator_function(function):\n",
    "        ''' This function will be returned by decorator_function\n",
    "\n",
    "        Args:\n",
    "            function (function):\n",
    "                This is an argument called passed to the decorator.\n",
    "                e.g. @decorator_function('argument_value')/\n",
    "\n",
    "        Returns:\n",
    "            wrapper (function):\n",
    "                Result of decorator function.\n",
    "        '''\n",
    "\n",
    "        @wraps(function)\n",
    "        def wrapper(*args, **kwargs):\n",
    "            start_tag = f'<{argument}>'\n",
    "            end_tag = f'</{argument}>'\n",
    "\n",
    "            data = function(*args, **kwargs)\n",
    "\n",
    "            html_data = f'{start_tag}{data}{end_tag}'\n",
    "\n",
    "            return html_data\n",
    "        return wrapper\n",
    "    return inner_decorator_function"
   ],
   "outputs": [],
   "metadata": {}
  },
  {
   "cell_type": "code",
   "execution_count": 93,
   "source": [
    "# Decorated function\n",
    "@decorator_function('div')\n",
    "def decorated_function(text):\n",
    "    ''' Test docstring.\n",
    "\n",
    "        Args:\n",
    "            text (str):\n",
    "                Text to decorate with HTML tags.\n",
    "    '''\n",
    "\n",
    "    return text"
   ],
   "outputs": [],
   "metadata": {}
  },
  {
   "cell_type": "code",
   "execution_count": 94,
   "source": [
    "# Decorated function call\n",
    "decorated_function('Test text')"
   ],
   "outputs": [
    {
     "output_type": "execute_result",
     "data": {
      "text/plain": [
       "'<div>Test text</div>'"
      ]
     },
     "metadata": {},
     "execution_count": 94
    }
   ],
   "metadata": {}
  },
  {
   "cell_type": "markdown",
   "source": [
    "# Day 2 of Testing decorators with arguments\n",
    "\n",
    "- Define a decorator function that formats any text returned by another function with HTML tags.\n",
    "- Next, add an argument to the decorator that specifies which HTML tags to use."
   ],
   "metadata": {}
  },
  {
   "cell_type": "code",
   "execution_count": 1,
   "source": [
    "# Imports\n",
    "from functools import wraps"
   ],
   "outputs": [],
   "metadata": {}
  },
  {
   "cell_type": "code",
   "execution_count": 6,
   "source": [
    "# Define the decorator function that formats any text returned by another function with HTML tags.\n",
    "def text_to_html(function):\n",
    "    @wraps(function)\n",
    "    def format_text_to_html(*args, **kwargs):\n",
    "        start_tag = '<div>'\n",
    "        end_tag = '</div>'\n",
    "        text = function(*args, **kwargs)\n",
    "\n",
    "        html = f'{start_tag}{text}{end_tag}'\n",
    "\n",
    "        return html\n",
    "\n",
    "    return format_text_to_html\n"
   ],
   "outputs": [],
   "metadata": {}
  },
  {
   "cell_type": "code",
   "execution_count": 7,
   "source": [
    "# Define the function that collects text\n",
    "@text_to_html\n",
    "def get_text(text: str = None) -> str:\n",
    "    if text is None:\n",
    "        text = input('Enter some text:' )\n",
    "\n",
    "    return text"
   ],
   "outputs": [],
   "metadata": {}
  },
  {
   "cell_type": "code",
   "execution_count": 8,
   "source": [
    "# Call the get_text function\n",
    "get_text(text='This is some text')"
   ],
   "outputs": [
    {
     "output_type": "execute_result",
     "data": {
      "text/plain": [
       "'<div>This is some text</div>'"
      ]
     },
     "metadata": {},
     "execution_count": 8
    }
   ],
   "metadata": {}
  },
  {
   "cell_type": "code",
   "execution_count": 9,
   "source": [
    "# Call the get_text function without an argument value\n",
    "get_text()"
   ],
   "outputs": [
    {
     "output_type": "execute_result",
     "data": {
      "text/plain": [
       "'<div>Here is some text</div>'"
      ]
     },
     "metadata": {},
     "execution_count": 9
    }
   ],
   "metadata": {}
  },
  {
   "cell_type": "markdown",
   "source": [
    "## Add an argument to the decorator\n",
    "\n",
    "- Allow any HTML tag to be passed in, to substitute for the statically-coded `<div>` tag."
   ],
   "metadata": {}
  },
  {
   "cell_type": "code",
   "execution_count": 10,
   "source": [
    "# Function that takes an HTML tag as an argument that will return a function\n",
    "def html_tag(html_tag):\n",
    "    start_tag = f'<{html_tag}>'\n",
    "    end_tag = f'</{html_tag}>'\n",
    "    # Decorator function\n",
    "    def text_to_html(function):\n",
    "        @wraps(function)\n",
    "        def format_text_to_html(*args, **kwargs):\n",
    "            text = function(*args, **kwargs)\n",
    "            html = f'{start_tag}{text}{end_tag}'\n",
    "\n",
    "            return html\n",
    "\n",
    "        return format_text_to_html\n",
    "\n",
    "    return text_to_html\n"
   ],
   "outputs": [],
   "metadata": {}
  },
  {
   "cell_type": "code",
   "execution_count": 12,
   "source": [
    "# Define the function that collects text\n",
    "@html_tag('p')\n",
    "def get_text(text: str = None) -> str:\n",
    "    if text is None:\n",
    "        text = input('Enter some text:' )\n",
    "\n",
    "    return text"
   ],
   "outputs": [],
   "metadata": {}
  },
  {
   "cell_type": "code",
   "execution_count": 13,
   "source": [
    "# Call the get_text function\n",
    "get_text(text='This is some text')"
   ],
   "outputs": [
    {
     "output_type": "execute_result",
     "data": {
      "text/plain": [
       "'<p>This is some text</p>'"
      ]
     },
     "metadata": {},
     "execution_count": 13
    }
   ],
   "metadata": {}
  },
  {
   "cell_type": "code",
   "execution_count": 14,
   "source": [
    "# Redefine the function that collects text with multiple tags (inside to outside tag order)\n",
    "@html_tag('p')\n",
    "@html_tag('div aligh=\"center\"')\n",
    "@html_tag('b')\n",
    "def get_text(text: str = None) -> str:\n",
    "    if text is None:\n",
    "        text = input('Enter some text:' )\n",
    "\n",
    "    return text"
   ],
   "outputs": [],
   "metadata": {}
  },
  {
   "cell_type": "code",
   "execution_count": 15,
   "source": [
    "# Call the get_text function\n",
    "get_text(text='This is some text')"
   ],
   "outputs": [
    {
     "output_type": "execute_result",
     "data": {
      "text/plain": [
       "'<p><div aligh=\"center\"><b>This is some text</b></div aligh=\"center\"></p>'"
      ]
     },
     "metadata": {},
     "execution_count": 15
    }
   ],
   "metadata": {}
  }
 ],
 "metadata": {
  "orig_nbformat": 4,
  "language_info": {
   "name": "python",
   "version": "3.9.6",
   "mimetype": "text/x-python",
   "codemirror_mode": {
    "name": "ipython",
    "version": 3
   },
   "pygments_lexer": "ipython3",
   "nbconvert_exporter": "python",
   "file_extension": ".py"
  },
  "kernelspec": {
   "name": "python3",
   "display_name": "Python 3.9.6 64-bit"
  },
  "interpreter": {
   "hash": "4cd7ab41f5fca4b9b44701077e38c5ffd31fe66a6cab21e0214b68d958d0e462"
  }
 },
 "nbformat": 4,
 "nbformat_minor": 2
}