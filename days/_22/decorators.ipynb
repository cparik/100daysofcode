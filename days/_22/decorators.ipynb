{
 "cells": [
  {
   "cell_type": "markdown",
   "source": [
    "# Decorators\n",
    "\n",
    "## Overview - Day 1\n",
    "\n",
    "**Decorators abstract functionality from a function so it can be applied to multiple functions**\n",
    "- The concept is similar to that of `pytest` fixtures.\n",
    "    - If you have to repeat the same code in each `pytest` test, define a `fixture` instead, and pass the `fixture` to the `pytest` function.\n",
    "- If you have to define the same behavior in multiple functions, use a **decorator** instead.\n",
    "    - An example of this might be a function that checks to see if a login session is active, with every request.\n",
    "    - Why write that code into every function when you can just decorate the functions and accomplish the same thing?\n",
    "\n",
    "A decorator can add behavior to a function:\n",
    "- Functions are passed into a decorator.\n",
    "- The decorator can do something to the function before or after the function runs.\n",
    "- Returns the newly decorated object."
   ],
   "metadata": {}
  },
  {
   "cell_type": "markdown",
   "source": [
    "---\n",
    "\n",
    "### Decorator Example"
   ],
   "metadata": {}
  },
  {
   "cell_type": "markdown",
   "source": [
    "#### Import the required modules"
   ],
   "metadata": {}
  },
  {
   "cell_type": "code",
   "execution_count": 1,
   "source": [
    "# `wraps` is not required, although it is preferred\n",
    "from functools import wraps\n",
    "import time"
   ],
   "outputs": [],
   "metadata": {}
  },
  {
   "cell_type": "markdown",
   "source": [
    "#### Create a basic template for defining a decorator"
   ],
   "metadata": {}
  },
  {
   "cell_type": "code",
   "execution_count": 5,
   "source": [
    "def my_first_decorator(function):\n",
    "    @wraps(function)\n",
    "    # *args and **kwargs are placeholders for arguments/keyword arguments from the function passed to the decorator\n",
    "    def wrapper(*args, **kwargs):\n",
    "        # Do something before running the function passed to the decorator\n",
    "        # Call the function passed to the decorator\n",
    "        result = function(*args, **kwargs)\n",
    "        # Do something after running the function passed to the decorator\n",
    "        return result\n",
    "    # return `wrapper` which is the decorated function\n",
    "    return wrapper"
   ],
   "outputs": [],
   "metadata": {}
  },
  {
   "cell_type": "markdown",
   "source": [
    "#### Use the decorator to wrap the function\n",
    "\n",
    "The decorator syntax uses the @ symbol to prefix the decorator function."
   ],
   "metadata": {}
  },
  {
   "cell_type": "code",
   "execution_count": 3,
   "source": [
    "@my_first_decorator\n",
    "def my_function(args):\n",
    "    pass"
   ],
   "outputs": [],
   "metadata": {}
  },
  {
   "cell_type": "markdown",
   "source": [
    "The decorator syntax is is syntactic sugar for:"
   ],
   "metadata": {}
  },
  {
   "cell_type": "code",
   "execution_count": 8,
   "source": [
    "# This is NOT the common way to use a decorator\n",
    "def my_new_function(args):\n",
    "    pass\n",
    "\n",
    "my_new_function = my_first_decorator(my_new_function)"
   ],
   "outputs": [],
   "metadata": {}
  },
  {
   "cell_type": "markdown",
   "source": [
    "---\n",
    "\n",
    "### `*args` and `**kwargs` parameters in decorators\n",
    "\n",
    "Python function arguments include:\n",
    "- **positional**\n",
    "    - Mandatory and have no default values.\n",
    "- **keyword**\n",
    "    - Optional and have defaults.\n",
    "- **arbitrary**\n",
    "    - `*args` becomes a `tuple` of all remaining (not explicitly defined) **positional** arguments.\n",
    "    - `*kwargs` becomes a `dict` of all remaining (not explicitly defined) **keyword** arguments.\n",
    "\n",
    ">Note: The parameter names `*args` and `**kwargs` are arbitrary.\n",
    "> - These could instead be `*seeds` and `**nuts`."
   ],
   "metadata": {}
  },
  {
   "cell_type": "code",
   "execution_count": 13,
   "source": [
    "# Example\n",
    "def test_args(first_name, *args, **kwargs):\n",
    "    ''' The parameters *args and **kwargs are optional and capture any\n",
    "        unspecified positional and keyword arguments, respectively.\n",
    "    '''\n",
    "\n",
    "    # Return a list of all arguments\n",
    "    return_value = {\n",
    "        'first_name': first_name,\n",
    "        'args': args,\n",
    "        'kwargs': kwargs\n",
    "    }\n",
    "\n",
    "    return return_value\n",
    "\n",
    "''' When calling the function, any keyword arguments whether defined explicitly or not, must come after any positional arguments\n",
    "'''\n",
    "test_args('Tim', 'W', 'Hull', age=41, state='Oregon')"
   ],
   "outputs": [
    {
     "output_type": "execute_result",
     "data": {
      "text/plain": [
       "{'first_name': 'Tim',\n",
       " 'args': ('W', 'Hull'),\n",
       " 'kwargs': {'age': 41, 'state': 'Oregon'}}"
      ]
     },
     "metadata": {},
     "execution_count": 13
    }
   ],
   "metadata": {}
  },
  {
   "cell_type": "markdown",
   "source": [
    "#### Create a decorator to display arguments\n",
    "\n",
    "- Display `*args` before calling the function passed to the decorator.\n",
    "- Display `**kwargs` after calling the function passed to the decorator."
   ],
   "metadata": {}
  },
  {
   "cell_type": "code",
   "execution_count": 32,
   "source": [
    "from functools import wraps\n",
    "\n",
    "def display_args(function):\n",
    "    @wraps(function)\n",
    "    def wrapper(*args, **kwargs):\n",
    "        print('\\nThis decorator displays *args values before calling the function:'\n",
    "              f'{args}\\n')\n",
    "\n",
    "        # Call the function passed to the decorator\n",
    "        result = function(*args, **kwargs)\n",
    "\n",
    "        print('And also displays **kwargs values after calling the function:'\n",
    "              f'{kwargs}\\n')\n",
    "\n",
    "        return result\n",
    "\n",
    "    # Return wrapper as a decorated function\n",
    "    return wrapper"
   ],
   "outputs": [],
   "metadata": {}
  },
  {
   "cell_type": "code",
   "execution_count": 33,
   "source": [
    "@display_args\n",
    "def send_args(*args, **kwargs):\n",
    "    print('\\tThis is a decorated function\\n')\n",
    "\n",
    "send_args('Tim', 'Hull', hair='blonde', eyes='blue')"
   ],
   "outputs": [
    {
     "output_type": "stream",
     "name": "stdout",
     "text": [
      "\n",
      "This decorator displays *args values before calling the function:('Tim', 'Hull')\n",
      "\n",
      "\tThis is a decorated function\n",
      "\n",
      "And also displays **kwargs values after calling the function:{'hair': 'blonde', 'eyes': 'blue'}\n",
      "\n"
     ]
    }
   ],
   "metadata": {}
  },
  {
   "cell_type": "markdown",
   "source": [
    "---\n",
    "\n",
    "## Review - Day 2\n",
    "\n",
    "### Create a new decorator and apply it to a new function"
   ],
   "metadata": {}
  },
  {
   "cell_type": "code",
   "execution_count": 1,
   "source": [
    "# Import modules\n",
    "from functools import wraps\n",
    "from time import ctime, time"
   ],
   "outputs": [],
   "metadata": {}
  },
  {
   "cell_type": "code",
   "execution_count": 2,
   "source": [
    "# Create decorator function\n",
    "def add_times(wrapped_function):\n",
    "    @wraps(wrapped_function)\n",
    "\n",
    "    # Define a wrapper function\n",
    "    def wrapper(*args, **kwargs):\n",
    "        # Display the epoch before the wrapped function\n",
    "        print(f'\\nThe current epoch time is {time()}')\n",
    "\n",
    "        # Call the wrapped function\n",
    "        result = wrapped_function(*args, **kwargs)\n",
    "\n",
    "        # Display the time after the wrapped function\n",
    "        print(f'The current time is {ctime()}\\n')\n",
    "\n",
    "        # return the result of the wrapepd function\n",
    "        return result\n",
    "\n",
    "    # Return the result of the wrapper function\n",
    "    return wrapper"
   ],
   "outputs": [],
   "metadata": {}
  },
  {
   "cell_type": "code",
   "execution_count": 3,
   "source": [
    "# Define a new function using the decorator\n",
    "@add_times\n",
    "def my_name(name):\n",
    "    print(f'\\tMy name is {name}')"
   ],
   "outputs": [],
   "metadata": {}
  },
  {
   "cell_type": "code",
   "execution_count": 4,
   "source": [
    "# Call the wrapped function\n",
    "my_name('Tim')"
   ],
   "outputs": [
    {
     "output_type": "stream",
     "name": "stdout",
     "text": [
      "\n",
      "The current epoch time is 1628967894.996227\n",
      "\tMy name is Tim\n",
      "The current time is Sat Aug 14 19:04:54 2021\n",
      "\n"
     ]
    }
   ],
   "metadata": {}
  },
  {
   "cell_type": "markdown",
   "source": [
    "---\n",
    "\n",
    "## Write a Time-It Decorator - Day 2"
   ],
   "metadata": {}
  },
  {
   "cell_type": "code",
   "execution_count": 9,
   "source": [
    "# Import Modules\n",
    "from functools import wraps\n",
    "from time import time\n",
    "from typing import Union"
   ],
   "outputs": [],
   "metadata": {}
  },
  {
   "cell_type": "code",
   "execution_count": 16,
   "source": [
    "# Create the decorator function\n",
    "def time_it(function):\n",
    "    ''' This function is a decorator which displays the total time it takes\n",
    "        for the decorated function to run.\n",
    "\n",
    "        Args:\n",
    "            function (function):\n",
    "                Decorated function.\n",
    "\n",
    "        Returns:\n",
    "            None.\n",
    "    '''\n",
    "\n",
    "    ''' Call the @wraps decorator on the decorated function.\n",
    "        This preserves the docstring in the wrapped function.\n",
    "    '''\n",
    "    @wraps(function)\n",
    "    def wrapper(*args, **kwargs):\n",
    "\n",
    "        # Capture the time before the wrapped function starts\n",
    "        start_time = time()\n",
    "\n",
    "        # Call the decorated function\n",
    "        result = function(*args, **kwargs)\n",
    "\n",
    "        # Capture the time after the wrapped function ends\n",
    "        end_time = time()\n",
    "        total_time = round(start_time - end_time, 5)\n",
    "\n",
    "        # Display the time the wrapped function tool to run\n",
    "        print(f'The \"{function.__name__}\" function took {total_time} to run.')\n",
    "\n",
    "        # return the result of the wrapped function\n",
    "        return result\n",
    "\n",
    "    # Return the result of the wrapper function\n",
    "    return wrapper\n"
   ],
   "outputs": [],
   "metadata": {}
  },
  {
   "cell_type": "code",
   "execution_count": 17,
   "source": [
    "# Create a decorated function to time\n",
    "@time_it\n",
    "def get_exponent(num: Union[int, float], exp: int = 1) -> Union[int, float]:\n",
    "    ''' Determine the exponent of a number.\n",
    "\n",
    "        Args:\n",
    "            num (int or float):\n",
    "                Base number.\n",
    "            exp (int):\n",
    "                Exponent to apply to `num`.\n",
    "\n",
    "        Returns:\n",
    "            exponent (int or float):\n",
    "                Result of the exponent operation.\n",
    "    '''\n",
    "\n",
    "    # Determine the exponent\n",
    "    exponent = num ** exp\n",
    "\n",
    "    # Display the result\n",
    "    print(f'The exponent of {num} to the {exp} power is {exponent}.')\n",
    "\n",
    "    return exponent"
   ],
   "outputs": [],
   "metadata": {}
  },
  {
   "cell_type": "code",
   "execution_count": 24,
   "source": [
    "# Call the decorated function\n",
    "exp = get_exponent(10, 10)"
   ],
   "outputs": [
    {
     "output_type": "stream",
     "name": "stdout",
     "text": [
      "The exponent of 10 to the 10 power is 10000000000.\n",
      "The \"get_exponent\" function took -0.00017 to run.\n"
     ]
    }
   ],
   "metadata": {}
  },
  {
   "cell_type": "markdown",
   "source": [
    "### Test the use of the @wraps decorator\n",
    "\n",
    "`@wraps` should ensure the docstring of the wrapped function is preserved"
   ],
   "metadata": {}
  },
  {
   "cell_type": "code",
   "execution_count": 25,
   "source": [
    "# Look up the docstring for the wrapped function\n",
    "help(get_exponent)"
   ],
   "outputs": [
    {
     "output_type": "stream",
     "name": "stdout",
     "text": [
      "Help on function get_exponent in module __main__:\n",
      "\n",
      "get_exponent(num: Union[int, float], exp: int = 1) -> Union[int, float]\n",
      "    Determine the exponent of a number.\n",
      "    \n",
      "    Args:\n",
      "        num (int or float):\n",
      "            Base number.\n",
      "        exp (int):\n",
      "            Exponent to apply to `num`.\n",
      "    \n",
      "    Returns:\n",
      "        exponent (int or float):\n",
      "            Result of the exponent operation.\n",
      "\n"
     ]
    }
   ],
   "metadata": {}
  },
  {
   "cell_type": "markdown",
   "source": [
    "### Redfine the decorator function without `@wraps`"
   ],
   "metadata": {}
  },
  {
   "cell_type": "code",
   "execution_count": 26,
   "source": [
    "# Create the decorator function\n",
    "def time_it(function):\n",
    "    ''' This function is a decorator which displays the total time it takes\n",
    "        for the decorated function to run.\n",
    "\n",
    "        Args:\n",
    "            function (function):\n",
    "                Decorated function.\n",
    "\n",
    "        Returns:\n",
    "            None.\n",
    "    '''\n",
    "\n",
    "    ''' Call the @wraps decorator on the decorated function.\n",
    "        This preserves the docstring in the wrapped function.\n",
    "    '''\n",
    "    def wrapper(*args, **kwargs):\n",
    "\n",
    "        # Capture the time before the wrapped function starts\n",
    "        start_time = time()\n",
    "\n",
    "        # Call the decorated function\n",
    "        result = function(*args, **kwargs)\n",
    "\n",
    "        # Capture the time after the wrapped function ends\n",
    "        end_time = time()\n",
    "        total_time = round(start_time - end_time, 5)\n",
    "\n",
    "        # Display the time the wrapped function tool to run\n",
    "        print(f'The \"{function.__name__}\" function took {total_time} to run.')\n",
    "\n",
    "        # return the result of the wrapped function\n",
    "        return result\n",
    "\n",
    "    # Return the result of the wrapper function\n",
    "    return wrapper\n"
   ],
   "outputs": [],
   "metadata": {}
  },
  {
   "cell_type": "markdown",
   "source": [
    "### Redefine the wrapped function\n",
    "\n",
    "Notice that the absense of the `@wraps` decorator in the `time_it` (decorator) function prevents the dosctring from being available in the wrapped function (`get_exponent`)"
   ],
   "metadata": {}
  },
  {
   "cell_type": "code",
   "execution_count": 28,
   "source": [
    "# Create a decorated function to time\n",
    "@time_it\n",
    "def get_exponent(num: Union[int, float], exp: int = 1) -> Union[int, float]:\n",
    "    ''' Determine the exponent of a number.\n",
    "\n",
    "        Args:\n",
    "            num (int or float):\n",
    "                Base number.\n",
    "            exp (int):\n",
    "                Exponent to apply to `num`.\n",
    "\n",
    "        Returns:\n",
    "            exponent (int or float):\n",
    "                Result of the exponent operation.\n",
    "    '''\n",
    "\n",
    "    # Determine the exponent\n",
    "    exponent = num ** exp\n",
    "\n",
    "    # Display the result\n",
    "    print(f'The exponent of {num} to the {exp} power is {exponent}.')\n",
    "\n",
    "    return exponent\n",
    "\n",
    "help(get_exponent)"
   ],
   "outputs": [
    {
     "output_type": "stream",
     "name": "stdout",
     "text": [
      "Help on function wrapper in module __main__:\n",
      "\n",
      "wrapper(*args, **kwargs)\n",
      "\n"
     ]
    }
   ],
   "metadata": {}
  },
  {
   "cell_type": "markdown",
   "source": [
    "## Stacking Decorators - Day 3\n",
    "\n",
    "Decorators may be stacked which allows the application of multiple decorators to a single function.\n",
    "\n",
    "```python\n",
    "# Example\n",
    "@decorator_1  # Does something before or after `decorator_2` and `my_function`\n",
    "@decorator_2  # Does something before or after `my_function`\n",
    "def my_function():\n",
    "    pass\n",
    "```"
   ],
   "metadata": {}
  },
  {
   "cell_type": "markdown",
   "source": [
    "### Create a function with stacked decorators\n",
    "\n",
    "- The purpose of the function `delay` is to use the `time.sleep` function to generate a random delay.\n",
    "- The purpose of the first decorator function `display_details` is to wrap and display information about `delay`.\n",
    "    - `__doc__`\n",
    "    - `*args` and `**kwargs`\n",
    "- The purpose of the second decorator function `timer` is to wrap both `delay` and `display_details`, providing a output including:\n",
    "    - Start time\n",
    "    - End time\n",
    "    - Total run time"
   ],
   "metadata": {}
  },
  {
   "cell_type": "code",
   "execution_count": 2,
   "source": [
    "# Import modules\n",
    "from functools import wraps\n",
    "from itertools import cycle\n",
    "from random import randint\n",
    "from sys import stdout\n",
    "from time import sleep, time"
   ],
   "outputs": [],
   "metadata": {}
  },
  {
   "cell_type": "code",
   "execution_count": 3,
   "source": [
    "# `display_details` decorator function\n",
    "def display_details(function):\n",
    "    ''' Displays details for a wrapped function.\n",
    "\n",
    "        Args:\n",
    "            function (function):\n",
    "                Decorated function.\n",
    "\n",
    "        Returns:\n",
    "            wrapper (function):\n",
    "                Result of decorated function.\n",
    "    '''\n",
    "\n",
    "    @wraps(function)\n",
    "    def wrapper(*args, **kwargs):\n",
    "\n",
    "        # Display information about the decorated function\n",
    "        # Docstring\n",
    "        print(f'\\n\\tThe docstring for the function {function.__name__} is:\\n'\n",
    "              f'\\t{function.__doc__}')\n",
    "\n",
    "        # *args\n",
    "        if len(args) > 0:\n",
    "            print(f'\\n\\tThe positional arguments for the function {function.__name__} are:')\n",
    "            for arg in args:\n",
    "                print(f'\\t-{arg}')\n",
    "        else:\n",
    "            print(f'\\n\\tNo positional arguments in {function.__name__}.')\n",
    "\n",
    "        # **kwargs\n",
    "        if len(kwargs) > 0:\n",
    "            print(f'\\n\\tThe keyword arguments for the function {function.__name__} are:')\n",
    "            for kwarg in kwargs:\n",
    "                print(f'\\t-{kwarg}')\n",
    "        else:\n",
    "            print(f'\\n\\tNo keyword arguments in {function.__name__}.')\n",
    "\n",
    "        # Call the wrapped function\n",
    "        function(*args, **kwargs)\n",
    "\n",
    "    # Return the result of the wrapped function\n",
    "    return wrapper"
   ],
   "outputs": [],
   "metadata": {}
  },
  {
   "cell_type": "code",
   "execution_count": 4,
   "source": [
    "# `timer` decorator function\n",
    "def timer(function):\n",
    "    ''' Displays start, end, and total time for a wrapped function.\n",
    "\n",
    "        Args:\n",
    "            function (function):\n",
    "                Decorated function.\n",
    "\n",
    "        Returns:\n",
    "            wrapper (function):\n",
    "                Result of decorated function.\n",
    "    '''\n",
    "\n",
    "    @wraps(function)\n",
    "    def wrapper(*args, **kwargs):\n",
    "\n",
    "        # Capture and display the start time\n",
    "        start = time()\n",
    "        print(f'\\nThe function start time is {start}.')\n",
    "\n",
    "        # Call the wrapped function\n",
    "        function(*args, **kwargs)\n",
    "\n",
    "        # Capture and display the end time and total time\n",
    "        end = time()\n",
    "        total = end - start\n",
    "        print(f'\\nThe function end time is {start} '\n",
    "              f'and the total run time is {total}.')\n",
    "\n",
    "    # Return the result of the wrapped function\n",
    "    return wrapper"
   ],
   "outputs": [],
   "metadata": {}
  },
  {
   "cell_type": "code",
   "execution_count": 5,
   "source": [
    "# `delay` function with nested decorators\n",
    "@timer  # Call this decorator first, to wrap/decorate all nested decorators and functions\n",
    "@display_details  # Call this decorator second, to include its processing time in the `@timer` calculation\n",
    "def delay(\n",
    "    first_name: str,\n",
    "    favorite_number: int,\n",
    "    favorite_programming_language: str = 'Python',\n",
    "    favorite_season: str = 'Summer',\n",
    "    *args: any,\n",
    "    **kwargs: any\n",
    ") -> None:\n",
    "    ''' Introduces a random delay.\n",
    "\n",
    "        Args:\n",
    "            first_name (str):\n",
    "                Your first name.\n",
    "            favorite_number (int):\n",
    "                Your favorite number.\n",
    "            favorite_programming_language (str):\n",
    "                Your favorite programming language.\n",
    "            favorite_season (str):\n",
    "                Your favorite season of the year.\n",
    "\n",
    "        Returns:\n",
    "            None.\n",
    "    '''\n",
    "\n",
    "    print(f'\\nHello, {first_name}:\\n'\n",
    "          f'\\tYour favorite number is {favorite_number}.\\n'\n",
    "          f'\\tYour favorite programming language is {favorite_programming_language}.\\n'\n",
    "          f'\\tYour favorite season of the year is {favorite_season}.')\n",
    "\n",
    "    wait = cycle(['.  ', '.. ', '...'])\n",
    "\n",
    "    timer = 0\n",
    "    delay = randint(5, 15)\n",
    "    print(f\"Let's wait for {delay / 2} seconds\")\n",
    "    while delay > timer:\n",
    "        stdout.write(f'\\r{next(wait)}')\n",
    "        stdout.flush()\n",
    "        timer += 1\n",
    "        sleep(.5)"
   ],
   "outputs": [],
   "metadata": {}
  },
  {
   "cell_type": "code",
   "execution_count": 8,
   "source": [
    "# Call the `delay` function\n",
    "delay(\n",
    "    'Tim',\n",
    "    18,\n",
    "    favorite_programming_language='Python',\n",
    "    favorite_food='Pizza',\n",
    "    favorite_season='Fall'\n",
    ")"
   ],
   "outputs": [
    {
     "output_type": "stream",
     "name": "stdout",
     "text": [
      "\n",
      "The function start time is 1629051850.167829.\n",
      "\n",
      "\tThe docstring for the function delay is:\n",
      "\t Introduces a random delay.\n",
      "\n",
      "        Args:\n",
      "            first_name (str):\n",
      "                Your first name.\n",
      "            favorite_number (int):\n",
      "                Your favorite number.\n",
      "            favorite_programming_language (str):\n",
      "                Your favorite programming language.\n",
      "            favorite_season (str):\n",
      "                Your favorite season of the year.\n",
      "\n",
      "        Returns:\n",
      "            None.\n",
      "    \n",
      "\n",
      "\tThe positional arguments for the function delay are:\n",
      "\t-Tim\n",
      "\t-18\n",
      "\n",
      "\tThe keyword arguments for the function delay are:\n",
      "\t-favorite_programming_language\n",
      "\t-favorite_food\n",
      "\t-favorite_season\n",
      "\n",
      "Hello, Tim:\n",
      "\tYour favorite number is 18.\n",
      "\tYour favorite programming language is Python.\n",
      "\tYour favorite season of the year is Fall.\n",
      "Let's wait for 5.5 seconds\n",
      ".. \n",
      "The function end time is 1629051850.167829 and the total run time is 5.538745403289795.\n"
     ]
    }
   ],
   "metadata": {}
  }
 ],
 "metadata": {
  "interpreter": {
   "hash": "4cd7ab41f5fca4b9b44701077e38c5ffd31fe66a6cab21e0214b68d958d0e462"
  },
  "kernelspec": {
   "name": "python3",
   "display_name": "Python 3.9.6 64-bit"
  },
  "language_info": {
   "codemirror_mode": {
    "name": "ipython",
    "version": 3
   },
   "file_extension": ".py",
   "mimetype": "text/x-python",
   "name": "python",
   "nbconvert_exporter": "python",
   "pygments_lexer": "ipython3",
   "version": "3.9.6"
  }
 },
 "nbformat": 4,
 "nbformat_minor": 4
}