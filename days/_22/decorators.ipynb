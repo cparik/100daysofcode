{
 "cells": [
  {
   "cell_type": "markdown",
   "source": [
    "# Decorators\n",
    "\n",
    "## Overview - Day 1\n",
    "\n",
    "A decorator can add behavior to a function:\n",
    "- Functions are passed into a decorator.\n",
    "- The decorator can do something to the function before or after the function runs.\n",
    "- Returns the newly decorated object."
   ],
   "metadata": {}
  },
  {
   "cell_type": "markdown",
   "source": [
    "---\n",
    "\n",
    "### Decorator Example"
   ],
   "metadata": {}
  },
  {
   "cell_type": "markdown",
   "source": [
    "#### Import the required modules"
   ],
   "metadata": {}
  },
  {
   "cell_type": "code",
   "execution_count": 1,
   "source": [
    "# `wraps` is not required, although it is preferred\n",
    "from functools import wraps\n",
    "import time"
   ],
   "outputs": [],
   "metadata": {}
  },
  {
   "cell_type": "markdown",
   "source": [
    "#### Create a basic template for defining a decorator"
   ],
   "metadata": {}
  },
  {
   "cell_type": "code",
   "execution_count": 5,
   "source": [
    "def my_first_decorator(function):\n",
    "    @wraps(function)\n",
    "    # *args and **kwargs are placeholders for arguments/keyword arguments from the function passed to the decorator\n",
    "    def wrapper(*args, **kwargs):\n",
    "        # Do something before running the function passed to the decorator\n",
    "        # Call the function passed to the decorator\n",
    "        result = function(*args, **kwargs)\n",
    "        # Do something after running the function passed to the decorator\n",
    "        return result\n",
    "    # return `wrapper` which is the decorated function\n",
    "    return wrapper"
   ],
   "outputs": [],
   "metadata": {}
  },
  {
   "cell_type": "markdown",
   "source": [
    "#### Use the decorator to wrap the function\n",
    "\n",
    "The decorator syntax uses the @ symbol to prefix the decorator function."
   ],
   "metadata": {}
  },
  {
   "cell_type": "code",
   "execution_count": 3,
   "source": [
    "@my_first_decorator\n",
    "def my_function(args):\n",
    "    pass"
   ],
   "outputs": [],
   "metadata": {}
  },
  {
   "cell_type": "markdown",
   "source": [
    "The decorator syntax is is syntactic sugar for:"
   ],
   "metadata": {}
  },
  {
   "cell_type": "code",
   "execution_count": 8,
   "source": [
    "# This is NOT the common way to use a decorator\n",
    "def my_new_function(args):\n",
    "    pass\n",
    "\n",
    "my_new_function = my_first_decorator(my_new_function)"
   ],
   "outputs": [],
   "metadata": {}
  },
  {
   "cell_type": "markdown",
   "source": [
    "---\n",
    "\n",
    "### `*args` and `**kwargs` parameters in decorators\n",
    "\n",
    "Python function arguments include:\n",
    "- **positional**\n",
    "    - Mandatory and have no default values.\n",
    "- **keyword**\n",
    "    - Optional and have defaults.\n",
    "- **arbitrary**\n",
    "    - `*args` becomes a `tuple` of all remaining (not explicitly defined) **positional** arguments.\n",
    "    - `*kwargs` becomes a `dict` of all remaining (not explicitly defined) **keyword** arguments.\n",
    "\n",
    ">Note: The parameter names `*args` and `**kwargs` are arbitrary.\n",
    "> - These could instead be `*seeds` and `**nuts`."
   ],
   "metadata": {}
  },
  {
   "cell_type": "code",
   "execution_count": 13,
   "source": [
    "# Example\n",
    "def test_args(first_name, *args, **kwargs):\n",
    "    ''' The parameters *args and **kwargs are optional and capture any\n",
    "        unspecified positional and keyword arguments, respectively.\n",
    "    '''\n",
    "\n",
    "    # Return a list of all arguments\n",
    "    return_value = {\n",
    "        'first_name': first_name,\n",
    "        'args': args,\n",
    "        'kwargs': kwargs\n",
    "    }\n",
    "\n",
    "    return return_value\n",
    "\n",
    "''' When calling the function, any keyword arguments whether defined explicitly or not, must come after any positional arguments\n",
    "'''\n",
    "test_args('Tim', 'W', 'Hull', age=41, state='Oregon')"
   ],
   "outputs": [
    {
     "output_type": "execute_result",
     "data": {
      "text/plain": [
       "{'first_name': 'Tim',\n",
       " 'args': ('W', 'Hull'),\n",
       " 'kwargs': {'age': 41, 'state': 'Oregon'}}"
      ]
     },
     "metadata": {},
     "execution_count": 13
    }
   ],
   "metadata": {}
  },
  {
   "cell_type": "markdown",
   "source": [
    "#### Create a decorator to display arguments\n",
    "\n",
    "- Display `*args` before calling the function passed to the decorator.\n",
    "- Display `**kwargs` after calling the function passed to the decorator."
   ],
   "metadata": {}
  },
  {
   "cell_type": "code",
   "execution_count": 32,
   "source": [
    "from functools import wraps\n",
    "\n",
    "def display_args(function):\n",
    "    @wraps(function)\n",
    "    def wrapper(*args, **kwargs):\n",
    "        print('\\nThis decorator displays *args values before calling the function:'\n",
    "              f'{args}\\n')\n",
    "\n",
    "        # Call the function passed to the decorator\n",
    "        result = function(*args, **kwargs)\n",
    "\n",
    "        print('And also displays **kwargs values after calling the function:'\n",
    "              f'{kwargs}\\n')\n",
    "\n",
    "        return result\n",
    "\n",
    "    # Return wrapper as a decorated function\n",
    "    return wrapper"
   ],
   "outputs": [],
   "metadata": {}
  },
  {
   "cell_type": "code",
   "execution_count": 33,
   "source": [
    "@display_args\n",
    "def send_args(*args, **kwargs):\n",
    "    print('\\tThis is a decorated function\\n')\n",
    "\n",
    "send_args('Tim', 'Hull', hair='blonde', eyes='blue')"
   ],
   "outputs": [
    {
     "output_type": "stream",
     "name": "stdout",
     "text": [
      "\n",
      "This decorator displays *args values before calling the function:('Tim', 'Hull')\n",
      "\n",
      "\tThis is a decorated function\n",
      "\n",
      "And also displays **kwargs values after calling the function:{'hair': 'blonde', 'eyes': 'blue'}\n",
      "\n"
     ]
    }
   ],
   "metadata": {}
  },
  {
   "cell_type": "markdown",
   "source": [
    "---"
   ],
   "metadata": {}
  }
 ],
 "metadata": {
  "orig_nbformat": 4,
  "language_info": {
   "name": "python",
   "version": "3.9.6",
   "mimetype": "text/x-python",
   "codemirror_mode": {
    "name": "ipython",
    "version": 3
   },
   "pygments_lexer": "ipython3",
   "nbconvert_exporter": "python",
   "file_extension": ".py"
  },
  "kernelspec": {
   "name": "python3",
   "display_name": "Python 3.9.6 64-bit"
  },
  "interpreter": {
   "hash": "4cd7ab41f5fca4b9b44701077e38c5ffd31fe66a6cab21e0214b68d958d0e462"
  }
 },
 "nbformat": 4,
 "nbformat_minor": 2
}