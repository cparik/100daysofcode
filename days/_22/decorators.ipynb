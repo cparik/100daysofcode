{
 "cells": [
  {
   "cell_type": "markdown",
   "source": [
    "# Decorators\n",
    "\n",
    "## Overview - Day 1\n",
    "\n",
    "A decorator can add behavior to a function:\n",
    "- Functions are passed into a decorator.\n",
    "- The decorator can do something to the function before or after the function runs.\n",
    "- Returns the newly decorated object."
   ],
   "metadata": {}
  },
  {
   "cell_type": "markdown",
   "source": [
    "---\n",
    "\n",
    "### Decorator Example"
   ],
   "metadata": {}
  },
  {
   "cell_type": "markdown",
   "source": [
    "#### Import the required modules"
   ],
   "metadata": {}
  },
  {
   "cell_type": "code",
   "execution_count": 1,
   "source": [
    "# `wraps` is not required, although it is preferred\n",
    "from functools import wraps\n",
    "import time"
   ],
   "outputs": [],
   "metadata": {}
  },
  {
   "cell_type": "markdown",
   "source": [
    "#### Create a basic template for defining a decorator"
   ],
   "metadata": {}
  },
  {
   "cell_type": "code",
   "execution_count": 5,
   "source": [
    "def my_first_decorator(function):\n",
    "    @wraps(function)\n",
    "    # *args and **kwargs are placeholders for arguments/keyword arguments from the function passed to the decorator\n",
    "    def wrapper(*args, **kwargs):\n",
    "        # Do something before running the function passed to the decorator\n",
    "        # Call the function passed to the decorator\n",
    "        result = function(*args, **kwargs)\n",
    "        # Do something after running the function passed to the decorator\n",
    "        return result\n",
    "    # return `wrapper` which is the decorated function\n",
    "    return wrapper"
   ],
   "outputs": [],
   "metadata": {}
  },
  {
   "cell_type": "markdown",
   "source": [
    "#### Use the decorator to wrap the function\n",
    "\n",
    "The decorator syntax uses the @ symbol to prefix the decorator function."
   ],
   "metadata": {}
  },
  {
   "cell_type": "code",
   "execution_count": 3,
   "source": [
    "@my_first_decorator\n",
    "def my_function(args):\n",
    "    pass"
   ],
   "outputs": [],
   "metadata": {}
  },
  {
   "cell_type": "markdown",
   "source": [
    "The decorator syntax is is syntactic sugar for:"
   ],
   "metadata": {}
  },
  {
   "cell_type": "code",
   "execution_count": 8,
   "source": [
    "# This is NOT the common way to use a decorator\n",
    "def my_new_function(args):\n",
    "    pass\n",
    "\n",
    "my_new_function = my_first_decorator(my_new_function)"
   ],
   "outputs": [],
   "metadata": {}
  },
  {
   "cell_type": "markdown",
   "source": [
    "---\n",
    "\n",
    "### `*args` and `**kwargs` parameters in decorators\n",
    "\n",
    "Python function arguments include:\n",
    "- **positional**\n",
    "    - Mandatory and have no default values.\n",
    "- **keyword**\n",
    "    - Optional and have defaults.\n",
    "- **arbitrary**\n",
    "    - `*args` becomes a `tuple` of all remaining (not explicitly defined) **positional** arguments.\n",
    "    - `*kwargs` becomes a `dict` of all remaining (not explicitly defined) **keyword** arguments.\n",
    "\n",
    ">Note: The parameter names `*args` and `**kwargs` are arbitrary.\n",
    "> - These could instead be `*seeds` and `**nuts`."
   ],
   "metadata": {}
  },
  {
   "cell_type": "code",
   "execution_count": 13,
   "source": [
    "# Example\n",
    "def test_args(first_name, *args, **kwargs):\n",
    "    ''' The parameters *args and **kwargs are optional and capture any\n",
    "        unspecified positional and keyword arguments, respectively.\n",
    "    '''\n",
    "\n",
    "    # Return a list of all arguments\n",
    "    return_value = {\n",
    "        'first_name': first_name,\n",
    "        'args': args,\n",
    "        'kwargs': kwargs\n",
    "    }\n",
    "\n",
    "    return return_value\n",
    "\n",
    "''' When calling the function, any keyword arguments whether defined explicitly or not, must come after any positional arguments\n",
    "'''\n",
    "test_args('Tim', 'W', 'Hull', age=41, state='Oregon')"
   ],
   "outputs": [
    {
     "output_type": "execute_result",
     "data": {
      "text/plain": [
       "{'first_name': 'Tim',\n",
       " 'args': ('W', 'Hull'),\n",
       " 'kwargs': {'age': 41, 'state': 'Oregon'}}"
      ]
     },
     "metadata": {},
     "execution_count": 13
    }
   ],
   "metadata": {}
  },
  {
   "cell_type": "markdown",
   "source": [
    "#### Create a decorator to display arguments\n",
    "\n",
    "- Display `*args` before calling the function passed to the decorator.\n",
    "- Display `**kwargs` after calling the function passed to the decorator."
   ],
   "metadata": {}
  },
  {
   "cell_type": "code",
   "execution_count": 32,
   "source": [
    "from functools import wraps\n",
    "\n",
    "def display_args(function):\n",
    "    @wraps(function)\n",
    "    def wrapper(*args, **kwargs):\n",
    "        print('\\nThis decorator displays *args values before calling the function:'\n",
    "              f'{args}\\n')\n",
    "\n",
    "        # Call the function passed to the decorator\n",
    "        result = function(*args, **kwargs)\n",
    "\n",
    "        print('And also displays **kwargs values after calling the function:'\n",
    "              f'{kwargs}\\n')\n",
    "\n",
    "        return result\n",
    "\n",
    "    # Return wrapper as a decorated function\n",
    "    return wrapper"
   ],
   "outputs": [],
   "metadata": {}
  },
  {
   "cell_type": "code",
   "execution_count": 33,
   "source": [
    "@display_args\n",
    "def send_args(*args, **kwargs):\n",
    "    print('\\tThis is a decorated function\\n')\n",
    "\n",
    "send_args('Tim', 'Hull', hair='blonde', eyes='blue')"
   ],
   "outputs": [
    {
     "output_type": "stream",
     "name": "stdout",
     "text": [
      "\n",
      "This decorator displays *args values before calling the function:('Tim', 'Hull')\n",
      "\n",
      "\tThis is a decorated function\n",
      "\n",
      "And also displays **kwargs values after calling the function:{'hair': 'blonde', 'eyes': 'blue'}\n",
      "\n"
     ]
    }
   ],
   "metadata": {}
  },
  {
   "cell_type": "markdown",
   "source": [
    "---\n",
    "\n",
    "## Review - Day 2\n",
    "\n",
    "### Create a new decorator and apply it to a new function"
   ],
   "metadata": {}
  },
  {
   "cell_type": "code",
   "execution_count": 1,
   "source": [
    "# Import modules\n",
    "from functools import wraps\n",
    "from time import ctime, time"
   ],
   "outputs": [],
   "metadata": {}
  },
  {
   "cell_type": "code",
   "execution_count": 2,
   "source": [
    "# Create decorator function\n",
    "def add_times(wrapped_function):\n",
    "    @wraps(wrapped_function)\n",
    "\n",
    "    # Define a wrapper function\n",
    "    def wrapper(*args, **kwargs):\n",
    "        # Display the epoch before the wrapped function\n",
    "        print(f'\\nThe current epoch time is {time()}')\n",
    "\n",
    "        # Call the wrapped function\n",
    "        result = wrapped_function(*args, **kwargs)\n",
    "\n",
    "        # Display the time after the wrapped function\n",
    "        print(f'The current time is {ctime()}\\n')\n",
    "\n",
    "        # return the result of the wrapepd function\n",
    "        return result\n",
    "\n",
    "    # Return the result of the wrapper function\n",
    "    return wrapper"
   ],
   "outputs": [],
   "metadata": {}
  },
  {
   "cell_type": "code",
   "execution_count": 3,
   "source": [
    "# Define a new function using the decorator\n",
    "@add_times\n",
    "def my_name(name):\n",
    "    print(f'\\tMy name is {name}')"
   ],
   "outputs": [],
   "metadata": {}
  },
  {
   "cell_type": "code",
   "execution_count": 4,
   "source": [
    "# Call the wrapped function\n",
    "my_name('Tim')"
   ],
   "outputs": [
    {
     "output_type": "stream",
     "name": "stdout",
     "text": [
      "\n",
      "The current epoch time is 1628967894.996227\n",
      "\tMy name is Tim\n",
      "The current time is Sat Aug 14 19:04:54 2021\n",
      "\n"
     ]
    }
   ],
   "metadata": {}
  },
  {
   "cell_type": "markdown",
   "source": [
    "---\n",
    "\n",
    "### Write a Time-It Decorator"
   ],
   "metadata": {}
  },
  {
   "cell_type": "code",
   "execution_count": 9,
   "source": [
    "# Import Modules\n",
    "from functools import wraps\n",
    "from time import time\n",
    "from typing import Union"
   ],
   "outputs": [],
   "metadata": {}
  },
  {
   "cell_type": "code",
   "execution_count": 16,
   "source": [
    "# Create the decorator function\n",
    "def time_it(function):\n",
    "    ''' This function is a decorator which displays the total time it takes\n",
    "        for the decorated function to run.\n",
    "\n",
    "        Args:\n",
    "            function (function):\n",
    "                Decorated function.\n",
    "\n",
    "        Returns:\n",
    "            None.\n",
    "    '''\n",
    "\n",
    "    ''' Call the @wraps decorator on the decorated function.\n",
    "        This preserves the docstring in the wrapped function.\n",
    "    '''\n",
    "    @wraps(function)\n",
    "    def wrapper(*args, **kwargs):\n",
    "\n",
    "        # Capture the time before the wrapped function starts\n",
    "        start_time = time()\n",
    "\n",
    "        # Call the decorated function\n",
    "        result = function(*args, **kwargs)\n",
    "\n",
    "        # Capture the time after the wrapped function ends\n",
    "        end_time = time()\n",
    "        total_time = round(start_time - end_time, 5)\n",
    "\n",
    "        # Display the time the wrapped function tool to run\n",
    "        print(f'The \"{function.__name__}\" function took {total_time} to run.')\n",
    "\n",
    "        # return the result of the wrapped function\n",
    "        return result\n",
    "\n",
    "    # Return the result of the wrapper function\n",
    "    return wrapper\n"
   ],
   "outputs": [],
   "metadata": {}
  },
  {
   "cell_type": "code",
   "execution_count": 17,
   "source": [
    "# Create a decorated function to time\n",
    "@time_it\n",
    "def get_exponent(num: Union[int, float], exp: int = 1) -> Union[int, float]:\n",
    "    ''' Determine the exponent of a number.\n",
    "\n",
    "        Args:\n",
    "            num (int or float):\n",
    "                Base number.\n",
    "            exp (int):\n",
    "                Exponent to apply to `num`.\n",
    "\n",
    "        Returns:\n",
    "            exponent (int or float):\n",
    "                Result of the exponent operation.\n",
    "    '''\n",
    "\n",
    "    # Determine the exponent\n",
    "    exponent = num ** exp\n",
    "\n",
    "    # Display the result\n",
    "    print(f'The exponent of {num} to the {exp} power is {exponent}.')\n",
    "\n",
    "    return exponent"
   ],
   "outputs": [],
   "metadata": {}
  },
  {
   "cell_type": "code",
   "execution_count": 24,
   "source": [
    "# Call the decorated function\n",
    "exp = get_exponent(10, 10)"
   ],
   "outputs": [
    {
     "output_type": "stream",
     "name": "stdout",
     "text": [
      "The exponent of 10 to the 10 power is 10000000000.\n",
      "The \"get_exponent\" function took -0.00017 to run.\n"
     ]
    }
   ],
   "metadata": {}
  },
  {
   "cell_type": "markdown",
   "source": [
    "### Test the use of the @wraps decorator\n",
    "\n",
    "`@wraps` should ensure the docstring of the wrapped function is preserved"
   ],
   "metadata": {}
  },
  {
   "cell_type": "code",
   "execution_count": 25,
   "source": [
    "# Look up the docstring for the wrapped function\n",
    "help(get_exponent)"
   ],
   "outputs": [
    {
     "output_type": "stream",
     "name": "stdout",
     "text": [
      "Help on function get_exponent in module __main__:\n",
      "\n",
      "get_exponent(num: Union[int, float], exp: int = 1) -> Union[int, float]\n",
      "    Determine the exponent of a number.\n",
      "    \n",
      "    Args:\n",
      "        num (int or float):\n",
      "            Base number.\n",
      "        exp (int):\n",
      "            Exponent to apply to `num`.\n",
      "    \n",
      "    Returns:\n",
      "        exponent (int or float):\n",
      "            Result of the exponent operation.\n",
      "\n"
     ]
    }
   ],
   "metadata": {}
  },
  {
   "cell_type": "markdown",
   "source": [
    "### Redfine the decorator function without `@wraps`"
   ],
   "metadata": {}
  },
  {
   "cell_type": "code",
   "execution_count": 26,
   "source": [
    "# Create the decorator function\n",
    "def time_it(function):\n",
    "    ''' This function is a decorator which displays the total time it takes\n",
    "        for the decorated function to run.\n",
    "\n",
    "        Args:\n",
    "            function (function):\n",
    "                Decorated function.\n",
    "\n",
    "        Returns:\n",
    "            None.\n",
    "    '''\n",
    "\n",
    "    ''' Call the @wraps decorator on the decorated function.\n",
    "        This preserves the docstring in the wrapped function.\n",
    "    '''\n",
    "    def wrapper(*args, **kwargs):\n",
    "\n",
    "        # Capture the time before the wrapped function starts\n",
    "        start_time = time()\n",
    "\n",
    "        # Call the decorated function\n",
    "        result = function(*args, **kwargs)\n",
    "\n",
    "        # Capture the time after the wrapped function ends\n",
    "        end_time = time()\n",
    "        total_time = round(start_time - end_time, 5)\n",
    "\n",
    "        # Display the time the wrapped function tool to run\n",
    "        print(f'The \"{function.__name__}\" function took {total_time} to run.')\n",
    "\n",
    "        # return the result of the wrapped function\n",
    "        return result\n",
    "\n",
    "    # Return the result of the wrapper function\n",
    "    return wrapper\n"
   ],
   "outputs": [],
   "metadata": {}
  },
  {
   "cell_type": "markdown",
   "source": [
    "### Redefine the wrapped function\n",
    "\n",
    "Notice that the absense of the `@wraps` decorator in the `time_it` (decorator) function prevents the dosctring from being available in the wrapped function (`get_exponent`)"
   ],
   "metadata": {}
  },
  {
   "cell_type": "code",
   "execution_count": 28,
   "source": [
    "# Create a decorated function to time\n",
    "@time_it\n",
    "def get_exponent(num: Union[int, float], exp: int = 1) -> Union[int, float]:\n",
    "    ''' Determine the exponent of a number.\n",
    "\n",
    "        Args:\n",
    "            num (int or float):\n",
    "                Base number.\n",
    "            exp (int):\n",
    "                Exponent to apply to `num`.\n",
    "\n",
    "        Returns:\n",
    "            exponent (int or float):\n",
    "                Result of the exponent operation.\n",
    "    '''\n",
    "\n",
    "    # Determine the exponent\n",
    "    exponent = num ** exp\n",
    "\n",
    "    # Display the result\n",
    "    print(f'The exponent of {num} to the {exp} power is {exponent}.')\n",
    "\n",
    "    return exponent\n",
    "\n",
    "help(get_exponent)"
   ],
   "outputs": [
    {
     "output_type": "stream",
     "name": "stdout",
     "text": [
      "Help on function wrapper in module __main__:\n",
      "\n",
      "wrapper(*args, **kwargs)\n",
      "\n"
     ]
    }
   ],
   "metadata": {}
  }
 ],
 "metadata": {
  "orig_nbformat": 4,
  "language_info": {
   "name": "python",
   "version": "3.9.6",
   "mimetype": "text/x-python",
   "codemirror_mode": {
    "name": "ipython",
    "version": 3
   },
   "pygments_lexer": "ipython3",
   "nbconvert_exporter": "python",
   "file_extension": ".py"
  },
  "kernelspec": {
   "name": "python3",
   "display_name": "Python 3.9.6 64-bit"
  },
  "interpreter": {
   "hash": "4cd7ab41f5fca4b9b44701077e38c5ffd31fe66a6cab21e0214b68d958d0e462"
  }
 },
 "nbformat": 4,
 "nbformat_minor": 2
}