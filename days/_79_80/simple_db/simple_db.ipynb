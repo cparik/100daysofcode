{
 "cells": [
  {
   "cell_type": "markdown",
   "metadata": {},
   "source": [
    "# Simple DB application with SQLite3."
   ]
  },
  {
   "cell_type": "code",
   "execution_count": 1,
   "metadata": {},
   "outputs": [],
   "source": [
    "# Imports - Python Standard Library\n",
    "import sqlite3"
   ]
  },
  {
   "cell_type": "code",
   "execution_count": 9,
   "metadata": {},
   "outputs": [],
   "source": [
    "# Constants\n",
    "TABLE_NAME = 'Details'\n",
    "CREATE_TABLE = f'CREATE TABLE {TABLE_NAME}'\n",
    "COLUMNS = '(name TEXT, address TEXT, phone_number INT)'"
   ]
  },
  {
   "cell_type": "markdown",
   "metadata": {},
   "source": [
    "The `sqlite3.connect` method takes an argument for the `database` parameter that specifies the name of the database file.\n",
    "\n",
    "- If the database file does not exist, SQLite3 will create the database file and connect to it.\n",
    "- If the database file does exist, SQLite3 will simply connect to the database file."
   ]
  },
  {
   "cell_type": "code",
   "execution_count": 2,
   "metadata": {},
   "outputs": [],
   "source": [
    "# Create a database and attach it to a connection object\n",
    "conn = sqlite3.connect(\n",
    "    database='address_book.db'\n",
    ")"
   ]
  },
  {
   "cell_type": "markdown",
   "metadata": {},
   "source": [
    "An instance of the `sqlite3.Cursor` class is necessary to perform any database navigation or transactions.\n",
    "\n",
    "- Create an instance of the `sqlite3.Cursor` class with `conn.cursor()`\n",
    "- Typically, the variable name for the `sqlite3.Cursor` object is `c`.\n",
    "- Use the `c.execute` method to run SQL transaction command."
   ]
  },
  {
   "cell_type": "code",
   "execution_count": 10,
   "metadata": {},
   "outputs": [],
   "source": [
    "# Create a cursor object\n",
    "cursor = conn.cursor()"
   ]
  },
  {
   "cell_type": "code",
   "execution_count": 13,
   "metadata": {},
   "outputs": [],
   "source": [
    "# Create a multiline string SQL statement to send with the cursor.execute method\n",
    "# Create a table with columns and data types\n",
    "cursor_command = (f\"\"\"\n",
    "    {CREATE_TABLE}\n",
    "    {COLUMNS}\n",
    "\"\"\").strip()"
   ]
  },
  {
   "cell_type": "code",
   "execution_count": 14,
   "metadata": {},
   "outputs": [
    {
     "data": {
      "text/plain": [
       "'CREATE TABLE Details\\n    (name TEXT, address TEXT, phone_number INT)'"
      ]
     },
     "execution_count": 14,
     "metadata": {},
     "output_type": "execute_result"
    }
   ],
   "source": [
    "# Display the SQL command\n",
    "cursor_command"
   ]
  },
  {
   "cell_type": "code",
   "execution_count": 15,
   "metadata": {},
   "outputs": [
    {
     "data": {
      "text/plain": [
       "<sqlite3.Cursor at 0xffff888015c0>"
      ]
     },
     "execution_count": 15,
     "metadata": {},
     "output_type": "execute_result"
    }
   ],
   "source": [
    "# Send the cursor command to the database\n",
    "cursor.execute(cursor_command)"
   ]
  },
  {
   "cell_type": "code",
   "execution_count": 16,
   "metadata": {},
   "outputs": [],
   "source": [
    "# Close the connection\n",
    "conn.close()"
   ]
  }
 ],
 "metadata": {
  "kernelspec": {
   "display_name": "Python 3.10.5 64-bit",
   "language": "python",
   "name": "python3"
  },
  "language_info": {
   "codemirror_mode": {
    "name": "ipython",
    "version": 3
   },
   "file_extension": ".py",
   "mimetype": "text/x-python",
   "name": "python",
   "nbconvert_exporter": "python",
   "pygments_lexer": "ipython3",
   "version": "3.10.5"
  },
  "orig_nbformat": 4,
  "vscode": {
   "interpreter": {
    "hash": "949777d72b0d2535278d3dc13498b2535136f6dfe0678499012e853ee9abcab1"
   }
  }
 },
 "nbformat": 4,
 "nbformat_minor": 2
}
