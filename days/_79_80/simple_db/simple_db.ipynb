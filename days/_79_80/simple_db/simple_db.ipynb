{
 "cells": [
  {
   "cell_type": "markdown",
   "metadata": {},
   "source": [
    "# Simple DB application with SQLite3\n",
    "\n",
    "## Day 1\n",
    "\n",
    "### Create a simple DB"
   ]
  },
  {
   "cell_type": "code",
   "execution_count": 1,
   "metadata": {},
   "outputs": [],
   "source": [
    "# Imports - Python Standard Library\n",
    "import sqlite3"
   ]
  },
  {
   "cell_type": "code",
   "execution_count": 2,
   "metadata": {},
   "outputs": [],
   "source": [
    "# Constants\n",
    "TABLE_NAME = 'Details'\n",
    "CREATE_TABLE = f'CREATE TABLE {TABLE_NAME}'\n",
    "COLUMNS = '(name TEXT, address TEXT, phone_number INT)'\n",
    "DB_NAME = 'address_book.db'\n",
    "NAME_1 = 'Tim'\n",
    "ADDRESS_1 = '123 Anytown, USA'\n",
    "PHONE_1 = '+1 (000) 555-1212'\n",
    "NAME_2 = 'Jane'\n",
    "ADDRESS_2 = '155 Anytown, USA'\n",
    "PHONE_2 = '+1 (000) 555-1111'"
   ]
  },
  {
   "cell_type": "markdown",
   "metadata": {},
   "source": [
    "The `sqlite3.connect` method takes an argument for the `database` parameter that specifies the name of the database file.  Create a connection object with the name of the database.\n",
    "\n",
    "- If the database file does not exist, SQLite3 will create the database file and connect to it.\n",
    "- If the database file does exist, SQLite3 will simply connect to the database file."
   ]
  },
  {
   "cell_type": "code",
   "execution_count": 3,
   "metadata": {},
   "outputs": [],
   "source": [
    "# Create a database and attach it to a connection object\n",
    "conn = sqlite3.connect(\n",
    "    database=DB_NAME\n",
    ")"
   ]
  },
  {
   "cell_type": "markdown",
   "metadata": {},
   "source": [
    "An instance of the `sqlite3.Cursor` class is necessary to perform any database navigation or transactions.\n",
    "\n",
    "- Create an instance of the `sqlite3.Cursor` class with `conn.cursor()`\n",
    "- Typically, the variable name for the `sqlite3.Cursor` object is `c`.\n",
    "- Use the `cursor.execute` method to run SQL transaction command."
   ]
  },
  {
   "cell_type": "code",
   "execution_count": 4,
   "metadata": {},
   "outputs": [],
   "source": [
    "# Create a cursor object\n",
    "cursor = conn.cursor()"
   ]
  },
  {
   "cell_type": "code",
   "execution_count": 5,
   "metadata": {},
   "outputs": [],
   "source": [
    "# Create a multiline string SQL statement to send with the cursor.execute method\n",
    "# Create a table with columns and data types\n",
    "cursor_command = (f\"\"\"\n",
    "    {CREATE_TABLE}\n",
    "    {COLUMNS}\n",
    "\"\"\").strip()"
   ]
  },
  {
   "cell_type": "code",
   "execution_count": 6,
   "metadata": {},
   "outputs": [
    {
     "data": {
      "text/plain": [
       "'CREATE TABLE Details\\n    (name TEXT, address TEXT, phone_number INT)'"
      ]
     },
     "execution_count": 6,
     "metadata": {},
     "output_type": "execute_result"
    }
   ],
   "source": [
    "# Display the SQL command\n",
    "cursor_command"
   ]
  },
  {
   "cell_type": "code",
   "execution_count": null,
   "metadata": {},
   "outputs": [],
   "source": [
    "# Send the cursor command to the database\n",
    "cursor.execute(cursor_command)"
   ]
  },
  {
   "cell_type": "code",
   "execution_count": 7,
   "metadata": {},
   "outputs": [],
   "source": [
    "# Close the connection\n",
    "conn.close()"
   ]
  },
  {
   "cell_type": "markdown",
   "metadata": {},
   "source": [
    "---\n",
    "\n",
    "## Day 2\n",
    "\n",
    "### Insert data into the DB"
   ]
  },
  {
   "cell_type": "code",
   "execution_count": 8,
   "metadata": {},
   "outputs": [],
   "source": [
    "# Imports - Python Standard Library\n",
    "import sqlite3"
   ]
  },
  {
   "cell_type": "code",
   "execution_count": 9,
   "metadata": {},
   "outputs": [],
   "source": [
    "# Establish a connection to the DB\n",
    "conn = sqlite3.connect(\n",
    "    database=DB_NAME\n",
    ")"
   ]
  },
  {
   "cell_type": "code",
   "execution_count": 10,
   "metadata": {},
   "outputs": [],
   "source": [
    "# Create a cursor object for modifying the DB\n",
    "cursor = conn.cursor()"
   ]
  },
  {
   "cell_type": "code",
   "execution_count": 11,
   "metadata": {},
   "outputs": [],
   "source": [
    "# Setup the cursor SQL INSERT command\n",
    "cursor_command = f'''\n",
    "    INSERT INTO {TABLE_NAME}\n",
    "    VALUES (\"{NAME_1}\", \"{ADDRESS_1}\", \"{PHONE_1}\")\n",
    "'''.strip()"
   ]
  },
  {
   "cell_type": "code",
   "execution_count": 13,
   "metadata": {},
   "outputs": [
    {
     "data": {
      "text/plain": [
       "'INSERT INTO Details\\n    VALUES (\"Tim\", \"123 Anytown, USA\", \"+1 (000) 555-1212\")'"
      ]
     },
     "execution_count": 13,
     "metadata": {},
     "output_type": "execute_result"
    }
   ],
   "source": [
    "# Display the cursor_command value\n",
    "cursor_command"
   ]
  },
  {
   "cell_type": "code",
   "execution_count": 12,
   "metadata": {},
   "outputs": [
    {
     "data": {
      "text/plain": [
       "<sqlite3.Cursor at 0xffff867750c0>"
      ]
     },
     "execution_count": 12,
     "metadata": {},
     "output_type": "execute_result"
    }
   ],
   "source": [
    "# Run a SQL INSERT command\n",
    "cursor.execute(cursor_command)"
   ]
  },
  {
   "cell_type": "code",
   "execution_count": 14,
   "metadata": {},
   "outputs": [],
   "source": [
    "# Setup the cursor SQL INSERT command\n",
    "cursor_command = f'''\n",
    "    INSERT INTO {TABLE_NAME}\n",
    "    VALUES (\"{NAME_2}\", \"{ADDRESS_2}\", \"{PHONE_2}\")\n",
    "'''.strip()"
   ]
  },
  {
   "cell_type": "code",
   "execution_count": 15,
   "metadata": {},
   "outputs": [
    {
     "data": {
      "text/plain": [
       "'INSERT INTO Details\\n    VALUES (\"Jane\", \"155 Anytown, USA\", \"+1 (000) 555-1111\")'"
      ]
     },
     "execution_count": 15,
     "metadata": {},
     "output_type": "execute_result"
    }
   ],
   "source": [
    "# Display the cursor_command value\n",
    "cursor_command"
   ]
  },
  {
   "cell_type": "code",
   "execution_count": null,
   "metadata": {},
   "outputs": [],
   "source": [
    "# Run a SQL INSERT command\n",
    "cursor.execute(cursor_command)"
   ]
  },
  {
   "cell_type": "code",
   "execution_count": null,
   "metadata": {},
   "outputs": [],
   "source": [
    "# Commit the session\n",
    "## NOT required within a context manager (with) block\n",
    "conn.commit()"
   ]
  },
  {
   "cell_type": "code",
   "execution_count": 16,
   "metadata": {},
   "outputs": [],
   "source": [
    "# Close the connection\n",
    "conn.close()"
   ]
  },
  {
   "cell_type": "markdown",
   "metadata": {},
   "source": [
    "---\n",
    "\n",
    "## Day 3\n",
    "\n",
    "### Retrieve data from the DB"
   ]
  },
  {
   "cell_type": "code",
   "execution_count": 17,
   "metadata": {},
   "outputs": [],
   "source": [
    "# Imports - Python Standard Library\n",
    "import sqlite3"
   ]
  },
  {
   "cell_type": "code",
   "execution_count": 18,
   "metadata": {},
   "outputs": [],
   "source": [
    "# Create a database and attach it to a connection object\n",
    "conn = sqlite3.connect(\n",
    "    database=DB_NAME\n",
    ")"
   ]
  },
  {
   "cell_type": "code",
   "execution_count": 19,
   "metadata": {},
   "outputs": [],
   "source": [
    "# Create a cursor object for modifying the DB\n",
    "cursor = conn.cursor()"
   ]
  },
  {
   "cell_type": "code",
   "execution_count": 20,
   "metadata": {},
   "outputs": [],
   "source": [
    "# Setup the cursor SQL SELECT command\n",
    "cursor_command = f'''\n",
    "    SELECT name, address, phone_number \n",
    "    FROM {TABLE_NAME}\n",
    "'''.strip()\n",
    "\n",
    "# Alternatively, the following will retrieve the same data\n",
    "# cursor_command = f'''\n",
    "#     SELECT *\n",
    "#     FROM {TABLE_NAME}\n",
    "# '''.strip()"
   ]
  },
  {
   "cell_type": "code",
   "execution_count": 21,
   "metadata": {},
   "outputs": [
    {
     "data": {
      "text/plain": [
       "'SELECT name, address, phone_number \\n    FROM Details'"
      ]
     },
     "execution_count": 21,
     "metadata": {},
     "output_type": "execute_result"
    }
   ],
   "source": [
    "# Display the cursor_command value\n",
    "cursor_command"
   ]
  },
  {
   "cell_type": "code",
   "execution_count": 22,
   "metadata": {},
   "outputs": [],
   "source": [
    "# Select the SQL SELECT query and assign results to a variable\n",
    "results = conn.execute(cursor_command).fetchall()"
   ]
  },
  {
   "cell_type": "code",
   "execution_count": 23,
   "metadata": {},
   "outputs": [
    {
     "data": {
      "text/plain": [
       "[('Tim', '123 Anytown, USA', '+1 (000) 555-1212'),\n",
       " ('Jane', '155 Anytown, USA', '+1 (000) 555-1111'),\n",
       " ('Johnny Appleseed',\n",
       "  '12345 Main St., Las Vegas, NV 91234',\n",
       "  '+1.702.555.1212'),\n",
       " ('Batfish Bob', '5545 Upper Ct., Minneapolis, MN 54682', '+1.309.555.5555'),\n",
       " ('Joe Smith',\n",
       "  '9301 Abe Lincoln Blvd., Vicksburg, MS 71345',\n",
       "  '+1.513.555.1231'),\n",
       " ('Bert Further', '78351 Boston, Ave., Newport, RI 01512', '+1.291.555.1111'),\n",
       " ('Kara Hightown', '7878 MLK Pkwy, Charleston, SC 38231', '+1.291.555.0000'),\n",
       " ('June Elippia',\n",
       "  '93514 Mountain Park Ln., Sacramento, CA 99341',\n",
       "  '+1.916.555.2222')]"
      ]
     },
     "execution_count": 23,
     "metadata": {},
     "output_type": "execute_result"
    }
   ],
   "source": [
    "# Display results\n",
    "results"
   ]
  },
  {
   "cell_type": "code",
   "execution_count": 27,
   "metadata": {},
   "outputs": [],
   "source": [
    "# Create a namedtuple object for simplified access to results data\n",
    "from collections import namedtuple\n",
    "QueryResult = namedtuple(\n",
    "    typename='QueryResults',\n",
    "    field_names=[\n",
    "        'name',\n",
    "        'address',\n",
    "        'phone_number'\n",
    "    ]\n",
    ")"
   ]
  },
  {
   "cell_type": "code",
   "execution_count": 28,
   "metadata": {},
   "outputs": [
    {
     "name": "stdout",
     "output_type": "stream",
     "text": [
      "\n",
      "** Query Results **\n",
      "\n",
      "0. Name: Tim\n",
      "   Address: 123 Anytown, USA\n",
      "   Phone Number: +1 (000) 555-1212\n",
      "\n",
      "1. Name: Jane\n",
      "   Address: 155 Anytown, USA\n",
      "   Phone Number: +1 (000) 555-1111\n",
      "\n",
      "2. Name: Johnny Appleseed\n",
      "   Address: 12345 Main St., Las Vegas, NV 91234\n",
      "   Phone Number: +1.702.555.1212\n",
      "\n",
      "3. Name: Batfish Bob\n",
      "   Address: 5545 Upper Ct., Minneapolis, MN 54682\n",
      "   Phone Number: +1.309.555.5555\n",
      "\n",
      "4. Name: Joe Smith\n",
      "   Address: 9301 Abe Lincoln Blvd., Vicksburg, MS 71345\n",
      "   Phone Number: +1.513.555.1231\n",
      "\n",
      "5. Name: Bert Further\n",
      "   Address: 78351 Boston, Ave., Newport, RI 01512\n",
      "   Phone Number: +1.291.555.1111\n",
      "\n",
      "6. Name: Kara Hightown\n",
      "   Address: 7878 MLK Pkwy, Charleston, SC 38231\n",
      "   Phone Number: +1.291.555.0000\n",
      "\n",
      "7. Name: June Elippia\n",
      "   Address: 93514 Mountain Park Ln., Sacramento, CA 99341\n",
      "   Phone Number: +1.916.555.2222\n",
      "\n"
     ]
    }
   ],
   "source": [
    "# Display friendly results\n",
    "print('\\n** Query Results **\\n')\n",
    "for index, result in enumerate(results):\n",
    "    # Copy data for the current iteration to a namedtuple object\n",
    "    query_result = QueryResult(*result)\n",
    "    print(\n",
    "        f'{index}. Name: {query_result.name}\\n'\n",
    "        f'   Address: {query_result.address}\\n'\n",
    "        f'   Phone Number: {query_result.phone_number}\\n'\n",
    "    )"
   ]
  },
  {
   "cell_type": "code",
   "execution_count": 29,
   "metadata": {},
   "outputs": [],
   "source": [
    "# Close the connection\n",
    "conn.close()"
   ]
  }
 ],
 "metadata": {
  "kernelspec": {
   "display_name": "Python 3.10.5 64-bit",
   "language": "python",
   "name": "python3"
  },
  "language_info": {
   "codemirror_mode": {
    "name": "ipython",
    "version": 3
   },
   "file_extension": ".py",
   "mimetype": "text/x-python",
   "name": "python",
   "nbconvert_exporter": "python",
   "pygments_lexer": "ipython3",
   "version": "3.10.5"
  },
  "orig_nbformat": 4,
  "vscode": {
   "interpreter": {
    "hash": "949777d72b0d2535278d3dc13498b2535136f6dfe0678499012e853ee9abcab1"
   }
  }
 },
 "nbformat": 4,
 "nbformat_minor": 2
}
