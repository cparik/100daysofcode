{
 "cells": [
  {
   "cell_type": "markdown",
   "metadata": {},
   "source": [
    "# Simple DB application with SQLite3\n",
    "\n",
    "## Day 1\n",
    "\n",
    "### Create a simple DB"
   ]
  },
  {
   "cell_type": "code",
   "execution_count": 1,
   "metadata": {},
   "outputs": [],
   "source": [
    "# Imports - Python Standard Library\n",
    "import sqlite3"
   ]
  },
  {
   "cell_type": "code",
   "execution_count": 2,
   "metadata": {},
   "outputs": [],
   "source": [
    "# Constants\n",
    "TABLE_NAME = 'Details'\n",
    "CREATE_TABLE = f'CREATE TABLE {TABLE_NAME}'\n",
    "COLUMNS = '(name TEXT, address TEXT, phone_number INT)'\n",
    "DB_NAME = 'address_book.db'\n",
    "NAME_1 = 'Tim'\n",
    "ADDRESS_1 = '123 Anytown, USA'\n",
    "PHONE_1 = '+1 (000) 555-1212'\n",
    "NAME_2 = 'Jane'\n",
    "ADDRESS_2 = '155 Anytown, USA'\n",
    "PHONE_2 = '+1 (000) 555-1111'"
   ]
  },
  {
   "cell_type": "markdown",
   "metadata": {},
   "source": [
    "The `sqlite3.connect` method takes an argument for the `database` parameter that specifies the name of the database file.  Create a connection object with the name of the database.\n",
    "\n",
    "- If the database file does not exist, SQLite3 will create the database file and connect to it.\n",
    "- If the database file does exist, SQLite3 will simply connect to the database file."
   ]
  },
  {
   "cell_type": "code",
   "execution_count": 3,
   "metadata": {},
   "outputs": [],
   "source": [
    "# Create a database and attach it to a connection object\n",
    "conn = sqlite3.connect(\n",
    "    database=DB_NAME\n",
    ")"
   ]
  },
  {
   "cell_type": "markdown",
   "metadata": {},
   "source": [
    "An instance of the `sqlite3.Cursor` class is necessary to perform any database navigation or transactions.\n",
    "\n",
    "- Create an instance of the `sqlite3.Cursor` class with `conn.cursor()`\n",
    "- Typically, the variable name for the `sqlite3.Cursor` object is `c`.\n",
    "- Use the `cursor.execute` method to run SQL transaction command."
   ]
  },
  {
   "cell_type": "code",
   "execution_count": 4,
   "metadata": {},
   "outputs": [],
   "source": [
    "# Create a cursor object\n",
    "cursor = conn.cursor()"
   ]
  },
  {
   "cell_type": "code",
   "execution_count": 5,
   "metadata": {},
   "outputs": [],
   "source": [
    "# Create a multiline string SQL statement to send with the cursor.execute method\n",
    "# Create a table with columns and data types\n",
    "cursor_command = (f\"\"\"\n",
    "    {CREATE_TABLE}\n",
    "    {COLUMNS}\n",
    "\"\"\").strip()"
   ]
  },
  {
   "cell_type": "code",
   "execution_count": 6,
   "metadata": {},
   "outputs": [
    {
     "data": {
      "text/plain": [
       "'CREATE TABLE Details\\n    (name TEXT, address TEXT, phone_number INT)'"
      ]
     },
     "execution_count": 6,
     "metadata": {},
     "output_type": "execute_result"
    }
   ],
   "source": [
    "# Display the SQL command\n",
    "cursor_command"
   ]
  },
  {
   "cell_type": "code",
   "execution_count": 7,
   "metadata": {},
   "outputs": [
    {
     "data": {
      "text/plain": [
       "<sqlite3.Cursor at 0xffffa8f78cc0>"
      ]
     },
     "execution_count": 7,
     "metadata": {},
     "output_type": "execute_result"
    }
   ],
   "source": [
    "# Send the cursor command to the database\n",
    "cursor.execute(cursor_command)"
   ]
  },
  {
   "cell_type": "code",
   "execution_count": 8,
   "metadata": {},
   "outputs": [],
   "source": [
    "# Close the connection\n",
    "conn.close()"
   ]
  },
  {
   "cell_type": "markdown",
   "metadata": {},
   "source": [
    "---\n",
    "\n",
    "## Day 2\n",
    "\n",
    "### Insert data into the DB"
   ]
  },
  {
   "cell_type": "code",
   "execution_count": 9,
   "metadata": {},
   "outputs": [],
   "source": [
    "# Imports - Python Standard Library\n",
    "import sqlite3"
   ]
  },
  {
   "cell_type": "code",
   "execution_count": 10,
   "metadata": {},
   "outputs": [],
   "source": [
    "# Establish a connection to the DB\n",
    "conn = sqlite3.connect(\n",
    "    database=DB_NAME\n",
    ")"
   ]
  },
  {
   "cell_type": "code",
   "execution_count": 11,
   "metadata": {},
   "outputs": [],
   "source": [
    "# Create a cursor object for modifying the DB\n",
    "cursor = conn.cursor()"
   ]
  },
  {
   "cell_type": "code",
   "execution_count": 12,
   "metadata": {},
   "outputs": [],
   "source": [
    "# Setup the cursor SQL INSERT command\n",
    "cursor_command = f'''\n",
    "    INSERT INTO {TABLE_NAME}\n",
    "    VALUES (\"{NAME_1}\", \"{ADDRESS_1}\", \"{PHONE_1}\")\n",
    "'''.strip()"
   ]
  },
  {
   "cell_type": "code",
   "execution_count": 13,
   "metadata": {},
   "outputs": [
    {
     "data": {
      "text/plain": [
       "'INSERT INTO Details\\n    VALUES (\"Tim\", \"123 Anytown, USA\", \"+1 (000) 555-1212\")'"
      ]
     },
     "execution_count": 13,
     "metadata": {},
     "output_type": "execute_result"
    }
   ],
   "source": [
    "# Display the cursor_command value\n",
    "cursor_command"
   ]
  },
  {
   "cell_type": "code",
   "execution_count": 14,
   "metadata": {},
   "outputs": [
    {
     "data": {
      "text/plain": [
       "<sqlite3.Cursor at 0xffffa8f79140>"
      ]
     },
     "execution_count": 14,
     "metadata": {},
     "output_type": "execute_result"
    }
   ],
   "source": [
    "# Run a SQL INSERT command\n",
    "cursor.execute(cursor_command)"
   ]
  },
  {
   "cell_type": "code",
   "execution_count": 15,
   "metadata": {},
   "outputs": [],
   "source": [
    "# Setup the cursor SQL INSERT command\n",
    "cursor_command = f'''\n",
    "    INSERT INTO {TABLE_NAME}\n",
    "    VALUES (\"{NAME_2}\", \"{ADDRESS_2}\", \"{PHONE_2}\")\n",
    "'''.strip()"
   ]
  },
  {
   "cell_type": "code",
   "execution_count": 16,
   "metadata": {},
   "outputs": [
    {
     "data": {
      "text/plain": [
       "'INSERT INTO Details\\n    VALUES (\"Jane\", \"155 Anytown, USA\", \"+1 (000) 555-1111\")'"
      ]
     },
     "execution_count": 16,
     "metadata": {},
     "output_type": "execute_result"
    }
   ],
   "source": [
    "# Display the cursor_command value\n",
    "cursor_command"
   ]
  },
  {
   "cell_type": "code",
   "execution_count": 17,
   "metadata": {},
   "outputs": [
    {
     "data": {
      "text/plain": [
       "<sqlite3.Cursor at 0xffffa8f79140>"
      ]
     },
     "execution_count": 17,
     "metadata": {},
     "output_type": "execute_result"
    }
   ],
   "source": [
    "# Run a SQL INSERT command\n",
    "cursor.execute(cursor_command)"
   ]
  },
  {
   "cell_type": "code",
   "execution_count": 18,
   "metadata": {},
   "outputs": [],
   "source": [
    "# Commit the session\n",
    "## NOT required within a context manager (with) block\n",
    "conn.commit()"
   ]
  },
  {
   "cell_type": "code",
   "execution_count": 19,
   "metadata": {},
   "outputs": [
    {
     "data": {
      "text/plain": [
       "[('Tim', '123 Anytown, USA', '+1 (000) 555-1212'),\n",
       " ('Jane', '155 Anytown, USA', '+1 (000) 555-1111')]"
      ]
     },
     "execution_count": 19,
     "metadata": {},
     "output_type": "execute_result"
    }
   ],
   "source": [
    "# Select and display all rows from the table\n",
    "conn.execute(f'SELECT * from {TABLE_NAME}').fetchall()"
   ]
  }
 ],
 "metadata": {
  "kernelspec": {
   "display_name": "Python 3.10.5 64-bit",
   "language": "python",
   "name": "python3"
  },
  "language_info": {
   "codemirror_mode": {
    "name": "ipython",
    "version": 3
   },
   "file_extension": ".py",
   "mimetype": "text/x-python",
   "name": "python",
   "nbconvert_exporter": "python",
   "pygments_lexer": "ipython3",
   "version": "3.10.5"
  },
  "orig_nbformat": 4,
  "vscode": {
   "interpreter": {
    "hash": "949777d72b0d2535278d3dc13498b2535136f6dfe0678499012e853ee9abcab1"
   }
  }
 },
 "nbformat": 4,
 "nbformat_minor": 2
}
