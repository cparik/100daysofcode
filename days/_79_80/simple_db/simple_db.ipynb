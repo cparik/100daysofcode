{
 "cells": [
  {
   "cell_type": "markdown",
   "metadata": {},
   "source": [
    "# Simple DB application with SQLite3.\n",
    "\n",
    "## Day 1"
   ]
  },
  {
   "cell_type": "code",
   "execution_count": 1,
   "metadata": {},
   "outputs": [],
   "source": [
    "# Imports - Python Standard Library\n",
    "import sqlite3"
   ]
  },
  {
   "cell_type": "code",
   "execution_count": 2,
   "metadata": {},
   "outputs": [],
   "source": [
    "# Constants\n",
    "TABLE_NAME = 'Details'\n",
    "CREATE_TABLE = f'CREATE TABLE {TABLE_NAME}'\n",
    "COLUMNS = '(name TEXT, address TEXT, phone_number INT)'"
   ]
  },
  {
   "cell_type": "markdown",
   "metadata": {},
   "source": [
    "The `sqlite3.connect` method takes an argument for the `database` parameter that specifies the name of the database file.  Create a connection object with the name of the database.\n",
    "\n",
    "- If the database file does not exist, SQLite3 will create the database file and connect to it.\n",
    "- If the database file does exist, SQLite3 will simply connect to the database file."
   ]
  },
  {
   "cell_type": "code",
   "execution_count": 4,
   "metadata": {},
   "outputs": [],
   "source": [
    "# Create a database and attach it to a connection object\n",
    "conn = sqlite3.connect(\n",
    "    database='address_book.db'\n",
    ")"
   ]
  },
  {
   "cell_type": "markdown",
   "metadata": {},
   "source": [
    "An instance of the `sqlite3.Cursor` class is necessary to perform any database navigation or transactions.\n",
    "\n",
    "- Create an instance of the `sqlite3.Cursor` class with `conn.cursor()`\n",
    "- Typically, the variable name for the `sqlite3.Cursor` object is `c`.\n",
    "- Use the `cursor.execute` method to run SQL transaction command."
   ]
  },
  {
   "cell_type": "code",
   "execution_count": 5,
   "metadata": {},
   "outputs": [],
   "source": [
    "# Create a cursor object\n",
    "cursor = conn.cursor()"
   ]
  },
  {
   "cell_type": "code",
   "execution_count": 6,
   "metadata": {},
   "outputs": [],
   "source": [
    "# Create a multiline string SQL statement to send with the cursor.execute method\n",
    "# Create a table with columns and data types\n",
    "cursor_command = (f\"\"\"\n",
    "    {CREATE_TABLE}\n",
    "    {COLUMNS}\n",
    "\"\"\").strip()"
   ]
  },
  {
   "cell_type": "code",
   "execution_count": 7,
   "metadata": {},
   "outputs": [
    {
     "data": {
      "text/plain": [
       "'CREATE TABLE Details\\n    (name TEXT, address TEXT, phone_number INT)'"
      ]
     },
     "execution_count": 7,
     "metadata": {},
     "output_type": "execute_result"
    }
   ],
   "source": [
    "# Display the SQL command\n",
    "cursor_command"
   ]
  },
  {
   "cell_type": "code",
   "execution_count": 8,
   "metadata": {},
   "outputs": [
    {
     "ename": "OperationalError",
     "evalue": "table Details already exists",
     "output_type": "error",
     "traceback": [
      "\u001b[0;31m---------------------------------------------------------------------------\u001b[0m",
      "\u001b[0;31mOperationalError\u001b[0m                          Traceback (most recent call last)",
      "\u001b[1;32m/workspaces/100daysofcode/days/_79_80/simple_db/simple_db.ipynb Cell 10'\u001b[0m in \u001b[0;36m<cell line: 2>\u001b[0;34m()\u001b[0m\n\u001b[1;32m      <a href='vscode-notebook-cell://dev-container%2B2f55736572732f68756c6c742f44726f70626f782f636f64652f706572736f6e616c2f313030646179736f66636f6465/workspaces/100daysofcode/days/_79_80/simple_db/simple_db.ipynb#ch0000009vscode-remote?line=0'>1</a>\u001b[0m \u001b[39m# Send the cursor command to the database\u001b[39;00m\n\u001b[0;32m----> <a href='vscode-notebook-cell://dev-container%2B2f55736572732f68756c6c742f44726f70626f782f636f64652f706572736f6e616c2f313030646179736f66636f6465/workspaces/100daysofcode/days/_79_80/simple_db/simple_db.ipynb#ch0000009vscode-remote?line=1'>2</a>\u001b[0m cursor\u001b[39m.\u001b[39;49mexecute(cursor_command)\n",
      "\u001b[0;31mOperationalError\u001b[0m: table Details already exists"
     ]
    }
   ],
   "source": [
    "# Send the cursor command to the database\n",
    "cursor.execute(cursor_command)"
   ]
  },
  {
   "cell_type": "code",
   "execution_count": 9,
   "metadata": {},
   "outputs": [],
   "source": [
    "# Close the connection\n",
    "conn.close()"
   ]
  }
 ],
 "metadata": {
  "kernelspec": {
   "display_name": "Python 3.10.5 64-bit",
   "language": "python",
   "name": "python3"
  },
  "language_info": {
   "codemirror_mode": {
    "name": "ipython",
    "version": 3
   },
   "file_extension": ".py",
   "mimetype": "text/x-python",
   "name": "python",
   "nbconvert_exporter": "python",
   "pygments_lexer": "ipython3",
   "version": "3.10.5"
  },
  "orig_nbformat": 4,
  "vscode": {
   "interpreter": {
    "hash": "949777d72b0d2535278d3dc13498b2535136f6dfe0678499012e853ee9abcab1"
   }
  }
 },
 "nbformat": 4,
 "nbformat_minor": 2
}
