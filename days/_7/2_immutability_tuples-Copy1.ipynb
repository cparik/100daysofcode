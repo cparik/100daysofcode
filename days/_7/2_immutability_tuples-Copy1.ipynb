{
 "cells": [
  {
   "cell_type": "markdown",
   "id": "c72adc0d-047c-41b4-b279-ce76b0c40b7f",
   "metadata": {},
   "source": [
    "## `tuple` Objects\n",
    "#### Immutable sequence (list-like) object"
   ]
  },
  {
   "cell_type": "code",
   "execution_count": 1,
   "id": "d2caa0a5-b6f3-4138-a896-5ea626df7ee4",
   "metadata": {},
   "outputs": [],
   "source": [
    "# Create a tuple (these are three example options)\n",
    "num_tuple = (1, 2, 3, 4, 5)\n",
    "num_tuple_1 = tuple(range(1,6))\n",
    "num_tuple_2 = tuple([1, 2, 3, 4, 5])"
   ]
  },
  {
   "cell_type": "code",
   "execution_count": 2,
   "id": "a1ffe947-4d9e-4415-98f1-7497d30f64a0",
   "metadata": {},
   "outputs": [
    {
     "data": {
      "text/plain": [
       "(1, 2, 3, 4, 5)"
      ]
     },
     "execution_count": 2,
     "metadata": {},
     "output_type": "execute_result"
    }
   ],
   "source": [
    "num_tuple"
   ]
  },
  {
   "cell_type": "code",
   "execution_count": 3,
   "id": "3ebfea81-4e3b-47c0-9480-a2e46e030426",
   "metadata": {},
   "outputs": [
    {
     "data": {
      "text/plain": [
       "(1, 2, 3, 4, 5)"
      ]
     },
     "execution_count": 3,
     "metadata": {},
     "output_type": "execute_result"
    }
   ],
   "source": [
    "num_tuple_1"
   ]
  },
  {
   "cell_type": "code",
   "execution_count": 4,
   "id": "ff0a8772-af90-4a94-a5e1-bbad24990c03",
   "metadata": {
    "tags": []
   },
   "outputs": [
    {
     "data": {
      "text/plain": [
       "(1, 2, 3, 4, 5)"
      ]
     },
     "execution_count": 4,
     "metadata": {},
     "output_type": "execute_result"
    }
   ],
   "source": [
    "num_tuple_2"
   ]
  },
  {
   "cell_type": "markdown",
   "id": "25e2a8f8-48ee-4431-81e8-b31daf9e9b82",
   "metadata": {},
   "source": [
    "---"
   ]
  },
  {
   "cell_type": "code",
   "execution_count": 5,
   "id": "d7ffe7fb-4090-4363-8ef6-10df2463373f",
   "metadata": {},
   "outputs": [
    {
     "name": "stdout",
     "output_type": "stream",
     "text": [
      "'TypeError(\"\\'tuple\\' object does not support item assignment\")'\n"
     ]
    }
   ],
   "source": [
    "# Modifying a tuple index results in an error\n",
    "try:\n",
    "    num_tuple[0] = 0\n",
    "except TypeError as e:\n",
    "    print(repr(f'{e!r}'))"
   ]
  },
  {
   "cell_type": "code",
   "execution_count": 6,
   "id": "3102ee55-b69b-45f0-a2e0-fecdaafda45b",
   "metadata": {},
   "outputs": [
    {
     "data": {
      "text/plain": [
       "(1, 2, 3, 4, 5)"
      ]
     },
     "execution_count": 6,
     "metadata": {},
     "output_type": "execute_result"
    }
   ],
   "source": [
    "num_tuple"
   ]
  },
  {
   "cell_type": "markdown",
   "id": "7ae72c0d-4899-455e-8e38-973daf01de00",
   "metadata": {},
   "source": [
    "---"
   ]
  },
  {
   "cell_type": "code",
   "execution_count": 7,
   "id": "f41adb56-03ce-444e-8fc0-5a4ce76adfc0",
   "metadata": {},
   "outputs": [],
   "source": [
    "# Convert a tuple to a list\n",
    "my_list = list(num_tuple)"
   ]
  },
  {
   "cell_type": "code",
   "execution_count": 8,
   "id": "e1a30b21-7445-42f0-a6aa-e65eb23def82",
   "metadata": {},
   "outputs": [
    {
     "data": {
      "text/plain": [
       "[1, 2, 3, 4, 5]"
      ]
     },
     "execution_count": 8,
     "metadata": {},
     "output_type": "execute_result"
    }
   ],
   "source": [
    "my_list"
   ]
  }
 ],
 "metadata": {
  "kernelspec": {
   "display_name": "Python 3",
   "language": "python",
   "name": "python3"
  },
  "language_info": {
   "codemirror_mode": {
    "name": "ipython",
    "version": 3
   },
   "file_extension": ".py",
   "mimetype": "text/x-python",
   "name": "python",
   "nbconvert_exporter": "python",
   "pygments_lexer": "ipython3",
   "version": "3.9.4"
  }
 },
 "nbformat": 4,
 "nbformat_minor": 5
}
