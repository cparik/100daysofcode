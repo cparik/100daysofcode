{
 "cells": [
  {
   "cell_type": "markdown",
   "id": "c72adc0d-047c-41b4-b279-ce76b0c40b7f",
   "metadata": {},
   "source": [
    "## `dict` Objects"
   ]
  },
  {
   "cell_type": "code",
   "execution_count": 1,
   "id": "d2caa0a5-b6f3-4138-a896-5ea626df7ee4",
   "metadata": {},
   "outputs": [],
   "source": [
    "# Create a dictionary with several key/value pairs\n",
    "family_age_dict = {\n",
    "    'Tim': 40,\n",
    "    'Sara': 41,\n",
    "    'Lily': 13,\n",
    "    'Ella': 10\n",
    "}"
   ]
  },
  {
   "cell_type": "code",
   "execution_count": 2,
   "id": "a1ffe947-4d9e-4415-98f1-7497d30f64a0",
   "metadata": {},
   "outputs": [
    {
     "data": {
      "text/plain": [
       "{'Tim': 40, 'Sara': 41, 'Lily': 13, 'Ella': 10}"
      ]
     },
     "execution_count": 2,
     "metadata": {},
     "output_type": "execute_result"
    }
   ],
   "source": [
    "family_age_dict"
   ]
  },
  {
   "cell_type": "markdown",
   "id": "e9f028e4-e9b3-42d9-acee-bf955630d365",
   "metadata": {},
   "source": [
    "---"
   ]
  },
  {
   "cell_type": "code",
   "execution_count": 3,
   "id": "6b498223-ea55-432e-a9d2-7f38edd12ccc",
   "metadata": {},
   "outputs": [],
   "source": [
    "# Create a blank dictionary\n",
    "family_hair_dict = {}"
   ]
  },
  {
   "cell_type": "code",
   "execution_count": 4,
   "id": "75c11f34-f70a-4ccd-bd55-39199df62566",
   "metadata": {},
   "outputs": [],
   "source": [
    "# Add values to the blank dictionary\n",
    "family_hair_dict['Tim'] = 'Blonde'\n",
    "family_hair_dict['Sara'] = 'Brown'\n",
    "family_hair_dict.update(\n",
    "    {\n",
    "        'Lily': 'Brown',\n",
    "        'Ella': 'Blonde'\n",
    "    }\n",
    ")"
   ]
  },
  {
   "cell_type": "code",
   "execution_count": 5,
   "id": "4d6cae82-113c-48fb-ad93-cb97a307cecf",
   "metadata": {},
   "outputs": [
    {
     "data": {
      "text/plain": [
       "{'Tim': 'Blonde', 'Sara': 'Brown', 'Lily': 'Brown', 'Ella': 'Blonde'}"
      ]
     },
     "execution_count": 5,
     "metadata": {},
     "output_type": "execute_result"
    }
   ],
   "source": [
    "family_hair_dict"
   ]
  },
  {
   "cell_type": "markdown",
   "id": "25e2a8f8-48ee-4431-81e8-b31daf9e9b82",
   "metadata": {},
   "source": [
    "---"
   ]
  },
  {
   "cell_type": "code",
   "execution_count": 6,
   "id": "d7ffe7fb-4090-4363-8ef6-10df2463373f",
   "metadata": {},
   "outputs": [
    {
     "data": {
      "text/plain": [
       "dict_keys(['Tim', 'Sara', 'Lily', 'Ella'])"
      ]
     },
     "execution_count": 6,
     "metadata": {},
     "output_type": "execute_result"
    }
   ],
   "source": [
    "# Display a list of dictionary keys\n",
    "family_hair_dict.keys()"
   ]
  },
  {
   "cell_type": "code",
   "execution_count": 7,
   "id": "3102ee55-b69b-45f0-a2e0-fecdaafda45b",
   "metadata": {},
   "outputs": [
    {
     "data": {
      "text/plain": [
       "dict_values(['Blonde', 'Brown', 'Brown', 'Blonde'])"
      ]
     },
     "execution_count": 7,
     "metadata": {},
     "output_type": "execute_result"
    }
   ],
   "source": [
    "# Display a list of dictionary values\n",
    "family_hair_dict.values()"
   ]
  },
  {
   "cell_type": "code",
   "execution_count": 8,
   "id": "dac5f793-4ea1-4058-af1e-33ddd3117ada",
   "metadata": {},
   "outputs": [
    {
     "data": {
      "text/plain": [
       "dict_items([('Tim', 'Blonde'), ('Sara', 'Brown'), ('Lily', 'Brown'), ('Ella', 'Blonde')])"
      ]
     },
     "execution_count": 8,
     "metadata": {},
     "output_type": "execute_result"
    }
   ],
   "source": [
    "# Display an iterable of keys and values\n",
    "family_hair_dict.items()"
   ]
  },
  {
   "cell_type": "markdown",
   "id": "7ae72c0d-4899-455e-8e38-973daf01de00",
   "metadata": {},
   "source": [
    "---"
   ]
  },
  {
   "cell_type": "code",
   "execution_count": 9,
   "id": "f41adb56-03ce-444e-8fc0-5a4ce76adfc0",
   "metadata": {},
   "outputs": [
    {
     "name": "stdout",
     "output_type": "stream",
     "text": [
      "Tim\n",
      "Sara\n",
      "Lily\n",
      "Ella\n"
     ]
    }
   ],
   "source": [
    "# Iterate over and display all keys\n",
    "for keys in family_hair_dict.keys():\n",
    "    print(keys)"
   ]
  },
  {
   "cell_type": "code",
   "execution_count": 10,
   "id": "e1a30b21-7445-42f0-a6aa-e65eb23def82",
   "metadata": {},
   "outputs": [
    {
     "name": "stdout",
     "output_type": "stream",
     "text": [
      "Blonde\n",
      "Brown\n",
      "Brown\n",
      "Blonde\n"
     ]
    }
   ],
   "source": [
    "# Iterate over and display all values\n",
    "for keys in family_hair_dict.values():\n",
    "    print(keys)"
   ]
  },
  {
   "cell_type": "markdown",
   "id": "dd1f6afb-ec83-4065-8211-b08b135be5a1",
   "metadata": {},
   "source": [
    "---"
   ]
  },
  {
   "cell_type": "code",
   "execution_count": 11,
   "id": "8f06d650-41ad-4663-823d-deaa71c65ba9",
   "metadata": {},
   "outputs": [],
   "source": [
    "# Iterate over all keys and values"
   ]
  },
  {
   "cell_type": "code",
   "execution_count": 12,
   "id": "de26470a-8f56-4e08-b5c7-70678dcd940c",
   "metadata": {},
   "outputs": [
    {
     "name": "stdout",
     "output_type": "stream",
     "text": [
      "Keys: Tim\n",
      " \tValues: Blonde\n",
      "Keys: Sara\n",
      " \tValues: Brown\n",
      "Keys: Lily\n",
      " \tValues: Brown\n",
      "Keys: Ella\n",
      " \tValues: Blonde\n"
     ]
    }
   ],
   "source": [
    "for keys, values in family_hair_dict.items():\n",
    "    print(f'Keys: {keys}\\n',\n",
    "          f'\\tValues: {values}')"
   ]
  },
  {
   "cell_type": "code",
   "execution_count": 13,
   "id": "9deade03-89fe-4eb0-8a9a-98154c29e5d8",
   "metadata": {},
   "outputs": [
    {
     "data": {
      "text/plain": [
       "dict_items([('Tim', 'Blonde'), ('Sara', 'Brown'), ('Lily', 'Brown'), ('Ella', 'Blonde')])"
      ]
     },
     "execution_count": 13,
     "metadata": {},
     "output_type": "execute_result"
    }
   ],
   "source": [
    "family_hair_dict.items()"
   ]
  }
 ],
 "metadata": {
  "kernelspec": {
   "display_name": "Python 3",
   "language": "python",
   "name": "python3"
  },
  "language_info": {
   "codemirror_mode": {
    "name": "ipython",
    "version": 3
   },
   "file_extension": ".py",
   "mimetype": "text/x-python",
   "name": "python",
   "nbconvert_exporter": "python",
   "pygments_lexer": "ipython3",
   "version": "3.9.4"
  }
 },
 "nbformat": 4,
 "nbformat_minor": 5
}
