{
 "cells": [
  {
   "cell_type": "markdown",
   "metadata": {},
   "source": [
    "## `datetime` Objects\n",
    "\n",
    "\n",
    "Create objects for working with **dates** and **times** objects.\n",
    "\n",
    "---\n"
   ]
  },
  {
   "cell_type": "code",
   "execution_count": 1,
   "metadata": {},
   "outputs": [],
   "source": [
    "# Import the 'datetime' class from the 'datetime' module\n",
    "from datetime import datetime\n"
   ]
  },
  {
   "cell_type": "code",
   "execution_count": 2,
   "metadata": {},
   "outputs": [
    {
     "name": "stdout",
     "output_type": "stream",
     "text": [
      "2021-04-19 06:25:37.328289\n"
     ]
    }
   ],
   "source": [
    "# Assign the current date and time to a variable\n",
    "today = datetime.today()\n",
    "print(today)\n"
   ]
  },
  {
   "cell_type": "code",
   "execution_count": 3,
   "metadata": {},
   "outputs": [
    {
     "name": "stdout",
     "output_type": "stream",
     "text": [
      "<class 'datetime.datetime'>\n"
     ]
    }
   ],
   "source": [
    "# Print the type of the 'today' variable (datetime.datetime class object)\n",
    "print(type(today))\n"
   ]
  },
  {
   "cell_type": "markdown",
   "metadata": {},
   "source": [
    "---\n",
    "\n",
    "## `date` Objects\n",
    "\n",
    "\n",
    "Create objects for working with **dates**.\n"
   ]
  },
  {
   "cell_type": "code",
   "execution_count": 4,
   "metadata": {},
   "outputs": [],
   "source": [
    "# Import the 'date' class from the 'datetime' module\n",
    "from datetime import date\n"
   ]
  },
  {
   "cell_type": "code",
   "execution_count": 5,
   "metadata": {},
   "outputs": [
    {
     "name": "stdout",
     "output_type": "stream",
     "text": [
      "2021-04-19\n"
     ]
    }
   ],
   "source": [
    "# Assign the current date to a variable\n",
    "todaydate = date.today()\n",
    "print(todaydate)"
   ]
  },
  {
   "cell_type": "code",
   "execution_count": 6,
   "metadata": {},
   "outputs": [
    {
     "name": "stdout",
     "output_type": "stream",
     "text": [
      "<class 'datetime.date'>\n"
     ]
    }
   ],
   "source": [
    "# Print the type of the 'today' variable (datetime.date class object)\n",
    "print(type(todaydate))\n"
   ]
  },
  {
   "cell_type": "code",
   "execution_count": 7,
   "metadata": {},
   "outputs": [],
   "source": [
    "# Import the Pretty Print module\n",
    "from pprint import pprint as pp\n"
   ]
  },
  {
   "cell_type": "code",
   "execution_count": 8,
   "metadata": {},
   "outputs": [
    {
     "name": "stdout",
     "output_type": "stream",
     "text": [
      "['__add__',\n",
      " '__class__',\n",
      " '__delattr__',\n",
      " '__dir__',\n",
      " '__doc__',\n",
      " '__eq__',\n",
      " '__format__',\n",
      " '__ge__',\n",
      " '__getattribute__',\n",
      " '__gt__',\n",
      " '__hash__',\n",
      " '__init__',\n",
      " '__init_subclass__',\n",
      " '__le__',\n",
      " '__lt__',\n",
      " '__ne__',\n",
      " '__new__',\n",
      " '__radd__',\n",
      " '__reduce__',\n",
      " '__reduce_ex__',\n",
      " '__repr__',\n",
      " '__rsub__',\n",
      " '__setattr__',\n",
      " '__sizeof__',\n",
      " '__str__',\n",
      " '__sub__',\n",
      " '__subclasshook__',\n",
      " 'ctime',\n",
      " 'day',\n",
      " 'fromisocalendar',\n",
      " 'fromisoformat',\n",
      " 'fromordinal',\n",
      " 'fromtimestamp',\n",
      " 'isocalendar',\n",
      " 'isoformat',\n",
      " 'isoweekday',\n",
      " 'max',\n",
      " 'min',\n",
      " 'month',\n",
      " 'replace',\n",
      " 'resolution',\n",
      " 'strftime',\n",
      " 'timetuple',\n",
      " 'today',\n",
      " 'toordinal',\n",
      " 'weekday',\n",
      " 'year']\n"
     ]
    }
   ],
   "source": [
    "# List the attributes and methods for 'todaydate'\n",
    "pp(dir(todaydate))\n"
   ]
  },
  {
   "cell_type": "code",
   "execution_count": 9,
   "metadata": {},
   "outputs": [
    {
     "name": "stdout",
     "output_type": "stream",
     "text": [
      "Current day: 19\n",
      "Current month: 4\n",
      "Current year: 2021\n"
     ]
    }
   ],
   "source": [
    "# Print individual attributes of 'todaydate'\n",
    "print(f'Current day: {todaydate.day}')\n",
    "\n",
    "print(f'Current month: {todaydate.month}')\n",
    "\n",
    "print(f'Current year: {todaydate.year}')\n"
   ]
  },
  {
   "cell_type": "markdown",
   "metadata": {},
   "source": [
    "---\n",
    "\n",
    "## Math with `datetime` objects\n"
   ]
  },
  {
   "cell_type": "code",
   "execution_count": 10,
   "metadata": {},
   "outputs": [
    {
     "name": "stdout",
     "output_type": "stream",
     "text": [
      "2021-12-25\n"
     ]
    }
   ],
   "source": [
    "## Create a date object for XMAS\n",
    "xmas = date(todaydate.year, 12, 25)\n",
    "print(xmas)"
   ]
  },
  {
   "cell_type": "code",
   "execution_count": 11,
   "metadata": {},
   "outputs": [
    {
     "data": {
      "text/plain": [
       "datetime.timedelta(days=250)"
      ]
     },
     "execution_count": 11,
     "metadata": {},
     "output_type": "execute_result"
    }
   ],
   "source": [
    "# Calculate the delta between today and XMAS\n",
    "xmas - todaydate\n"
   ]
  },
  {
   "cell_type": "code",
   "execution_count": 12,
   "metadata": {},
   "outputs": [
    {
     "name": "stdout",
     "output_type": "stream",
     "text": [
      "250\n"
     ]
    }
   ],
   "source": [
    "# Calculate the delta between today and XMAS, in days only, with the days() attribute\n",
    "xmas_countdown = (xmas - todaydate).days\n",
    "print(xmas_countdown)\n"
   ]
  },
  {
   "cell_type": "code",
   "execution_count": 13,
   "metadata": {},
   "outputs": [
    {
     "name": "stdout",
     "output_type": "stream",
     "text": [
      "250 days until XMAS.\n"
     ]
    }
   ],
   "source": [
    "# Create a conditional expression for a date delta calculation\n",
    "if todaydate == 1:\n",
    "    day_unit = 'day'\n",
    "else:\n",
    "    day_unit = 'days'\n",
    "\n",
    "if todaydate == xmas:\n",
    "    print('Today is XMAS!')\n",
    "elif todaydate < xmas:\n",
    "    print(f'{xmas_countdown} {day_unit} until XMAS.')\n",
    "else:\n",
    "    print(f'XMAS ({xmas}) is in the past.')\n",
    "\n"
   ]
  },
  {
   "cell_type": "markdown",
   "metadata": {},
   "source": [
    "\n",
    "---\n",
    "\n",
    "## Calculating `timedelta`\n",
    "\n",
    "Determine the different in time between **datetime** objects."
   ]
  },
  {
   "cell_type": "code",
   "execution_count": 14,
   "metadata": {
    "tags": []
   },
   "outputs": [],
   "source": [
    "# Import the 'timedelta' class from the 'datetime' module\n",
    "from datetime import timedelta"
   ]
  },
  {
   "cell_type": "code",
   "execution_count": 15,
   "metadata": {},
   "outputs": [
    {
     "name": "stdout",
     "output_type": "stream",
     "text": [
      "4 days, 10:00:00\n"
     ]
    }
   ],
   "source": [
    "# Create a timedelta object\n",
    "t_delta = timedelta(days=4, hours=10)\n",
    "print(t_delta)"
   ]
  },
  {
   "cell_type": "code",
   "execution_count": 16,
   "metadata": {},
   "outputs": [
    {
     "name": "stdout",
     "output_type": "stream",
     "text": [
      "<class 'datetime.timedelta'>\n"
     ]
    }
   ],
   "source": [
    "# Print the type of the 't_delta' variable (datetime.timedelta class object)\n",
    "print(type(t_delta))\n"
   ]
  },
  {
   "cell_type": "code",
   "execution_count": 17,
   "metadata": {},
   "outputs": [
    {
     "name": "stdout",
     "output_type": "stream",
     "text": [
      "['__abs__',\n",
      " '__add__',\n",
      " '__bool__',\n",
      " '__class__',\n",
      " '__delattr__',\n",
      " '__dir__',\n",
      " '__divmod__',\n",
      " '__doc__',\n",
      " '__eq__',\n",
      " '__floordiv__',\n",
      " '__format__',\n",
      " '__ge__',\n",
      " '__getattribute__',\n",
      " '__gt__',\n",
      " '__hash__',\n",
      " '__init__',\n",
      " '__init_subclass__',\n",
      " '__le__',\n",
      " '__lt__',\n",
      " '__mod__',\n",
      " '__mul__',\n",
      " '__ne__',\n",
      " '__neg__',\n",
      " '__new__',\n",
      " '__pos__',\n",
      " '__radd__',\n",
      " '__rdivmod__',\n",
      " '__reduce__',\n",
      " '__reduce_ex__',\n",
      " '__repr__',\n",
      " '__rfloordiv__',\n",
      " '__rmod__',\n",
      " '__rmul__',\n",
      " '__rsub__',\n",
      " '__rtruediv__',\n",
      " '__setattr__',\n",
      " '__sizeof__',\n",
      " '__str__',\n",
      " '__sub__',\n",
      " '__subclasshook__',\n",
      " '__truediv__',\n",
      " 'days',\n",
      " 'max',\n",
      " 'microseconds',\n",
      " 'min',\n",
      " 'resolution',\n",
      " 'seconds',\n",
      " 'total_seconds']\n"
     ]
    }
   ],
   "source": [
    "# List the attributes and methods for 'todaydate'\n",
    "pp(dir(t_delta))\n"
   ]
  },
  {
   "cell_type": "code",
   "execution_count": 18,
   "metadata": {},
   "outputs": [
    {
     "name": "stdout",
     "output_type": "stream",
     "text": [
      "Time delta days: 4\n"
     ]
    }
   ],
   "source": [
    "# Print the 'days' attributes of 't_delta'\n",
    "print(f'Time delta days: {t_delta.days}')\n"
   ]
  },
  {
   "cell_type": "code",
   "execution_count": 19,
   "metadata": {},
   "outputs": [
    {
     "name": "stdout",
     "output_type": "stream",
     "text": [
      "Time delta seconds: 36000\n"
     ]
    }
   ],
   "source": [
    "# Print the 'seconds' attributes of 't_delta'\n",
    "# Cannot exceed 24 hours worth of seconds so the output is the total seconds in the number of hours (10) in 't_delta'\n",
    "print(f'Time delta seconds: {t_delta.seconds}')\n"
   ]
  },
  {
   "cell_type": "code",
   "execution_count": 20,
   "metadata": {},
   "outputs": [
    {
     "name": "stdout",
     "output_type": "stream",
     "text": [
      "Time delta hours: 10.0\n"
     ]
    }
   ],
   "source": [
    "# Calculate the number of hours in 't_delta'\n",
    "print(f'Time delta hours: {t_delta.seconds / 60 / 60}')"
   ]
  },
  {
   "cell_type": "code",
   "execution_count": 21,
   "metadata": {},
   "outputs": [
    {
     "name": "stdout",
     "output_type": "stream",
     "text": [
      "2021-04-23 16:25:37.328289\n",
      "<class 'datetime.datetime'>\n"
     ]
    }
   ],
   "source": [
    "# Calculate the sum of the current date and time with the time delta (to get a future date/time)\n",
    "eta = today + t_delta\n",
    "print(eta)\n",
    "print(type(eta))"
   ]
  },
  {
   "cell_type": "code",
   "execution_count": 22,
   "metadata": {},
   "outputs": [
    {
     "name": "stdout",
     "output_type": "stream",
     "text": [
      "Option #1 - My ETA is: 2021-04-23 16:25:37.328289\n",
      "Option #2 - My ETA is: 2021-04-23 16:25:37.328289\n"
     ]
    }
   ],
   "source": [
    "# Alternative syntax options, to demonstrate converting a datetime object to a string\n",
    "print(f'Option #1 - My ETA is: {eta}')\n",
    "print(f'Option #2 - My ETA is: {str(eta)}')"
   ]
  }
 ],
 "metadata": {
  "kernelspec": {
   "display_name": "Python 3 (ipykernel)",
   "language": "python",
   "name": "python3"
  },
  "language_info": {
   "codemirror_mode": {
    "name": "ipython",
    "version": 3
   },
   "file_extension": ".py",
   "mimetype": "text/x-python",
   "name": "python",
   "nbconvert_exporter": "python",
   "pygments_lexer": "ipython3",
   "version": "3.9.6"
  }
 },
 "nbformat": 4,
 "nbformat_minor": 4
}
