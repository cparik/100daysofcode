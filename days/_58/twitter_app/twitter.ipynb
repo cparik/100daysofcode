{
 "cells": [
  {
   "cell_type": "markdown",
   "metadata": {},
   "source": [
    "# Twitter API\n",
    "\n",
    "Work with the `tweepy` and `wordcloud` modules to interact with the Twitter API, using `tweepy` and its **Cursor pagination object** to work with the PyBites Twitter account.\n",
    "\n",
    "`tweepy.Cursor` is an efficient way to loop over tweets."
   ]
  },
  {
   "cell_type": "markdown",
   "metadata": {},
   "source": [
    "## Objectives\n",
    "\n",
    "- Get the most popular Tweets by the number of likes/re-tweets.\n",
    "- Determine the most common hashtags and mentions.\n",
    "- Create a wordcloud of the tweets."
   ]
  },
  {
   "cell_type": "code",
   "execution_count": 1,
   "metadata": {},
   "outputs": [],
   "source": [
    "# Imports - Python Standard Library\n",
    "from collections import namedtuple, Counter\n",
    "from os import getenv\n",
    "import re\n",
    "\n",
    "# Imports - Third-Party\n",
    "from PIL import Image\n",
    "from wordcloud import WordCloud, STOPWORDS\n",
    "import dotenv\n",
    "import matplotlib.pyplot as plt\n",
    "import numpy as np\n",
    "import tweepy"
   ]
  },
  {
   "cell_type": "code",
   "execution_count": 2,
   "metadata": {},
   "outputs": [
    {
     "data": {
      "text/plain": [
       "True"
      ]
     },
     "execution_count": 2,
     "metadata": {},
     "output_type": "execute_result"
    }
   ],
   "source": [
    "# Load .env file variables\n",
    "dotenv.load_dotenv()"
   ]
  },
  {
   "cell_type": "code",
   "execution_count": 3,
   "metadata": {},
   "outputs": [],
   "source": [
    "# namedtuple objects\n",
    "Tweet = namedtuple(\n",
    "    typename='Tweet',\n",
    "    field_names=[\n",
    "        'id',\n",
    "        'text',\n",
    "        'created',\n",
    "        'likes',\n",
    "        're_tweets'\n",
    "    ]\n",
    ")"
   ]
  },
  {
   "cell_type": "code",
   "execution_count": 4,
   "metadata": {},
   "outputs": [],
   "source": [
    "# Constants\n",
    "TWITTER_ACCOUNT = 'pybites'\n",
    "TWITTER_KEY = getenv('TWITTER_KEY')\n",
    "TWITTER_SECRET = getenv('TWITTER_SECRET')\n",
    "TWITTER_ACCESS_TOKEN = getenv('TWITTER_ACCESS_TOKEN')\n",
    "TWITTER_ACCESS_SECRET = getenv('TWITTER_ACCESS_SECRET')"
   ]
  },
  {
   "cell_type": "code",
   "execution_count": 5,
   "metadata": {},
   "outputs": [],
   "source": [
    "# Create a tweepy authentication object\n",
    "auth = tweepy.OAuthHandler(\n",
    "    consumer_key=TWITTER_KEY,\n",
    "    consumer_secret=TWITTER_SECRET\n",
    ")"
   ]
  },
  {
   "cell_type": "code",
   "execution_count": 6,
   "metadata": {},
   "outputs": [],
   "source": [
    "# Set the access token for the authentication object\n",
    "auth.set_access_token(\n",
    "    key=TWITTER_ACCESS_TOKEN,\n",
    "    secret=TWITTER_ACCESS_SECRET\n",
    ")"
   ]
  },
  {
   "cell_type": "code",
   "execution_count": 7,
   "metadata": {},
   "outputs": [],
   "source": [
    "# Authenticate and create an API object\n",
    "api = tweepy.API(\n",
    "    auth=auth\n",
    ")"
   ]
  },
  {
   "cell_type": "code",
   "execution_count": 8,
   "metadata": {},
   "outputs": [
    {
     "name": "stdout",
     "output_type": "stream",
     "text": [
      "<tweepy.api.API object at 0x7fcd0b854520>\n"
     ]
    }
   ],
   "source": [
    "# Display the API object\n",
    "print(api)"
   ]
  },
  {
   "cell_type": "code",
   "execution_count": 9,
   "metadata": {},
   "outputs": [],
   "source": [
    "# Use tweepy.Cursor to get tweets from the Twitter API\n",
    "tweets = tweepy.Cursor(\n",
    "    method=api.user_timeline,\n",
    "    screen_name=TWITTER_ACCOUNT,\n",
    "    exclude_replies=False,\n",
    "    include_rts=True\n",
    ").items()"
   ]
  },
  {
   "cell_type": "code",
   "execution_count": 10,
   "metadata": {},
   "outputs": [],
   "source": [
    "# Create a generator function to get all tweets\n",
    "def get_tweets():\n",
    "    for tweet in tweets:\n",
    "        yield Tweet(\n",
    "            id=tweet.id,\n",
    "            text=tweet.text,\n",
    "            created=tweet.created_at,\n",
    "            likes=tweet.favorite_count,\n",
    "            re_tweets=tweet.retweet_count\n",
    "        )"
   ]
  },
  {
   "cell_type": "code",
   "execution_count": 11,
   "metadata": {},
   "outputs": [],
   "source": [
    "# Create a list of tweets from the generator function\n",
    "tweets = list(get_tweets())"
   ]
  },
  {
   "cell_type": "code",
   "execution_count": 12,
   "metadata": {},
   "outputs": [
    {
     "name": "stdout",
     "output_type": "stream",
     "text": [
      "3196\n"
     ]
    }
   ],
   "source": [
    "# Display the number of tweets\n",
    "print(len(tweets))"
   ]
  },
  {
   "cell_type": "markdown",
   "metadata": {},
   "source": [
    "---"
   ]
  }
 ],
 "metadata": {
  "interpreter": {
   "hash": "949777d72b0d2535278d3dc13498b2535136f6dfe0678499012e853ee9abcab1"
  },
  "kernelspec": {
   "display_name": "Python 3.9.8 64-bit",
   "language": "python",
   "name": "python3"
  },
  "language_info": {
   "codemirror_mode": {
    "name": "ipython",
    "version": 3
   },
   "file_extension": ".py",
   "mimetype": "text/x-python",
   "name": "python",
   "nbconvert_exporter": "python",
   "pygments_lexer": "ipython3",
   "version": "3.9.8"
  },
  "orig_nbformat": 4
 },
 "nbformat": 4,
 "nbformat_minor": 2
}
