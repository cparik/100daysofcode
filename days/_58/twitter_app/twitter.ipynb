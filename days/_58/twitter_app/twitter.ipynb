{
 "cells": [
  {
   "cell_type": "markdown",
   "metadata": {},
   "source": [
    "# Twitter API\n",
    "\n",
    "Work with the `tweepy` and `wordcloud` modules to interact with the Twitter API, using `tweepy` and its **Cursor pagination object** to work with the PyBites Twitter account.\n",
    "\n",
    "`tweepy.Cursor` is an efficient way to loop over tweets."
   ]
  },
  {
   "cell_type": "markdown",
   "metadata": {},
   "source": [
    "## Objectives\n",
    "\n",
    "- Get the most popular Tweets by the number of likes/re-tweets.\n",
    "- Determine the most common hashtags and mentions.\n",
    "- Create a wordcloud of the tweets."
   ]
  },
  {
   "cell_type": "code",
   "execution_count": 1,
   "metadata": {},
   "outputs": [],
   "source": [
    "# Imports - Python Standard Library\n",
    "from collections import namedtuple, Counter\n",
    "from os import getenv\n",
    "import re\n",
    "\n",
    "# Imports - Third-Party\n",
    "from PIL import Image\n",
    "from wordcloud import WordCloud, STOPWORDS\n",
    "import dotenv\n",
    "import matplotlib.pyplot as plt\n",
    "import numpy as np\n",
    "import tweepy"
   ]
  },
  {
   "cell_type": "code",
   "execution_count": 2,
   "metadata": {},
   "outputs": [
    {
     "data": {
      "text/plain": [
       "True"
      ]
     },
     "execution_count": 2,
     "metadata": {},
     "output_type": "execute_result"
    }
   ],
   "source": [
    "# Load .env file variables\n",
    "dotenv.load_dotenv()"
   ]
  },
  {
   "cell_type": "code",
   "execution_count": 3,
   "metadata": {},
   "outputs": [],
   "source": [
    "# namedtuple objects\n",
    "Tweet = namedtuple(\n",
    "    typename='Tweet',\n",
    "    field_names=[\n",
    "        'id',\n",
    "        'text',\n",
    "        'created',\n",
    "        'likes',\n",
    "        're_tweets'\n",
    "    ]\n",
    ")"
   ]
  },
  {
   "cell_type": "code",
   "execution_count": 4,
   "metadata": {},
   "outputs": [],
   "source": [
    "# Constants\n",
    "TWITTER_ACCOUNT = 'pybites'\n",
    "TWITTER_KEY = getenv('TWITTER_KEY')\n",
    "TWITTER_SECRET = getenv('TWITTER_SECRET')\n",
    "TWITTER_ACCESS_TOKEN = getenv('TWITTER_ACCESS_TOKEN')\n",
    "TWITTER_ACCESS_SECRET = getenv('TWITTER_ACCESS_SECRET')"
   ]
  },
  {
   "cell_type": "code",
   "execution_count": 5,
   "metadata": {},
   "outputs": [],
   "source": [
    "# Create a tweepy authentication object\n",
    "auth = tweepy.OAuthHandler(\n",
    "    consumer_key=TWITTER_KEY,\n",
    "    consumer_secret=TWITTER_SECRET\n",
    ")"
   ]
  },
  {
   "cell_type": "code",
   "execution_count": 6,
   "metadata": {},
   "outputs": [],
   "source": [
    "# Set the access token for the authentication object\n",
    "auth.set_access_token(\n",
    "    key=TWITTER_ACCESS_TOKEN,\n",
    "    secret=TWITTER_ACCESS_SECRET\n",
    ")"
   ]
  },
  {
   "cell_type": "code",
   "execution_count": 7,
   "metadata": {},
   "outputs": [],
   "source": [
    "# Authenticate and create an API object\n",
    "api = tweepy.API(\n",
    "    auth=auth\n",
    ")"
   ]
  },
  {
   "cell_type": "code",
   "execution_count": 8,
   "metadata": {},
   "outputs": [
    {
     "name": "stdout",
     "output_type": "stream",
     "text": [
      "<tweepy.api.API object at 0x7f8b299a3670>\n"
     ]
    }
   ],
   "source": [
    "# Display the API object\n",
    "print(api)"
   ]
  },
  {
   "cell_type": "code",
   "execution_count": 9,
   "metadata": {},
   "outputs": [],
   "source": [
    "# Use tweepy.Cursor to get tweets from the Twitter API\n",
    "tweets = tweepy.Cursor(\n",
    "    method=api.user_timeline,\n",
    "    screen_name=TWITTER_ACCOUNT,\n",
    "    exclude_replies=False,\n",
    "    include_rts=True\n",
    ").items()"
   ]
  },
  {
   "cell_type": "code",
   "execution_count": 10,
   "metadata": {},
   "outputs": [],
   "source": [
    "# Create a generator function to get all tweets\n",
    "def get_tweets():\n",
    "    for tweet in tweets:\n",
    "        yield Tweet(\n",
    "            id=tweet.id,\n",
    "            text=tweet.text,\n",
    "            created=tweet.created_at,\n",
    "            likes=tweet.favorite_count,\n",
    "            re_tweets=tweet.retweet_count\n",
    "        )"
   ]
  },
  {
   "cell_type": "code",
   "execution_count": 11,
   "metadata": {},
   "outputs": [],
   "source": [
    "# Create a list of tweets from the generator function\n",
    "tweets = list(get_tweets())"
   ]
  },
  {
   "cell_type": "code",
   "execution_count": 12,
   "metadata": {},
   "outputs": [
    {
     "name": "stdout",
     "output_type": "stream",
     "text": [
      "1460\n"
     ]
    }
   ],
   "source": [
    "# Display the number of tweets\n",
    "print(len(tweets))"
   ]
  },
  {
   "cell_type": "markdown",
   "metadata": {},
   "source": [
    "---"
   ]
  },
  {
   "cell_type": "code",
   "execution_count": 13,
   "metadata": {},
   "outputs": [],
   "source": [
    "# Exclude retweets from the results\n",
    "no_retweets = [tweet for tweet in tweets if not tweet.text.startswith('RT')]"
   ]
  },
  {
   "cell_type": "code",
   "execution_count": 14,
   "metadata": {},
   "outputs": [
    {
     "name": "stdout",
     "output_type": "stream",
     "text": [
      "949\n"
     ]
    }
   ],
   "source": [
    "# Display the number of non-retweets\n",
    "print(len(no_retweets))"
   ]
  },
  {
   "cell_type": "code",
   "execution_count": 15,
   "metadata": {},
   "outputs": [
    {
     "name": "stdout",
     "output_type": "stream",
     "text": [
      "Tweet(id=1481959774422016006, text=\"We're back with our very first podcast episode this year - enjoy!\\n\\n#054 - 2022, the year of boundaries!… https://t.co/I637VYLJxD\", created=datetime.datetime(2022, 1, 14, 12, 1, 58, tzinfo=datetime.timezone.utc), likes=4, re_tweets=3)\n"
     ]
    }
   ],
   "source": [
    "# Display the first list item, as a result set sample\n",
    "print(no_retweets[0])"
   ]
  },
  {
   "cell_type": "code",
   "execution_count": 16,
   "metadata": {},
   "outputs": [],
   "source": [
    "# Sort the list of tweets by the average value of most liked and most retweeted\n",
    "top_10 = sorted(\n",
    "    no_retweets,\n",
    "    key=lambda tweet: (tweet.likes + tweet.re_tweets) / 2,\n",
    "    reverse=True\n",
    ")"
   ]
  },
  {
   "cell_type": "code",
   "execution_count": 17,
   "metadata": {},
   "outputs": [
    {
     "name": "stdout",
     "output_type": "stream",
     "text": [
      "Tweet(id=1346413728019976192, text='With f-strings you can use &lt;, &gt; and ^ to left / right / center justify strings: https://t.co/bEmOc2ac7V', created=datetime.datetime(2021, 1, 5, 11, 10, 22, tzinfo=datetime.timezone.utc), likes=945, re_tweets=173)\n"
     ]
    }
   ],
   "source": [
    "# Display the first list item, as a result set sample\n",
    "print(top_10[0])"
   ]
  },
  {
   "cell_type": "code",
   "execution_count": 18,
   "metadata": {},
   "outputs": [
    {
     "name": "stdout",
     "output_type": "stream",
     "text": [
      "1. Tweet: 🐦 With f-strings you can use &lt;, &gt; and ^ to left / right / center justify strings: https://t.co/bEmOc2ac7V\n",
      "  Likes: ♥️ 945\n",
      "  Retweets: ✏️ 173\n",
      "2. Tweet: 🐦 We don't like reinventing the wheel!  The #Python string module has some useful constants you can use in your code: https://t.co/yi5U3K5ny3\n",
      "  Likes: ♥️ 368\n",
      "  Retweets: ✏️ 78\n",
      "3. Tweet: 🐦 You want emojis in #Python? pip install emoji https://t.co/tNeFztOQ0u\n",
      "  Likes: ♥️ 301\n",
      "  Retweets: ✏️ 74\n",
      "4. Tweet: 🐦 #Python is concise and reads like English!  A good example is the any builtin that in this example reduces 4 lines… https://t.co/boYXIiAFQY\n",
      "  Likes: ♥️ 306\n",
      "  Retweets: ✏️ 68\n",
      "5. Tweet: 🐦 #Python #tip: if you want equal width number strings, you can use the zfill() method which adds zeros at the start: https://t.co/AlL88JKwkS\n",
      "  Likes: ♥️ 311\n",
      "  Retweets: ✏️ 62\n",
      "6. Tweet: 🐦 Two ways to get the filename from a file path in #Python: https://t.co/FQhL7Cl9uV\n",
      "  Likes: ♥️ 311\n",
      "  Retweets: ✏️ 61\n",
      "7. Tweet: 🐦 #Python #tip: ever wondered how to get multiple items from a dictionary at once?   You can use itemgetter from the… https://t.co/oD5QWsiFTj\n",
      "  Likes: ♥️ 267\n",
      "  Retweets: ✏️ 54\n",
      "8. Tweet: 🐦 Use a regular expression to find duplicated words in a text. #Python #Tips https://t.co/mVx0oFYN1w\n",
      "  Likes: ♥️ 245\n",
      "  Retweets: ✏️ 60\n",
      "9. Tweet: 🐦 A decorator is a great design pattern to not repeat yourself: https://t.co/DI8GUQZh1V\n",
      "  Likes: ♥️ 248\n",
      "  Retweets: ✏️ 46\n",
      "10. Tweet: 🐦 Need some fake data for your app? Use the faker package, it has a lot of stuff! https://t.co/MFXvmYTSiy\n",
      "  Likes: ♥️ 238\n",
      "  Retweets: ✏️ 51\n"
     ]
    }
   ],
   "source": [
    "# Get the top 10 tweets\n",
    "newline = '\\n'\n",
    "for index, tweet in enumerate(top_10[:10], 1):\n",
    "    print(\n",
    "        f'{index}. Tweet: 🐦 {tweet.text.replace(newline, \" \")}\\n'\n",
    "        f'  Likes: ♥️ {tweet.likes}\\n'\n",
    "        f'  Retweets: ✏️ {tweet.re_tweets}'\n",
    "    )"
   ]
  },
  {
   "cell_type": "markdown",
   "metadata": {},
   "source": [
    "---\n",
    "\n",
    "## Determine the most common hashtags and mentions"
   ]
  },
  {
   "cell_type": "code",
   "execution_count": 30,
   "metadata": {},
   "outputs": [],
   "source": [
    "# Define a regular expression that captures hashtags\n",
    "hashtag_re = re.compile(\n",
    "    pattern=r'''\n",
    "    \\#      # Literal #\n",
    "    [\\w-]    # Any word character (a-z, 0-9, _, -)\n",
    "    +       # One or more repetitions of the word character\n",
    "    ''',\n",
    "    flags=re.VERBOSE\n",
    ")"
   ]
  },
  {
   "cell_type": "code",
   "execution_count": 29,
   "metadata": {},
   "outputs": [],
   "source": [
    "# Define a regular expression that captures mentions\n",
    "mention_re = re.compile(\n",
    "    pattern=r'''\n",
    "    @      # Literal @\n",
    "    [\\w-]    # Any word character (a-z, 0-9, _, -)\n",
    "    +       # One or more repetitions of the word character\n",
    "    ''',\n",
    "    flags=re.VERBOSE\n",
    ")"
   ]
  },
  {
   "cell_type": "code",
   "execution_count": 26,
   "metadata": {},
   "outputs": [],
   "source": [
    "# Join all tweets together into a single string\n",
    "all_tweets = ','.join([tweet.text.lower() for tweet in tweets])"
   ]
  },
  {
   "cell_type": "code",
   "execution_count": 27,
   "metadata": {},
   "outputs": [],
   "source": [
    "# Exclude retweets from tweets, because the mentions can be skewed by having retweets\n",
    "all_tweets_no_retweets = ','.join([tweet.text.lower() for tweet in tweets if not tweet.text.startswith('RT')])"
   ]
  },
  {
   "cell_type": "code",
   "execution_count": 31,
   "metadata": {},
   "outputs": [],
   "source": [
    "# Get all hashtags\n",
    "hashtags = hashtag_re.findall(\n",
    "    string=all_tweets\n",
    ")"
   ]
  },
  {
   "cell_type": "code",
   "execution_count": 34,
   "metadata": {},
   "outputs": [],
   "source": [
    "# Get the top N hashtags\n",
    "N = 10\n",
    "top_n_hashtags = Counter(hashtags).most_common(10)"
   ]
  },
  {
   "cell_type": "code",
   "execution_count": 41,
   "metadata": {},
   "outputs": [],
   "source": [
    "# Function to display the top N hashtags and mentions\n",
    "from typing import Iterable\n",
    "def top_n_display(\n",
    "    type: str,\n",
    "    iterable: Iterable\n",
    ") -> None:\n",
    "    # Setup banner\n",
    "    count = len(iterable)\n",
    "    msg = f'** Top {count} {type} **'\n",
    "\n",
    "    # Display banner\n",
    "    print(msg)\n",
    "    print('-' * len(msg))\n",
    "\n",
    "    # Display results\n",
    "    for index, item in enumerate(iterable, 1):\n",
    "        print(f'{index}. {item[0]} ({item[1]})')\n",
    "\n",
    "    return None"
   ]
  },
  {
   "cell_type": "code",
   "execution_count": 42,
   "metadata": {},
   "outputs": [
    {
     "name": "stdout",
     "output_type": "stream",
     "text": [
      "** Top 10 hashtags **\n",
      "---------------------\n",
      "1. #python (497)\n",
      "2. #100daysofcode (35)\n",
      "3. #tip (27)\n",
      "4. #mindset (25)\n",
      "5. #developer (25)\n",
      "6. #tips (19)\n",
      "7. #career (19)\n",
      "8. #codechallenges (18)\n",
      "9. #django (9)\n",
      "10. #productivity (8)\n"
     ]
    }
   ],
   "source": [
    "# Display the top N hashtags\n",
    "top_n_display(\n",
    "    type='hashtags',\n",
    "    iterable=top_n_hashtags\n",
    ")"
   ]
  },
  {
   "cell_type": "code",
   "execution_count": 43,
   "metadata": {},
   "outputs": [],
   "source": [
    "# Find all mentions\n",
    "mentions = mention_re.findall(\n",
    "    string=all_tweets_no_retweets\n",
    ")"
   ]
  },
  {
   "cell_type": "code",
   "execution_count": 44,
   "metadata": {},
   "outputs": [],
   "source": [
    "# Get the top 10 mentions\n",
    "N = 10\n",
    "top_n_mentions = Counter(mentions).most_common(N)"
   ]
  },
  {
   "cell_type": "code",
   "execution_count": 45,
   "metadata": {},
   "outputs": [
    {
     "name": "stdout",
     "output_type": "stream",
     "text": [
      "** Top 10 mentions **\n",
      "---------------------\n",
      "1. @talkpython (63)\n",
      "2. @l1dge (19)\n",
      "3. @datwatikmaak (18)\n",
      "4. @bbelderbos (15)\n",
      "5. @sckhoo (13)\n",
      "6. @tonycapp (10)\n",
      "7. @rhelmstedter (9)\n",
      "8. @toschmidt (8)\n",
      "9. @realpython (7)\n",
      "10. @danieldibswe (7)\n"
     ]
    }
   ],
   "source": [
    "# Display the top N mentions\n",
    "top_n_display(\n",
    "    type='mentions',\n",
    "    iterable=top_n_mentions\n",
    ")"
   ]
  }
 ],
 "metadata": {
  "interpreter": {
   "hash": "949777d72b0d2535278d3dc13498b2535136f6dfe0678499012e853ee9abcab1"
  },
  "kernelspec": {
   "display_name": "Python 3.9.8 64-bit",
   "language": "python",
   "name": "python3"
  },
  "language_info": {
   "codemirror_mode": {
    "name": "ipython",
    "version": 3
   },
   "file_extension": ".py",
   "mimetype": "text/x-python",
   "name": "python",
   "nbconvert_exporter": "python",
   "pygments_lexer": "ipython3",
   "version": "3.9.8"
  },
  "orig_nbformat": 4
 },
 "nbformat": 4,
 "nbformat_minor": 2
}
