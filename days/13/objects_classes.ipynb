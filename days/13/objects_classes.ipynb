{
 "cells": [
  {
   "cell_type": "markdown",
   "id": "a5e9a74b-5ff1-4ffd-91e5-6edc15716fed",
   "metadata": {},
   "source": [
    "# Text-based Games Challenges (and `class` objects)\n"
   ]
  },
  {
   "cell_type": "markdown",
   "id": "f8e3036c-7c4b-4778-8126-6d3d87a3b759",
   "metadata": {},
   "source": [
    "## Classes & Objects\n",
    "\n",
    "### Is-A Relationships\n",
    "\n",
    "- **Is-a relationships** represent modeling with **classes**.\n",
    "- In this case:\n",
    "  - **Creature** is a top-level object (`class`)\n",
    "  - A **Tiger** _is a_ **Creature**\n",
    "  - A **Dragon** _is a_ **Creature**\n",
    "  - A **Wizard** _is a_ **Creature**\n",
    "\n",
    "![is-a-relationships](images/is-a-relationships.png \"Is-A Relationships\")\n"
   ]
  },
  {
   "cell_type": "markdown",
   "id": "5423b92c-c64c-4c7b-b3f0-3ca405e7eca3",
   "metadata": {},
   "source": [
    "---"
   ]
  },
  {
   "cell_type": "markdown",
   "id": "dc224dfd-fc02-4d94-bfe2-801920c4d3bc",
   "metadata": {},
   "source": [
    "## Objects & Classes\n",
    "\n",
    "- A `class`is a blueprint for an object.\n",
    "- An object is an instantiation of a `class`.\n",
    "- Objects from the same `class` each have the same basic framework but can have different properties.\n",
    "  - For example, all wizards have many of the same characteristics but different individual properties.\n",
    "  - All wizards can cast spells but each individual wizard has a different level of magic powers.\n",
    " \n",
    "![classes-and-objects](images/classes-and-objects.png \"Classes and Objects\")\n"
   ]
  },
  {
   "cell_type": "markdown",
   "id": "888ab77d-66bb-403d-8b88-c805fed41416",
   "metadata": {},
   "source": [
    "---"
   ]
  },
  {
   "cell_type": "markdown",
   "id": "3959c9df-a1a3-42bb-8c51-3e52c9b68836",
   "metadata": {},
   "source": [
    "## Initial Project Structure"
   ]
  },
  {
   "cell_type": "code",
   "execution_count": 8,
   "id": "dcfe1d99-0f11-4383-9e68-8b1fa055b1f3",
   "metadata": {},
   "outputs": [],
   "source": [
    "#!/usr/bin/env python3\n",
    "\n",
    "def main():\n",
    "    print_header()\n",
    "    game_loop()\n",
    "\n",
    "\n",
    "def print_header():\n",
    "    print('-------------------\\n'\n",
    "          '    WIZARD GAME    \\n'\n",
    "          '-------------------\\n')\n",
    "\n",
    "\n",
    "def game_loop():\n",
    "    creatures = [\n",
    "        # TODO: add some creatures\n",
    "    ]\n",
    "\n",
    "    hero = None # TODO: create a hero\n",
    "\n",
    "    while True:\n",
    "\n",
    "        # Ask user for action\n",
    "        active_creature = None\n",
    "\n",
    "        print(f'A {None} of level {None} has appeared from a dark and foggy forest...\\n')\n",
    "\n",
    "        cmd = input('Do you [a]ttack, [r]un away, or [l]ook around? ')\n",
    "        if cmd == 'a':\n",
    "            pass\n",
    "            # TODO: attack\n",
    "        elif cmd == 'r':\n",
    "            print('The wizard has become unsure of his powers and flees!!!')\n",
    "        elif cmd == 'l':\n",
    "            print(f'The wizard {hero.name} takes in the surroundings and sees:')\n",
    "            # TODO: show the creatures in the room\n",
    "        else:\n",
    "            print('Okay, exiting game...bye!\\n')\n",
    "            break\n",
    "\n",
    "        if not creatures:\n",
    "            print('You\\'ve defeated all of the creatures, well done!')\n",
    "\n",
    "        print()\n"
   ]
  },
  {
   "cell_type": "code",
   "execution_count": 10,
   "id": "67f4ac04-a06b-40ce-8ce7-3cd9675743db",
   "metadata": {},
   "outputs": [
    {
     "name": "stdout",
     "output_type": "stream",
     "text": [
      "-------------------\n",
      "    WIZARD GAME    \n",
      "-------------------\n",
      "\n",
      "A None of level None has appeared from a dark and foggy forest...\n",
      "\n"
     ]
    },
    {
     "name": "stdin",
     "output_type": "stream",
     "text": [
      "Do you [a]ttack, [r]un away, or [l]ook around?  ;\n"
     ]
    },
    {
     "name": "stdout",
     "output_type": "stream",
     "text": [
      "Okay, exiting game...bye!\n",
      "\n"
     ]
    }
   ],
   "source": [
    "main()"
   ]
  }
 ],
 "metadata": {
  "kernelspec": {
   "display_name": "Python 3",
   "language": "python",
   "name": "python3"
  },
  "language_info": {
   "codemirror_mode": {
    "name": "ipython",
    "version": 3
   },
   "file_extension": ".py",
   "mimetype": "text/x-python",
   "name": "python",
   "nbconvert_exporter": "python",
   "pygments_lexer": "ipython3",
   "version": "3.9.4"
  }
 },
 "nbformat": 4,
 "nbformat_minor": 5
}
