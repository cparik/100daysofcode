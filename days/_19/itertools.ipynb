{
 "cells": [
  {
   "cell_type": "markdown",
   "source": [
    "# Iteration with `itertools` - Day 1\n",
    "\n",
    "## Overview\n",
    "\n",
    "Iteration is the process of moving through or iterating over an object, one item at a time.\n",
    "\n",
    "`list` objects are one example of an iterable:"
   ],
   "metadata": {}
  },
  {
   "cell_type": "code",
   "execution_count": 19,
   "source": [
    "# Create and display a list of integers, from 1-10\n",
    "numbers = list(range(1, 11))\n",
    "\n",
    "for n in numbers:\n",
    "    print(n)"
   ],
   "outputs": [
    {
     "output_type": "stream",
     "name": "stdout",
     "text": [
      "1\n",
      "2\n",
      "3\n",
      "4\n",
      "5\n",
      "6\n",
      "7\n",
      "8\n",
      "9\n",
      "10\n"
     ]
    }
   ],
   "metadata": {}
  },
  {
   "cell_type": "markdown",
   "source": [
    "### The `__iter__` Protocol\n",
    "\n",
    "When using a loop to iterate over an object, the loop uses the `__iter__` method/protocol, which is a method found in every iterable object."
   ],
   "metadata": {}
  },
  {
   "cell_type": "code",
   "execution_count": 20,
   "source": [
    "'__iter__' in dir(numbers)"
   ],
   "outputs": [
    {
     "output_type": "execute_result",
     "data": {
      "text/plain": [
       "True"
      ]
     },
     "metadata": {},
     "execution_count": 20
    }
   ],
   "metadata": {}
  },
  {
   "cell_type": "markdown",
   "source": [
    "### Iteration and the `iterator` Object Type\n",
    "\n",
    "It is possible to iterate over an iterable until the iterable is exhausted of values.\n",
    "\n",
    "- When this happens, Python raises a `StopIteration` exception.\n",
    "- Many Python operations, like a `for` loop, automatically handle the `StopIteration` exception gracefully.\n",
    "- The `next()` method can step through an iterable object, one item at a time, until it raises a `StopIteration` exception.\n",
    "\n",
    "The `iter()` method creates an `iterator` object from an iterable object (like a `list)"
   ],
   "metadata": {}
  },
  {
   "cell_type": "code",
   "execution_count": 21,
   "source": [
    "# Create a new, shorter iterable object\n",
    "numbers_short = list(range(1, 6))\n",
    "\n",
    "# Create an iterable object type from the `numbers` list\n",
    "nums_iterable = iter(numbers_short)\n",
    "\n",
    "type(nums_iterable)"
   ],
   "outputs": [
    {
     "output_type": "execute_result",
     "data": {
      "text/plain": [
       "list_iterator"
      ]
     },
     "metadata": {},
     "execution_count": 21
    }
   ],
   "metadata": {}
  },
  {
   "cell_type": "code",
   "execution_count": 22,
   "source": [
    "# Step through the iterable object with the `next()' method, until Python raises a StopIteration exception\n",
    "next(nums_iterable)"
   ],
   "outputs": [
    {
     "output_type": "execute_result",
     "data": {
      "text/plain": [
       "1"
      ]
     },
     "metadata": {},
     "execution_count": 22
    }
   ],
   "metadata": {}
  },
  {
   "cell_type": "code",
   "execution_count": 23,
   "source": [
    "next(nums_iterable)"
   ],
   "outputs": [
    {
     "output_type": "execute_result",
     "data": {
      "text/plain": [
       "2"
      ]
     },
     "metadata": {},
     "execution_count": 23
    }
   ],
   "metadata": {}
  },
  {
   "cell_type": "code",
   "execution_count": 24,
   "source": [
    "next(nums_iterable)"
   ],
   "outputs": [
    {
     "output_type": "execute_result",
     "data": {
      "text/plain": [
       "3"
      ]
     },
     "metadata": {},
     "execution_count": 24
    }
   ],
   "metadata": {}
  },
  {
   "cell_type": "code",
   "execution_count": 25,
   "source": [
    "next(nums_iterable)"
   ],
   "outputs": [
    {
     "output_type": "execute_result",
     "data": {
      "text/plain": [
       "4"
      ]
     },
     "metadata": {},
     "execution_count": 25
    }
   ],
   "metadata": {}
  },
  {
   "cell_type": "code",
   "execution_count": 26,
   "source": [
    "next(nums_iterable)"
   ],
   "outputs": [
    {
     "output_type": "execute_result",
     "data": {
      "text/plain": [
       "5"
      ]
     },
     "metadata": {},
     "execution_count": 26
    }
   ],
   "metadata": {}
  },
  {
   "cell_type": "code",
   "execution_count": 27,
   "source": [
    "next(nums_iterable)"
   ],
   "outputs": [
    {
     "output_type": "error",
     "ename": "StopIteration",
     "evalue": "",
     "traceback": [
      "\u001b[0;31m---------------------------------------------------------------------------\u001b[0m",
      "\u001b[0;31mStopIteration\u001b[0m                             Traceback (most recent call last)",
      "\u001b[0;32m/tmp/ipykernel_9013/3688525987.py\u001b[0m in \u001b[0;36m<module>\u001b[0;34m\u001b[0m\n\u001b[0;32m----> 1\u001b[0;31m \u001b[0mnext\u001b[0m\u001b[0;34m(\u001b[0m\u001b[0mnums_iterable\u001b[0m\u001b[0;34m)\u001b[0m\u001b[0;34m\u001b[0m\u001b[0;34m\u001b[0m\u001b[0m\n\u001b[0m",
      "\u001b[0;31mStopIteration\u001b[0m: "
     ]
    }
   ],
   "metadata": {}
  },
  {
   "cell_type": "markdown",
   "source": [
    "---\n",
    "\n",
    "# `itertools.cycle` - Day 2\n",
    "\n",
    "## Overview\n",
    "\n",
    "`itertools.cycle` will iterate over an object indefinitely, until something tells it to stop.\n",
    "\n",
    "### Create a spinning symbol, to indicate wait/processing time in the CLI:"
   ],
   "metadata": {}
  },
  {
   "cell_type": "code",
   "execution_count": 28,
   "source": [
    "# Import modules\n",
    "import itertools\n",
    "import sys\n",
    "import time"
   ],
   "outputs": [],
   "metadata": {}
  },
  {
   "cell_type": "code",
   "execution_count": 29,
   "source": [
    "# Create an itertools.cycle object where the argument (the iterable) is a sequence of values to iterate over\n",
    "# This example will create a spinning line\n",
    "symbols = itertools.cycle('-\\|/')\n",
    "\n",
    "# Alternate syntax (using a list)\n",
    "# symbols = itertools.cycle(['-', '\\\\', '|', '/'])"
   ],
   "outputs": [],
   "metadata": {}
  },
  {
   "cell_type": "code",
   "execution_count": 30,
   "source": [
    "# Define timer interval constant\n",
    "TIME_INTERVAL = .1"
   ],
   "outputs": [],
   "metadata": {}
  },
  {
   "cell_type": "code",
   "execution_count": 31,
   "source": [
    "# Implement a loop within a try block, to handle KeyboardInterrupt exceptions gracefully\n",
    "try:\n",
    "    # Create an infinite loop to create the spinning line\n",
    "    while True:\n",
    "        # Use the `sys.stdout.write` method to display the spinner in STDOUT\n",
    "        # The '\\r' prevents Python from writing each iteration to a new line\n",
    "        # The `next()` method will iterate over `symbols`, at each iteration of the loop\n",
    "        sys.stdout.write(f'\\r{next(symbols)}')\n",
    "\n",
    "        # Use the `sys.stdout.flush` method to force content to write to STDOUT immediately, and avoid going into a STDOUT buffer\n",
    "        sys.stdout.flush()\n",
    "\n",
    "        # Insert a pause between iterations\n",
    "        time.sleep(TIME_INTERVAL)\n",
    "\n",
    "except KeyboardInterrupt:\n",
    "    pass"
   ],
   "outputs": [
    {
     "output_type": "stream",
     "name": "stdout",
     "text": [
      "-"
     ]
    }
   ],
   "metadata": {}
  },
  {
   "cell_type": "markdown",
   "source": [
    "### Another example of cycling through characters to create a progress indicator"
   ],
   "metadata": {}
  },
  {
   "cell_type": "code",
   "execution_count": 36,
   "source": [
    "# Define timer interval constant\n",
    "TIME_INTERVAL = .5"
   ],
   "outputs": [],
   "metadata": {}
  },
  {
   "cell_type": "code",
   "execution_count": 37,
   "source": [
    "characters = [\n",
    "    '.',\n",
    "    '..',\n",
    "    '...'\n",
    "]\n",
    "\n",
    "try:\n",
    "    progress_indicator = itertools.cycle(characters)\n",
    "\n",
    "    while True:\n",
    "        sys.stdout.write(f\"\\r{next(progress_indicator)}\")\n",
    "        sys.stdout.flush()\n",
    "        time.sleep(TIME_INTERVAL)\n",
    "except KeyboardInterrupt:\n",
    "    pass"
   ],
   "outputs": [
    {
     "output_type": "stream",
     "name": "stdout",
     "text": [
      "."
     ]
    }
   ],
   "metadata": {}
  },
  {
   "cell_type": "markdown",
   "source": [
    "---\n",
    "\n",
    "# `itertools.product` - Day 3\n",
    "\n",
    "## Overview\n",
    "\n",
    "`itertools.product` is short for a **cartesian product** which means, every possible combination of values.\n",
    "- A cartesian product will determine the total number of possible combinations for all characters within an iterable; A string, for example.\n",
    "\n",
    "`itertools.product` returns a `product` object which displays data as `set` objects.\n",
    "\n",
    "The `repeat` kwarg specifies the number of times `product()` will return each iteration of an iterable.\n",
    "- If the iterable is `tim` and the `repeat` argument is 1, each letter will only be used once.\n",
    "- If the `repeat` argument is 2, each letter will be used twice, in the effort to produce all possible letter combinations.\n",
    "\n",
    "\n",
    "### `itertools.product` example"
   ],
   "metadata": {}
  },
  {
   "cell_type": "code",
   "execution_count": 38,
   "source": [
    "# Import the product method from itertools\n",
    "from itertools import product\n",
    "\n",
    "# Create an iterable object\n",
    "name = 'tim'\n",
    "\n",
    "# Iterate over the `name` variable an itertools.product object\n",
    "# A 'repeat' value of 1 will return a set for each individual letter in the iterable\n",
    "for letter in itertools.product(name, repeat=1):\n",
    "    print(letter)"
   ],
   "outputs": [
    {
     "output_type": "stream",
     "name": "stdout",
     "text": [
      "('t',)\n",
      "('i',)\n",
      "('m',)\n"
     ]
    }
   ],
   "metadata": {}
  },
  {
   "cell_type": "code",
   "execution_count": 39,
   "source": [
    "# Create an iterable object\n",
    "name = 'tim'\n",
    "\n",
    "# Iterate over the `name` variable an itertools.product object.\n",
    "# A 'repeat' value of 2 will return a set for each individual letter in the iterable.\n",
    "# This determines the number of combinations possible if each letter is used twice.\n",
    "for letter in itertools.product(name, repeat=2):\n",
    "    print(letter)"
   ],
   "outputs": [
    {
     "output_type": "stream",
     "name": "stdout",
     "text": [
      "('t', 't')\n",
      "('t', 'i')\n",
      "('t', 'm')\n",
      "('i', 't')\n",
      "('i', 'i')\n",
      "('i', 'm')\n",
      "('m', 't')\n",
      "('m', 'i')\n",
      "('m', 'm')\n"
     ]
    }
   ],
   "metadata": {}
  },
  {
   "cell_type": "code",
   "execution_count": 40,
   "source": [
    "# Create an iterable object\n",
    "name = 'tim'\n",
    "\n",
    "# Iterate over the `name` variable an itertools.product object.\n",
    "# A 'repeat' equal to,,, will return a set for each individual letter in the iterable.\n",
    "# This determines the number of combinations possible if each letter is used twice.\n",
    "for letter in itertools.product(name, repeat=(len(name))):\n",
    "    print(letter)"
   ],
   "outputs": [
    {
     "output_type": "stream",
     "name": "stdout",
     "text": [
      "('t', 't', 't')\n",
      "('t', 't', 'i')\n",
      "('t', 't', 'm')\n",
      "('t', 'i', 't')\n",
      "('t', 'i', 'i')\n",
      "('t', 'i', 'm')\n",
      "('t', 'm', 't')\n",
      "('t', 'm', 'i')\n",
      "('t', 'm', 'm')\n",
      "('i', 't', 't')\n",
      "('i', 't', 'i')\n",
      "('i', 't', 'm')\n",
      "('i', 'i', 't')\n",
      "('i', 'i', 'i')\n",
      "('i', 'i', 'm')\n",
      "('i', 'm', 't')\n",
      "('i', 'm', 'i')\n",
      "('i', 'm', 'm')\n",
      "('m', 't', 't')\n",
      "('m', 't', 'i')\n",
      "('m', 't', 'm')\n",
      "('m', 'i', 't')\n",
      "('m', 'i', 'i')\n",
      "('m', 'i', 'm')\n",
      "('m', 'm', 't')\n",
      "('m', 'm', 'i')\n",
      "('m', 'm', 'm')\n"
     ]
    }
   ],
   "metadata": {}
  }
 ],
 "metadata": {
  "kernelspec": {
   "name": "python3",
   "display_name": "Python 3.9.6 64-bit"
  },
  "language_info": {
   "codemirror_mode": {
    "name": "ipython",
    "version": 3
   },
   "file_extension": ".py",
   "mimetype": "text/x-python",
   "name": "python",
   "nbconvert_exporter": "python",
   "pygments_lexer": "ipython3",
   "version": "3.9.6"
  },
  "interpreter": {
   "hash": "4cd7ab41f5fca4b9b44701077e38c5ffd31fe66a6cab21e0214b68d958d0e462"
  }
 },
 "nbformat": 4,
 "nbformat_minor": 5
}