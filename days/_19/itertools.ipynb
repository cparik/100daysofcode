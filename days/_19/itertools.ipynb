{
 "cells": [
  {
   "cell_type": "markdown",
   "id": "4b8039e9-3b97-4a67-8f96-3da4d6c249be",
   "metadata": {},
   "source": [
    "# Iteration with itertools - Day 1\n",
    "\n",
    "## Overview\n",
    "\n",
    "Iteration is the process of moving through or iterating over an object, one item at a time.\n",
    "\n",
    "`list` objects are one example of an iterable:"
   ]
  },
  {
   "cell_type": "code",
   "execution_count": 2,
   "id": "a7a83f35-efdc-4b46-a82e-76e2bcda9621",
   "metadata": {},
   "outputs": [
    {
     "name": "stdout",
     "output_type": "stream",
     "text": [
      "1\n",
      "2\n",
      "3\n",
      "4\n",
      "5\n",
      "6\n",
      "7\n",
      "8\n",
      "9\n",
      "10\n"
     ]
    }
   ],
   "source": [
    "# Create and display a list of integers, from 1-10\n",
    "numbers = list(range(1, 11))\n",
    "\n",
    "for n in numbers:\n",
    "    print(n)"
   ]
  },
  {
   "cell_type": "markdown",
   "id": "a257627a-e70f-4120-ad78-c853429218f0",
   "metadata": {},
   "source": [
    "### The `__iter__` Protocol\n",
    "\n",
    "When using a loop to iterate over an object, the loop uses the `__iter__` method/protocol, which is a method found in every iterable object."
   ]
  },
  {
   "cell_type": "code",
   "execution_count": 3,
   "id": "c3436280-6dc7-4dcf-a031-0aac423c0cbb",
   "metadata": {},
   "outputs": [
    {
     "data": {
      "text/plain": [
       "True"
      ]
     },
     "execution_count": 3,
     "metadata": {},
     "output_type": "execute_result"
    }
   ],
   "source": [
    "'__iter__' in dir(numbers)"
   ]
  },
  {
   "cell_type": "markdown",
   "id": "b4761fc6-c23d-4bac-9951-36e82e293ddd",
   "metadata": {},
   "source": [
    "### Iteration and the `iterator` Object Type\n",
    "\n",
    "It is possible to iterate over an iterable until the iterable is exhausted of values.\n",
    "\n",
    "- When this happens, Python raises a `StopIteration` exception.\n",
    "- Many Python operations, like a `for` loop, automatically handle the `StopIteration` exception gracefully.\n",
    "- The `next()` method can step through an iterable object, one item at a time, until it raises a `StopIteration` exception.\n",
    "\n",
    "The `iter()` method creates an `iterator` object from an iterable object (like a `list)"
   ]
  },
  {
   "cell_type": "code",
   "execution_count": 5,
   "id": "d07aefec-aef3-4487-b145-1d694e114616",
   "metadata": {},
   "outputs": [
    {
     "data": {
      "text/plain": [
       "list_iterator"
      ]
     },
     "execution_count": 5,
     "metadata": {},
     "output_type": "execute_result"
    }
   ],
   "source": [
    "# Create a new, shorter iterable object\n",
    "numbers_short = list(range(1, 6))\n",
    "\n",
    "# Create an iterable object type from the `numbers` list\n",
    "nums_iterable = iter(numbers_short)\n",
    "\n",
    "type(nums_iterable)"
   ]
  },
  {
   "cell_type": "code",
   "execution_count": 6,
   "id": "1296af88-d102-4fc0-922b-deb3fe08c518",
   "metadata": {},
   "outputs": [
    {
     "data": {
      "text/plain": [
       "1"
      ]
     },
     "execution_count": 6,
     "metadata": {},
     "output_type": "execute_result"
    }
   ],
   "source": [
    "# Step through the iterable object with the `next()' method, until Python raises a StopIteration exception\n",
    "next(nums_iterable)"
   ]
  },
  {
   "cell_type": "code",
   "execution_count": 7,
   "id": "76f91961-d7e6-45e4-b44f-1f5f67da0853",
   "metadata": {},
   "outputs": [
    {
     "data": {
      "text/plain": [
       "2"
      ]
     },
     "execution_count": 7,
     "metadata": {},
     "output_type": "execute_result"
    }
   ],
   "source": [
    "next(nums_iterable)"
   ]
  },
  {
   "cell_type": "code",
   "execution_count": 8,
   "id": "d0efdcf1-a70d-4bbe-bca7-e338a19e3edc",
   "metadata": {},
   "outputs": [
    {
     "data": {
      "text/plain": [
       "3"
      ]
     },
     "execution_count": 8,
     "metadata": {},
     "output_type": "execute_result"
    }
   ],
   "source": [
    "next(nums_iterable)"
   ]
  },
  {
   "cell_type": "code",
   "execution_count": 9,
   "id": "a3d387fa-6ec6-4882-81b6-bc12f18cfb17",
   "metadata": {},
   "outputs": [
    {
     "data": {
      "text/plain": [
       "4"
      ]
     },
     "execution_count": 9,
     "metadata": {},
     "output_type": "execute_result"
    }
   ],
   "source": [
    "next(nums_iterable)"
   ]
  },
  {
   "cell_type": "code",
   "execution_count": 10,
   "id": "eb497d75-d0d9-4fd1-94f0-07c5a38cfd7e",
   "metadata": {},
   "outputs": [
    {
     "data": {
      "text/plain": [
       "5"
      ]
     },
     "execution_count": 10,
     "metadata": {},
     "output_type": "execute_result"
    }
   ],
   "source": [
    "next(nums_iterable)"
   ]
  },
  {
   "cell_type": "code",
   "execution_count": 11,
   "id": "3ab61aaf-e743-4230-8d02-c503ba7686ab",
   "metadata": {},
   "outputs": [
    {
     "ename": "StopIteration",
     "evalue": "",
     "output_type": "error",
     "traceback": [
      "\u001b[0;31m---------------------------------------------------------------------------\u001b[0m",
      "\u001b[0;31mStopIteration\u001b[0m                             Traceback (most recent call last)",
      "\u001b[0;32m/tmp/ipykernel_1659/2839814452.py\u001b[0m in \u001b[0;36m<module>\u001b[0;34m\u001b[0m\n\u001b[1;32m      1\u001b[0m \u001b[0;31m# Step through the iterable object with the `next()' method.\u001b[0m\u001b[0;34m\u001b[0m\u001b[0;34m\u001b[0m\u001b[0;34m\u001b[0m\u001b[0m\n\u001b[0;32m----> 2\u001b[0;31m \u001b[0mnext\u001b[0m\u001b[0;34m(\u001b[0m\u001b[0mnums_iterable\u001b[0m\u001b[0;34m)\u001b[0m\u001b[0;34m\u001b[0m\u001b[0;34m\u001b[0m\u001b[0m\n\u001b[0m",
      "\u001b[0;31mStopIteration\u001b[0m: "
     ]
    }
   ],
   "source": [
    "next(nums_iterable)"
   ]
  },
  {
   "cell_type": "markdown",
   "id": "c3dd4664-68a8-4087-9c39-f2cb1710c0cb",
   "metadata": {},
   "source": [
    "---\n",
    "\n"
   ]
  }
 ],
 "metadata": {
  "kernelspec": {
   "display_name": "Python 3 (ipykernel)",
   "language": "python",
   "name": "python3"
  },
  "language_info": {
   "codemirror_mode": {
    "name": "ipython",
    "version": 3
   },
   "file_extension": ".py",
   "mimetype": "text/x-python",
   "name": "python",
   "nbconvert_exporter": "python",
   "pygments_lexer": "ipython3",
   "version": "3.9.6"
  }
 },
 "nbformat": 4,
 "nbformat_minor": 5
}
