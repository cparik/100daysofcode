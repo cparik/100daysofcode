{
 "cells": [
  {
   "cell_type": "markdown",
   "id": "a138ec74-f227-4155-b0ea-e148eeae3644",
   "metadata": {},
   "source": [
    "# Day 1 - Generators\n"
   ]
  },
  {
   "cell_type": "markdown",
   "id": "6d6a2823-3a06-418a-b0df-76b0bb86369c",
   "metadata": {},
   "source": [
    "## Overview\n",
    "\n",
    "- A generator is a function that returns an iterator, instead of data set (list, dictionary, etc.).\n",
    "- The function generates values with the `yield` keyword, when called with the `next()` function.\n",
    "    - For context, a loop yields values automatically.\n",
    "    - A generator pauses after it yields a value, until the function receives another call.\n",
    "- A generator keeps a small memory footprint, even with a potentially large amount of data (by generating the data on-demand, instead of all at once.)"
   ]
  },
  {
   "cell_type": "markdown",
   "id": "d6785b29-7cda-4c23-94c2-60b98822b6a6",
   "metadata": {},
   "source": [
    "---\n",
    "\n",
    "## Simple number generator\n"
   ]
  },
  {
   "cell_type": "code",
   "execution_count": 1,
   "id": "6b4c6c7e-b33f-4897-8388-75b5df8e8903",
   "metadata": {},
   "outputs": [],
   "source": [
    "# Create the generator function\n",
    "def number_generator():\n",
    "    for i in range(5):\n",
    "        yield(i)"
   ]
  },
  {
   "cell_type": "code",
   "execution_count": 2,
   "id": "28c09f36-4cff-40a3-a1db-f00087735c53",
   "metadata": {},
   "outputs": [],
   "source": [
    "# Store a generator as a variable\n",
    "gen = number_generator()"
   ]
  },
  {
   "cell_type": "code",
   "execution_count": 3,
   "id": "578097df-eeed-4f53-a049-b73f6ef5c269",
   "metadata": {},
   "outputs": [
    {
     "data": {
      "text/plain": [
       "0"
      ]
     },
     "execution_count": 3,
     "metadata": {},
     "output_type": "execute_result"
    }
   ],
   "source": [
    "# Yield generator values with the next() function\n",
    "next(gen)"
   ]
  },
  {
   "cell_type": "code",
   "execution_count": 4,
   "id": "49f0695d-2b4c-488d-9db8-cecf75305135",
   "metadata": {},
   "outputs": [
    {
     "name": "stdout",
     "output_type": "stream",
     "text": [
      "1\n",
      "2\n",
      "3\n",
      "4\n"
     ]
    }
   ],
   "source": [
    "# Loop through the remaining values in the generator\n",
    "\"\"\" The loop will start with 1 because 0 was already yielded for the 'gen' generator/variable.\n",
    "    The loop will automatically stop when it yields the last available generator value\n",
    "\"\"\"\n",
    "\n",
    "for i in gen:\n",
    "    print(i)"
   ]
  },
  {
   "cell_type": "markdown",
   "id": "a8fbce7c-7aba-4880-a52e-cdd94a3754c5",
   "metadata": {},
   "source": [
    "---\n",
    "\n",
    "## `StopIteration` exceptions\n",
    "\n",
    "An exception occurrs after an attempt to `yield` a value from a generator when the generator has already exhausted it's available values.\n"
   ]
  },
  {
   "cell_type": "code",
   "execution_count": 5,
   "id": "46ac19df-b0ea-4570-83d1-c306f440c924",
   "metadata": {},
   "outputs": [
    {
     "ename": "StopIteration",
     "evalue": "",
     "output_type": "error",
     "traceback": [
      "\u001b[0;31m---------------------------------------------------------------------------\u001b[0m",
      "\u001b[0;31mStopIteration\u001b[0m                             Traceback (most recent call last)",
      "\u001b[0;32m/tmp/ipykernel_3195/2178745875.py\u001b[0m in \u001b[0;36m<module>\u001b[0;34m\u001b[0m\n\u001b[1;32m      1\u001b[0m \u001b[0;31m# An exception occurrs for an attempt to yield a value from a generator when the generator has already exhausted it's available values\u001b[0m\u001b[0;34m\u001b[0m\u001b[0;34m\u001b[0m\u001b[0;34m\u001b[0m\u001b[0m\n\u001b[0;32m----> 2\u001b[0;31m \u001b[0mnext\u001b[0m\u001b[0;34m(\u001b[0m\u001b[0mgen\u001b[0m\u001b[0;34m)\u001b[0m\u001b[0;34m\u001b[0m\u001b[0;34m\u001b[0m\u001b[0m\n\u001b[0m",
      "\u001b[0;31mStopIteration\u001b[0m: "
     ]
    }
   ],
   "source": [
    "# Attempt to yield another value from 'gen' which should produce a StopIteration exception\n",
    "next(gen)"
   ]
  },
  {
   "cell_type": "code",
   "execution_count": 6,
   "id": "4c326b4f-50ed-4929-a86c-ca7f4bd994ed",
   "metadata": {},
   "outputs": [
    {
     "data": {
      "text/plain": [
       "0"
      ]
     },
     "execution_count": 6,
     "metadata": {},
     "output_type": "execute_result"
    }
   ],
   "source": [
    "# Create a new generator and attempt to yield a value.\n",
    "gen_2 = number_generator()\n",
    "\n",
    "next(gen_2)"
   ]
  },
  {
   "cell_type": "markdown",
   "id": "2c10a751-5525-4457-9535-5c5d048a4320",
   "metadata": {},
   "source": [
    "\n",
    "---\n"
   ]
  },
  {
   "cell_type": "markdown",
   "id": "de3e7017-4a42-40ae-a83f-1f836e555063",
   "metadata": {},
   "source": [
    "# Day 2 - Building a sequence with generators\n"
   ]
  },
  {
   "cell_type": "markdown",
   "id": "acdd7862-9dc8-4c6c-acdf-989af87759a1",
   "metadata": {},
   "source": [
    "## Generators are commonly used to build sequences\n",
    "\n",
    "- Compare the process of building a list of HTML `<option>` tags, for a `<select>` list with a `list` and with a generator"
   ]
  },
  {
   "cell_type": "markdown",
   "id": "e57e8564-49e2-40d7-b213-de3b12d95b63",
   "metadata": {},
   "source": [
    "### `list` method of generating `<option>` tags"
   ]
  },
  {
   "cell_type": "code",
   "execution_count": 1,
   "id": "25e96fba-7e82-405d-81cd-7315134d681c",
   "metadata": {},
   "outputs": [
    {
     "name": "stdout",
     "output_type": "stream",
     "text": [
      "['red', 'orange', 'yellow', 'green', 'blue', 'purple', 'white', 'black']\n"
     ]
    }
   ],
   "source": [
    "# Create a list of options\n",
    "options = 'red orange yellow green blue purple white black'.split()\n",
    "print(options)"
   ]
  },
  {
   "cell_type": "code",
   "execution_count": 6,
   "id": "5bc98085-562a-4ec1-8ddb-8d2026700946",
   "metadata": {},
   "outputs": [],
   "source": [
    "# Create a list of HTML <option> tags using the defined options\n",
    "def create_select_options(options=options):\n",
    "    # Blank list for option tags\n",
    "    select_list = []\n",
    "\n",
    "    # Populate option tag list\n",
    "    for option in options:\n",
    "        select_list.append(\n",
    "            f'<option value={option}>{option.title()}</option>'\n",
    "        )\n",
    "\n",
    "    return select_list"
   ]
  },
  {
   "cell_type": "code",
   "execution_count": 7,
   "id": "06d1053f-508e-4ddb-8e10-f18b3c58ead7",
   "metadata": {},
   "outputs": [
    {
     "name": "stdout",
     "output_type": "stream",
     "text": [
      "['<option value=red>Red</option>',\n",
      " '<option value=orange>Orange</option>',\n",
      " '<option value=yellow>Yellow</option>',\n",
      " '<option value=green>Green</option>',\n",
      " '<option value=blue>Blue</option>',\n",
      " '<option value=purple>Purple</option>',\n",
      " '<option value=white>White</option>',\n",
      " '<option value=black>Black</option>']\n"
     ]
    }
   ],
   "source": [
    "from pprint import pprint\n",
    "pprint(create_select_options())"
   ]
  },
  {
   "cell_type": "markdown",
   "id": "a3cbac08-89c9-478a-b084-e929cfa7345c",
   "metadata": {},
   "source": [
    "---\n",
    "\n",
    "### Generator method of generating `<option>` tags\n",
    "\n",
    "- Use only 2 lines of code"
   ]
  },
  {
   "cell_type": "code",
   "execution_count": 8,
   "id": "40e52f7d-b93e-4bf5-92d7-61bba72d732b",
   "metadata": {},
   "outputs": [],
   "source": [
    "# Create a list of HTML <option> tags using the defined options\n",
    "def create_select_options_generator(options=options):\n",
    "    for option in options:\n",
    "        yield(f'<option value={option}>{option.title()}</option>')"
   ]
  },
  {
   "cell_type": "code",
   "execution_count": 9,
   "id": "0b533eda-6fda-4b43-b003-77b93012dc25",
   "metadata": {},
   "outputs": [
    {
     "name": "stdout",
     "output_type": "stream",
     "text": [
      "<generator object create_select_options_generator at 0x7f4518f8b190>\n"
     ]
    }
   ],
   "source": [
    "# Print the result from the generator function\n",
    "pprint(create_select_options_generator())"
   ]
  },
  {
   "cell_type": "markdown",
   "id": "18939bd5-1a5f-4072-b8d8-dbeae2c0a817",
   "metadata": {},
   "source": [
    "#### Generators are \"lazy\" and must be explicitly consumed by forcing iteration (like looping over them)\n",
    "\n",
    "- Another way to consume a generator is to convert it to a `list` with the `list()` constructor:"
   ]
  },
  {
   "cell_type": "code",
   "execution_count": 10,
   "id": "ef861dd1-dc40-460e-b2f3-aee4f34841d8",
   "metadata": {},
   "outputs": [
    {
     "data": {
      "text/plain": [
       "['<option value=red>Red</option>',\n",
       " '<option value=orange>Orange</option>',\n",
       " '<option value=yellow>Yellow</option>',\n",
       " '<option value=green>Green</option>',\n",
       " '<option value=blue>Blue</option>',\n",
       " '<option value=purple>Purple</option>',\n",
       " '<option value=white>White</option>',\n",
       " '<option value=black>Black</option>']"
      ]
     },
     "execution_count": 10,
     "metadata": {},
     "output_type": "execute_result"
    }
   ],
   "source": [
    "list(create_select_options_generator())"
   ]
  },
  {
   "cell_type": "markdown",
   "id": "145c48ea-2ce7-4a33-a074-839a8199ddde",
   "metadata": {},
   "source": [
    "---\n",
    "\n",
    "# Day 3 - Evaluating generator performance versus `list` peformance\n"
   ]
  }
 ],
 "metadata": {
  "kernelspec": {
   "display_name": "Python 3 (ipykernel)",
   "language": "python",
   "name": "python3"
  },
  "language_info": {
   "codemirror_mode": {
    "name": "ipython",
    "version": 3
   },
   "file_extension": ".py",
   "mimetype": "text/x-python",
   "name": "python",
   "nbconvert_exporter": "python",
   "pygments_lexer": "ipython3",
   "version": "3.9.6"
  }
 },
 "nbformat": 4,
 "nbformat_minor": 5
}
