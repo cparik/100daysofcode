{
 "cells": [
  {
   "cell_type": "markdown",
   "id": "a138ec74-f227-4155-b0ea-e148eeae3644",
   "metadata": {},
   "source": [
    "# Day 1 - Generators\n"
   ]
  },
  {
   "cell_type": "markdown",
   "id": "6d6a2823-3a06-418a-b0df-76b0bb86369c",
   "metadata": {},
   "source": [
    "## Overview\n",
    "\n",
    "- A generator is a function that returns an iterator, instead of data set (list, dictionary, etc.).\n",
    "- The function generates values with the `yield` keyword, when called with the `next()` function.\n",
    "    - For context, a loop yields values automatically.\n",
    "    - A generator pauses after it yields a value, until the function receives another call.\n",
    "- A generator keeps a small memory footprint, even with a potentially large amount of data (by generating the data on-demand, instead of all at once.)"
   ]
  },
  {
   "cell_type": "markdown",
   "id": "d6785b29-7cda-4c23-94c2-60b98822b6a6",
   "metadata": {},
   "source": [
    "---\n",
    "\n",
    "## Simple number generator\n"
   ]
  },
  {
   "cell_type": "code",
   "execution_count": 1,
   "id": "6b4c6c7e-b33f-4897-8388-75b5df8e8903",
   "metadata": {},
   "outputs": [],
   "source": [
    "# Create the generator function\n",
    "def number_generator():\n",
    "    for i in range(5):\n",
    "        yield(i)"
   ]
  },
  {
   "cell_type": "code",
   "execution_count": 2,
   "id": "28c09f36-4cff-40a3-a1db-f00087735c53",
   "metadata": {},
   "outputs": [],
   "source": [
    "# Store a generator as a variable\n",
    "gen = number_generator()"
   ]
  },
  {
   "cell_type": "code",
   "execution_count": 3,
   "id": "578097df-eeed-4f53-a049-b73f6ef5c269",
   "metadata": {},
   "outputs": [
    {
     "data": {
      "text/plain": [
       "0"
      ]
     },
     "execution_count": 3,
     "metadata": {},
     "output_type": "execute_result"
    }
   ],
   "source": [
    "# Yield generator values with the next() function\n",
    "next(gen)"
   ]
  },
  {
   "cell_type": "code",
   "execution_count": 4,
   "id": "49f0695d-2b4c-488d-9db8-cecf75305135",
   "metadata": {},
   "outputs": [
    {
     "name": "stdout",
     "output_type": "stream",
     "text": [
      "1\n",
      "2\n",
      "3\n",
      "4\n"
     ]
    }
   ],
   "source": [
    "# Loop through the remaining values in the generator\n",
    "\"\"\" The loop will start with 1 because 0 was already yielded for the 'gen' generator/variable.\n",
    "    The loop will automatically stop when it yields the last available generator value\n",
    "\"\"\"\n",
    "\n",
    "for i in gen:\n",
    "    print(i)"
   ]
  },
  {
   "cell_type": "markdown",
   "id": "a8fbce7c-7aba-4880-a52e-cdd94a3754c5",
   "metadata": {},
   "source": [
    "---\n",
    "\n",
    "## `StopIteration` exceptions\n",
    "\n",
    "An exception occurrs after an attempt to `yield` a value from a generator when the generator has already exhausted it's available values.\n"
   ]
  },
  {
   "cell_type": "code",
   "execution_count": 5,
   "id": "46ac19df-b0ea-4570-83d1-c306f440c924",
   "metadata": {},
   "outputs": [
    {
     "ename": "StopIteration",
     "evalue": "",
     "output_type": "error",
     "traceback": [
      "\u001b[0;31m---------------------------------------------------------------------------\u001b[0m",
      "\u001b[0;31mStopIteration\u001b[0m                             Traceback (most recent call last)",
      "\u001b[0;32m/tmp/ipykernel_3195/2178745875.py\u001b[0m in \u001b[0;36m<module>\u001b[0;34m\u001b[0m\n\u001b[1;32m      1\u001b[0m \u001b[0;31m# An exception occurrs for an attempt to yield a value from a generator when the generator has already exhausted it's available values\u001b[0m\u001b[0;34m\u001b[0m\u001b[0;34m\u001b[0m\u001b[0;34m\u001b[0m\u001b[0m\n\u001b[0;32m----> 2\u001b[0;31m \u001b[0mnext\u001b[0m\u001b[0;34m(\u001b[0m\u001b[0mgen\u001b[0m\u001b[0;34m)\u001b[0m\u001b[0;34m\u001b[0m\u001b[0;34m\u001b[0m\u001b[0m\n\u001b[0m",
      "\u001b[0;31mStopIteration\u001b[0m: "
     ]
    }
   ],
   "source": [
    "# Attempt to yield another value from 'gen' which should produce a StopIteration exception\n",
    "next(gen)"
   ]
  },
  {
   "cell_type": "code",
   "execution_count": 6,
   "id": "4c326b4f-50ed-4929-a86c-ca7f4bd994ed",
   "metadata": {},
   "outputs": [
    {
     "data": {
      "text/plain": [
       "0"
      ]
     },
     "execution_count": 6,
     "metadata": {},
     "output_type": "execute_result"
    }
   ],
   "source": [
    "# Create a new generator and attempt to yield a value.\n",
    "gen_2 = number_generator()\n",
    "\n",
    "next(gen_2)"
   ]
  },
  {
   "cell_type": "markdown",
   "id": "2c10a751-5525-4457-9535-5c5d048a4320",
   "metadata": {},
   "source": [
    "\n",
    "---\n"
   ]
  },
  {
   "cell_type": "markdown",
   "id": "de3e7017-4a42-40ae-a83f-1f836e555063",
   "metadata": {},
   "source": []
  }
 ],
 "metadata": {
  "kernelspec": {
   "display_name": "Python 3 (ipykernel)",
   "language": "python",
   "name": "python3"
  },
  "language_info": {
   "codemirror_mode": {
    "name": "ipython",
    "version": 3
   },
   "file_extension": ".py",
   "mimetype": "text/x-python",
   "name": "python",
   "nbconvert_exporter": "python",
   "pygments_lexer": "ipython3",
   "version": "3.9.6"
  }
 },
 "nbformat": 4,
 "nbformat_minor": 5
}
