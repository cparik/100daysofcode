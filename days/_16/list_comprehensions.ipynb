{
 "cells": [
  {
   "cell_type": "markdown",
   "id": "00f5c61b-94db-4b78-aa7d-3116226e21b8",
   "metadata": {},
   "source": [
    "# List Comprehensions\n",
    "\n",
    "---\n"
   ]
  },
  {
   "cell_type": "markdown",
   "id": "be8a9567-0f80-4604-b659-3e7ebb3a67a0",
   "metadata": {},
   "source": [
    "## Create a list of lowercase names"
   ]
  },
  {
   "cell_type": "code",
   "execution_count": 1,
   "id": "835a192f-7516-4c6e-9459-9a319416bec3",
   "metadata": {},
   "outputs": [
    {
     "name": "stdout",
     "output_type": "stream",
     "text": [
      "['tim', 'sara', 'lily', 'ella', 'daisy', 'princess', 'darcy', 'sookie', 'ginny']\n"
     ]
    }
   ],
   "source": [
    "names = 'tim sara lily ella daisy princess darcy sookie ginny'.split()\n",
    "print(names )"
   ]
  },
  {
   "cell_type": "markdown",
   "id": "84ef26af-172b-4a9e-89c5-fabeff62c9ff",
   "metadata": {},
   "source": [
    "---\n",
    "\n",
    "## Print each name in title case\n"
   ]
  },
  {
   "cell_type": "code",
   "execution_count": 2,
   "id": "1a4e2467-a681-4c5c-bfde-c4c55d0a4dbc",
   "metadata": {},
   "outputs": [
    {
     "name": "stdout",
     "output_type": "stream",
     "text": [
      "Tim\n",
      "Sara\n",
      "Lily\n",
      "Ella\n",
      "Daisy\n",
      "Princess\n",
      "Darcy\n",
      "Sookie\n",
      "Ginny\n"
     ]
    }
   ],
   "source": [
    "for name in names:\n",
    "    print(name.title())\n"
   ]
  },
  {
   "cell_type": "markdown",
   "id": "db14d36d-34e8-4ed6-87da-1605b39df69e",
   "metadata": {},
   "source": [
    "---\n",
    "\n",
    "## Print only names that start with the letters A-G\n",
    "\n",
    "- Use the `string.ascii_lowercase` attribute to get a list of all ascii lowercase letters.\n",
    "    - Don't forget to import the `string` module.\n",
    "    - The return value for the attribute `ascii_lowercase` is a string with no spaces.\n",
    "        - Use the `list()` method to convert the string to a list.\n",
    "- Slice the list at an index of `6` to get the first 7 letters of the alphabet.\n"
   ]
  },
  {
   "cell_type": "code",
   "execution_count": 27,
   "id": "cecbe39a-3ed5-4f6a-bbc3-d8ad25f10252",
   "metadata": {},
   "outputs": [
    {
     "name": "stdout",
     "output_type": "stream",
     "text": [
      "['Lily', 'Ella', 'Daisy', 'Darcy', 'Ginny']\n"
     ]
    }
   ],
   "source": [
    "import string\n",
    "alphabet_lower = list(string.ascii_lowercase[:13])\n",
    "\n",
    "new_names = []\n",
    "for name in names:\n",
    "    if name[0].lower() in alphabet_lower:\n",
    "        new_names.append(name.title())\n",
    "\n",
    "print(new_names)"
   ]
  },
  {
   "cell_type": "markdown",
   "id": "e149814f-80bd-42f9-ab8c-875669e32bba",
   "metadata": {},
   "source": [
    "---\n",
    "\n",
    "## Refactor using a list comprehension\n"
   ]
  },
  {
   "cell_type": "code",
   "execution_count": 29,
   "id": "0073ab1a-57e3-41d7-9b78-8dea6003f201",
   "metadata": {},
   "outputs": [
    {
     "name": "stdout",
     "output_type": "stream",
     "text": [
      "['Lily', 'Ella', 'Daisy', 'Darcy', 'Ginny']\n"
     ]
    }
   ],
   "source": [
    "name_list_2 = [name.title() for name in names if name[0] in alphabet_lower]\n",
    "print(name_list_2)"
   ]
  },
  {
   "cell_type": "markdown",
   "id": "a37aa25f-f623-4bb5-b070-641be0f33ea3",
   "metadata": {},
   "source": [
    "### Confirm both list configurations produce the same result\n"
   ]
  },
  {
   "cell_type": "code",
   "execution_count": 30,
   "id": "11001da8-e478-486e-b1ff-7c4484a4d993",
   "metadata": {},
   "outputs": [],
   "source": [
    "assert name_list == name_list_2"
   ]
  }
 ],
 "metadata": {
  "kernelspec": {
   "display_name": "Python 3 (ipykernel)",
   "language": "python",
   "name": "python3"
  },
  "language_info": {
   "codemirror_mode": {
    "name": "ipython",
    "version": 3
   },
   "file_extension": ".py",
   "mimetype": "text/x-python",
   "name": "python",
   "nbconvert_exporter": "python",
   "pygments_lexer": "ipython3",
   "version": "3.9.6"
  }
 },
 "nbformat": 4,
 "nbformat_minor": 5
}
