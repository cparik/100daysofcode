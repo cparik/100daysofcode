{
 "cells": [
  {
   "cell_type": "markdown",
   "id": "00f5c61b-94db-4b78-aa7d-3116226e21b8",
   "metadata": {},
   "source": [
    "# Day 16 - List Comprehensions\n",
    "\n",
    "---\n"
   ]
  },
  {
   "cell_type": "markdown",
   "id": "be8a9567-0f80-4604-b659-3e7ebb3a67a0",
   "metadata": {},
   "source": [
    "## Create a list of lowercase names"
   ]
  },
  {
   "cell_type": "code",
   "execution_count": 1,
   "id": "835a192f-7516-4c6e-9459-9a319416bec3",
   "metadata": {},
   "outputs": [
    {
     "name": "stdout",
     "output_type": "stream",
     "text": [
      "['tim', 'sara', 'lily', 'ella', 'daisy', 'princess', 'darcy', 'sookie', 'ginny']\n"
     ]
    }
   ],
   "source": [
    "names = 'tim sara lily ella daisy princess darcy sookie ginny'.split()\n",
    "print(names )"
   ]
  },
  {
   "cell_type": "markdown",
   "id": "84ef26af-172b-4a9e-89c5-fabeff62c9ff",
   "metadata": {},
   "source": [
    "---\n",
    "\n",
    "## Print each name in title case\n"
   ]
  },
  {
   "cell_type": "code",
   "execution_count": 2,
   "id": "1a4e2467-a681-4c5c-bfde-c4c55d0a4dbc",
   "metadata": {},
   "outputs": [
    {
     "name": "stdout",
     "output_type": "stream",
     "text": [
      "Tim\n",
      "Sara\n",
      "Lily\n",
      "Ella\n",
      "Daisy\n",
      "Princess\n",
      "Darcy\n",
      "Sookie\n",
      "Ginny\n"
     ]
    }
   ],
   "source": [
    "for name in names:\n",
    "    print(name.title())\n"
   ]
  },
  {
   "cell_type": "markdown",
   "id": "db14d36d-34e8-4ed6-87da-1605b39df69e",
   "metadata": {},
   "source": [
    "---\n",
    "\n",
    "## Print only names that start with the letters A-G\n",
    "\n",
    "- Use the `string.ascii_lowercase` attribute to get a list of all ascii lowercase letters.\n",
    "    - Don't forget to import the `string` module.\n",
    "    - The return value for the attribute `ascii_lowercase` is a string with no spaces.\n",
    "        - Use the `list()` method to convert the string to a list.\n",
    "- Slice the list at an index of `6` to get the first 7 letters of the alphabet.\n"
   ]
  },
  {
   "cell_type": "code",
   "execution_count": 3,
   "id": "cecbe39a-3ed5-4f6a-bbc3-d8ad25f10252",
   "metadata": {},
   "outputs": [
    {
     "name": "stdout",
     "output_type": "stream",
     "text": [
      "['Lily', 'Ella', 'Daisy', 'Darcy', 'Ginny']\n"
     ]
    }
   ],
   "source": [
    "import string\n",
    "alphabet_lower = list(string.ascii_lowercase[:13])\n",
    "\n",
    "new_names = []\n",
    "for name in names:\n",
    "    if name[0].lower() in alphabet_lower:\n",
    "        new_names.append(name.title())\n",
    "\n",
    "print(new_names)"
   ]
  },
  {
   "cell_type": "markdown",
   "id": "e149814f-80bd-42f9-ab8c-875669e32bba",
   "metadata": {},
   "source": [
    "---\n",
    "\n",
    "## Refactor using a list comprehension\n"
   ]
  },
  {
   "cell_type": "code",
   "execution_count": 4,
   "id": "0073ab1a-57e3-41d7-9b78-8dea6003f201",
   "metadata": {},
   "outputs": [
    {
     "name": "stdout",
     "output_type": "stream",
     "text": [
      "['Lily', 'Ella', 'Daisy', 'Darcy', 'Ginny']\n"
     ]
    }
   ],
   "source": [
    "name_list_2 = [name.title() for name in names if name[0] in alphabet_lower]\n",
    "print(name_list_2)"
   ]
  },
  {
   "cell_type": "markdown",
   "id": "a37aa25f-f623-4bb5-b070-641be0f33ea3",
   "metadata": {},
   "source": [
    "### Confirm both list configurations produce the same result\n"
   ]
  },
  {
   "cell_type": "code",
   "execution_count": 5,
   "id": "11001da8-e478-486e-b1ff-7c4484a4d993",
   "metadata": {
    "tags": []
   },
   "outputs": [],
   "source": [
    "assert new_names == name_list_2"
   ]
  },
  {
   "cell_type": "markdown",
   "id": "ed8e9a2d-b4ff-4b01-b191-a927c98260fb",
   "metadata": {},
   "source": [
    "---\n",
    "\n",
    "# Day 16a - More List Comprehensions\n"
   ]
  },
  {
   "cell_type": "markdown",
   "id": "c8e91d01-6f11-4a54-85f8-719c1b3b1f23",
   "metadata": {},
   "source": [
    "## Parse the text of Harry Potter\n"
   ]
  },
  {
   "cell_type": "code",
   "execution_count": 6,
   "id": "4cb1284e-3196-41cf-ac20-5b43b1a8b16e",
   "metadata": {},
   "outputs": [
    {
     "name": "stdout",
     "output_type": "stream",
     "text": [
      "Total words in file: 4656\n"
     ]
    }
   ],
   "source": [
    "\"\"\" Documented URL will not open via requests.get() method (HTTP 406 error).\n",
    "    Stored file contents locally\n",
    "\"\"\"\n",
    "\n",
    "# Set the file to open\n",
    "text_file = 'harry.txt'\n",
    "\n",
    "# Open the file\n",
    "with open(\n",
    "    file=text_file,\n",
    "    mode='rt',\n",
    "    encoding='utf-8'\n",
    ") as file:\n",
    "    # Read the file contents, convert to lowercase, and convert each word to a list item\n",
    "    words = file.read().lower().split()\n",
    "\n",
    "# Display the wordr count of the file contents\n",
    "print(f'Total words in file: {len(words)}')\n"
   ]
  },
  {
   "cell_type": "markdown",
   "id": "a6b6e116-9c40-4356-bed1-df44a4ed3e66",
   "metadata": {},
   "source": [
    "---\n",
    "\n",
    "## Get the most common words from the text\n"
   ]
  },
  {
   "cell_type": "code",
   "execution_count": 7,
   "id": "ea932d5f-3ebe-4d12-93c3-1066e8481be8",
   "metadata": {},
   "outputs": [
    {
     "name": "stdout",
     "output_type": "stream",
     "text": [
      "[('the', 202), ('he', 136), ('a', 108), ('and', 100), ('to', 93)]\n"
     ]
    },
    {
     "data": {
      "text/plain": [
       "True"
      ]
     },
     "execution_count": 7,
     "metadata": {},
     "output_type": "execute_result"
    }
   ],
   "source": [
    "# Use collections.Counter to get the top N words, by count\n",
    "from collections import Counter\n",
    "\n",
    "count = Counter(words)\n",
    "count = count.most_common(5)\n",
    "print(count)\n",
    "\n",
    "# Does the list contain non-text characters?\n",
    "'-' in words"
   ]
  },
  {
   "cell_type": "markdown",
   "id": "13d36207-2371-4982-9bb4-e50e8515f940",
   "metadata": {},
   "source": [
    "---\n",
    "\n",
    "## Remove non-alphabetic characters, to keep them from counting like actual words\n"
   ]
  },
  {
   "cell_type": "code",
   "execution_count": 8,
   "id": "01d34994-81ff-4165-a42e-054e98b0df9d",
   "metadata": {},
   "outputs": [
    {
     "name": "stdout",
     "output_type": "stream",
     "text": [
      "[('the', 204), ('he', 137), ('a', 112), ('and', 102), ('to', 94)]\n"
     ]
    },
    {
     "data": {
      "text/plain": [
       "False"
      ]
     },
     "execution_count": 8,
     "metadata": {},
     "output_type": "execute_result"
    }
   ],
   "source": [
    "# Use a regular expression to find non-word characters\n",
    "import re\n",
    "\n",
    "\"\"\" Use a list comprehension with the re.sub() method\n",
    "# \\W matches any non-alphanumeric characters [^a-zA-Z0-9_]\n",
    "\n",
    "First argument is the match pattern\n",
    "Second argument is the replace pattern\n",
    "Third argument is the object to search, which is also the loop variable in the list comprehension\n",
    "\n",
    "Effectively, this loops through every word in the list of words and matches only those list items without non-alphanumeric characters\n",
    "\"\"\"\n",
    "words = [re.sub(r'\\W+', r'', word) for word in words]\n",
    "\n",
    "# Re-count the words\n",
    "count = Counter(words)\n",
    "count = count.most_common(5)\n",
    "print(count)\n",
    "\n",
    "# Does the list contain non-text characters?\n",
    "'-' in words"
   ]
  },
  {
   "cell_type": "markdown",
   "id": "8fb9a093-c174-4de1-a02d-0733eaf88202",
   "metadata": {},
   "source": [
    "---\n",
    "\n",
    "## Remove any stopwords (a, the, etc.) from the list\n"
   ]
  },
  {
   "cell_type": "code",
   "execution_count": 9,
   "id": "3f85ecff-9e12-48a1-a4aa-d8d0dc70cca6",
   "metadata": {},
   "outputs": [
    {
     "name": "stdout",
     "output_type": "stream",
     "text": [
      "Total stopwords in file: 4656\n"
     ]
    }
   ],
   "source": [
    "\"\"\" Documented URL will not open via requests.get() method (HTTP 406 error).\n",
    "    Stored file contents locally\n",
    "\"\"\"\n",
    "\n",
    "# Set the file to open\n",
    "text_file = 'stopwords.txt'\n",
    "\n",
    "# Open the file\n",
    "with open(\n",
    "    file=text_file,\n",
    "    mode='rt',\n",
    "    encoding='utf-8'\n",
    ") as file:\n",
    "    # Read the file contents, convert to lowercase, and convert each word to a list item\n",
    "    stopwords = file.read().lower().split()\n",
    "\n",
    "# Display the wordr count of the file contents\n",
    "print(f'Total stopwords in file: {len(words)}')"
   ]
  },
  {
   "cell_type": "code",
   "execution_count": 10,
   "id": "ef82e818-d155-4f94-8f9c-048de89cc806",
   "metadata": {},
   "outputs": [
    {
     "name": "stdout",
     "output_type": "stream",
     "text": [
      "[('dursley', 45), ('dumbledore', 35), ('said', 32), ('mr', 30), ('professor', 30)]\n"
     ]
    }
   ],
   "source": [
    "\"\"\" Remove all blanks and stopwords with a list comprehension.\n",
    "    'word.strip()' returns False if the value of 'word' is an empty string ('')\n",
    "    An empty string always returns false.\n",
    "\"\"\"\n",
    "words = [word for word in words if word.strip() and word not in stopwords]\n",
    "\n",
    "# Re-count the words\n",
    "count = Counter(words)\n",
    "count = count.most_common(5)\n",
    "print(count)"
   ]
  },
  {
   "cell_type": "code",
   "execution_count": 11,
   "id": "78a4896f-7a8c-41ca-b469-2d5d723666a5",
   "metadata": {},
   "outputs": [],
   "source": [
    "# Check for a stopword in the list\n",
    "assert 'the' not in words"
   ]
  }
 ],
 "metadata": {
  "kernelspec": {
   "display_name": "Python 3 (ipykernel)",
   "language": "python",
   "name": "python3"
  },
  "language_info": {
   "codemirror_mode": {
    "name": "ipython",
    "version": 3
   },
   "file_extension": ".py",
   "mimetype": "text/x-python",
   "name": "python",
   "nbconvert_exporter": "python",
   "pygments_lexer": "ipython3",
   "version": "3.9.6"
  }
 },
 "nbformat": 4,
 "nbformat_minor": 5
}
