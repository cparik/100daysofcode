{
 "cells": [
  {
   "cell_type": "markdown",
   "metadata": {},
   "source": [
    "# Data Visualization with Plotly\n",
    "\n",
    "## Day 1"
   ]
  },
  {
   "cell_type": "code",
   "execution_count": 30,
   "metadata": {},
   "outputs": [],
   "source": [
    "# Import modules - Standard Library\n",
    "from collections import Counter\n",
    "from datetime import datetime, timedelta\n",
    "from pprint import pprint as pp\n",
    "from typing import List, Tuple, Union\n",
    "import re"
   ]
  },
  {
   "cell_type": "code",
   "execution_count": 2,
   "metadata": {},
   "outputs": [],
   "source": [
    "# Import modules - Third-Party\n",
    "import feedparser\n",
    "import plotly\n",
    "import plotly.graph_objs as go"
   ]
  },
  {
   "cell_type": "code",
   "execution_count": 3,
   "metadata": {},
   "outputs": [],
   "source": [
    "# Constants\n",
    "BLOG_CATEGORIES = {\n",
    "    'articles': 'article',\n",
    "    'codechallenge': 'challenge',\n",
    "    'guest': 'guest',\n",
    "    'special': 'special',\n",
    "    'twitter': 'twitter'\n",
    "}\n",
    "BLOG_FEED = feedparser.parse(\n",
    "    url_file_stream_or_string='https://pybit.es/feed'\n",
    ")\n",
    "DATE_STRING = 'Thu, 30 Jun 2022 06:56:11 +0000'\n",
    "URL_STRING = 'https://pybit.es/articles/the-importance-of-disconnecting-as-a-developer/'"
   ]
  },
  {
   "cell_type": "code",
   "execution_count": 4,
   "metadata": {},
   "outputs": [],
   "source": [
    "# Assign blog entries to a variable\n",
    "entries = BLOG_FEED['entries']"
   ]
  },
  {
   "cell_type": "code",
   "execution_count": 5,
   "metadata": {},
   "outputs": [
    {
     "name": "stdout",
     "output_type": "stream",
     "text": [
      "10\n"
     ]
    }
   ],
   "source": [
    "# Display the number of entries\n",
    "print(len(entries))"
   ]
  },
  {
   "cell_type": "code",
   "execution_count": 6,
   "metadata": {},
   "outputs": [
    {
     "data": {
      "text/plain": [
       "{'title': '5 tips for overcoming imposter syndrome …',\n",
       " 'title_detail': {'type': 'text/plain',\n",
       "  'language': None,\n",
       "  'base': 'https://pybit.es/feed/',\n",
       "  'value': '5 tips for overcoming imposter syndrome …'},\n",
       " 'links': [{'rel': 'alternate',\n",
       "   'type': 'text/html',\n",
       "   'href': 'https://pybit.es/articles/overcoming-imposter-syndrome/'}],\n",
       " 'link': 'https://pybit.es/articles/overcoming-imposter-syndrome/',\n",
       " 'authors': [{'name': 'Bob Belderbos'}],\n",
       " 'author': 'Bob Belderbos',\n",
       " 'author_detail': {'name': 'Bob Belderbos'},\n",
       " 'published': 'Fri, 08 Jul 2022 07:27:14 +0000',\n",
       " 'published_parsed': time.struct_time(tm_year=2022, tm_mon=7, tm_mday=8, tm_hour=7, tm_min=27, tm_sec=14, tm_wday=4, tm_yday=189, tm_isdst=0),\n",
       " 'tags': [{'term': 'Mindset', 'scheme': None, 'label': None},\n",
       "  {'term': 'brag doc', 'scheme': None, 'label': None},\n",
       "  {'term': 'coaching', 'scheme': None, 'label': None},\n",
       "  {'term': 'communication', 'scheme': None, 'label': None},\n",
       "  {'term': 'comparing to others', 'scheme': None, 'label': None},\n",
       "  {'term': 'confidence', 'scheme': None, 'label': None},\n",
       "  {'term': 'imposter syndrome', 'scheme': None, 'label': None},\n",
       "  {'term': 'pdm', 'scheme': None, 'label': None},\n",
       "  {'term': 'perfectionism', 'scheme': None, 'label': None},\n",
       "  {'term': 'tips', 'scheme': None, 'label': None}],\n",
       " 'id': 'https://pybit.es/?p=11924',\n",
       " 'guidislink': False,\n",
       " 'summary': '&#8220;I don&#8217;t belong here!&#8221;, &#8220;Who the hell am I to &#8230;&#8221; You&#8217;re not alone!&#160;Imposter syndrome&#160;is widespread in our industry. Here are 5 tips to better deal with it: 1. Talk with somebody Be it your manager, colleague, mentor or friend.&#160; This greatly reduces the stress this causes and you&#8217;ll realize (like really realize, not read&#8230; <a class=\"more-link\" href=\"https://pybit.es/articles/overcoming-imposter-syndrome/\">Continue reading <span class=\"screen-reader-text\">5 tips for overcoming imposter syndrome &#8230;</span></a>',\n",
       " 'summary_detail': {'type': 'text/html',\n",
       "  'language': None,\n",
       "  'base': 'https://pybit.es/feed/',\n",
       "  'value': '&#8220;I don&#8217;t belong here!&#8221;, &#8220;Who the hell am I to &#8230;&#8221; You&#8217;re not alone!&#160;Imposter syndrome&#160;is widespread in our industry. Here are 5 tips to better deal with it: 1. Talk with somebody Be it your manager, colleague, mentor or friend.&#160; This greatly reduces the stress this causes and you&#8217;ll realize (like really realize, not read&#8230; <a class=\"more-link\" href=\"https://pybit.es/articles/overcoming-imposter-syndrome/\">Continue reading <span class=\"screen-reader-text\">5 tips for overcoming imposter syndrome &#8230;</span></a>'},\n",
       " 'content': [{'type': 'text/html',\n",
       "   'language': None,\n",
       "   'base': 'https://pybit.es/feed/',\n",
       "   'value': '<p>&#8220;I don&#8217;t belong here!&#8221;, &#8220;Who the hell am I to &#8230;&#8221;</p>\\n\\n\\n\\n<p>You&#8217;re not alone!&nbsp;<strong>Imposter syndrome</strong>&nbsp;is widespread in our industry.</p>\\n\\n\\n\\n<p>Here are 5 tips to better deal with it:</p>\\n\\n\\n\\n<h3>1. Talk with somebody</h3>\\n\\n\\n\\n<p>Be it your manager, colleague, mentor or friend.&nbsp;</p>\\n\\n\\n\\n<p>This greatly reduces the stress this causes and you&#8217;ll realize (like really realize, not read it and nod along) that we all have it.</p>\\n\\n\\n\\n<h3>2. Don&#8217;t be too hard on yourself.&nbsp;</h3>\\n\\n\\n\\n<p>Progress takes time and mistakes, allow yourself to make mistakes, that&#8217;s where the learning happens. Drop perfectionism, it really exacerbates the problem.</p>\\n\\n\\n\\n<p>As with many of these mindset related topics, we&#8217;ve spoken about perfectionism on our podcast:</p>\\n\\n\\n\\n<div id=\"buzzsprout-player-7491730\"></div>\\n\\n\\n\\n<h3>3. Don&#8217;t compare yourself to others.&nbsp;</h3>\\n\\n\\n\\n<p>Similar to the previous point, it&#8217;s not realistic to compare yourself to experts when they&#8217;ve been doing something for 10-20 years day in day out.&nbsp;</p>\\n\\n\\n\\n<p>See where you were 6 weeks ago and anchor your progress against that, and inspire to become an expert but be realistic about it.</p>\\n\\n\\n\\n<p>We spoke about this topic on our podcast as well:</p>\\n\\n\\n\\n<div id=\"buzzsprout-player-10429975\"></div>\\n\\n\\n\\n<h3>4. Track your weekly progress and successes.&nbsp;</h3>\\n\\n\\n\\n<p><a href=\"https://pybit.es/articles/boost-your-motivation-with-brag-doc/\" rel=\"noreferrer noopener\" target=\"_blank\">We keep a wins doc ourselves</a> we (religiously) update every week, and we do the same with each client we work with.&nbsp;</p>\\n\\n\\n\\n<p>It&#8217;s easy to forget your past successes and have the negative side take over.</p>\\n\\n\\n\\n<h3>5. Recognize imposter syndrome won&#8217;t go away.</h3>\\n\\n\\n\\n<p>It usually is a sign that you&#8217;re about to make a growth spurt so try to embrace it as a necessary ingredient of success.</p>\\n\\n\\n\\n<p>To get to the next level requires moving outside of your comfort zone.</p>\\n\\n\\n\\n<hr class=\"wp-block-separator has-alpha-channel-opacity\" />\\n\\n\\n\\n<h3>Bonus: Pybites Confidence training</h3>\\n\\n\\n\\n<p>While writing this article I almost forgot that we have a 20 minutes <em>confidence</em> training, which I am linking here:</p>\\n\\n\\n\\n<figure class=\"wp-block-embed is-type-video is-provider-vimeo wp-block-embed-vimeo wp-embed-aspect-16-9 wp-has-aspect-ratio\"><div class=\"wp-block-embed__wrapper\">\\n\\n</div></figure>\\n\\n\\n\\n<hr class=\"wp-block-separator has-alpha-channel-opacity\" />\\n\\n\\n\\n<h3>The faster lane &#8211; don&#8217;t go at it alone!</h3>\\n\\n\\n\\n<p>Even though these tips are great, it can be tough to go at this alone. In our <a href=\"https://pybit.es/catalogue/the-pdm-program/\">Pybites Developer Mindset (PDM) coaching program</a>, you&#8217;ll tackle imposter syndrome head-on in multiple ways:</p>\\n\\n\\n\\n<ol><li>By building 2 projects end-to-end / MVP ready, you&#8217;ll gain a lot of skills in your abilities (<em>confidence through competence</em> as they say).<br /></li><li>The program includes weekly <em>Mindset Hacking</em> calls with none other than Julian were the current people in the program discuss their insights on the topic. <br /><br />People come out of these sessions gaining clear strategies to better tackle this in their specific work / life settings. <br /><br />Also with the growing coaching calls archive, you&#8217;ll have access to dozens of calls that speak about this.</li></ol>\\n\\n\\n\\n<p>Most solutions, even bootcamps, only focus on the tech side of things. We at Pybites have the unique edge of coaching you on the mindset side of things as well.<br /><br />Many people come to us for the Python / developer skills, which they will vastly improve, but &#8230; surprisingly they come out identifying that the <strong>mindset</strong> was actually the <em>unexpected hero</em>.</p>\\n\\n\\n\\n<p>If you&#8217;re interested in learning more about what we do, our program, and receive a bit of mindset coaching there are two avenues:</p>\\n\\n\\n\\n<ol><li>Book us in for a free assessment call <a href=\"https://go.oncehub.com/pybites\" rel=\"noreferrer noopener\" target=\"_blank\">here</a>. <br /></li><li>Join our Facebook Group where we give monthly live training about the <em>developer mindset </em>required to succeed as a developer. Join <a href=\"https://www.facebook.com/groups/pybites\" rel=\"noreferrer noopener\" target=\"_blank\">here</a>.</li></ol>\\n\\n\\n\\n<p>Again, remember you don&#8217;t have to go at this alone!</p>'}]}"
      ]
     },
     "execution_count": 6,
     "metadata": {},
     "output_type": "execute_result"
    }
   ],
   "source": [
    "# Display the first blog entry\n",
    "entries[0]"
   ]
  },
  {
   "cell_type": "markdown",
   "metadata": {},
   "source": [
    "### Parsed Feed Notes\n",
    "\n",
    "- The `published` key uses a string value for a date:\n",
    "    `'Thu, 30 Jun 2022 06:56:11 +0000'`\n",
    "- The `published_parsed` key uses a `time.struct` object to store a structured date:\n",
    "    `time.struct_time(tm_year=2022, tm_mon=6, tm_mday=30, tm_hour=6, tm_min=56, tm_sec=11, tm_wday=3, tm_yday=181, tm_isdst=0)`\n",
    "\n",
    "#### Working with date/time objects is easiest with `datetime.datetime` objects"
   ]
  },
  {
   "cell_type": "code",
   "execution_count": 7,
   "metadata": {},
   "outputs": [],
   "source": [
    "# Create a helper function to convert strings to datetime objects\n",
    "def convert_to_datetime(\n",
    "    date_string: str = DATE_STRING\n",
    ") -> datetime:\n",
    "    \"\"\" Convert a string to a datetime object.\n",
    "    \n",
    "        Args:\n",
    "            date_string (str):\n",
    "                A string representing a date, extracted from\n",
    "                entries['published'].  Default is DATE_STRING.\n",
    "\n",
    "        Returns:\n",
    "            date_time (datetime):\n",
    "                A datetime object representing the converted date_string.\n",
    "    \"\"\"\n",
    "\n",
    "    # Remove the timezone offset from date_string\n",
    "    date = date_string.split(\n",
    "        sep='+'  # Split the string to a list object on the '+' character\n",
    "    )[0].strip()  # Keep the first index (everything to the left of the '+') and remove the trailing whitespace\n",
    "\n",
    "    # Create a datetime.datetime object from the date string\n",
    "    date_time =  datetime.strptime(date, '%a, %d %b %Y %H:%M:%S')\n",
    "\n",
    "    # Convert the datetime object to a year-month string\n",
    "    date_time = f'{date_time.year}-{date_time.month}'\n",
    "\n",
    "    return date_time\n",
    "\n",
    "\n",
    "# Convert a string to a datetime object to a string\n",
    "date_time = convert_to_datetime()"
   ]
  },
  {
   "cell_type": "code",
   "execution_count": 8,
   "metadata": {},
   "outputs": [
    {
     "data": {
      "text/plain": [
       "str"
      ]
     },
     "execution_count": 8,
     "metadata": {},
     "output_type": "execute_result"
    }
   ],
   "source": [
    "# Display the date_time object type - Used when convert_to_datetime returned a datetime.datetime object\n",
    "type(date_time)"
   ]
  },
  {
   "cell_type": "code",
   "execution_count": 9,
   "metadata": {},
   "outputs": [
    {
     "data": {
      "text/plain": [
       "'2022-6'"
      ]
     },
     "execution_count": 9,
     "metadata": {},
     "output_type": "execute_result"
    }
   ],
   "source": [
    "# Display the date_time string\n",
    "date_time"
   ]
  },
  {
   "cell_type": "code",
   "execution_count": 10,
   "metadata": {},
   "outputs": [],
   "source": [
    "# Add 5 days to the date_time value - Used when convert_to_datetime returned a datetime.datetime object\n",
    "# date_time + timedelta(\n",
    "#     days=5\n",
    "# )"
   ]
  },
  {
   "cell_type": "code",
   "execution_count": 11,
   "metadata": {},
   "outputs": [
    {
     "data": {
      "text/plain": [
       "'article'"
      ]
     },
     "execution_count": 11,
     "metadata": {},
     "output_type": "execute_result"
    }
   ],
   "source": [
    "# Extract an entry's category from its `link` key\n",
    "def get_category(\n",
    "    link: str = URL_STRING\n",
    ") -> str:\n",
    "    \"\"\" Extract an entry's category from its `link` key.\n",
    "    \n",
    "    Args:\n",
    "        link (str):\n",
    "            A link with a category embedded in the URL, extracted from\n",
    "            entries['link'].  Default is URL_STRING.\n",
    "\n",
    "        Returns:\n",
    "            category (str):\n",
    "                Category value, extracted from the link.\n",
    "    \"\"\"\n",
    "\n",
    "    # Extract the category from the link with re.sub\n",
    "    category_match = re.sub(\n",
    "        pattern=r'https?://pybit.es/([a-z]+)/.*',\n",
    "        repl=r'\\1',\n",
    "        string=link\n",
    "    )\n",
    "\n",
    "    # Attempt to match category_match to a key in BLOG_CATEGORIES, default is 'article'\n",
    "    category = BLOG_CATEGORIES.get(category_match, 'article')\n",
    "\n",
    "    return category\n",
    "\n",
    "category = get_category()\n",
    "category"
   ]
  },
  {
   "cell_type": "markdown",
   "metadata": {},
   "source": [
    "---\n",
    "\n",
    "## Day 2"
   ]
  },
  {
   "cell_type": "markdown",
   "metadata": {},
   "source": [
    "### Plotting RSS Feed Entries with `Plotly`\n",
    "\n",
    "#### Task 1 - Create a breakdown of the number of entries per month"
   ]
  },
  {
   "cell_type": "code",
   "execution_count": 12,
   "metadata": {},
   "outputs": [],
   "source": [
    "# Create a breakdown of the number of entries per month\n",
    "published_dates = [\n",
    "   convert_to_datetime(\n",
    "    date_string=entry.published\n",
    "    ) for entry in entries\n",
    "]\n"
   ]
  },
  {
   "cell_type": "code",
   "execution_count": 13,
   "metadata": {},
   "outputs": [
    {
     "data": {
      "text/plain": [
       "['2022-7',\n",
       " '2022-7',\n",
       " '2022-7',\n",
       " '2022-6',\n",
       " '2022-6',\n",
       " '2022-6',\n",
       " '2022-6',\n",
       " '2022-6',\n",
       " '2022-6',\n",
       " '2022-6']"
      ]
     },
     "execution_count": 13,
     "metadata": {},
     "output_type": "execute_result"
    }
   ],
   "source": [
    "# Display published_dates\n",
    "published_dates"
   ]
  },
  {
   "cell_type": "code",
   "execution_count": 14,
   "metadata": {},
   "outputs": [],
   "source": [
    "# Get the number of posts by month with a Counter object\n",
    "posts_by_month = Counter(published_dates)"
   ]
  },
  {
   "cell_type": "code",
   "execution_count": 15,
   "metadata": {},
   "outputs": [
    {
     "data": {
      "text/plain": [
       "Counter({'2022-7': 3, '2022-6': 7})"
      ]
     },
     "execution_count": 15,
     "metadata": {},
     "output_type": "execute_result"
    }
   ],
   "source": [
    "# Display posts_by_month\n",
    "posts_by_month"
   ]
  },
  {
   "cell_type": "markdown",
   "metadata": {},
   "source": [
    "#### Task 2 - Create a breakdown of entry categories"
   ]
  },
  {
   "cell_type": "code",
   "execution_count": 16,
   "metadata": {},
   "outputs": [],
   "source": [
    "# Create a breakdown of entry categories\n",
    "categories = [\n",
    "    get_category(\n",
    "        link=entry.link\n",
    "    ) for entry in entries\n",
    "]"
   ]
  },
  {
   "cell_type": "code",
   "execution_count": 17,
   "metadata": {},
   "outputs": [
    {
     "data": {
      "text/plain": [
       "['article',\n",
       " 'article',\n",
       " 'article',\n",
       " 'article',\n",
       " 'article',\n",
       " 'article',\n",
       " 'article',\n",
       " 'article',\n",
       " 'article',\n",
       " 'article']"
      ]
     },
     "execution_count": 17,
     "metadata": {},
     "output_type": "execute_result"
    }
   ],
   "source": [
    "# Display categories\n",
    "categories"
   ]
  },
  {
   "cell_type": "code",
   "execution_count": 18,
   "metadata": {},
   "outputs": [],
   "source": [
    "# Get a count of entries in each category with a Counter object\n",
    "category_counts = Counter(categories)"
   ]
  },
  {
   "cell_type": "code",
   "execution_count": 19,
   "metadata": {},
   "outputs": [
    {
     "data": {
      "text/plain": [
       "[('article', 10)]"
      ]
     },
     "execution_count": 19,
     "metadata": {},
     "output_type": "execute_result"
    }
   ],
   "source": [
    "# Display category_counts sorted by most_common\n",
    "category_counts.most_common()"
   ]
  },
  {
   "cell_type": "markdown",
   "metadata": {},
   "source": [
    "#### Task 3 - Create a breakdown of common tags"
   ]
  },
  {
   "cell_type": "code",
   "execution_count": 20,
   "metadata": {},
   "outputs": [
    {
     "data": {
      "text/plain": [
       "['Mindset',\n",
       " 'brag doc',\n",
       " 'coaching',\n",
       " 'communication',\n",
       " 'comparing to others',\n",
       " 'confidence',\n",
       " 'imposter syndrome',\n",
       " 'pdm',\n",
       " 'perfectionism',\n",
       " 'tips']"
      ]
     },
     "execution_count": 20,
     "metadata": {},
     "output_type": "execute_result"
    }
   ],
   "source": [
    "# Create a breakdown of common tags, and display the first 10 tags\n",
    "tags = []\n",
    "for entry in entries:\n",
    "    for tag in entry.tags:\n",
    "        tags.append(tag.get('term'))\n",
    "\n",
    "tags[:10]"
   ]
  },
  {
   "cell_type": "code",
   "execution_count": 21,
   "metadata": {},
   "outputs": [],
   "source": [
    "# Get a count of each tag with a Counter object\n",
    "tag_counts = Counter(tags)"
   ]
  },
  {
   "cell_type": "code",
   "execution_count": 22,
   "metadata": {},
   "outputs": [
    {
     "data": {
      "text/plain": [
       "[('Podcast', 4),\n",
       " ('Developer', 4),\n",
       " ('pdm', 3),\n",
       " ('career', 3),\n",
       " ('Modules', 3),\n",
       " ('Mindset', 2),\n",
       " ('communication', 2),\n",
       " ('csv', 2),\n",
       " ('rich', 2),\n",
       " ('Productivity', 2),\n",
       " ('mindset', 2),\n",
       " ('productivity', 2),\n",
       " ('data', 2),\n",
       " ('JIT learning', 2),\n",
       " ('pandas', 2),\n",
       " ('brag doc', 1),\n",
       " ('coaching', 1),\n",
       " ('comparing to others', 1),\n",
       " ('confidence', 1),\n",
       " ('imposter syndrome', 1),\n",
       " ('perfectionism', 1),\n",
       " ('tips', 1),\n",
       " ('Career', 1),\n",
       " ('networking', 1),\n",
       " ('Tools', 1),\n",
       " ('alias', 1),\n",
       " ('build', 1),\n",
       " ('color searcher', 1),\n",
       " ('colors', 1),\n",
       " ('colorsys', 1),\n",
       " ('console', 1),\n",
       " ('hex', 1),\n",
       " ('HSL', 1),\n",
       " ('pathlib', 1),\n",
       " ('shell', 1),\n",
       " ('sorting', 1),\n",
       " ('Standard Library', 1),\n",
       " ('tools', 1),\n",
       " ('tuple unpacking', 1),\n",
       " ('typing', 1),\n",
       " ('unix', 1),\n",
       " ('Tips', 1),\n",
       " ('disconnect', 1),\n",
       " ('distraction', 1),\n",
       " ('nature', 1),\n",
       " ('take breaks', 1),\n",
       " ('technology', 1),\n",
       " ('Data', 1),\n",
       " ('adjacent skills', 1),\n",
       " ('comfort zone', 1),\n",
       " ('data science', 1),\n",
       " ('Jupyter', 1),\n",
       " ('Data Science', 1),\n",
       " ('Bites', 1),\n",
       " ('command line', 1),\n",
       " ('JSON', 1),\n",
       " ('matplotlib', 1),\n",
       " ('plotext', 1),\n",
       " ('plotting', 1),\n",
       " ('PyBites Platform', 1),\n",
       " ('schools', 1),\n",
       " ('typer', 1),\n",
       " ('best practices', 1),\n",
       " ('content provider', 1),\n",
       " ('mentoring', 1),\n",
       " ('pitfalls', 1),\n",
       " ('portfolio', 1),\n",
       " ('Learning', 1),\n",
       " ('carbon', 1),\n",
       " ('images', 1),\n",
       " ('opensource', 1),\n",
       " ('books', 1),\n",
       " ('coding', 1),\n",
       " ('create space', 1),\n",
       " ('design', 1),\n",
       " ('getting unstuck', 1),\n",
       " ('rubber duck debugging', 1),\n",
       " ('sunk cost bias', 1),\n",
       " ('tunnel vision', 1),\n",
       " ('Django', 1),\n",
       " ('chart.js', 1),\n",
       " ('data visualization', 1),\n",
       " ('Django Commands', 1),\n",
       " ('graph', 1),\n",
       " ('platform', 1),\n",
       " ('postgres', 1),\n",
       " ('stats', 1)]"
      ]
     },
     "execution_count": 22,
     "metadata": {},
     "output_type": "execute_result"
    }
   ],
   "source": [
    "# Display tag_counts sorted by most_common\n",
    "tag_counts.most_common()"
   ]
  },
  {
   "cell_type": "markdown",
   "metadata": {},
   "source": [
    "---\n",
    "\n",
    "## Day 3"
   ]
  },
  {
   "cell_type": "markdown",
   "metadata": {},
   "source": [
    "### Transpose Data and Initialize `Plotly`\n",
    "\n",
    "#### Task 1 - Convert `posts_by_month`, `category_counts`, and `tag_counts` to data that can form `x` and `y` axises\n",
    "\n",
    "- At present, the data is in the form of `dict` key/value pairs or lists of `tuple` pairs, where the `[0]` index is a key and the `[1]` index is the corresponding value.\n",
    "- The transposed data should be a list of tuples where the first tuple contains all of the \"keys\" (`x`-axis) and the second tuple contains all of the \"values\" (`y`-axis)."
   ]
  },
  {
   "cell_type": "code",
   "execution_count": 39,
   "metadata": {},
   "outputs": [],
   "source": [
    "\"\"\" Transpose dictionaries or key/value lists of tuples to a list of tuples\n",
    "    where the first tuple is all keys (x-axis) and the second tuple is all values (y-axis).\n",
    "\"\"\"\n",
    "\n",
    "\n",
    "def transpose_data_for_graphing(\n",
    "    data: Union[dict, List[Tuple]]\n",
    ") -> List[Tuple]:\n",
    "    \"\"\" Transpose data for graphing.\n",
    "\n",
    "        Transpose dictionaries or key/value lists of tuples to a list of tuples\n",
    "        where the first tuple is all keys (x-axis) and the second tuple is all values (y-axis).\n",
    "            \n",
    "            Args:\n",
    "                data (dict or list[Tuple]):\n",
    "                    Data to be transposed.\n",
    "    \n",
    "            Returns:\n",
    "                transposed_data (List[Tuple, Tuple]):\n",
    "                    Transposed data.\n",
    "        \"\"\"\n",
    "\n",
    "    # If the data is a dictionary, unpack the data into a list of tuples\n",
    "    if isinstance(data, dict):\n",
    "        data = data.items()\n",
    "\n",
    "    # Transpose the data with the zip function, by unpacking the data into a list of tuples\n",
    "    transformed_data = list(\n",
    "        zip(*data)\n",
    "    )\n",
    "\n",
    "    return transformed_data"
   ]
  },
  {
   "cell_type": "code",
   "execution_count": 40,
   "metadata": {},
   "outputs": [
    {
     "data": {
      "text/plain": [
       "[('2022-7', '2022-6'), (3, 7)]"
      ]
     },
     "execution_count": 40,
     "metadata": {},
     "output_type": "execute_result"
    }
   ],
   "source": [
    "# Transpose posts_by_month for graphing\n",
    "transposed_posts_by_month = transpose_data_for_graphing(\n",
    "    data=posts_by_month\n",
    ")\n",
    "\n",
    "transposed_posts_by_month"
   ]
  },
  {
   "cell_type": "code",
   "execution_count": 41,
   "metadata": {},
   "outputs": [
    {
     "data": {
      "text/plain": [
       "[('article',), (10,)]"
      ]
     },
     "execution_count": 41,
     "metadata": {},
     "output_type": "execute_result"
    }
   ],
   "source": [
    "# Transpose category_counts for graphing\n",
    "transposed_category_counts = transpose_data_for_graphing(\n",
    "    data=category_counts\n",
    ")\n",
    "\n",
    "transposed_category_counts"
   ]
  },
  {
   "cell_type": "code",
   "execution_count": 42,
   "metadata": {},
   "outputs": [
    {
     "data": {
      "text/plain": [
       "[('Mindset',\n",
       "  'brag doc',\n",
       "  'coaching',\n",
       "  'communication',\n",
       "  'comparing to others',\n",
       "  'confidence',\n",
       "  'imposter syndrome',\n",
       "  'pdm',\n",
       "  'perfectionism',\n",
       "  'tips',\n",
       "  'Podcast',\n",
       "  'Career',\n",
       "  'career',\n",
       "  'networking',\n",
       "  'Tools',\n",
       "  'Developer',\n",
       "  'Modules',\n",
       "  'alias',\n",
       "  'build',\n",
       "  'color searcher',\n",
       "  'colors',\n",
       "  'colorsys',\n",
       "  'console',\n",
       "  'csv',\n",
       "  'hex',\n",
       "  'HSL',\n",
       "  'pathlib',\n",
       "  'rich',\n",
       "  'shell',\n",
       "  'sorting',\n",
       "  'Standard Library',\n",
       "  'tools',\n",
       "  'tuple unpacking',\n",
       "  'typing',\n",
       "  'unix',\n",
       "  'Tips',\n",
       "  'Productivity',\n",
       "  'disconnect',\n",
       "  'distraction',\n",
       "  'mindset',\n",
       "  'nature',\n",
       "  'productivity',\n",
       "  'take breaks',\n",
       "  'technology',\n",
       "  'Data',\n",
       "  'adjacent skills',\n",
       "  'comfort zone',\n",
       "  'data',\n",
       "  'data science',\n",
       "  'JIT learning',\n",
       "  'Jupyter',\n",
       "  'pandas',\n",
       "  'Data Science',\n",
       "  'Bites',\n",
       "  'command line',\n",
       "  'JSON',\n",
       "  'matplotlib',\n",
       "  'plotext',\n",
       "  'plotting',\n",
       "  'PyBites Platform',\n",
       "  'schools',\n",
       "  'typer',\n",
       "  'best practices',\n",
       "  'content provider',\n",
       "  'mentoring',\n",
       "  'pitfalls',\n",
       "  'portfolio',\n",
       "  'Learning',\n",
       "  'carbon',\n",
       "  'images',\n",
       "  'opensource',\n",
       "  'books',\n",
       "  'coding',\n",
       "  'create space',\n",
       "  'design',\n",
       "  'getting unstuck',\n",
       "  'rubber duck debugging',\n",
       "  'sunk cost bias',\n",
       "  'tunnel vision',\n",
       "  'Django',\n",
       "  'chart.js',\n",
       "  'data visualization',\n",
       "  'Django Commands',\n",
       "  'graph',\n",
       "  'platform',\n",
       "  'postgres',\n",
       "  'stats'),\n",
       " (2,\n",
       "  1,\n",
       "  1,\n",
       "  2,\n",
       "  1,\n",
       "  1,\n",
       "  1,\n",
       "  3,\n",
       "  1,\n",
       "  1,\n",
       "  4,\n",
       "  1,\n",
       "  3,\n",
       "  1,\n",
       "  1,\n",
       "  4,\n",
       "  3,\n",
       "  1,\n",
       "  1,\n",
       "  1,\n",
       "  1,\n",
       "  1,\n",
       "  1,\n",
       "  2,\n",
       "  1,\n",
       "  1,\n",
       "  1,\n",
       "  2,\n",
       "  1,\n",
       "  1,\n",
       "  1,\n",
       "  1,\n",
       "  1,\n",
       "  1,\n",
       "  1,\n",
       "  1,\n",
       "  2,\n",
       "  1,\n",
       "  1,\n",
       "  2,\n",
       "  1,\n",
       "  2,\n",
       "  1,\n",
       "  1,\n",
       "  1,\n",
       "  1,\n",
       "  1,\n",
       "  2,\n",
       "  1,\n",
       "  2,\n",
       "  1,\n",
       "  2,\n",
       "  1,\n",
       "  1,\n",
       "  1,\n",
       "  1,\n",
       "  1,\n",
       "  1,\n",
       "  1,\n",
       "  1,\n",
       "  1,\n",
       "  1,\n",
       "  1,\n",
       "  1,\n",
       "  1,\n",
       "  1,\n",
       "  1,\n",
       "  1,\n",
       "  1,\n",
       "  1,\n",
       "  1,\n",
       "  1,\n",
       "  1,\n",
       "  1,\n",
       "  1,\n",
       "  1,\n",
       "  1,\n",
       "  1,\n",
       "  1,\n",
       "  1,\n",
       "  1,\n",
       "  1,\n",
       "  1,\n",
       "  1,\n",
       "  1,\n",
       "  1,\n",
       "  1)]"
      ]
     },
     "execution_count": 42,
     "metadata": {},
     "output_type": "execute_result"
    }
   ],
   "source": [
    "# Transpose tag_counts for graphing\n",
    "transposed_tag_counts = transpose_data_for_graphing(\n",
    "    data=tag_counts\n",
    ")\n",
    "\n",
    "transposed_tag_counts"
   ]
  },
  {
   "cell_type": "markdown",
   "metadata": {},
   "source": [
    "#### Task 2 - Initialize `Plotly` in offline mode"
   ]
  },
  {
   "cell_type": "code",
   "execution_count": 43,
   "metadata": {},
   "outputs": [
    {
     "data": {
      "text/html": [
       "        <script type=\"text/javascript\">\n",
       "        window.PlotlyConfig = {MathJaxConfig: 'local'};\n",
       "        if (window.MathJax && window.MathJax.Hub && window.MathJax.Hub.Config) {window.MathJax.Hub.Config({SVG: {font: \"STIX-Web\"}});}\n",
       "        if (typeof require !== 'undefined') {\n",
       "        require.undef(\"plotly\");\n",
       "        requirejs.config({\n",
       "            paths: {\n",
       "                'plotly': ['https://cdn.plot.ly/plotly-2.12.1.min']\n",
       "            }\n",
       "        });\n",
       "        require(['plotly'], function(Plotly) {\n",
       "            window._Plotly = Plotly;\n",
       "        });\n",
       "        }\n",
       "        </script>\n",
       "        "
      ]
     },
     "metadata": {},
     "output_type": "display_data"
    }
   ],
   "source": [
    "# Initialize Plotly in offline mode\n",
    "# Reference: https://plot.ly/python/getting-started\n",
    "plotly.offline.init_notebook_mode(\n",
    "    connected=True\n",
    ")"
   ]
  }
 ],
 "metadata": {
  "kernelspec": {
   "display_name": "Python 3.10.5 64-bit",
   "language": "python",
   "name": "python3"
  },
  "language_info": {
   "codemirror_mode": {
    "name": "ipython",
    "version": 3
   },
   "file_extension": ".py",
   "mimetype": "text/x-python",
   "name": "python",
   "nbconvert_exporter": "python",
   "pygments_lexer": "ipython3",
   "version": "3.10.5"
  },
  "orig_nbformat": 4,
  "vscode": {
   "interpreter": {
    "hash": "949777d72b0d2535278d3dc13498b2535136f6dfe0678499012e853ee9abcab1"
   }
  }
 },
 "nbformat": 4,
 "nbformat_minor": 2
}
