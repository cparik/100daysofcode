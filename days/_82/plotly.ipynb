{
 "cells": [
  {
   "cell_type": "markdown",
   "metadata": {},
   "source": [
    "# Data Visualization with Plotly\n",
    "\n",
    "## Day 1"
   ]
  },
  {
   "cell_type": "code",
   "execution_count": 35,
   "metadata": {},
   "outputs": [],
   "source": [
    "# Import modules - Standard Library\n",
    "from collections import Counter\n",
    "from datetime import datetime, timedelta\n",
    "from pprint import pprint as pp\n",
    "import re"
   ]
  },
  {
   "cell_type": "code",
   "execution_count": 2,
   "metadata": {},
   "outputs": [],
   "source": [
    "# Import modules - Third-Party\n",
    "import feedparser\n",
    "import plotly\n",
    "import plotly.graph_objs as go"
   ]
  },
  {
   "cell_type": "code",
   "execution_count": 58,
   "metadata": {},
   "outputs": [],
   "source": [
    "# Constants\n",
    "BLOG_CATEGORIES = {\n",
    "    'articles': 'article',\n",
    "    'codechallenge': 'challenge',\n",
    "    'guest': 'guest',\n",
    "    'special': 'special',\n",
    "    'twitter': 'twitter'\n",
    "}\n",
    "BLOG_FEED = feedparser.parse(\n",
    "    url_file_stream_or_string='https://pybit.es/feed'\n",
    ")\n",
    "DATE_STRING = 'Thu, 30 Jun 2022 06:56:11 +0000'\n",
    "URL_STRING = 'https://pybit.es/articles/the-importance-of-disconnecting-as-a-developer/'"
   ]
  },
  {
   "cell_type": "code",
   "execution_count": 18,
   "metadata": {},
   "outputs": [],
   "source": [
    "# Assign blog entries to a variable\n",
    "entries = BLOG_FEED['entries']"
   ]
  },
  {
   "cell_type": "code",
   "execution_count": 19,
   "metadata": {},
   "outputs": [
    {
     "data": {
      "text/plain": [
       "{'title': 'The Importance of Disconnecting as a Developer',\n",
       " 'title_detail': {'type': 'text/plain',\n",
       "  'language': None,\n",
       "  'base': 'https://pybit.es/feed/',\n",
       "  'value': 'The Importance of Disconnecting as a Developer'},\n",
       " 'links': [{'rel': 'alternate',\n",
       "   'type': 'text/html',\n",
       "   'href': 'https://pybit.es/articles/the-importance-of-disconnecting-as-a-developer/'}],\n",
       " 'link': 'https://pybit.es/articles/the-importance-of-disconnecting-as-a-developer/',\n",
       " 'comments': 'https://pybit.es/articles/the-importance-of-disconnecting-as-a-developer/#respond',\n",
       " 'authors': [{'name': 'Hugh Tipping'}],\n",
       " 'author': 'Hugh Tipping',\n",
       " 'author_detail': {'name': 'Hugh Tipping'},\n",
       " 'published': 'Thu, 30 Jun 2022 06:56:11 +0000',\n",
       " 'published_parsed': time.struct_time(tm_year=2022, tm_mon=6, tm_mday=30, tm_hour=6, tm_min=56, tm_sec=11, tm_wday=3, tm_yday=181, tm_isdst=0),\n",
       " 'tags': [{'term': 'Tips', 'scheme': None, 'label': None},\n",
       "  {'term': 'Mindset', 'scheme': None, 'label': None},\n",
       "  {'term': 'Productivity', 'scheme': None, 'label': None},\n",
       "  {'term': 'disconnect', 'scheme': None, 'label': None},\n",
       "  {'term': 'distraction', 'scheme': None, 'label': None},\n",
       "  {'term': 'mindset', 'scheme': None, 'label': None},\n",
       "  {'term': 'nature', 'scheme': None, 'label': None},\n",
       "  {'term': 'productivity', 'scheme': None, 'label': None},\n",
       "  {'term': 'take breaks', 'scheme': None, 'label': None},\n",
       "  {'term': 'technology', 'scheme': None, 'label': None}],\n",
       " 'id': 'https://pybit.es/?p=11876',\n",
       " 'guidislink': False,\n",
       " 'summary': 'You don&#8217;t need library to download the scent of honeysuckle. You can hear the music of a chattering creek without a secure connection or authentication. We spend so much time connected to and with our tech and our code that we forget what it feels like to be connected to the world around us, to&#8230; <a class=\"more-link\" href=\"https://pybit.es/articles/the-importance-of-disconnecting-as-a-developer/\">Continue reading <span class=\"screen-reader-text\">The Importance of Disconnecting as a Developer</span></a>',\n",
       " 'summary_detail': {'type': 'text/html',\n",
       "  'language': None,\n",
       "  'base': 'https://pybit.es/feed/',\n",
       "  'value': 'You don&#8217;t need library to download the scent of honeysuckle. You can hear the music of a chattering creek without a secure connection or authentication. We spend so much time connected to and with our tech and our code that we forget what it feels like to be connected to the world around us, to&#8230; <a class=\"more-link\" href=\"https://pybit.es/articles/the-importance-of-disconnecting-as-a-developer/\">Continue reading <span class=\"screen-reader-text\">The Importance of Disconnecting as a Developer</span></a>'},\n",
       " 'content': [{'type': 'text/html',\n",
       "   'language': None,\n",
       "   'base': 'https://pybit.es/feed/',\n",
       "   'value': '<p>You don&#8217;t need library to download the scent of honeysuckle. You can hear the music of a chattering creek without a secure connection or authentication. <br /><br />We spend so much time connected to and with our tech and our code that we forget what it feels like to be connected to the world around us, to nature, and even to people &#8220;in real life.&#8221;<br /><br />I suggested to a friend, a talented and prolific coder, who had been feeling stressed and a bit off balance lately, to make a conscious effort to avoid tech, just to be present with her surroundings and notice the details of the natural world. She reached out to me a few days later:</p>\\n\\n\\n\\n<blockquote class=\"wp-block-quote\"><p><em>I&#8217;ve started becoming more aware of nature and sounds around me. I took a walk this morning and didn&#8217;t look at my phone once! It felt amazing! I&#8217;ve been so distracted lately by tech, news, etc. I just need a brain break.</em></p></blockquote>\\n\\n\\n\\n<p>I was fortunate enough to have a week off between jobs. During that time I explored my neighborhood, visiting parks, seeing places I had never seen. It was the peak of cherry blossom season so I visited a local Japanese garden. I sat on a bench looking at the trees hanging over a lake, feeling the breeze, sensing the solidness of the ground beneath my feet, watching the branches sway. I had my phone on silent in my pocket. There was no software, no data, nothing to execute and nothing to &#8220;check.&#8221; I was able just to be there enjoying the fleeting beauty of the cherry blossoms. My mind grew calm. The stress drained out of me. I let myself get lost in the moment.</p>\\n\\n\\n\\n<figure class=\"wp-block-image size-large\"><img alt=\"PXL 20220410 193125042\" class=\"wp-image-11886\" height=\"422\" src=\"https://i0.wp.com/pybit.es/wp-content/uploads/2022/06/PXL_20220410_193125042.jpg?resize=750%2C422&#038;ssl=1\" title=\"The Importance of Disconnecting as a Developer 1\" width=\"750\" /><figcaption>The beautiful local Japanese garden</figcaption></figure>\\n\\n\\n\\n<p>At one point someone walked past me, staring into his phone. He aimed it at a cherry tree, took a photo and turned and walked away. He hadn&#8217;t paused once to look at the tree close up <em>with his own eyes</em>. He hadn&#8217;t taken a moment to be present with the experience, to smell the air, or to watch petals caught in a breeze.</p>\\n\\n\\n\\n<p>He had a flat image he could upload later, though, and collect some likes on social media. It&#8217;ll remind him of a moment, but the moment will be devoid of ambience gained from using all your senses. I take plenty of pictures myself but they are to help me recall the richness of an occasion that I have taken the time to experience fully.</p>\\n\\n\\n\\n<p>I find that richness to be cleansing, using different parts of my brain so that others may rest, creating memories that are substantive and not as fleeting as a notification or a headline or the latest frontend framework. I also find that when I do reconnect to the tech, and my projects, it is like coming back from vacation rested and alert.</p>\\n\\n\\n\\n<p><em>How do you disconnect from technology and what does it mean to you?</em></p>'}],\n",
       " 'wfw_commentrss': 'https://pybit.es/articles/the-importance-of-disconnecting-as-a-developer/feed/',\n",
       " 'slash_comments': '0'}"
      ]
     },
     "execution_count": 19,
     "metadata": {},
     "output_type": "execute_result"
    }
   ],
   "source": [
    "# Display the first blog entry\n",
    "entries[0]"
   ]
  },
  {
   "cell_type": "markdown",
   "metadata": {},
   "source": [
    "### Parsed Feed Notes\n",
    "\n",
    "- The `published` key uses a string value for a date:\n",
    "    `'Thu, 30 Jun 2022 06:56:11 +0000'`\n",
    "- The `published_parsed` key uses a `time.struct` object to store a structured date:\n",
    "    `time.struct_time(tm_year=2022, tm_mon=6, tm_mday=30, tm_hour=6, tm_min=56, tm_sec=11, tm_wday=3, tm_yday=181, tm_isdst=0)`\n",
    "\n",
    "#### Working with date/time objects is easiest with `datetime.datetime` objects"
   ]
  },
  {
   "cell_type": "code",
   "execution_count": 60,
   "metadata": {},
   "outputs": [],
   "source": [
    "# Create a helper function to convert strings to datetime objects\n",
    "def convert_to_datetime(\n",
    "    date_string: str = DATE_STRING\n",
    ") -> datetime:\n",
    "    \"\"\" Convert a string to a datetime object.\n",
    "    \n",
    "        Args:\n",
    "            date_string (str):\n",
    "                A string representing a date, extracted from\n",
    "                entries['published'].  Default is DATE_STRING.\n",
    "\n",
    "        Returns:\n",
    "            date_time (datetime):\n",
    "                A datetime object representing the converted date_string.\n",
    "    \"\"\"\n",
    "\n",
    "    # Remove the timezone offset from date_string\n",
    "    date = DATE_STRING.split(\n",
    "        sep='+'  # Split the string to a list object on the '+' character\n",
    "    )[0].strip()  # Keep the first index (everything to the left of the '+') and remove the trailing whitespace\n",
    "\n",
    "    return datetime.strptime(date, '%a, %d %b %Y %H:%M:%S')\n",
    "\n",
    "\n",
    "# Convert a string to a datetime object to a string\n",
    "date_time = convert_to_datetime()"
   ]
  },
  {
   "cell_type": "code",
   "execution_count": 41,
   "metadata": {},
   "outputs": [
    {
     "data": {
      "text/plain": [
       "datetime.datetime"
      ]
     },
     "execution_count": 41,
     "metadata": {},
     "output_type": "execute_result"
    }
   ],
   "source": [
    "# check the date_time object type\n",
    "type(date_time)"
   ]
  },
  {
   "cell_type": "code",
   "execution_count": 42,
   "metadata": {},
   "outputs": [
    {
     "data": {
      "text/plain": [
       "datetime.datetime(2022, 7, 5, 6, 56, 11)"
      ]
     },
     "execution_count": 42,
     "metadata": {},
     "output_type": "execute_result"
    }
   ],
   "source": [
    "# Add 5 days to the date_time value\n",
    "date_time + timedelta(\n",
    "    days=5\n",
    ")"
   ]
  },
  {
   "cell_type": "code",
   "execution_count": 59,
   "metadata": {},
   "outputs": [
    {
     "data": {
      "text/plain": [
       "'article'"
      ]
     },
     "execution_count": 59,
     "metadata": {},
     "output_type": "execute_result"
    }
   ],
   "source": [
    "# Extract an entry's category from its `link` key\n",
    "def get_category(\n",
    "    link: str = URL_STRING\n",
    ") -> str:\n",
    "    \"\"\" Extract an entry's category from its `link` key.\n",
    "    \n",
    "    Args:\n",
    "        link (str):\n",
    "            A link with a category embedded in the URL, extracted from\n",
    "            entries['link'].  Default is URL_STRING.\n",
    "\n",
    "        Returns:\n",
    "            category (str):\n",
    "                Category value, extracted from the link.\n",
    "    \"\"\"\n",
    "\n",
    "    # Extract the category from the link with re.sub\n",
    "    category_match = re.sub(\n",
    "        pattern=r'https?://pybit.es/([a-z]+)/.*',\n",
    "        repl=r'\\1',\n",
    "        string=link\n",
    "    )\n",
    "\n",
    "    # Attempt to match category_match to a key in BLOG_CATEGORIES, default is 'article'\n",
    "    category = BLOG_CATEGORIES.get(category_match, 'article')\n",
    "\n",
    "    return category\n",
    "\n",
    "category = get_category()\n",
    "category"
   ]
  }
 ],
 "metadata": {
  "kernelspec": {
   "display_name": "Python 3.10.5 64-bit",
   "language": "python",
   "name": "python3"
  },
  "language_info": {
   "codemirror_mode": {
    "name": "ipython",
    "version": 3
   },
   "file_extension": ".py",
   "mimetype": "text/x-python",
   "name": "python",
   "nbconvert_exporter": "python",
   "pygments_lexer": "ipython3",
   "version": "3.10.5"
  },
  "orig_nbformat": 4,
  "vscode": {
   "interpreter": {
    "hash": "949777d72b0d2535278d3dc13498b2535136f6dfe0678499012e853ee9abcab1"
   }
  }
 },
 "nbformat": 4,
 "nbformat_minor": 2
}
