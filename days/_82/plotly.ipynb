{
 "cells": [
  {
   "cell_type": "markdown",
   "metadata": {},
   "source": [
    "# Data Visualization with Plotly\n",
    "\n",
    "## Day 1"
   ]
  },
  {
   "cell_type": "code",
   "execution_count": 1,
   "metadata": {},
   "outputs": [],
   "source": [
    "# Import modules - Standard Library\n",
    "from collections import Counter\n",
    "from datetime import datetime, timedelta\n",
    "from pprint import pprint as pp\n",
    "import re"
   ]
  },
  {
   "cell_type": "code",
   "execution_count": 2,
   "metadata": {},
   "outputs": [],
   "source": [
    "# Import modules - Third-Party\n",
    "import feedparser\n",
    "import plotly\n",
    "import plotly.graph_objs as go"
   ]
  },
  {
   "cell_type": "code",
   "execution_count": 3,
   "metadata": {},
   "outputs": [],
   "source": [
    "# Constants\n",
    "BLOG_CATEGORIES = {\n",
    "    'articles': 'article',\n",
    "    'codechallenge': 'challenge',\n",
    "    'guest': 'guest',\n",
    "    'special': 'special',\n",
    "    'twitter': 'twitter'\n",
    "}\n",
    "BLOG_FEED = feedparser.parse(\n",
    "    url_file_stream_or_string='https://pybit.es/feed'\n",
    ")\n",
    "DATE_STRING = 'Thu, 30 Jun 2022 06:56:11 +0000'\n",
    "URL_STRING = 'https://pybit.es/articles/the-importance-of-disconnecting-as-a-developer/'"
   ]
  },
  {
   "cell_type": "code",
   "execution_count": 4,
   "metadata": {},
   "outputs": [],
   "source": [
    "# Assign blog entries to a variable\n",
    "entries = BLOG_FEED['entries']"
   ]
  },
  {
   "cell_type": "code",
   "execution_count": 32,
   "metadata": {},
   "outputs": [
    {
     "name": "stdout",
     "output_type": "stream",
     "text": [
      "10\n"
     ]
    }
   ],
   "source": [
    "# Display the number of entries\n",
    "print(len(entries))"
   ]
  },
  {
   "cell_type": "code",
   "execution_count": 31,
   "metadata": {},
   "outputs": [
    {
     "data": {
      "text/plain": [
       "{'title': 'The why and how of networking to boost your Python career',\n",
       " 'title_detail': {'type': 'text/plain',\n",
       "  'language': None,\n",
       "  'base': 'https://pybit.es/feed/',\n",
       "  'value': 'The why and how of networking to boost your Python career'},\n",
       " 'links': [{'rel': 'alternate',\n",
       "   'type': 'text/html',\n",
       "   'href': 'https://pybit.es/articles/pp77-the-why-and-how-of-networking-to-boost-your-python-career/'}],\n",
       " 'link': 'https://pybit.es/articles/pp77-the-why-and-how-of-networking-to-boost-your-python-career/',\n",
       " 'authors': [{'name': 'PyBites Team'}],\n",
       " 'author': 'PyBites Team',\n",
       " 'author_detail': {'name': 'PyBites Team'},\n",
       " 'published': 'Wed, 06 Jul 2022 15:19:21 +0000',\n",
       " 'published_parsed': time.struct_time(tm_year=2022, tm_mon=7, tm_mday=6, tm_hour=15, tm_min=19, tm_sec=21, tm_wday=2, tm_yday=187, tm_isdst=0),\n",
       " 'tags': [{'term': 'Podcast', 'scheme': None, 'label': None},\n",
       "  {'term': 'Career', 'scheme': None, 'label': None},\n",
       "  {'term': 'career', 'scheme': None, 'label': None},\n",
       "  {'term': 'communication', 'scheme': None, 'label': None},\n",
       "  {'term': 'networking', 'scheme': None, 'label': None}],\n",
       " 'id': 'https://pybit.es/?p=11942',\n",
       " 'guidislink': False,\n",
       " 'summary': 'Listen here: if you&#8217;re not a fan of the show, it&#8217;s Jason&#8217;s fault. If you&#8217;re a fan of the show, it&#8217;s Jason&#8217;s fault. This week the man that gave us the golden tip to start a podcast, Jason Wattier. Jason tells us what he does in his day to day, which nicely segues into networking&#8230; <a class=\"more-link\" href=\"https://pybit.es/articles/pp77-the-why-and-how-of-networking-to-boost-your-python-career/\">Continue reading <span class=\"screen-reader-text\">The why and how of networking to boost your Python career</span></a>',\n",
       " 'summary_detail': {'type': 'text/html',\n",
       "  'language': None,\n",
       "  'base': 'https://pybit.es/feed/',\n",
       "  'value': 'Listen here: if you&#8217;re not a fan of the show, it&#8217;s Jason&#8217;s fault. If you&#8217;re a fan of the show, it&#8217;s Jason&#8217;s fault. This week the man that gave us the golden tip to start a podcast, Jason Wattier. Jason tells us what he does in his day to day, which nicely segues into networking&#8230; <a class=\"more-link\" href=\"https://pybit.es/articles/pp77-the-why-and-how-of-networking-to-boost-your-python-career/\">Continue reading <span class=\"screen-reader-text\">The why and how of networking to boost your Python career</span></a>'},\n",
       " 'content': [{'type': 'text/html',\n",
       "   'language': None,\n",
       "   'base': 'https://pybit.es/feed/',\n",
       "   'value': '<p>Listen here:</p>\\n\\n\\n\\n<div id=\"buzzsprout-player-10906103\"></div>\\n\\n\\n\\n<p><em>if you&#8217;re not a fan of the show, it&#8217;s Jason&#8217;s fault. If you&#8217;re a fan of the show, it&#8217;s Jason&#8217;s fault.</em></p>\\n\\n\\n\\n<p>This week the man that gave us the golden tip to start a podcast, Jason Wattier.</p>\\n\\n\\n\\n<p>Jason tells us what he does in his day to day, which nicely segues into networking as an important skill he leveraged throughout his career.&nbsp;</p>\\n\\n\\n\\n<p>Be ready for some great tips and overall a fun conversation with a long time friend and member of the Pybites community (which you can join <a href=\"https://pybit.es/community/\" rel=\"noreferrer noopener\" target=\"_blank\">here</a>). </p>\\n\\n\\n\\n<p>Books we&#8217;re reading:<br />&#8211; Jason:&nbsp;<a href=\"https://pybitesbooks.com/books/bYP0zgEACAAJ\" rel=\"noreferrer noopener\" target=\"_blank\">Effective pandas</a>&nbsp;+&nbsp;<a href=\"https://pybitesbooks.com/books/fn81EAAAQBAJ\" rel=\"noreferrer noopener\" target=\"_blank\">Don&#8217;t trust your gut</a><br />&#8211; Bob:&nbsp;<a href=\"https://pybitesbooks.com/books/WQaiCgAAQBAJ\" rel=\"noreferrer noopener\" target=\"_blank\">The magic of thinking big</a><br />&#8211; Julian:&nbsp;<a href=\"https://hbr.org/\" rel=\"noreferrer noopener\" target=\"_blank\">Harvard Business Review</a><br />&#8211; Networking related book:&nbsp;<a href=\"https://pybitesbooks.com/books/RyxDnwEACAAJ\" rel=\"noreferrer noopener\" target=\"_blank\">Give and Take</a><br />&#8211; We added all the books mentioned on our podcast to&nbsp;<a href=\"https://pybitesbooks.com/lists/pybites-podcast\" rel=\"noreferrer noopener\" target=\"_blank\">this reading list</a>.</p>\\n\\n\\n\\n<p>Reach out to Jason on&nbsp;<a href=\"https://twitter.com/jmwatt3\" rel=\"noreferrer noopener\" target=\"_blank\">Twitter</a>,&nbsp;<a href=\"https://www.linkedin.com/in/jason-wattier-8652ba35/\" rel=\"noreferrer noopener\" target=\"_blank\">LinkedIn</a>&nbsp;or&nbsp;<a href=\"https://pybit.es/community/\" rel=\"noreferrer noopener\" target=\"_blank\">on our Slack</a>.</p>\\n\\n\\n\\n<p>Jason also wrote an article on our blog about Pycon:<br /><a href=\"https://pybit.es/articles/howto-crack-pycon/\" rel=\"noreferrer noopener\" target=\"_blank\">You don’t need to be a Pro @ Python to crack the code of Pycon</a></p>\\n\\n\\n\\n<p>Please send us any feedback or ideas to&nbsp;<a href=\"mailto:info@pybit.es\" rel=\"noreferrer noopener\" target=\"_blank\">info@pybit.es</a>&nbsp;&#8211; thanks for listening!</p>'}]}"
      ]
     },
     "execution_count": 31,
     "metadata": {},
     "output_type": "execute_result"
    }
   ],
   "source": [
    "# Display the first blog entry\n",
    "entries[0]"
   ]
  },
  {
   "cell_type": "markdown",
   "metadata": {},
   "source": [
    "### Parsed Feed Notes\n",
    "\n",
    "- The `published` key uses a string value for a date:\n",
    "    `'Thu, 30 Jun 2022 06:56:11 +0000'`\n",
    "- The `published_parsed` key uses a `time.struct` object to store a structured date:\n",
    "    `time.struct_time(tm_year=2022, tm_mon=6, tm_mday=30, tm_hour=6, tm_min=56, tm_sec=11, tm_wday=3, tm_yday=181, tm_isdst=0)`\n",
    "\n",
    "#### Working with date/time objects is easiest with `datetime.datetime` objects"
   ]
  },
  {
   "cell_type": "code",
   "execution_count": 48,
   "metadata": {},
   "outputs": [],
   "source": [
    "# Create a helper function to convert strings to datetime objects\n",
    "def convert_to_datetime(\n",
    "    date_string: str = DATE_STRING\n",
    ") -> datetime:\n",
    "    \"\"\" Convert a string to a datetime object.\n",
    "    \n",
    "        Args:\n",
    "            date_string (str):\n",
    "                A string representing a date, extracted from\n",
    "                entries['published'].  Default is DATE_STRING.\n",
    "\n",
    "        Returns:\n",
    "            date_time (datetime):\n",
    "                A datetime object representing the converted date_string.\n",
    "    \"\"\"\n",
    "\n",
    "    # Remove the timezone offset from date_string\n",
    "    date = date_string.split(\n",
    "        sep='+'  # Split the string to a list object on the '+' character\n",
    "    )[0].strip()  # Keep the first index (everything to the left of the '+') and remove the trailing whitespace\n",
    "\n",
    "    # Create a datetime.datetime object from the date string\n",
    "    date_time =  datetime.strptime(date, '%a, %d %b %Y %H:%M:%S')\n",
    "\n",
    "    # Convert the datetime object to a year-month string\n",
    "    date_time = f'{date_time.year}-{date_time.month}'\n",
    "\n",
    "    return date_time\n",
    "\n",
    "\n",
    "# Convert a string to a datetime object to a string\n",
    "date_time = convert_to_datetime()"
   ]
  },
  {
   "cell_type": "code",
   "execution_count": 35,
   "metadata": {},
   "outputs": [
    {
     "data": {
      "text/plain": [
       "datetime.datetime(2022, 7, 5, 6, 56, 11)"
      ]
     },
     "execution_count": 35,
     "metadata": {},
     "output_type": "execute_result"
    }
   ],
   "source": [
    "# Add 5 days to the date_time value\n",
    "date_time + timedelta(\n",
    "    days=5\n",
    ")"
   ]
  },
  {
   "cell_type": "code",
   "execution_count": 36,
   "metadata": {},
   "outputs": [
    {
     "data": {
      "text/plain": [
       "'article'"
      ]
     },
     "execution_count": 36,
     "metadata": {},
     "output_type": "execute_result"
    }
   ],
   "source": [
    "# Extract an entry's category from its `link` key\n",
    "def get_category(\n",
    "    link: str = URL_STRING\n",
    ") -> str:\n",
    "    \"\"\" Extract an entry's category from its `link` key.\n",
    "    \n",
    "    Args:\n",
    "        link (str):\n",
    "            A link with a category embedded in the URL, extracted from\n",
    "            entries['link'].  Default is URL_STRING.\n",
    "\n",
    "        Returns:\n",
    "            category (str):\n",
    "                Category value, extracted from the link.\n",
    "    \"\"\"\n",
    "\n",
    "    # Extract the category from the link with re.sub\n",
    "    category_match = re.sub(\n",
    "        pattern=r'https?://pybit.es/([a-z]+)/.*',\n",
    "        repl=r'\\1',\n",
    "        string=link\n",
    "    )\n",
    "\n",
    "    # Attempt to match category_match to a key in BLOG_CATEGORIES, default is 'article'\n",
    "    category = BLOG_CATEGORIES.get(category_match, 'article')\n",
    "\n",
    "    return category\n",
    "\n",
    "category = get_category()\n",
    "category"
   ]
  },
  {
   "cell_type": "markdown",
   "metadata": {},
   "source": [
    "---\n",
    "\n",
    "## Day 2"
   ]
  },
  {
   "cell_type": "markdown",
   "metadata": {},
   "source": [
    "### Plotting RSS Feed Entries with `Plotly`"
   ]
  },
  {
   "cell_type": "code",
   "execution_count": 37,
   "metadata": {},
   "outputs": [],
   "source": [
    "# Create list of RSS feed entry's published dates\n",
    "published_dates = [\n",
    "   convert_to_datetime(\n",
    "    date_string=entry.published\n",
    "    ) for entry in entries\n",
    "]\n"
   ]
  },
  {
   "cell_type": "code",
   "execution_count": 38,
   "metadata": {},
   "outputs": [
    {
     "data": {
      "text/plain": [
       "[datetime.datetime(2022, 7, 6, 15, 19, 21),\n",
       " datetime.datetime(2022, 7, 6, 15, 12, 17),\n",
       " datetime.datetime(2022, 6, 30, 6, 56, 11),\n",
       " datetime.datetime(2022, 6, 29, 15, 27, 38),\n",
       " datetime.datetime(2022, 6, 28, 16, 25, 41),\n",
       " datetime.datetime(2022, 6, 23, 14, 50, 48),\n",
       " datetime.datetime(2022, 6, 17, 14, 30, 58),\n",
       " datetime.datetime(2022, 6, 17, 13, 56, 28),\n",
       " datetime.datetime(2022, 6, 14, 14, 41, 28),\n",
       " datetime.datetime(2022, 6, 10, 14, 13, 26)]"
      ]
     },
     "execution_count": 38,
     "metadata": {},
     "output_type": "execute_result"
    }
   ],
   "source": [
    "# Display published_dates\n",
    "published_dates"
   ]
  },
  {
   "cell_type": "code",
   "execution_count": 39,
   "metadata": {},
   "outputs": [],
   "source": [
    "# Display the posts by month\n",
    "posts_by_month = Counter(published_dates)"
   ]
  },
  {
   "cell_type": "code",
   "execution_count": 40,
   "metadata": {},
   "outputs": [
    {
     "data": {
      "text/plain": [
       "Counter({datetime.datetime(2022, 7, 6, 15, 19, 21): 1,\n",
       "         datetime.datetime(2022, 7, 6, 15, 12, 17): 1,\n",
       "         datetime.datetime(2022, 6, 30, 6, 56, 11): 1,\n",
       "         datetime.datetime(2022, 6, 29, 15, 27, 38): 1,\n",
       "         datetime.datetime(2022, 6, 28, 16, 25, 41): 1,\n",
       "         datetime.datetime(2022, 6, 23, 14, 50, 48): 1,\n",
       "         datetime.datetime(2022, 6, 17, 14, 30, 58): 1,\n",
       "         datetime.datetime(2022, 6, 17, 13, 56, 28): 1,\n",
       "         datetime.datetime(2022, 6, 14, 14, 41, 28): 1,\n",
       "         datetime.datetime(2022, 6, 10, 14, 13, 26): 1})"
      ]
     },
     "execution_count": 40,
     "metadata": {},
     "output_type": "execute_result"
    }
   ],
   "source": [
    "posts_by_month"
   ]
  }
 ],
 "metadata": {
  "kernelspec": {
   "display_name": "Python 3.10.5 64-bit",
   "language": "python",
   "name": "python3"
  },
  "language_info": {
   "codemirror_mode": {
    "name": "ipython",
    "version": 3
   },
   "file_extension": ".py",
   "mimetype": "text/x-python",
   "name": "python",
   "nbconvert_exporter": "python",
   "pygments_lexer": "ipython3",
   "version": "3.10.5"
  },
  "orig_nbformat": 4,
  "vscode": {
   "interpreter": {
    "hash": "949777d72b0d2535278d3dc13498b2535136f6dfe0678499012e853ee9abcab1"
   }
  }
 },
 "nbformat": 4,
 "nbformat_minor": 2
}
