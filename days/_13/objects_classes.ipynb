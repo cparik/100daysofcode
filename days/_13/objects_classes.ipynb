{
 "cells": [
  {
   "cell_type": "markdown",
   "id": "a5e9a74b-5ff1-4ffd-91e5-6edc15716fed",
   "metadata": {},
   "source": [
    "# Day 13 (6/19/21)\n",
    "\n",
    "## Text-based Games Challenges (and `class` objects)\n"
   ]
  },
  {
   "cell_type": "markdown",
   "id": "f8e3036c-7c4b-4778-8126-6d3d87a3b759",
   "metadata": {},
   "source": [
    "## Classes & Objects\n",
    "\n",
    "### Is-A Relationships\n",
    "\n",
    "- **Is-a relationships** represent modeling with **classes**.\n",
    "- In this case:\n",
    "  - **Creature** is a top-level object (`class`)\n",
    "  - A **Tiger** _is a_ **Creature**\n",
    "  - A **Dragon** _is a_ **Creature**\n",
    "  - A **Wizard** _is a_ **Creature**\n",
    "\n",
    "![is-a-relationships](images/is-a-relationships.png \"Is-A Relationships\")\n"
   ]
  },
  {
   "cell_type": "markdown",
   "id": "5423b92c-c64c-4c7b-b3f0-3ca405e7eca3",
   "metadata": {},
   "source": [
    "---"
   ]
  },
  {
   "cell_type": "markdown",
   "id": "dc224dfd-fc02-4d94-bfe2-801920c4d3bc",
   "metadata": {},
   "source": [
    "## Objects & Classes\n",
    "\n",
    "- A `class`is a blueprint for an object.\n",
    "- An object is an instantiation of a `class`.\n",
    "- Objects from the same `class` each have the same basic framework but can have different properties.\n",
    "  - For example, all wizards have many of the same characteristics but different individual properties.\n",
    "  - All wizards can cast spells but each individual wizard has a different level of magic powers.\n",
    " \n",
    "![classes-and-objects](images/classes-and-objects.png \"Classes and Objects\")\n"
   ]
  },
  {
   "cell_type": "markdown",
   "id": "888ab77d-66bb-403d-8b88-c805fed41416",
   "metadata": {},
   "source": [
    "---"
   ]
  },
  {
   "cell_type": "markdown",
   "id": "3959c9df-a1a3-42bb-8c51-3e52c9b68836",
   "metadata": {},
   "source": [
    "## Initial Project Structure"
   ]
  },
  {
   "cell_type": "code",
   "execution_count": 8,
   "id": "dcfe1d99-0f11-4383-9e68-8b1fa055b1f3",
   "metadata": {},
   "outputs": [],
   "source": [
    "#!/usr/bin/env python3\n",
    "\n",
    "def main():\n",
    "    print_header()\n",
    "    game_loop()\n",
    "\n",
    "\n",
    "def print_header():\n",
    "    print('-------------------\\n'\n",
    "          '    WIZARD GAME    \\n'\n",
    "          '-------------------\\n')\n",
    "\n",
    "\n",
    "def game_loop():\n",
    "    creatures = [\n",
    "        # TODO: add some creatures\n",
    "    ]\n",
    "\n",
    "    hero = None # TODO: create a hero\n",
    "\n",
    "    while True:\n",
    "\n",
    "        # Ask user for action\n",
    "        active_creature = None\n",
    "\n",
    "        print(f'A {None} of level {None} has appeared from a dark and foggy forest...\\n')\n",
    "\n",
    "        cmd = input('Do you [a]ttack, [r]un away, or [l]ook around? ')\n",
    "        if cmd == 'a':\n",
    "            pass\n",
    "            # TODO: attack\n",
    "        elif cmd == 'r':\n",
    "            print('The wizard has become unsure of his powers and flees!!!')\n",
    "        elif cmd == 'l':\n",
    "            print(f'The wizard {hero.name} takes in the surroundings and sees:')\n",
    "            # TODO: show the creatures in the room\n",
    "        else:\n",
    "            print('Okay, exiting game...bye!\\n')\n",
    "            break\n",
    "\n",
    "        if not creatures:\n",
    "            print('You\\'ve defeated all of the creatures, well done!')\n",
    "\n",
    "        print()\n"
   ]
  },
  {
   "cell_type": "code",
   "execution_count": 10,
   "id": "67f4ac04-a06b-40ce-8ce7-3cd9675743db",
   "metadata": {},
   "outputs": [
    {
     "name": "stdout",
     "output_type": "stream",
     "text": [
      "-------------------\n",
      "    WIZARD GAME    \n",
      "-------------------\n",
      "\n",
      "A None of level None has appeared from a dark and foggy forest...\n",
      "\n"
     ]
    },
    {
     "name": "stdin",
     "output_type": "stream",
     "text": [
      "Do you [a]ttack, [r]un away, or [l]ook around?  ;\n"
     ]
    },
    {
     "name": "stdout",
     "output_type": "stream",
     "text": [
      "Okay, exiting game...bye!\n",
      "\n"
     ]
    }
   ],
   "source": [
    "main()"
   ]
  },
  {
   "cell_type": "markdown",
   "id": "71c64a1c-6da8-459f-ac58-625bad19a91a",
   "metadata": {},
   "source": [
    "# Day 13a (6/20/21)"
   ]
  },
  {
   "cell_type": "markdown",
   "id": "e582177d-3a6d-4758-a0e7-fffc63498fbc",
   "metadata": {},
   "source": [
    "## Updated Project Structure\n",
    "---\n"
   ]
  },
  {
   "cell_type": "markdown",
   "id": "9e9de800-b312-42b9-affe-7e93114aecb1",
   "metadata": {},
   "source": [
    "### `actors.py` file used to produce objects"
   ]
  },
  {
   "cell_type": "code",
   "execution_count": null,
   "id": "cd7722ad-f8c9-4062-bcde-4354fe2ebaa6",
   "metadata": {},
   "outputs": [],
   "source": [
    "#!/usr/bin/env python3\n",
    "\n",
    "# Imports\n",
    "import random\n",
    "\n",
    "\n",
    "# Establish a super class which establishes common traits amongs all creatures\n",
    "class Creature:\n",
    "\n",
    "    # Initialize properties (to `self`) which are common to all creatures\n",
    "    def __init__(self, name: str, level: int) -> None:\n",
    "        self.name = name\n",
    "        self.level = level\n",
    "\n",
    "    # Estabilsh a method which produces a roll of a 12-sided die\n",
    "    def defensive_roll(self):\n",
    "        roll = random.randint(1, 12)\n",
    "\n",
    "        # Return the value of the die roll\n",
    "        return roll * self.level\n",
    "\n",
    "\n",
    "# Establish a class for a dragon, which inherits the `Creature` class\n",
    "class Dragon(Creature):\n",
    "\n",
    "    def __init__(\n",
    "        self,\n",
    "        name: str,\n",
    "        level: int,\n",
    "        scaliness: int,\n",
    "        breathes_fire: bool\n",
    "    ) -> None:\n",
    "\n",
    "        super().__init__(name, level)\n",
    "        self.scaliness = scaliness\n",
    "        self.breathes_fire = breathes_fire\n",
    "\n",
    "    # Inherit the `Creature.defensive_roll` method (as `super()`) and add to it\n",
    "    def defensive_roll(self):\n",
    "        roll = super().defensive_roll()\n",
    "        value = roll * self.scaliness\n",
    "        if self.breathes_fire is True:\n",
    "            value = value * 2\n",
    "\n",
    "        return value\n",
    "\n",
    "\n",
    "# Establish a class for a wizard, which inherits from the `Creature` class\n",
    "class Wizard(Creature):\n",
    "\n",
    "    # The `attack` method compares a player roll with a creature roll\n",
    "    def attack(self, creature) -> bool:\n",
    "        my_roll = self.defensive_roll()\n",
    "        their_roll = creature.defensive_roll()\n",
    "\n",
    "        # Returns True or False, based on the outcome of the roll comparision\n",
    "        return my_roll >= their_roll\n"
   ]
  },
  {
   "cell_type": "markdown",
   "id": "fa1633da-f7ce-4d03-92bd-55324591905d",
   "metadata": {},
   "source": [
    "## Main Program\n",
    "\n",
    "### `program.py`"
   ]
  },
  {
   "cell_type": "code",
   "execution_count": 6,
   "id": "9425e0f3-ca93-48c9-b51f-d275b2d118b4",
   "metadata": {
    "tags": []
   },
   "outputs": [],
   "source": [
    "#!/usr/bin/env python3\n",
    "\n",
    "# Imports\n",
    "# from actors import Creature\n",
    "\n",
    "\n",
    "def main():\n",
    "    print_header()\n",
    "    game_loop()\n",
    "\n",
    "\n",
    "def print_header():\n",
    "    print('-------------------\\n'\n",
    "          '    WIZARD GAME    \\n'\n",
    "          '-------------------\\n')\n",
    "\n",
    "\n",
    "def game_loop():\n",
    "    creatures = [\n",
    "         Creature('Bat', 5),\n",
    "         Creature('Toad', 1),\n",
    "         Creature('Tiger', 12),\n",
    "         Creature('Dragon', 50),\n",
    "         Creature('Evil Wizard', 1000)\n",
    "    ]\n",
    "\n",
    "    print(creatures)\n",
    "\n",
    "    hero = None  # TODO: create a hero\n",
    "\n",
    "    while True:\n",
    "\n",
    "        # Ask user for action\n",
    "        active_creature = None\n",
    "\n",
    "        print(f'A {None} of level {None} has appeared from a dark and foggy forest...\\n')\n",
    "\n",
    "        cmd = input('Do you [a]ttack, [r]un away, or [l]ook around? ')\n",
    "        if cmd == 'a':\n",
    "            pass\n",
    "            # TODO: attack\n",
    "        elif cmd == 'r':\n",
    "            print('The wizard has become unsure of his powers and flees!!!')\n",
    "        elif cmd == 'l':\n",
    "            print(f'The wizard {hero.name} takes in the surroundings and sees:')\n",
    "            # TODO: show the creatures in the room\n",
    "        else:\n",
    "            print('Okay, exiting game...bye!\\n')\n",
    "            break\n",
    "\n",
    "        if not creatures:\n",
    "            print('You\\'ve defeated all of the creatures, well done!')\n",
    "\n",
    "        print()\n",
    "\n",
    "\n",
    "# if __name__ == '__main__':\n",
    "#    main()\n"
   ]
  },
  {
   "cell_type": "code",
   "execution_count": null,
   "id": "187d795c-661d-4306-aec1-4d3f5d0a3dbe",
   "metadata": {},
   "outputs": [
    {
     "name": "stdout",
     "output_type": "stream",
     "text": [
      "-------------------\n",
      "    WIZARD GAME    \n",
      "-------------------\n",
      "\n",
      "[<__main__.Creature object at 0x7fd46df7fe80>, <__main__.Creature object at 0x7fd46df7fca0>, <__main__.Creature object at 0x7fd46df7fb80>, <__main__.Creature object at 0x7fd46df7fac0>, <__main__.Creature object at 0x7fd46df7f4f0>]\n",
      "A None of level None has appeared from a dark and foggy forest...\n",
      "\n"
     ]
    }
   ],
   "source": [
    "main()"
   ]
  },
  {
   "cell_type": "markdown",
   "id": "278f2b9e-2f9c-4a29-9833-987818836dcf",
   "metadata": {},
   "source": [
    "# Day 13b (6/21/21)"
   ]
  },
  {
   "cell_type": "markdown",
   "id": "0823096d-972c-46f7-9a3e-c28c3bba3609",
   "metadata": {},
   "source": [
    "## Updated Project Structure\n",
    "---\n"
   ]
  },
  {
   "cell_type": "markdown",
   "id": "310b84bc-5b57-4b38-944a-3b9fe7a7558b",
   "metadata": {},
   "source": [
    "### `actors.py` file used to produce objects"
   ]
  },
  {
   "cell_type": "code",
   "execution_count": 2,
   "id": "2405ae92-013a-49a8-9d60-db8f7117a191",
   "metadata": {},
   "outputs": [],
   "source": [
    "#!/usr/bin/env python3\n",
    "\n",
    "# Imports\n",
    "import random\n",
    "\n",
    "\n",
    "# Establish a super class which establishes common traits amongs all creatures\n",
    "class Creature:\n",
    "\n",
    "    # Initialize properties (to `self`) which are common to all creatures\n",
    "    def __init__(self, name: str, level: int) -> None:\n",
    "        self.name = name\n",
    "        self.level = level\n",
    "\n",
    "    # Estabilsh a method which produces a roll of a 12-sided die\n",
    "    def defensive_roll(self):\n",
    "        roll = random.randint(1, 12)\n",
    "\n",
    "        # Return the value of the die roll\n",
    "        return roll * self.level\n",
    "\n",
    "\n",
    "# Establish a class for a dragon, which inherits the `Creature` class\n",
    "class Dragon(Creature):\n",
    "\n",
    "    def __init__(\n",
    "        self,\n",
    "        name: str,\n",
    "        level: int,\n",
    "        scaliness: int,\n",
    "        breathes_fire: bool\n",
    "    ) -> None:\n",
    "\n",
    "        super().__init__(name, level)\n",
    "        self.scaliness = scaliness\n",
    "        self.breathes_fire = breathes_fire\n",
    "\n",
    "    # Inherit the `Creature.defensive_roll` method (as `super()`) and add to it\n",
    "    def defensive_roll(self):\n",
    "        roll = super().defensive_roll()\n",
    "        value = roll * self.scaliness\n",
    "        if self.breathes_fire is True:\n",
    "            value = value * 2\n",
    "\n",
    "        return value\n",
    "\n",
    "\n",
    "# Establish a class for a wizard, which inherits from the `Creature` class\n",
    "class Wizard(Creature):\n",
    "\n",
    "    # The `attack` method compares a player roll with a creature roll\n",
    "    def attack(self, creature) -> bool:\n",
    "        my_roll = self.defensive_roll()\n",
    "        their_roll = creature.defensive_roll()\n",
    "\n",
    "        print(f'\\nPlayer rolls: {my_roll}\\n'\n",
    "              f'Enemy rolls {their_roll}\\n')\n",
    "\n",
    "        # Returns True or False, based on the outcome of the roll comparision\n",
    "        return my_roll >= their_roll\n"
   ]
  },
  {
   "cell_type": "markdown",
   "id": "9102d337-5e30-4051-8cf8-a48a8c0360cc",
   "metadata": {},
   "source": [
    "## Main Program\n",
    "\n",
    "### `program.py`"
   ]
  },
  {
   "cell_type": "code",
   "execution_count": 3,
   "id": "f593a400-a449-43dd-b219-fb6491489e4c",
   "metadata": {
    "tags": []
   },
   "outputs": [],
   "source": [
    "#!/usr/bin/env python3\n",
    "\n",
    "# Imports\n",
    "from actors import Creature, Wizard, Dragon\n",
    "import random\n",
    "\n",
    "\n",
    "def main():\n",
    "    print_header()\n",
    "    game_loop()\n",
    "\n",
    "\n",
    "def print_header():\n",
    "    print('-------------------\\n'\n",
    "          '    WIZARD GAME    \\n'\n",
    "          '-------------------\\n')\n",
    "\n",
    "\n",
    "def game_loop():\n",
    "    creatures = [\n",
    "         Creature('Bat', 5),\n",
    "         Creature('Toad', 1),\n",
    "         Creature('Tiger', 12),\n",
    "         Dragon('Dragon', 50, 2, False),\n",
    "         Wizard('Evil Wizard', 1000, )\n",
    "    ]\n",
    "\n",
    "    # Create the player character\n",
    "    hero = Wizard('Galdolf', 75)\n",
    "\n",
    "    while True:\n",
    "\n",
    "        # Randomly choose a creature\n",
    "        active_creature = random.choice(creatures)\n",
    "\n",
    "        print(f'A {active_creature.name} of level {active_creature.level} '\n",
    "              f'has appeared from a dark and foggy forest...\\n')\n",
    "\n",
    "        cmd = input('Do you [a]ttack, [r]un away, or [l]ook around? ')\n",
    "        if cmd == 'a':\n",
    "            if hero.attack(active_creature):\n",
    "                creatures.remove(active_creature)\n",
    "                print(f'The wizard defeated the {active_creature.name}')\n",
    "            else:\n",
    "                print(f'The mighty {active_creature.name} '\n",
    "                      f'of level {active_creature.level} defeats {hero.name}')\n",
    "        elif cmd == 'r':\n",
    "            print('The wizard has become unsure of his powers and flees!!!')\n",
    "        elif cmd == 'l':\n",
    "            print(f'The wizard {hero.name} '\n",
    "                  f'takes in the surroundings and sees:')\n",
    "            for index, creature in enumerate(creatures):\n",
    "                print(f'{index +1}. {creature.name} of level {creature.level}')\n",
    "            print()\n",
    "        else:\n",
    "            print('Okay, exiting game...bye!\\n')\n",
    "            break\n",
    "\n",
    "        if not creatures:\n",
    "            print('You\\'ve defeated all of the creatures, well done!')\n",
    "\n",
    "        print()\n",
    "\n",
    "\n",
    "# if __name__ == '__main__':\n",
    "#     main()\n"
   ]
  },
  {
   "cell_type": "code",
   "execution_count": 5,
   "id": "5d021dcc-86a7-4934-b38c-a60c4661c7d2",
   "metadata": {},
   "outputs": [
    {
     "name": "stdout",
     "output_type": "stream",
     "text": [
      "-------------------\n",
      "    WIZARD GAME    \n",
      "-------------------\n",
      "\n",
      "A Tiger of level 12 has appeared from a dark and foggy forest...\n",
      "\n"
     ]
    },
    {
     "name": "stdin",
     "output_type": "stream",
     "text": [
      "Do you [a]ttack, [r]un away, or [l]ook around?  l\n"
     ]
    },
    {
     "name": "stdout",
     "output_type": "stream",
     "text": [
      "The wizard Galdolf takes in the surroundings and sees:\n",
      "1. Bat of level 5\n",
      "2. Toad of level 1\n",
      "3. Tiger of level 12\n",
      "4. Dragon of level 50\n",
      "5. Evil Wizard of level 1000\n",
      "\n",
      "\n",
      "A Toad of level 1 has appeared from a dark and foggy forest...\n",
      "\n"
     ]
    },
    {
     "name": "stdin",
     "output_type": "stream",
     "text": [
      "Do you [a]ttack, [r]un away, or [l]ook around?  a\n"
     ]
    },
    {
     "name": "stdout",
     "output_type": "stream",
     "text": [
      "\n",
      "Player rolls: 600\n",
      "Enemy rolls 1\n",
      "\n",
      "The wizard defeated the Toad\n",
      "\n",
      "A Bat of level 5 has appeared from a dark and foggy forest...\n",
      "\n"
     ]
    },
    {
     "name": "stdin",
     "output_type": "stream",
     "text": [
      "Do you [a]ttack, [r]un away, or [l]ook around?  a\n"
     ]
    },
    {
     "name": "stdout",
     "output_type": "stream",
     "text": [
      "\n",
      "Player rolls: 600\n",
      "Enemy rolls 45\n",
      "\n",
      "The wizard defeated the Bat\n",
      "\n",
      "A Tiger of level 12 has appeared from a dark and foggy forest...\n",
      "\n"
     ]
    },
    {
     "name": "stdin",
     "output_type": "stream",
     "text": [
      "Do you [a]ttack, [r]un away, or [l]ook around?  a\n"
     ]
    },
    {
     "name": "stdout",
     "output_type": "stream",
     "text": [
      "\n",
      "Player rolls: 600\n",
      "Enemy rolls 108\n",
      "\n",
      "The wizard defeated the Tiger\n",
      "\n",
      "A Evil Wizard of level 1000 has appeared from a dark and foggy forest...\n",
      "\n"
     ]
    },
    {
     "name": "stdin",
     "output_type": "stream",
     "text": [
      "Do you [a]ttack, [r]un away, or [l]ook around?  a\n"
     ]
    },
    {
     "name": "stdout",
     "output_type": "stream",
     "text": [
      "\n",
      "Player rolls: 600\n",
      "Enemy rolls 9000\n",
      "\n",
      "The mighty Evil Wizard of level 1000 defeats Galdolf\n",
      "\n",
      "A Evil Wizard of level 1000 has appeared from a dark and foggy forest...\n",
      "\n"
     ]
    },
    {
     "name": "stdin",
     "output_type": "stream",
     "text": [
      "Do you [a]ttack, [r]un away, or [l]ook around?  a\n"
     ]
    },
    {
     "name": "stdout",
     "output_type": "stream",
     "text": [
      "\n",
      "Player rolls: 600\n",
      "Enemy rolls 1000\n",
      "\n",
      "The mighty Evil Wizard of level 1000 defeats Galdolf\n",
      "\n",
      "A Dragon of level 50 has appeared from a dark and foggy forest...\n",
      "\n"
     ]
    },
    {
     "name": "stdin",
     "output_type": "stream",
     "text": [
      "Do you [a]ttack, [r]un away, or [l]ook around?  a\n"
     ]
    },
    {
     "name": "stdout",
     "output_type": "stream",
     "text": [
      "\n",
      "Player rolls: 525\n",
      "Enemy rolls 200\n",
      "\n",
      "The wizard defeated the Dragon\n",
      "\n",
      "A Evil Wizard of level 1000 has appeared from a dark and foggy forest...\n",
      "\n"
     ]
    },
    {
     "name": "stdin",
     "output_type": "stream",
     "text": [
      "Do you [a]ttack, [r]un away, or [l]ook around?  a\n"
     ]
    },
    {
     "name": "stdout",
     "output_type": "stream",
     "text": [
      "\n",
      "Player rolls: 825\n",
      "Enemy rolls 5000\n",
      "\n",
      "The mighty Evil Wizard of level 1000 defeats Galdolf\n",
      "\n",
      "A Evil Wizard of level 1000 has appeared from a dark and foggy forest...\n",
      "\n"
     ]
    },
    {
     "name": "stdin",
     "output_type": "stream",
     "text": [
      "Do you [a]ttack, [r]un away, or [l]ook around?  \n"
     ]
    },
    {
     "name": "stdout",
     "output_type": "stream",
     "text": [
      "Okay, exiting game...bye!\n",
      "\n"
     ]
    }
   ],
   "source": [
    "main()"
   ]
  },
  {
   "cell_type": "code",
   "execution_count": null,
   "id": "1d229518-fcc0-4328-b3f1-4988b58c5dae",
   "metadata": {},
   "outputs": [],
   "source": []
  }
 ],
 "metadata": {
  "kernelspec": {
   "display_name": "Python 3",
   "language": "python",
   "name": "python3"
  },
  "language_info": {
   "codemirror_mode": {
    "name": "ipython",
    "version": 3
   },
   "file_extension": ".py",
   "mimetype": "text/x-python",
   "name": "python",
   "nbconvert_exporter": "python",
   "pygments_lexer": "ipython3",
   "version": "3.9.4"
  }
 },
 "nbformat": 4,
 "nbformat_minor": 5
}
