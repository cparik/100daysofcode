{
 "cells": [
  {
   "cell_type": "markdown",
   "source": [
    "# Regular Expressions - Day 1\n",
    "\n",
    "## When _NOT_ to Use Regular Expressions\n",
    "\n",
    "- When determining if a `str` starts or ends with a substring.\n",
    "- Determine if a `str` contains a substring.\n",
    "- Simple substring replacements.\n",
    "    - `str` objects are immutable, so replacement requires a new `str`\n"
   ],
   "metadata": {}
  },
  {
   "cell_type": "code",
   "execution_count": 1,
   "source": [
    "# Define a string\n",
    "text = 'Awesome! I am still working on 100DaysOfCode'"
   ],
   "outputs": [],
   "metadata": {}
  },
  {
   "cell_type": "code",
   "execution_count": 2,
   "source": [
    "# Determine if the string starts with 'Awesome'\n",
    "text.startswith('Awesome!')"
   ],
   "outputs": [
    {
     "output_type": "execute_result",
     "data": {
      "text/plain": [
       "True"
      ]
     },
     "metadata": {},
     "execution_count": 2
    }
   ],
   "metadata": {}
  },
  {
   "cell_type": "code",
   "execution_count": 3,
   "source": [
    "# Determine if the string ends with '100DaysOfCode'\n",
    "text.endswith('100DaysOfCode')"
   ],
   "outputs": [
    {
     "output_type": "execute_result",
     "data": {
      "text/plain": [
       "True"
      ]
     },
     "metadata": {},
     "execution_count": 3
    }
   ],
   "metadata": {}
  },
  {
   "cell_type": "code",
   "execution_count": 4,
   "source": [
    "# Determine if the string contains the word 'working'\n",
    "'working' in text"
   ],
   "outputs": [
    {
     "output_type": "execute_result",
     "data": {
      "text/plain": [
       "True"
      ]
     },
     "metadata": {},
     "execution_count": 4
    }
   ],
   "metadata": {}
  },
  {
   "cell_type": "code",
   "execution_count": 5,
   "source": [
    "# Determine if the string contains the case insensitive version of '100DaysOfCode'\n",
    "'100DaysOfCode'.lower() in text.lower()"
   ],
   "outputs": [
    {
     "output_type": "execute_result",
     "data": {
      "text/plain": [
       "True"
      ]
     },
     "metadata": {},
     "execution_count": 5
    }
   ],
   "metadata": {}
  },
  {
   "cell_type": "code",
   "execution_count": 6,
   "source": [
    "# Replace '100DaysOfCode with '200DaysOfCode'\n",
    "text.replace('100', '200')"
   ],
   "outputs": [
    {
     "output_type": "execute_result",
     "data": {
      "text/plain": [
       "'Awesome! I am still working on 200DaysOfCode'"
      ]
     },
     "metadata": {},
     "execution_count": 6
    }
   ],
   "metadata": {}
  },
  {
   "cell_type": "markdown",
   "source": [
    "\n",
    "---\n",
    "\n",
    "# Regular Expressions - Day 1a\n",
    "\n",
    "## Regular Expressions Overview\n",
    "\n",
    "- Regular expressions are a meta language.\n",
    "- The `re` module has two main methods, `search` and `match`.\n",
    "    - `match` matches from start to end.\n",
    "    - `search` can match a substring.\n"
   ],
   "metadata": {}
  },
  {
   "cell_type": "code",
   "execution_count": 7,
   "source": [
    "# Create a string object\n",
    "text = 'Awesome! I am still working on the 100DaysOfCode challenge'"
   ],
   "outputs": [],
   "metadata": {}
  },
  {
   "cell_type": "code",
   "execution_count": 8,
   "source": [
    "# Import the regular expressions module\n",
    "import re"
   ],
   "outputs": [],
   "metadata": {}
  },
  {
   "cell_type": "code",
   "execution_count": 9,
   "source": [
    "# Use a search method to match part of the string\n",
    "re.search(\n",
    "    r'I am',\n",
    "    text\n",
    ")"
   ],
   "outputs": [
    {
     "output_type": "execute_result",
     "data": {
      "text/plain": [
       "<re.Match object; span=(9, 13), match='I am'>"
      ]
     },
     "metadata": {},
     "execution_count": 9
    }
   ],
   "metadata": {}
  },
  {
   "cell_type": "code",
   "execution_count": 10,
   "source": [
    "# Using a match method with a substring will return None, because it 'match' tries to match the substring to the string, from end to end\n",
    "re.match(\n",
    "    r'I am',\n",
    "    text\n",
    ")"
   ],
   "outputs": [],
   "metadata": {}
  },
  {
   "cell_type": "code",
   "execution_count": 11,
   "source": [
    "# Properly use a match method from start to end\n",
    "re.match(\n",
    "    'Awesome!.+challenge',\n",
    "    text\n",
    ")"
   ],
   "outputs": [
    {
     "output_type": "execute_result",
     "data": {
      "text/plain": [
       "<re.Match object; span=(0, 58), match='Awesome! I am still working on the 100DaysOfCode >"
      ]
     },
     "metadata": {},
     "execution_count": 11
    }
   ],
   "metadata": {}
  },
  {
   "cell_type": "markdown",
   "source": [
    "---\n",
    "\n",
    "# Regular Expressions - Day 2\n",
    "\n",
    "## String Capturing Parenthesis\n",
    "\n",
    "- Identify and access **capturing groups** within a string using parenthesis.\n"
   ],
   "metadata": {}
  },
  {
   "cell_type": "code",
   "execution_count": 12,
   "source": [
    "# Create two string objects\n",
    "hundred = 'Awesome! I am still working on the #100DaysOfCode challenge'\n",
    "two_hundred = 'Awesome! I am still working on the #200DaysOfCode challenge'"
   ],
   "outputs": [],
   "metadata": {}
  },
  {
   "cell_type": "code",
   "execution_count": 13,
   "source": [
    "# Match using a capturing group\n",
    "result_1 = re.search(\n",
    "    r'(\\#\\d+DaysOfCode)',\n",
    "    hundred\n",
    ")"
   ],
   "outputs": [],
   "metadata": {}
  },
  {
   "cell_type": "code",
   "execution_count": 14,
   "source": [
    "# List the matching groups (returned in a tuple object)\n",
    "result_1.groups()"
   ],
   "outputs": [
    {
     "output_type": "execute_result",
     "data": {
      "text/plain": [
       "('#100DaysOfCode',)"
      ]
     },
     "metadata": {},
     "execution_count": 14
    }
   ],
   "metadata": {}
  },
  {
   "cell_type": "code",
   "execution_count": 15,
   "source": [
    "# Index the matching group, to get the precise search match\n",
    "result_1.groups()[0]"
   ],
   "outputs": [
    {
     "output_type": "execute_result",
     "data": {
      "text/plain": [
       "'#100DaysOfCode'"
      ]
     },
     "metadata": {},
     "execution_count": 15
    }
   ],
   "metadata": {}
  },
  {
   "cell_type": "code",
   "execution_count": 16,
   "source": [
    "# Repeat the process with the two_hundred string\n",
    "result_2 = re.search(\n",
    "    pattern=r'(\\#\\d+DaysOfCode)',\n",
    "    string=two_hundred\n",
    ")"
   ],
   "outputs": [],
   "metadata": {}
  },
  {
   "cell_type": "code",
   "execution_count": 17,
   "source": [
    "# Display the matching groups\n",
    "result_2.groups()"
   ],
   "outputs": [
    {
     "output_type": "execute_result",
     "data": {
      "text/plain": [
       "('#200DaysOfCode',)"
      ]
     },
     "metadata": {},
     "execution_count": 17
    }
   ],
   "metadata": {}
  },
  {
   "cell_type": "code",
   "execution_count": 18,
   "source": [
    "# Index the matching group, to get the precise search match\n",
    "result_2.groups()[0]"
   ],
   "outputs": [
    {
     "output_type": "execute_result",
     "data": {
      "text/plain": [
       "'#200DaysOfCode'"
      ]
     },
     "metadata": {},
     "execution_count": 18
    }
   ],
   "metadata": {}
  },
  {
   "cell_type": "markdown",
   "source": [
    "---\n",
    "\n",
    "## `findall` is Your Friend\n",
    "\n",
    "- The `re.findall` method can match multiple instances of a substring.\n",
    "    - Returns a `list` of matching instances.\n",
    "- Without `findall`, searches stop after matching the first occurrence of a substring.\n",
    "- Search the string `text` below for all instances of a three-digit number.\n"
   ],
   "metadata": {}
  },
  {
   "cell_type": "code",
   "execution_count": 19,
   "source": [
    "# Define the string to search\n",
    "text = '''\n",
    "$ python module_index.py |grep ^re\n",
    "re                 | stdlib | 005, 007, 009, 015, 021, 022, 068, 080, 081, 086, 095\n",
    "'''"
   ],
   "outputs": [],
   "metadata": {}
  },
  {
   "cell_type": "code",
   "execution_count": 20,
   "source": [
    "# Use findall to match all instances\n",
    "result_1 = re.findall(\n",
    "    pattern=(r'\\d{3}'),\n",
    "    string=text\n",
    ")"
   ],
   "outputs": [],
   "metadata": {}
  },
  {
   "cell_type": "code",
   "execution_count": 21,
   "source": [
    "# Display the list of matches\n",
    "result_1"
   ],
   "outputs": [
    {
     "output_type": "execute_result",
     "data": {
      "text/plain": [
       "['005', '007', '009', '015', '021', '022', '068', '080', '081', '086', '095']"
      ]
     },
     "metadata": {},
     "execution_count": 21
    }
   ],
   "metadata": {}
  },
  {
   "cell_type": "markdown",
   "source": [
    "## `findall` Continued\n",
    "\n",
    "- Use `findall` and `Counter` to determine the most common word that start with an uppercase letter in the string `text` below.\n"
   ],
   "metadata": {}
  },
  {
   "cell_type": "code",
   "execution_count": 22,
   "source": [
    "# Define the text to search\n",
    "text = '''Lorem Ipsum is simply dummy text of the printing and typesetting industry. Lorem Ipsum has been \n",
    "the industry's standard dummy text ever since the 1500s, when an unknown printer took a galley of type and \n",
    "scrambled it to make a type specimen book. It has survived not only five centuries, but also the leap into \n",
    "electronic typesetting, remaining essentially unchanged. It was popularised in the 1960s with the release of\n",
    "Letraset sheets containing Lorem Ipsum passages, and more recently with desktop publishing software like Aldus\n",
    "PageMaker including versions of Lorem Ipsum'''\n"
   ],
   "outputs": [],
   "metadata": {}
  },
  {
   "cell_type": "code",
   "execution_count": 23,
   "source": [
    "# Use `findall` to create a list of all words that have an uppercase first character\n",
    "# re.VERBOSE allows inline comments to describe the purpose of each piece of a regex\n",
    "upper_words = re.findall(\n",
    "        r'''\n",
    "        [A-Z]       # Use a character class to match any uppercase letter in the first position\n",
    "        [a-z0-9]+    # Use a character class to match one or more lowercase letters or numbers that follow\n",
    "        ''',\n",
    "        text,\n",
    "        re.VERBOSE\n",
    ")"
   ],
   "outputs": [],
   "metadata": {}
  },
  {
   "cell_type": "code",
   "execution_count": 24,
   "source": [
    "# Display the resulting list of words\n",
    "upper_words"
   ],
   "outputs": [
    {
     "output_type": "execute_result",
     "data": {
      "text/plain": [
       "['Lorem',\n",
       " 'Ipsum',\n",
       " 'Lorem',\n",
       " 'Ipsum',\n",
       " 'It',\n",
       " 'It',\n",
       " 'Letraset',\n",
       " 'Lorem',\n",
       " 'Ipsum',\n",
       " 'Aldus',\n",
       " 'Page',\n",
       " 'Maker',\n",
       " 'Lorem',\n",
       " 'Ipsum']"
      ]
     },
     "metadata": {},
     "execution_count": 24
    }
   ],
   "metadata": {}
  },
  {
   "cell_type": "code",
   "execution_count": 25,
   "source": [
    "# Use Counter to determine the most common words in the upper_words list\n",
    "from collections import Counter"
   ],
   "outputs": [],
   "metadata": {}
  },
  {
   "cell_type": "code",
   "execution_count": 26,
   "source": [
    "# Define a Counter object with the upper_words list\n",
    "word_count = Counter(upper_words)"
   ],
   "outputs": [],
   "metadata": {}
  },
  {
   "cell_type": "code",
   "execution_count": 27,
   "source": [
    "# Display the word_count object\n",
    "word_count"
   ],
   "outputs": [
    {
     "output_type": "execute_result",
     "data": {
      "text/plain": [
       "Counter({'Lorem': 4,\n",
       "         'Ipsum': 4,\n",
       "         'It': 2,\n",
       "         'Letraset': 1,\n",
       "         'Aldus': 1,\n",
       "         'Page': 1,\n",
       "         'Maker': 1})"
      ]
     },
     "metadata": {},
     "execution_count": 27
    }
   ],
   "metadata": {}
  },
  {
   "cell_type": "code",
   "execution_count": 28,
   "source": [
    "# Get the top 3 word appearances from the word_count object\n",
    "word_count.most_common(3)"
   ],
   "outputs": [
    {
     "output_type": "execute_result",
     "data": {
      "text/plain": [
       "[('Lorem', 4), ('Ipsum', 4), ('It', 2)]"
      ]
     },
     "metadata": {},
     "execution_count": 28
    }
   ],
   "metadata": {}
  },
  {
   "cell_type": "markdown",
   "source": [
    "---\n",
    "\n",
    "# Regular Expressions - Day 3\n",
    "\n",
    "## Compiling regular expressions\n",
    "\n",
    "- When it's necessary to use a regular expression multiple times, in a `for` loop for example, compiling regular expressions is a best practice.\n",
    "    - Compiling makes reusing regular expressions simpler and more efficient.\n",
    "\n",
    "Search the following multiline string for movie titles with exactly two words, and create a list with each item being the full text of a movie line (e.g. '4. Raging Bull (1980)') for matching movies movies:\n"
   ],
   "metadata": {}
  },
  {
   "cell_type": "code",
   "execution_count": 29,
   "source": [
    "# Define the multiline string of movies, and convert the string to a list with the `split` method\n",
    "movies = '''1. Citizen Kane (1941)\n",
    "2. The Godfather (1972)\n",
    "3. Casablanca (1942)\n",
    "4. Raging Bull (1980)\n",
    "5. Singin' in the Rain (1952)\n",
    "6. Gone with the Wind (1939)\n",
    "7. Lawrence of Arabia (1962)\n",
    "8. Schindler's List (1993)\n",
    "9. Vertigo (1958)\n",
    "10. The Wizard of Oz (1939)'''.split('\\n')"
   ],
   "outputs": [],
   "metadata": {}
  },
  {
   "cell_type": "code",
   "execution_count": 30,
   "source": [
    "# Display the movies list\n",
    "movies"
   ],
   "outputs": [
    {
     "output_type": "execute_result",
     "data": {
      "text/plain": [
       "['1. Citizen Kane (1941)',\n",
       " '2. The Godfather (1972)',\n",
       " '3. Casablanca (1942)',\n",
       " '4. Raging Bull (1980)',\n",
       " \"5. Singin' in the Rain (1952)\",\n",
       " '6. Gone with the Wind (1939)',\n",
       " '7. Lawrence of Arabia (1962)',\n",
       " \"8. Schindler's List (1993)\",\n",
       " '9. Vertigo (1958)',\n",
       " '10. The Wizard of Oz (1939)']"
      ]
     },
     "metadata": {},
     "execution_count": 30
    }
   ],
   "metadata": {}
  },
  {
   "cell_type": "code",
   "execution_count": 31,
   "source": [
    "# Import the regular expression module\n",
    "import re"
   ],
   "outputs": [],
   "metadata": {}
  },
  {
   "cell_type": "code",
   "execution_count": 32,
   "source": [
    "# Create a regular expression\n",
    "movie_title_search = re.compile(\n",
    "    r'''\n",
    "    ^           # Start of the line\n",
    "    \\d+         # One or more digits\n",
    "    \\.          # Literal . character\n",
    "    \\s+         # One or more literal space characters\n",
    "    (?:         # Non-capturing (, to start a capture group\n",
    "    [A-Za-z']+  # One or more upper and lower A-Z or literal ' characters\n",
    "    \\s          # Literal space character\n",
    "    )           # Non-capturing ), to start the capture group\n",
    "    {2}         # Repeat the previous non-capturing group exactly twice\n",
    "    \\(          # Literal ( character\n",
    "    \\d{4}       # Four digits\n",
    "    \\)          # Literal ) character\n",
    "    $           # End of the line\n",
    "    ''',\n",
    "    re.VERBOSE\n",
    ")"
   ],
   "outputs": [],
   "metadata": {}
  },
  {
   "cell_type": "code",
   "execution_count": 33,
   "source": [
    "# Create a blank list for matching results\n",
    "two_word_movies = []\n",
    "\n",
    "# Loop over the movies list\n",
    "for movie in movies:\n",
    "\n",
    "    # Create a match object from the compiled regular expression, match the full text (with the .match method)\n",
    "    match_object = movie_title_search.match(movie)\n",
    "\n",
    "    # Append the matching lines to the two_word_movies list\n",
    "    if match_object is not None:\n",
    "        # two_word_movies.append(match_object.group())\n",
    "        two_word_movies.append(movie)\n",
    "\n",
    "    # Display information about each search\n",
    "    print(movie, match_object)"
   ],
   "outputs": [
    {
     "output_type": "stream",
     "name": "stdout",
     "text": [
      "1. Citizen Kane (1941) <re.Match object; span=(0, 22), match='1. Citizen Kane (1941)'>\n",
      "2. The Godfather (1972) <re.Match object; span=(0, 23), match='2. The Godfather (1972)'>\n",
      "3. Casablanca (1942) None\n",
      "4. Raging Bull (1980) <re.Match object; span=(0, 21), match='4. Raging Bull (1980)'>\n",
      "5. Singin' in the Rain (1952) None\n",
      "6. Gone with the Wind (1939) None\n",
      "7. Lawrence of Arabia (1962) None\n",
      "8. Schindler's List (1993) <re.Match object; span=(0, 26), match=\"8. Schindler's List (1993)\">\n",
      "9. Vertigo (1958) None\n",
      "10. The Wizard of Oz (1939) None\n"
     ]
    }
   ],
   "metadata": {}
  },
  {
   "cell_type": "code",
   "execution_count": 34,
   "source": [
    "# Display the result\n",
    "two_word_movies"
   ],
   "outputs": [
    {
     "output_type": "execute_result",
     "data": {
      "text/plain": [
       "['1. Citizen Kane (1941)',\n",
       " '2. The Godfather (1972)',\n",
       " '4. Raging Bull (1980)',\n",
       " \"8. Schindler's List (1993)\"]"
      ]
     },
     "metadata": {},
     "execution_count": 34
    }
   ],
   "metadata": {}
  },
  {
   "cell_type": "markdown",
   "source": [
    "---\n",
    "\n",
    "# Day 4\n",
    "\n",
    "## Using `re.sub` for string replacement\n",
    "\n",
    "- `re.sub` offers a cleaner way to perform complex substring substitution than `str.replace`.\n",
    "- Replace the numbers in the text below, so they are all 100.\n",
    "    - First, use `str.replace`.\n",
    "    - Next, use `re.sub`.\n"
   ],
   "metadata": {}
  },
  {
   "cell_type": "code",
   "execution_count": 35,
   "source": [
    "# Define the string for substitution\n",
    "text = '''Awesome, I am doing #100DaysOfCode, #200DaysOfDjango, and, of course, #365DaysOfPyBites.'''"
   ],
   "outputs": [],
   "metadata": {}
  },
  {
   "cell_type": "code",
   "execution_count": 36,
   "source": [
    "# Replace '200' and '365' with '100' with `str.replace`\n",
    "text.replace('200', '100').replace('365', '100')"
   ],
   "outputs": [
    {
     "output_type": "execute_result",
     "data": {
      "text/plain": [
       "'Awesome, I am doing #100DaysOfCode, #100DaysOfDjango, and, of course, #100DaysOfPyBites.'"
      ]
     },
     "metadata": {},
     "execution_count": 36
    }
   ],
   "metadata": {}
  },
  {
   "cell_type": "code",
   "execution_count": 37,
   "source": [
    "# Import the regular expression module\n",
    "import re"
   ],
   "outputs": [],
   "metadata": {}
  },
  {
   "cell_type": "code",
   "execution_count": 38,
   "source": [
    "# Use `re.sub` to perform the same replacement with cleaner code\n",
    "re.sub(\n",
    "    pattern=r'\\d{3}',\n",
    "    repl='100',\n",
    "    string=text\n",
    ")"
   ],
   "outputs": [
    {
     "output_type": "execute_result",
     "data": {
      "text/plain": [
       "'Awesome, I am doing #100DaysOfCode, #100DaysOfDjango, and, of course, #100DaysOfPyBites.'"
      ]
     },
     "metadata": {},
     "execution_count": 38
    }
   ],
   "metadata": {}
  },
  {
   "cell_type": "code",
   "execution_count": 39,
   "source": [
    "# Replace instances of '#nDaysOf...' to '#nDaysOfPython' using a capturing group\n",
    "re.sub(\n",
    "    pattern=r'(#\\d+DaysOf)[A-Za-z]+',\n",
    "    repl=r'\\1Python',\n",
    "    string=text\n",
    ")"
   ],
   "outputs": [
    {
     "output_type": "execute_result",
     "data": {
      "text/plain": [
       "'Awesome, I am doing #100DaysOfPython, #200DaysOfPython, and, of course, #365DaysOfPython.'"
      ]
     },
     "metadata": {},
     "execution_count": 39
    }
   ],
   "metadata": {}
  }
 ],
 "metadata": {
  "orig_nbformat": 4,
  "language_info": {
   "name": "python",
   "version": "3.9.7",
   "mimetype": "text/x-python",
   "codemirror_mode": {
    "name": "ipython",
    "version": 3
   },
   "pygments_lexer": "ipython3",
   "nbconvert_exporter": "python",
   "file_extension": ".py"
  },
  "kernelspec": {
   "name": "python3",
   "display_name": "Python 3.9.7 64-bit"
  },
  "interpreter": {
   "hash": "4cd7ab41f5fca4b9b44701077e38c5ffd31fe66a6cab21e0214b68d958d0e462"
  }
 },
 "nbformat": 4,
 "nbformat_minor": 2
}