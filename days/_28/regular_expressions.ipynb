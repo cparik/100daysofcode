{
 "cells": [
  {
   "cell_type": "markdown",
   "source": [
    "# Regular Expressions - Day 1\n",
    "\n",
    "## When _NOT_ to Use Regular Expressions\n",
    "\n",
    "- When determining if a `str` starts or ends with a substring.\n",
    "- Determine if a `str` contains a substring.\n",
    "- Simple substring replacements.\n",
    "    - `str` objects are immutable, so replacement requires a new `str`\n"
   ],
   "metadata": {}
  },
  {
   "cell_type": "code",
   "execution_count": 1,
   "source": [
    "# Define a string\n",
    "text = 'Awesome! I am still working on 100DaysOfCode'"
   ],
   "outputs": [],
   "metadata": {}
  },
  {
   "cell_type": "code",
   "execution_count": 2,
   "source": [
    "# Determine if the string starts with 'Awesome'\n",
    "text.startswith('Awesome!')"
   ],
   "outputs": [
    {
     "output_type": "execute_result",
     "data": {
      "text/plain": [
       "True"
      ]
     },
     "metadata": {},
     "execution_count": 2
    }
   ],
   "metadata": {}
  },
  {
   "cell_type": "code",
   "execution_count": 3,
   "source": [
    "# Determine if the string ends with '100DaysOfCode'\n",
    "text.endswith('100DaysOfCode')"
   ],
   "outputs": [
    {
     "output_type": "execute_result",
     "data": {
      "text/plain": [
       "True"
      ]
     },
     "metadata": {},
     "execution_count": 3
    }
   ],
   "metadata": {}
  },
  {
   "cell_type": "code",
   "execution_count": 4,
   "source": [
    "# Determine if the string contains the word 'working'\n",
    "'working' in text"
   ],
   "outputs": [
    {
     "output_type": "execute_result",
     "data": {
      "text/plain": [
       "True"
      ]
     },
     "metadata": {},
     "execution_count": 4
    }
   ],
   "metadata": {}
  },
  {
   "cell_type": "code",
   "execution_count": 5,
   "source": [
    "# Determine if the string contains the case insensitive version of '100DaysOfCode'\n",
    "'100DaysOfCode'.lower() in text.lower()"
   ],
   "outputs": [
    {
     "output_type": "execute_result",
     "data": {
      "text/plain": [
       "True"
      ]
     },
     "metadata": {},
     "execution_count": 5
    }
   ],
   "metadata": {}
  },
  {
   "cell_type": "code",
   "execution_count": 6,
   "source": [
    "# Replace '100DaysOfCode with '200DaysOfCode'\n",
    "text.replace('100', '200')"
   ],
   "outputs": [
    {
     "output_type": "execute_result",
     "data": {
      "text/plain": [
       "'Awesome! I am still working on 200DaysOfCode'"
      ]
     },
     "metadata": {},
     "execution_count": 6
    }
   ],
   "metadata": {}
  },
  {
   "cell_type": "markdown",
   "source": [
    "\n",
    "---\n",
    "\n",
    "# Regular Expressions - Day 1a\n",
    "\n",
    "## Regular Expressions Overview\n",
    "\n",
    "- Regular expressions are a meta language.\n",
    "- The `re` module has two main methods, `search` and `match`.\n",
    "    - `match` matches from start to end.\n",
    "    - `search` can match a substring.\n"
   ],
   "metadata": {}
  },
  {
   "cell_type": "code",
   "execution_count": 7,
   "source": [
    "# Create a string object\n",
    "text = 'Awesome! I am still working on the 100DaysOfCode challenge'"
   ],
   "outputs": [],
   "metadata": {}
  },
  {
   "cell_type": "code",
   "execution_count": 9,
   "source": [
    "# Import the regular expressions module\n",
    "import re"
   ],
   "outputs": [],
   "metadata": {}
  },
  {
   "cell_type": "code",
   "execution_count": 10,
   "source": [
    "# Use a search method to match part of the string\n",
    "re.search(\n",
    "    r'I am',\n",
    "    text\n",
    ")"
   ],
   "outputs": [
    {
     "output_type": "execute_result",
     "data": {
      "text/plain": [
       "<re.Match object; span=(9, 13), match='I am'>"
      ]
     },
     "metadata": {},
     "execution_count": 10
    }
   ],
   "metadata": {}
  },
  {
   "cell_type": "code",
   "execution_count": 11,
   "source": [
    "# Using a match method will return None, because it tries to search from end to end\n",
    "re.match(\n",
    "    r'I am',\n",
    "    text\n",
    ")"
   ],
   "outputs": [],
   "metadata": {}
  },
  {
   "cell_type": "code",
   "execution_count": 12,
   "source": [
    "# Properly use a match method from start to end\n",
    "re.match(\n",
    "    'Awesome!.+challenge',\n",
    "    text\n",
    ")"
   ],
   "outputs": [
    {
     "output_type": "execute_result",
     "data": {
      "text/plain": [
       "<re.Match object; span=(0, 58), match='Awesome! I am still working on the 100DaysOfCode >"
      ]
     },
     "metadata": {},
     "execution_count": 12
    }
   ],
   "metadata": {}
  }
 ],
 "metadata": {
  "orig_nbformat": 4,
  "language_info": {
   "name": "python",
   "version": "3.9.7",
   "mimetype": "text/x-python",
   "codemirror_mode": {
    "name": "ipython",
    "version": 3
   },
   "pygments_lexer": "ipython3",
   "nbconvert_exporter": "python",
   "file_extension": ".py"
  },
  "kernelspec": {
   "name": "python3",
   "display_name": "Python 3.9.7 64-bit"
  },
  "interpreter": {
   "hash": "4cd7ab41f5fca4b9b44701077e38c5ffd31fe66a6cab21e0214b68d958d0e462"
  }
 },
 "nbformat": 4,
 "nbformat_minor": 2
}