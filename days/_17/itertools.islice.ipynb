{
 "cells": [
  {
   "cell_type": "markdown",
   "id": "9437348a-ff1f-471f-8ad6-e1cef53f3395",
   "metadata": {},
   "source": [
    "# `itertools.islice`\n",
    "\n",
    "## Overview\n",
    "\n",
    "- The `itertools.islice()` function allows **slicing** a generator just like a `list` except `itertools.islice()` returns an iterable object, instead of the sub-list.\n",
    "    - This can be useful when a looping over a generator function with a `for` loop would produce an infinite loop."
   ]
  },
  {
   "cell_type": "code",
   "execution_count": 1,
   "id": "691c7b65-2344-4be7-b0d3-c67aa1974582",
   "metadata": {},
   "outputs": [],
   "source": [
    "from random import randint\n",
    "\n",
    "def random_generator_function():\n",
    "    \"\"\" Start an infinite loop, to produce a genenerated result, indifintely.\n",
    "        This does NOT start looping infinitely when called, only on-demand.\n",
    "            Because of the yield statement.\n",
    "    \"\"\"\n",
    "\n",
    "    while True:\n",
    "        # Create two random numbers\n",
    "        x = randint(1, 20)\n",
    "        y = randint(1000, 2000)\n",
    "\n",
    "        # Yield the random values\n",
    "        yield f'My favor numbers are {x} and {y}'"
   ]
  },
  {
   "cell_type": "code",
   "execution_count": 2,
   "id": "60a8ab99-1db0-4608-996d-f2137c0aaa94",
   "metadata": {},
   "outputs": [],
   "source": [
    "# Call the generator function to assign a generator to a variablle\n",
    "r = random_generator_function()"
   ]
  },
  {
   "cell_type": "code",
   "execution_count": 5,
   "id": "0fc8588b-f8bd-4d26-8804-672172aff510",
   "metadata": {},
   "outputs": [
    {
     "data": {
      "text/plain": [
       "'My favor numbers are 17 and 1433'"
      ]
     },
     "execution_count": 5,
     "metadata": {},
     "output_type": "execute_result"
    }
   ],
   "source": [
    "# Yield any number of values, indifintely, with the next() function\n",
    "next(r)"
   ]
  },
  {
   "cell_type": "code",
   "execution_count": 6,
   "id": "fd88e4f5-e3ba-4e33-a91c-1808514ac65b",
   "metadata": {},
   "outputs": [
    {
     "data": {
      "text/plain": [
       "'My favor numbers are 17 and 1041'"
      ]
     },
     "execution_count": 6,
     "metadata": {},
     "output_type": "execute_result"
    }
   ],
   "source": [
    "# Yield any number of values, indifintely, with the next() function\n",
    "next(r)"
   ]
  },
  {
   "cell_type": "code",
   "execution_count": 7,
   "id": "ad680e7b-54af-43b5-9321-1d418564821a",
   "metadata": {},
   "outputs": [
    {
     "data": {
      "text/plain": [
       "'My favor numbers are 7 and 1970'"
      ]
     },
     "execution_count": 7,
     "metadata": {},
     "output_type": "execute_result"
    }
   ],
   "source": [
    "# Yield any number of values, indifintely, with the next() function\n",
    "next(r)"
   ]
  },
  {
   "cell_type": "markdown",
   "id": "23fc48c4-39cc-4719-a8a0-bf98824dc2bf",
   "metadata": {},
   "source": [
    "### The next code block would produce an infinite loop"
   ]
  },
  {
   "cell_type": "code",
   "execution_count": 8,
   "id": "af294f5a-42ea-4872-ab4d-593062eb344c",
   "metadata": {},
   "outputs": [],
   "source": [
    "# Produce an infinite loop\n",
    "# list(r)"
   ]
  },
  {
   "cell_type": "markdown",
   "id": "28f637ff-05b3-4636-abe9-4c2df6443d75",
   "metadata": {},
   "source": [
    "---\n",
    "\n",
    "## Using `itertools.islice`\n",
    "\n",
    "- Create what is effectively a generator slice with `itertools.islice()`.\n",
    "    - After iteration, the iterator will be empty, because it is an iterator of a generator."
   ]
  },
  {
   "cell_type": "code",
   "execution_count": 9,
   "id": "5d8d7caf-d934-40a8-9dfa-770e7599e88a",
   "metadata": {},
   "outputs": [],
   "source": [
    "from itertools import islice\n",
    "\n",
    "# Call the generator function to assign a generator to a variablle\n",
    "r = random_generator_function()"
   ]
  },
  {
   "cell_type": "code",
   "execution_count": 10,
   "id": "24837d33-36de-47ac-8625-0a1ec1fc9e1a",
   "metadata": {},
   "outputs": [
    {
     "data": {
      "text/plain": [
       "['My favor numbers are 12 and 1818',\n",
       " 'My favor numbers are 12 and 1010',\n",
       " 'My favor numbers are 9 and 1243',\n",
       " 'My favor numbers are 3 and 1966',\n",
       " 'My favor numbers are 13 and 1907',\n",
       " 'My favor numbers are 5 and 1253',\n",
       " 'My favor numbers are 1 and 1981',\n",
       " 'My favor numbers are 12 and 1981',\n",
       " 'My favor numbers are 10 and 1700',\n",
       " 'My favor numbers are 2 and 1291']"
      ]
     },
     "execution_count": 10,
     "metadata": {},
     "output_type": "execute_result"
    }
   ],
   "source": [
    "# Create a generator 'slice' (iterator) with a length of 10 with islice\n",
    "i = islice(r, 10)\n",
    "\n",
    "# Iterate over the iterator object by converting the iterator to a list\n",
    "list(i)"
   ]
  },
  {
   "cell_type": "markdown",
   "id": "7e0419da-1715-44d8-8c3c-4d6c6b5f694d",
   "metadata": {},
   "source": [
    "#### Alternative iteration option"
   ]
  },
  {
   "cell_type": "code",
   "execution_count": 11,
   "id": "5a3d6dc4-60b3-4587-b70d-c5806fa6f3c1",
   "metadata": {},
   "outputs": [
    {
     "name": "stdout",
     "output_type": "stream",
     "text": [
      "My favor numbers are 15 and 1930\n",
      "My favor numbers are 7 and 1990\n",
      "My favor numbers are 4 and 1012\n",
      "My favor numbers are 8 and 1263\n",
      "My favor numbers are 7 and 1872\n",
      "My favor numbers are 13 and 1633\n",
      "My favor numbers are 14 and 1550\n",
      "My favor numbers are 3 and 1307\n",
      "My favor numbers are 12 and 1013\n",
      "My favor numbers are 9 and 1506\n"
     ]
    }
   ],
   "source": [
    "# Create a new generator 'slice' (iterator) with a length of 10 with islice\n",
    "# This is necessary becuase the provious iterator is exhausted (empty)\n",
    "i = islice(r, 10)\n",
    "\n",
    "# Alternatively, use a loop to iterate over the iterator\n",
    "for v in i:\n",
    "    print(v)"
   ]
  }
 ],
 "metadata": {
  "kernelspec": {
   "display_name": "Python 3 (ipykernel)",
   "language": "python",
   "name": "python3"
  },
  "language_info": {
   "codemirror_mode": {
    "name": "ipython",
    "version": 3
   },
   "file_extension": ".py",
   "mimetype": "text/x-python",
   "name": "python",
   "nbconvert_exporter": "python",
   "pygments_lexer": "ipython3",
   "version": "3.9.6"
  }
 },
 "nbformat": 4,
 "nbformat_minor": 5
}
