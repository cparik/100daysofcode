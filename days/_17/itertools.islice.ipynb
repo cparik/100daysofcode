{
 "cells": [
  {
   "cell_type": "markdown",
   "source": [
    "# `itertools.islice`\n",
    "\n",
    "## Overview\n",
    "\n",
    "- The `itertools.islice()` function allows **slicing** a generator just like a `list` except `itertools.islice()` returns an iterable object, instead of the sub-list.\n",
    "    - This can be useful when a looping over a generator function with a `for` loop would produce an infinite loop."
   ],
   "metadata": {}
  },
  {
   "cell_type": "code",
   "execution_count": 1,
   "source": [
    "from random import randint\n",
    "\n",
    "def random_generator_function():\n",
    "    \"\"\" Start an infinite loop, to produce a genenerated result, indifintely.\n",
    "        This does NOT start looping infinitely when called, only on-demand.\n",
    "            Because of the yield statement.\n",
    "    \"\"\"\n",
    "\n",
    "    while True:\n",
    "        # Create two random numbers\n",
    "        x = randint(1, 20)\n",
    "        y = randint(1000, 2000)\n",
    "\n",
    "        # Yield the random values\n",
    "        yield f'My favorite numbers are {x} and {y}'"
   ],
   "outputs": [],
   "metadata": {}
  },
  {
   "cell_type": "code",
   "execution_count": 2,
   "source": [
    "# Call the generator function to assign a generator to a variablle\n",
    "r = random_generator_function()"
   ],
   "outputs": [],
   "metadata": {}
  },
  {
   "cell_type": "code",
   "execution_count": 5,
   "source": [
    "# Yield any number of values, indifintely, with the next() function\n",
    "next(r)"
   ],
   "outputs": [
    {
     "output_type": "execute_result",
     "data": {
      "text/plain": [
       "'My favor numbers are 17 and 1433'"
      ]
     },
     "metadata": {},
     "execution_count": 5
    }
   ],
   "metadata": {}
  },
  {
   "cell_type": "code",
   "execution_count": 6,
   "source": [
    "# Yield any number of values, indifintely, with the next() function\n",
    "next(r)"
   ],
   "outputs": [
    {
     "output_type": "execute_result",
     "data": {
      "text/plain": [
       "'My favor numbers are 17 and 1041'"
      ]
     },
     "metadata": {},
     "execution_count": 6
    }
   ],
   "metadata": {}
  },
  {
   "cell_type": "code",
   "execution_count": 7,
   "source": [
    "# Yield any number of values, indifintely, with the next() function\n",
    "next(r)"
   ],
   "outputs": [
    {
     "output_type": "execute_result",
     "data": {
      "text/plain": [
       "'My favor numbers are 7 and 1970'"
      ]
     },
     "metadata": {},
     "execution_count": 7
    }
   ],
   "metadata": {}
  },
  {
   "cell_type": "markdown",
   "source": [
    "### The next code block would produce an infinite loop"
   ],
   "metadata": {}
  },
  {
   "cell_type": "code",
   "execution_count": 8,
   "source": [
    "# Produce an infinite loop\n",
    "# list(r)"
   ],
   "outputs": [],
   "metadata": {}
  },
  {
   "cell_type": "markdown",
   "source": [
    "---\n",
    "\n",
    "## Using `itertools.islice`\n",
    "\n",
    "- Create what is effectively a generator slice with `itertools.islice()`.\n",
    "    - After iteration, the iterator will be empty, because it is an iterator of a generator."
   ],
   "metadata": {}
  },
  {
   "cell_type": "code",
   "execution_count": 9,
   "source": [
    "from itertools import islice\n",
    "\n",
    "# Call the generator function to assign a generator to a variablle\n",
    "r = random_generator_function()"
   ],
   "outputs": [],
   "metadata": {}
  },
  {
   "cell_type": "code",
   "execution_count": 10,
   "source": [
    "# Create a generator 'slice' (iterator) with a length of 10 with islice\n",
    "i = islice(r, 10)\n",
    "\n",
    "# Iterate over the iterator object by converting the iterator to a list\n",
    "list(i)"
   ],
   "outputs": [
    {
     "output_type": "execute_result",
     "data": {
      "text/plain": [
       "['My favor numbers are 12 and 1818',\n",
       " 'My favor numbers are 12 and 1010',\n",
       " 'My favor numbers are 9 and 1243',\n",
       " 'My favor numbers are 3 and 1966',\n",
       " 'My favor numbers are 13 and 1907',\n",
       " 'My favor numbers are 5 and 1253',\n",
       " 'My favor numbers are 1 and 1981',\n",
       " 'My favor numbers are 12 and 1981',\n",
       " 'My favor numbers are 10 and 1700',\n",
       " 'My favor numbers are 2 and 1291']"
      ]
     },
     "metadata": {},
     "execution_count": 10
    }
   ],
   "metadata": {}
  },
  {
   "cell_type": "markdown",
   "source": [
    "#### Alternative iteration option"
   ],
   "metadata": {}
  },
  {
   "cell_type": "code",
   "execution_count": 11,
   "source": [
    "# Create a new generator 'slice' (iterator) with a length of 10 with islice\n",
    "# This is necessary becuase the provious iterator is exhausted (empty)\n",
    "i = islice(r, 10)\n",
    "\n",
    "# Alternatively, use a loop to iterate over the iterator\n",
    "for v in i:\n",
    "    print(v)"
   ],
   "outputs": [
    {
     "output_type": "stream",
     "name": "stdout",
     "text": [
      "My favor numbers are 15 and 1930\n",
      "My favor numbers are 7 and 1990\n",
      "My favor numbers are 4 and 1012\n",
      "My favor numbers are 8 and 1263\n",
      "My favor numbers are 7 and 1872\n",
      "My favor numbers are 13 and 1633\n",
      "My favor numbers are 14 and 1550\n",
      "My favor numbers are 3 and 1307\n",
      "My favor numbers are 12 and 1013\n",
      "My favor numbers are 9 and 1506\n"
     ]
    }
   ],
   "metadata": {}
  }
 ],
 "metadata": {
  "kernelspec": {
   "display_name": "Python 3 (ipykernel)",
   "language": "python",
   "name": "python3"
  },
  "language_info": {
   "codemirror_mode": {
    "name": "ipython",
    "version": 3
   },
   "file_extension": ".py",
   "mimetype": "text/x-python",
   "name": "python",
   "nbconvert_exporter": "python",
   "pygments_lexer": "ipython3",
   "version": "3.9.6"
  }
 },
 "nbformat": 4,
 "nbformat_minor": 5
}