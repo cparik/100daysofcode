{
 "cells": [
  {
   "cell_type": "markdown",
   "id": "c72adc0d-047c-41b4-b279-ce76b0c40b7f",
   "metadata": {},
   "source": [
    "## `list` Objects"
   ]
  },
  {
   "cell_type": "code",
   "execution_count": 1,
   "id": "d2caa0a5-b6f3-4138-a896-5ea626df7ee4",
   "metadata": {},
   "outputs": [],
   "source": [
    "# Create a list (these are three example options)\n",
    "num_list = [1, 2, 3, 4, 5]\n",
    "num_list_1 = [x for x in range(1,6)]\n",
    "num_list_2 = list(range(1,6))"
   ]
  },
  {
   "cell_type": "code",
   "execution_count": 2,
   "id": "a1ffe947-4d9e-4415-98f1-7497d30f64a0",
   "metadata": {},
   "outputs": [
    {
     "data": {
      "text/plain": [
       "[1, 2, 3, 4, 5]"
      ]
     },
     "execution_count": 2,
     "metadata": {},
     "output_type": "execute_result"
    }
   ],
   "source": [
    "num_list"
   ]
  },
  {
   "cell_type": "code",
   "execution_count": 3,
   "id": "3ebfea81-4e3b-47c0-9480-a2e46e030426",
   "metadata": {},
   "outputs": [
    {
     "data": {
      "text/plain": [
       "[1, 2, 3, 4, 5]"
      ]
     },
     "execution_count": 3,
     "metadata": {},
     "output_type": "execute_result"
    }
   ],
   "source": [
    "num_list_1"
   ]
  },
  {
   "cell_type": "code",
   "execution_count": 4,
   "id": "ff0a8772-af90-4a94-a5e1-bbad24990c03",
   "metadata": {},
   "outputs": [
    {
     "data": {
      "text/plain": [
       "[1, 2, 3, 4, 5]"
      ]
     },
     "execution_count": 4,
     "metadata": {},
     "output_type": "execute_result"
    }
   ],
   "source": [
    "num_list_2"
   ]
  },
  {
   "cell_type": "markdown",
   "id": "25e2a8f8-48ee-4431-81e8-b31daf9e9b82",
   "metadata": {},
   "source": [
    "---"
   ]
  },
  {
   "cell_type": "code",
   "execution_count": 5,
   "id": "d7ffe7fb-4090-4363-8ef6-10df2463373f",
   "metadata": {},
   "outputs": [],
   "source": [
    "# Reverse the list item order\n",
    "num_list.reverse()"
   ]
  },
  {
   "cell_type": "code",
   "execution_count": 6,
   "id": "3102ee55-b69b-45f0-a2e0-fecdaafda45b",
   "metadata": {},
   "outputs": [
    {
     "data": {
      "text/plain": [
       "[5, 4, 3, 2, 1]"
      ]
     },
     "execution_count": 6,
     "metadata": {},
     "output_type": "execute_result"
    }
   ],
   "source": [
    "num_list"
   ]
  },
  {
   "cell_type": "markdown",
   "id": "7ae72c0d-4899-455e-8e38-973daf01de00",
   "metadata": {},
   "source": [
    "---"
   ]
  },
  {
   "cell_type": "code",
   "execution_count": 7,
   "id": "315d1f97-c6df-498c-8682-0a5efd38207f",
   "metadata": {},
   "outputs": [],
   "source": [
    "# Reverse the list order with the `sort` method\n",
    "num_list.sort()"
   ]
  },
  {
   "cell_type": "code",
   "execution_count": 8,
   "id": "e96bdf58-311f-48c7-8921-f22ebd59d011",
   "metadata": {},
   "outputs": [
    {
     "data": {
      "text/plain": [
       "[1, 2, 3, 4, 5]"
      ]
     },
     "execution_count": 8,
     "metadata": {},
     "output_type": "execute_result"
    }
   ],
   "source": [
    "num_list"
   ]
  },
  {
   "cell_type": "markdown",
   "id": "981dfc26-79c9-44ef-9022-afcdfc0a0dc2",
   "metadata": {},
   "source": [
    "---"
   ]
  },
  {
   "cell_type": "code",
   "execution_count": 9,
   "id": "f41adb56-03ce-444e-8fc0-5a4ce76adfc0",
   "metadata": {},
   "outputs": [],
   "source": [
    "# Convert a string to a list\n",
    "my_name = 'timothy'\n",
    "my_name_list = list(my_name)"
   ]
  },
  {
   "cell_type": "code",
   "execution_count": 10,
   "id": "e1a30b21-7445-42f0-a6aa-e65eb23def82",
   "metadata": {},
   "outputs": [
    {
     "data": {
      "text/plain": [
       "['t', 'i', 'm', 'o', 't', 'h', 'y']"
      ]
     },
     "execution_count": 10,
     "metadata": {},
     "output_type": "execute_result"
    }
   ],
   "source": [
    "list(my_name)"
   ]
  },
  {
   "cell_type": "markdown",
   "id": "954da5be-59b9-4aba-ae7c-1735c4f7396d",
   "metadata": {},
   "source": [
    "---"
   ]
  },
  {
   "cell_type": "code",
   "execution_count": 11,
   "id": "6a62120f-b0af-4512-acac-3318f168a0fd",
   "metadata": {},
   "outputs": [
    {
     "data": {
      "text/plain": [
       "'y'"
      ]
     },
     "execution_count": 11,
     "metadata": {},
     "output_type": "execute_result"
    }
   ],
   "source": [
    "# Return the last item from a list, and remove that item with the `pop` method\n",
    "my_name_list.pop()"
   ]
  },
  {
   "cell_type": "code",
   "execution_count": 12,
   "id": "6373065d-7af4-4bd9-86ed-23c55dbd6883",
   "metadata": {},
   "outputs": [
    {
     "data": {
      "text/plain": [
       "['t', 'i', 'm', 'o', 't', 'h']"
      ]
     },
     "execution_count": 12,
     "metadata": {},
     "output_type": "execute_result"
    }
   ],
   "source": [
    "my_name_list"
   ]
  },
  {
   "cell_type": "markdown",
   "id": "0a0e6420-de89-49bd-9b28-d9b62db3f088",
   "metadata": {},
   "source": [
    "---"
   ]
  },
  {
   "cell_type": "code",
   "execution_count": 13,
   "id": "8b51dbf1-40b9-47e0-bfa0-3f2cb0d7d162",
   "metadata": {},
   "outputs": [
    {
     "data": {
      "text/plain": [
       "'o'"
      ]
     },
     "execution_count": 13,
     "metadata": {},
     "output_type": "execute_result"
    }
   ],
   "source": [
    "# Remove from any list index with the `pop` method\n",
    "my_name_list.pop(3)"
   ]
  },
  {
   "cell_type": "code",
   "execution_count": 14,
   "id": "31c6dde1-2b47-4dcc-bd15-2baa8af7068e",
   "metadata": {},
   "outputs": [
    {
     "data": {
      "text/plain": [
       "['t', 'i', 'm', 't', 'h']"
      ]
     },
     "execution_count": 14,
     "metadata": {},
     "output_type": "execute_result"
    }
   ],
   "source": [
    "my_name_list"
   ]
  },
  {
   "cell_type": "markdown",
   "id": "c37214ef-4fcf-4ea1-8d11-d9adb7f57ff5",
   "metadata": {},
   "source": [
    "---"
   ]
  },
  {
   "cell_type": "code",
   "execution_count": 15,
   "id": "7ac3db3a-746a-4d56-aed9-b23b17640976",
   "metadata": {},
   "outputs": [],
   "source": [
    "# Insert a list item at a specified index (insert before the specified index)\n",
    "my_name_list.insert(3, 'o')"
   ]
  },
  {
   "cell_type": "code",
   "execution_count": 16,
   "id": "65bb00b4-a5e9-4752-b190-1aade86b4d6a",
   "metadata": {},
   "outputs": [
    {
     "data": {
      "text/plain": [
       "['t', 'i', 'm', 'o', 't', 'h']"
      ]
     },
     "execution_count": 16,
     "metadata": {},
     "output_type": "execute_result"
    }
   ],
   "source": [
    "my_name_list"
   ]
  },
  {
   "cell_type": "markdown",
   "id": "176224b4-add4-472b-a4a0-0b9a8b02cef5",
   "metadata": {},
   "source": [
    "---"
   ]
  },
  {
   "cell_type": "code",
   "execution_count": 17,
   "id": "7e184d19-544b-4872-a351-9a8f72e4f268",
   "metadata": {},
   "outputs": [],
   "source": [
    "# Add an item to the end of a list with the `append` method\n",
    "my_name_list.append('y')"
   ]
  },
  {
   "cell_type": "code",
   "execution_count": 18,
   "id": "e0b2b964-898f-4130-94ad-7f0367b28f3a",
   "metadata": {},
   "outputs": [
    {
     "data": {
      "text/plain": [
       "['t', 'i', 'm', 'o', 't', 'h', 'y']"
      ]
     },
     "execution_count": 18,
     "metadata": {},
     "output_type": "execute_result"
    }
   ],
   "source": [
    "my_name_list"
   ]
  },
  {
   "cell_type": "markdown",
   "id": "dd1f6afb-ec83-4065-8211-b08b135be5a1",
   "metadata": {},
   "source": [
    "---"
   ]
  },
  {
   "cell_type": "code",
   "execution_count": 19,
   "id": "8f06d650-41ad-4663-823d-deaa71c65ba9",
   "metadata": {},
   "outputs": [],
   "source": [
    "# Remove, without returning a value, any list index\n",
    "del my_name_list[0]"
   ]
  },
  {
   "cell_type": "code",
   "execution_count": 20,
   "id": "30a3bde8-9d88-4ffc-aea2-8618efb1b257",
   "metadata": {},
   "outputs": [
    {
     "data": {
      "text/plain": [
       "['i', 'm', 'o', 't', 'h', 'y']"
      ]
     },
     "execution_count": 20,
     "metadata": {},
     "output_type": "execute_result"
    }
   ],
   "source": [
    "my_name_list"
   ]
  }
 ],
 "metadata": {
  "kernelspec": {
   "display_name": "Python 3",
   "language": "python",
   "name": "python3"
  },
  "language_info": {
   "codemirror_mode": {
    "name": "ipython",
    "version": 3
   },
   "file_extension": ".py",
   "mimetype": "text/x-python",
   "name": "python",
   "nbconvert_exporter": "python",
   "pygments_lexer": "ipython3",
   "version": "3.9.4"
  }
 },
 "nbformat": 4,
 "nbformat_minor": 5
}
